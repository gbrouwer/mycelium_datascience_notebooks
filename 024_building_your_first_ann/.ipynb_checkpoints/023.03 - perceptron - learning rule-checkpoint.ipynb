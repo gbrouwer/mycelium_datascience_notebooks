{
 "cells": [
  {
   "cell_type": "markdown",
   "id": "de1d126c",
   "metadata": {},
   "source": [
    "### Import"
   ]
  },
  {
   "cell_type": "code",
   "execution_count": 236,
   "id": "d9eea24c",
   "metadata": {},
   "outputs": [],
   "source": [
    "import os\n",
    "import sys\n",
    "import numpy as np\n",
    "import pandas as pd\n",
    "import matplotlib.pyplot as plt\n",
    "from scipy.stats import multivariate_normal"
   ]
  },
  {
   "cell_type": "markdown",
   "id": "ad9b6065",
   "metadata": {},
   "source": [
    "### Create Data"
   ]
  },
  {
   "cell_type": "code",
   "execution_count": 237,
   "id": "1a531be7",
   "metadata": {},
   "outputs": [],
   "source": [
    "npoints = 200\n",
    "X1 = multivariate_normal.rvs(mean=[+1,+1], cov=np.eye(2),size=int(npoints/2));\n",
    "X2 = multivariate_normal.rvs(mean=[-1,-1], cov=np.eye(2),size=int(npoints/2));"
   ]
  },
  {
   "cell_type": "markdown",
   "id": "fd341a9a",
   "metadata": {},
   "source": [
    "### Labels and Combine"
   ]
  },
  {
   "cell_type": "code",
   "execution_count": 238,
   "id": "ba9e1fc4",
   "metadata": {},
   "outputs": [],
   "source": [
    "y = np.hstack((np.zeros(int(npoints/2)),np.ones(int(npoints/2))))\n",
    "y = np.expand_dims(y,-1)\n",
    "X = np.vstack((X1,X2))"
   ]
  },
  {
   "cell_type": "markdown",
   "id": "ab7a2ed1",
   "metadata": {},
   "source": [
    "### Plot"
   ]
  },
  {
   "cell_type": "code",
   "execution_count": 239,
   "id": "a6b942f8",
   "metadata": {},
   "outputs": [
    {
     "data": {
      "image/png": "[encoded data removed]",
      "text/plain": [
       "<Figure size 576x576 with 1 Axes>"
      ]
     },
     "metadata": {
      "needs_background": "light"
     },
     "output_type": "display_data"
    }
   ],
   "source": [
    "plt.figure(figsize=(8,8))\n",
    "classes = np.unique(y)\n",
    "for label in classes:\n",
    "    indices = np.where(label == y)[0]\n",
    "    plt.scatter(X[indices,0],X[indices,1])\n",
    "plt.grid();\n",
    "plt.axis((-15,15,-15,15));"
   ]
  },
  {
   "cell_type": "markdown",
   "id": "49a5ec1b",
   "metadata": {},
   "source": [
    "### Init weights"
   ]
  },
  {
   "cell_type": "code",
   "execution_count": 240,
   "id": "1fb802f8",
   "metadata": {},
   "outputs": [],
   "source": [
    "no_epochs = 10\n",
    "learning_rate = 0.001\n",
    "w = np.random.random((2,1)) - 0.5"
   ]
  },
  {
   "cell_type": "markdown",
   "id": "20709ff3",
   "metadata": {},
   "source": [
    "### Learning Algorithm"
   ]
  },
  {
   "cell_type": "code",
   "execution_count": 241,
   "id": "ec18f84c",
   "metadata": {
    "scrolled": false
   },
   "outputs": [],
   "source": [
    "history = []\n",
    "for n in range(no_epochs):\n",
    "    for i in range(npoints):\n",
    "\n",
    "        #Compute Activation for this point\n",
    "        x = X[i,:]\n",
    "        activation = x[0] * w[0] + x[1] * w[1]\n",
    "\n",
    "        #Compute prediction and error\n",
    "        prediction = (activation > 0)*1.0\n",
    "        desired = y[i]\n",
    "        error = desired - prediction\n",
    "\n",
    "        #Update weights\n",
    "        w[0] = w[0] + (x[0]*error * learning_rate)\n",
    "        w[1] = w[1] + (x[1]*error * learning_rate)\n",
    "\n",
    "        #Compute Accuracy\n",
    "        ypred = (np.dot(X,w) > 0)*1.0\n",
    "        accuracy = np.sum(ypred == y) / len(y)\n",
    "        history.append(accuracy)"
   ]
  },
  {
   "cell_type": "markdown",
   "id": "ee4b3a3c",
   "metadata": {},
   "source": [
    "### Plot Accuracy over each epoch"
   ]
  },
  {
   "cell_type": "code",
   "execution_count": 234,
   "id": "1be398fa",
   "metadata": {},
   "outputs": [
    {
     "name": "stdout",
     "output_type": "stream",
     "text": [
      "[[-0.16356959]\n",
      " [-0.07560619]]\n"
     ]
    },
    {
     "data": {
      "image/png": "[encoded data removed]",
      "text/plain": [
       "<Figure size 432x432 with 1 Axes>"
      ]
     },
     "metadata": {
      "needs_background": "light"
     },
     "output_type": "display_data"
    }
   ],
   "source": [
    "plt.figure(figsize=(6,6))\n",
    "plt.plot(history,'k');\n",
    "plt.xlabel('iteration',fontsize=18);\n",
    "plt.ylabel('accuracy',fontsize=18);\n",
    "plt.grid()\n",
    "print(w)"
   ]
  },
  {
   "cell_type": "markdown",
   "id": "d2aab983",
   "metadata": {},
   "source": [
    "### Final Accuracy"
   ]
  },
  {
   "cell_type": "code",
   "execution_count": 235,
   "id": "feb8392a",
   "metadata": {},
   "outputs": [
    {
     "name": "stdout",
     "output_type": "stream",
     "text": [
      "0.93\n"
     ]
    }
   ],
   "source": [
    "ypred = (np.dot(X,w) > 0) * 1.0;\n",
    "accuracy = np.sum(ypred == y) / len(ypred);\n",
    "print(accuracy);"
   ]
  },
  {
   "cell_type": "markdown",
   "id": "d338f70d",
   "metadata": {},
   "source": [
    "### Accuracy Landscape"
   ]
  },
  {
   "cell_type": "code",
   "execution_count": null,
   "id": "cbb0afd9",
   "metadata": {},
   "outputs": [],
   "source": []
  }
 ],
 "metadata": {
  "kernelspec": {
   "display_name": "Python 3 (ipykernel)",
   "language": "python",
   "name": "python3"
  },
  "language_info": {
   "codemirror_mode": {
    "name": "ipython",
    "version": 3
   },
   "file_extension": ".py",
   "mimetype": "text/x-python",
   "name": "python",
   "nbconvert_exporter": "python",
   "pygments_lexer": "ipython3",
   "version": "3.7.3"
  }
 },
 "nbformat": 4,
 "nbformat_minor": 5
}
