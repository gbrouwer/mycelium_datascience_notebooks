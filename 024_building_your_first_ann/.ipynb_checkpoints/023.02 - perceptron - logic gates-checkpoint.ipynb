{
 "cells": [
  {
   "cell_type": "markdown",
   "id": "a348eeda",
   "metadata": {},
   "source": [
    "### Import"
   ]
  },
  {
   "cell_type": "code",
   "execution_count": 50,
   "id": "6141ba69",
   "metadata": {},
   "outputs": [],
   "source": [
    "import os\n",
    "import sys\n",
    "import numpy as np\n",
    "import pandas as pd\n",
    "import matplotlib.pyplot as plt"
   ]
  },
  {
   "cell_type": "markdown",
   "id": "b5a8adc9",
   "metadata": {},
   "source": [
    "### Create AND logic gate\n",
    "| input node 1 | input node 2 | output node 1 |\n",
    "|:------------:|:------------:|:-------------:|\n",
    "|       0      |       0      |       0       |\n",
    "|       0      |       1      |       0       |\n",
    "|       1      |       0      |       0       |\n",
    "|       1      |       1      |       1       |"
   ]
  },
  {
   "cell_type": "markdown",
   "id": "e7a43fa1",
   "metadata": {},
   "source": [
    "### Perceptron Node"
   ]
  },
  {
   "cell_type": "code",
   "execution_count": 51,
   "id": "22844e37",
   "metadata": {},
   "outputs": [],
   "source": [
    "def perceptron(X,w,b):\n",
    "    \n",
    "    #Compute the activation from the inputs multiplied with their weights\n",
    "    activation = 0\n",
    "    for i in range(len(X)):\n",
    "        activation = activation + (X[i]*w[i])\n",
    "        \n",
    "    #Add the bias term\n",
    "    activation = activation + b\n",
    "        \n",
    "    #Threshold to produce 1 for activation >= 0\n",
    "    output = 1*(activation > 0)\n",
    "    return output"
   ]
  },
  {
   "cell_type": "markdown",
   "id": "0e9134a3",
   "metadata": {},
   "source": [
    "### Unit test the AND logic gate neural network"
   ]
  },
  {
   "cell_type": "code",
   "execution_count": 52,
   "id": "8b8aa844",
   "metadata": {},
   "outputs": [
    {
     "name": "stdout",
     "output_type": "stream",
     "text": [
      "0\n",
      "0\n",
      "0\n",
      "1\n"
     ]
    }
   ],
   "source": [
    "w = [0.5,0.5]\n",
    "b = -0.5\n",
    "X = [0,0]\n",
    "output = perceptron(X,w,b)\n",
    "print(output)\n",
    "\n",
    "X = [0,1]\n",
    "output = perceptron(X,w,b)\n",
    "print(output)\n",
    "\n",
    "X = [1,0]\n",
    "output = perceptron(X,w,b)\n",
    "print(output)\n",
    "\n",
    "X = [1,1]\n",
    "output = perceptron(X,w,b)\n",
    "print(output)"
   ]
  },
  {
   "cell_type": "markdown",
   "id": "14e9c48c",
   "metadata": {},
   "source": [
    "### Unit test the OR logic gate neural network"
   ]
  },
  {
   "cell_type": "code",
   "execution_count": 53,
   "id": "7b000547",
   "metadata": {},
   "outputs": [
    {
     "name": "stdout",
     "output_type": "stream",
     "text": [
      "0\n",
      "1\n",
      "1\n",
      "1\n"
     ]
    }
   ],
   "source": [
    "w = [0.5,0.5]\n",
    "b = 0\n",
    "X = [0,0]\n",
    "output = perceptron(X,w,b)\n",
    "print(output)\n",
    "\n",
    "X = [0,1]\n",
    "output = perceptron(X,w,b)\n",
    "print(output)\n",
    "\n",
    "X = [1,0]\n",
    "output = perceptron(X,w,b)\n",
    "print(output)\n",
    "\n",
    "X = [1,1]\n",
    "output = perceptron(X,w,b)\n",
    "print(output)"
   ]
  },
  {
   "cell_type": "markdown",
   "id": "2a1299d1",
   "metadata": {},
   "source": [
    "### Unit test the NOT logic gate neural network"
   ]
  },
  {
   "cell_type": "code",
   "execution_count": 54,
   "id": "b937ea76",
   "metadata": {},
   "outputs": [
    {
     "name": "stdout",
     "output_type": "stream",
     "text": [
      "1\n",
      "0\n"
     ]
    }
   ],
   "source": [
    "w = [-1]\n",
    "b = 1\n",
    "X = [0]\n",
    "output = perceptron(X,w,b)\n",
    "print(output)\n",
    "\n",
    "X = [1]\n",
    "output = perceptron(X,w,b)\n",
    "print(output)"
   ]
  }
 ],
 "metadata": {
  "kernelspec": {
   "display_name": "Python 3 (ipykernel)",
   "language": "python",
   "name": "python3"
  },
  "language_info": {
   "codemirror_mode": {
    "name": "ipython",
    "version": 3
   },
   "file_extension": ".py",
   "mimetype": "text/x-python",
   "name": "python",
   "nbconvert_exporter": "python",
   "pygments_lexer": "ipython3",
   "version": "3.7.3"
  }
 },
 "nbformat": 4,
 "nbformat_minor": 5
}
