{
 "cells": [
  {
   "cell_type": "markdown",
   "id": "b72c18f7",
   "metadata": {},
   "source": [
    "### Import"
   ]
  },
  {
   "cell_type": "code",
   "execution_count": 78,
   "id": "1b534590",
   "metadata": {},
   "outputs": [],
   "source": [
    "import os\n",
    "import sys\n",
    "import numpy as np\n",
    "import pandas as pd\n",
    "import operator\n",
    "import matplotlib.pyplot as plt"
   ]
  },
  {
   "cell_type": "markdown",
   "id": "aebdc779",
   "metadata": {},
   "source": [
    "### Operators"
   ]
  },
  {
   "cell_type": "code",
   "execution_count": 79,
   "id": "70822ac1",
   "metadata": {},
   "outputs": [],
   "source": [
    "ops = {\n",
    "    '<': operator.lt,\n",
    "    '<=': operator.le,\n",
    "    '==': operator.eq,\n",
    "    '!=': operator.ne,\n",
    "    '>=': operator.ge,\n",
    "    '>': operator.gt\n",
    "}"
   ]
  },
  {
   "cell_type": "markdown",
   "id": "d1b18974",
   "metadata": {},
   "source": [
    "### AND logic gate\n",
    "| input 1 | input 2 | output |\n",
    "|:------------:|:------------:|:-------------:|\n",
    "|       0      |       0      |       0       |\n",
    "|       0      |       1      |       0       |\n",
    "|       1      |       0      |       0       |\n",
    "|       1      |       1      |       1       |\n",
    "\n",
    "### OR logic gate\n",
    "| input 1 | input 2 | output |\n",
    "|:------------:|:------------:|:-------------:|\n",
    "|       0      |       0      |       0       |\n",
    "|       0      |       1      |       1       |\n",
    "|       1      |       0      |       1       |\n",
    "|       1      |       1      |       1       |\n",
    "\n",
    "### NOT logic gate\n",
    "| input | output |\n",
    "|:------------:|:-------------:|\n",
    "|       1      |       0       |\n",
    "|       0      |       1       |\n"
   ]
  },
  {
   "cell_type": "markdown",
   "id": "841de9b5",
   "metadata": {},
   "source": [
    "### Neural Network Definition"
   ]
  },
  {
   "cell_type": "code",
   "execution_count": 82,
   "id": "0d80f07a",
   "metadata": {},
   "outputs": [],
   "source": [
    "def neural_network(X,theta,operator):\n",
    "    \n",
    "    #Compute the activation from the inputs multiplied with their weights\n",
    "    activation = 0\n",
    "    for i in range(len(X)):\n",
    "        activation = activation + X[i]\n",
    "\n",
    "    #Thresholding\n",
    "    output = 1*operator(activation,theta)\n",
    "\n",
    "    #Return\n",
    "    return output"
   ]
  },
  {
   "cell_type": "markdown",
   "id": "fadb7f04",
   "metadata": {},
   "source": [
    "### Unit test the AND logic gate neural network"
   ]
  },
  {
   "cell_type": "code",
   "execution_count": 90,
   "id": "de4999f2",
   "metadata": {},
   "outputs": [
    {
     "name": "stdout",
     "output_type": "stream",
     "text": [
      "0 0 -> 0\n",
      "0 1 -> 0\n",
      "1 0 -> 0\n",
      "1 1 -> 1\n"
     ]
    }
   ],
   "source": [
    "theta = 2\n",
    "operator = ops.get('>=')\n",
    "\n",
    "X = [0,0]\n",
    "output = neural_network(X,theta,operator)\n",
    "print(X[0],X[1],'->',output)\n",
    "\n",
    "X = [0,1]\n",
    "output = neural_network(X,theta,operator)\n",
    "print(X[0],X[1],'->',output)\n",
    "\n",
    "X = [1,0]\n",
    "output = neural_network(X,theta,operator)\n",
    "print(X[0],X[1],'->',output)\n",
    "\n",
    "X = [1,1]\n",
    "output = neural_network(X,theta,operator)\n",
    "print(X[0],X[1],'->',output)"
   ]
  },
  {
   "cell_type": "markdown",
   "id": "18f555f7",
   "metadata": {},
   "source": [
    "### Unit test the OR logic gate neural network"
   ]
  },
  {
   "cell_type": "code",
   "execution_count": 89,
   "id": "3fe63940",
   "metadata": {},
   "outputs": [
    {
     "name": "stdout",
     "output_type": "stream",
     "text": [
      "0 0 -> 0\n",
      "0 1 -> 1\n",
      "1 0 -> 1\n",
      "1 1 -> 1\n"
     ]
    }
   ],
   "source": [
    "theta = 1\n",
    "operator = ops.get('>=')\n",
    "\n",
    "X = [0,0]\n",
    "output = neural_network(X,theta,operator)\n",
    "print(X[0],X[1],'->',output)\n",
    "\n",
    "X = [0,1]\n",
    "output = neural_network(X,theta,operator)\n",
    "print(X[0],X[1],'->',output)\n",
    "\n",
    "X = [1,0]\n",
    "output = neural_network(X,theta,operator)\n",
    "print(X[0],X[1],'->',output)\n",
    "\n",
    "X = [1,1]\n",
    "output = neural_network(X,theta,operator)\n",
    "print(X[0],X[1],'->',output)"
   ]
  },
  {
   "cell_type": "markdown",
   "id": "dc498171",
   "metadata": {},
   "source": [
    "### Unit test the NOT logic gate neural network"
   ]
  },
  {
   "cell_type": "code",
   "execution_count": 91,
   "id": "d6ec0edd",
   "metadata": {},
   "outputs": [
    {
     "name": "stdout",
     "output_type": "stream",
     "text": [
      "0 -> 1\n",
      "1 -> 0\n"
     ]
    }
   ],
   "source": [
    "theta = 0\n",
    "operator = ops.get('<=')\n",
    "\n",
    "X = [0]\n",
    "output = neural_network(X,theta,operator)\n",
    "print(X[0],'->',output)\n",
    "\n",
    "X = [1]\n",
    "output = neural_network(X,theta,operator)\n",
    "print(X[0],'->',output)"
   ]
  }
 ],
 "metadata": {
  "kernelspec": {
   "display_name": "Python 3 (ipykernel)",
   "language": "python",
   "name": "python3"
  },
  "language_info": {
   "codemirror_mode": {
    "name": "ipython",
    "version": 3
   },
   "file_extension": ".py",
   "mimetype": "text/x-python",
   "name": "python",
   "nbconvert_exporter": "python",
   "pygments_lexer": "ipython3",
   "version": "3.7.3"
  }
 },
 "nbformat": 4,
 "nbformat_minor": 5
}
