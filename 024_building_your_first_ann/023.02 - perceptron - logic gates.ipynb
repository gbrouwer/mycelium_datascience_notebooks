{
 "cells": [
  {
   "cell_type": "markdown",
   "id": "9009b220",
   "metadata": {},
   "source": [
    "# Perceptron - logic gates"
   ]
  },
  {
   "cell_type": "markdown",
   "id": "a348eeda",
   "metadata": {},
   "source": [
    "### Import"
   ]
  },
  {
   "cell_type": "code",
   "execution_count": 14,
   "id": "6141ba69",
   "metadata": {},
   "outputs": [],
   "source": [
    "import os\n",
    "import sys\n",
    "import numpy as np\n",
    "import pandas as pd\n",
    "import matplotlib.pyplot as plt"
   ]
  },
  {
   "cell_type": "markdown",
   "id": "b5a8adc9",
   "metadata": {},
   "source": [
    "### AND logic gate\n",
    "an AND logic gate outputs a 1 only if both its inputs are 1\n",
    "\n",
    "| input 1 | input 2 | output |\n",
    "|:------------:|:------------:|:-------------:|\n",
    "|       0      |       0      |       0       |\n",
    "|       0      |       1      |       0       |\n",
    "|       1      |       0      |       0       |\n",
    "|       1      |       1      |       1       |\n",
    "\n",
    "### OR logic gate\n",
    "a OR logic gate outputs a 1 if at least one of its inputs is 1\n",
    "\n",
    "| input 1 | input 2 | output |\n",
    "|:------------:|:------------:|:-------------:|\n",
    "|       0      |       0      |       0       |\n",
    "|       0      |       1      |       1       |\n",
    "|       1      |       0      |       1       |\n",
    "|       1      |       1      |       1       |\n",
    "\n",
    "### NOT logic gate\n",
    "a NOT logic gate flips the input\n",
    "\n",
    "| input | output |\n",
    "|:------------:|:-------------:|\n",
    "|       1      |       0       |\n",
    "|       0      |       1       |\n"
   ]
  },
  {
   "cell_type": "markdown",
   "id": "e7a43fa1",
   "metadata": {},
   "source": [
    "### Perceptron Node. \n",
    "Each input is multiplied with a weight and summed. A bias term is added. If the resulting activation of the node is greater than zero, the node outputs 1, otherwise 0."
   ]
  },
  {
   "cell_type": "code",
   "execution_count": 15,
   "id": "22844e37",
   "metadata": {},
   "outputs": [],
   "source": [
    "def perceptron(X,w,b):\n",
    "    \n",
    "    #Compute the activation from the inputs multiplied with their weights\n",
    "    activation = 0\n",
    "    for i in range(len(X)):\n",
    "        activation = activation + (X[i]*w[i])\n",
    "        \n",
    "    #Add the bias term\n",
    "    activation = activation + b\n",
    "        \n",
    "    #Threshold to produce 1 for activation >= 0\n",
    "    output = 1*(activation > 0)\n",
    "    return output"
   ]
  },
  {
   "cell_type": "markdown",
   "id": "0e9134a3",
   "metadata": {},
   "source": [
    "### AND logic gate neural network\n",
    "Using the above network function to build an AND logic gate"
   ]
  },
  {
   "cell_type": "code",
   "execution_count": 19,
   "id": "8b8aa844",
   "metadata": {},
   "outputs": [
    {
     "name": "stdout",
     "output_type": "stream",
     "text": [
      "0 0 -> 0\n",
      "0 1 -> 0\n",
      "1 0 -> 0\n",
      "1 1 -> 1\n"
     ]
    }
   ],
   "source": [
    "w = [0.5,0.5]\n",
    "b = -0.5\n",
    "X = [0,0]\n",
    "output = perceptron(X,w,b)\n",
    "print(X[0],X[1],'->',output)\n",
    "\n",
    "X = [0,1]\n",
    "output = perceptron(X,w,b)\n",
    "print(X[0],X[1],'->',output)\n",
    "\n",
    "X = [1,0]\n",
    "output = perceptron(X,w,b)\n",
    "print(X[0],X[1],'->',output)\n",
    "\n",
    "X = [1,1]\n",
    "output = perceptron(X,w,b)\n",
    "print(X[0],X[1],'->',output)"
   ]
  },
  {
   "cell_type": "markdown",
   "id": "f03114ba",
   "metadata": {},
   "source": [
    "### Unit test the OR logic gate neural network\n",
    "Using the above network function to build a OR logic gate"
   ]
  },
  {
   "cell_type": "code",
   "execution_count": 17,
   "id": "c91161c1",
   "metadata": {},
   "outputs": [
    {
     "name": "stdout",
     "output_type": "stream",
     "text": [
      "0 0 -> 0\n",
      "0 1 -> 1\n",
      "1 0 -> 1\n",
      "1 1 -> 1\n"
     ]
    }
   ],
   "source": [
    "w = [0.5,0.5]\n",
    "b = 0\n",
    "X = [0,0]\n",
    "output = perceptron(X,w,b)\n",
    "print(X[0],X[1],'->',output)\n",
    "\n",
    "X = [0,1]\n",
    "output = perceptron(X,w,b)\n",
    "print(X[0],X[1],'->',output)\n",
    "\n",
    "X = [1,0]\n",
    "output = perceptron(X,w,b)\n",
    "print(X[0],X[1],'->',output)\n",
    "\n",
    "X = [1,1]\n",
    "output = perceptron(X,w,b)\n",
    "print(X[0],X[1],'->',output)"
   ]
  },
  {
   "cell_type": "markdown",
   "id": "95b7cb69",
   "metadata": {},
   "source": [
    "### Unit test the NOT logic gate neural network\n",
    "Using the above network function to build a NOT logic gate"
   ]
  },
  {
   "cell_type": "code",
   "execution_count": 18,
   "id": "b937ea76",
   "metadata": {},
   "outputs": [
    {
     "name": "stdout",
     "output_type": "stream",
     "text": [
      "0 -> 1\n",
      "1 -> 0\n"
     ]
    }
   ],
   "source": [
    "w = [-1]\n",
    "b = 1\n",
    "X = [0]\n",
    "output = perceptron(X,w,b)\n",
    "print(X[0],'->',output)\n",
    "\n",
    "X = [1]\n",
    "output = perceptron(X,w,b)\n",
    "print(X[0],'->',output)"
   ]
  },
  {
   "cell_type": "code",
   "execution_count": null,
   "id": "09586466",
   "metadata": {},
   "outputs": [],
   "source": []
  }
 ],
 "metadata": {
  "kernelspec": {
   "display_name": "Python 3 (ipykernel)",
   "language": "python",
   "name": "python3"
  },
  "language_info": {
   "codemirror_mode": {
    "name": "ipython",
    "version": 3
   },
   "file_extension": ".py",
   "mimetype": "text/x-python",
   "name": "python",
   "nbconvert_exporter": "python",
   "pygments_lexer": "ipython3",
   "version": "3.7.3"
  }
 },
 "nbformat": 4,
 "nbformat_minor": 5
}
