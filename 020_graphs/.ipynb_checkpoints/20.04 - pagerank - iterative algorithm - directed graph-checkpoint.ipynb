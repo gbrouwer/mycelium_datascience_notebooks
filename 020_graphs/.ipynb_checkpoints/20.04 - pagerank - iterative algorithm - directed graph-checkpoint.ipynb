{
 "cells": [
  {
   "cell_type": "markdown",
   "id": "4e2a3a90",
   "metadata": {},
   "source": [
    "# 20.04 - PageRank - Edge Case 2\n",
    "Notebooks 20.03, 20.04 and 20.05 introduce the PageRank algorithm using very specific edge cases. This particular notebook confirms that in a perfectly directed graph, the highest PageRank is assigned to the node at the very end of the directed chain. "
   ]
  },
  {
   "cell_type": "markdown",
   "id": "40d6a427",
   "metadata": {},
   "source": [
    "### Import"
   ]
  },
  {
   "cell_type": "code",
   "execution_count": 1,
   "id": "57c86929",
   "metadata": {},
   "outputs": [],
   "source": [
    "import os\n",
    "import sys\n",
    "import numpy as np\n",
    "import matplotlib.pyplot as plt"
   ]
  },
  {
   "cell_type": "markdown",
   "id": "0b5fb3a5",
   "metadata": {},
   "source": [
    "### Fonts"
   ]
  },
  {
   "cell_type": "code",
   "execution_count": 12,
   "id": "c0703c53",
   "metadata": {},
   "outputs": [],
   "source": [
    "csfont = {'fontname':'Georgia'}\n",
    "hfont = {'fontname':'Helvetica'}"
   ]
  },
  {
   "cell_type": "markdown",
   "id": "88e8cd8f",
   "metadata": {},
   "source": [
    "### Define our graph to test our algorithm"
   ]
  },
  {
   "cell_type": "code",
   "execution_count": 2,
   "id": "f3a526e5",
   "metadata": {},
   "outputs": [],
   "source": [
    "graph = [\n",
    "    (1,2),\n",
    "    (2,3),\n",
    "    (3,4),\n",
    "    (4,5)]"
   ]
  },
  {
   "cell_type": "markdown",
   "id": "25830488",
   "metadata": {},
   "source": [
    "### Coordinates for plotting purposes"
   ]
  },
  {
   "cell_type": "code",
   "execution_count": 3,
   "id": "36292488",
   "metadata": {},
   "outputs": [],
   "source": [
    "coords = np.array([[-2,0],[-1,0],[0,0],[1,0],[2,0]])"
   ]
  },
  {
   "cell_type": "markdown",
   "id": "9a3f10a0",
   "metadata": {},
   "source": [
    "### Pagerank Algorithm"
   ]
  },
  {
   "cell_type": "code",
   "execution_count": 4,
   "id": "4e06e928",
   "metadata": {},
   "outputs": [],
   "source": [
    "def compute_pageranks(pageranks,CP,PC,d,n,nodes):\n",
    "\n",
    "    #Run Algorithm\n",
    "    for node in nodes:\n",
    "        if node in CP:\n",
    "            parents = CP[node]\n",
    "            pagerank_sum = 0\n",
    "            for parent in parents:\n",
    "                pagerank = pageranks[parent-1]\n",
    "                parent_outdegree = len(PC[parent])\n",
    "                pagerank_sum = pagerank_sum + (pagerank/parent_outdegree)\n",
    "\n",
    "            #Update\n",
    "            pageranks[node-1] = d/n + (1-d)*pagerank_sum\n",
    "    \n",
    "    #Return pageranks\n",
    "    return pageranks"
   ]
  },
  {
   "cell_type": "markdown",
   "id": "f75d44a7",
   "metadata": {},
   "source": [
    "### Find the unique number of nodes"
   ]
  },
  {
   "cell_type": "code",
   "execution_count": 5,
   "id": "92e711ec",
   "metadata": {},
   "outputs": [],
   "source": [
    "nodes = np.unique(np.array(graph))"
   ]
  },
  {
   "cell_type": "markdown",
   "id": "ed4bdc9b",
   "metadata": {},
   "source": [
    "### Create two graphs where we group edges together. \n",
    "One where the key is the child node, the values are al its parents (incoming edges).<br>\n",
    "A second where we group by parent (key) and list all the outgoing edges. "
   ]
  },
  {
   "cell_type": "markdown",
   "id": "86b6582a",
   "metadata": {},
   "source": [
    "### Child <- Parent graph"
   ]
  },
  {
   "cell_type": "code",
   "execution_count": 6,
   "id": "4488b627",
   "metadata": {},
   "outputs": [],
   "source": [
    "CP = {}\n",
    "for edge in graph:\n",
    "    parent,child = edge\n",
    "    if child not in CP:\n",
    "        CP[child] = [parent]\n",
    "    else:\n",
    "        parents = CP[child]\n",
    "        parents.append(parent)\n",
    "        CP[child] = parents"
   ]
  },
  {
   "cell_type": "markdown",
   "id": "45396379",
   "metadata": {},
   "source": [
    "### Parent <- Child graph"
   ]
  },
  {
   "cell_type": "code",
   "execution_count": 7,
   "id": "c3503c97",
   "metadata": {},
   "outputs": [],
   "source": [
    "PC = {}\n",
    "for edge in graph:\n",
    "    parent,child = edge\n",
    "    if parent not in PC:\n",
    "        PC[parent] = [child]\n",
    "    else:\n",
    "        children = PC[parent]\n",
    "        children.append(child)\n",
    "        PC[parent] = children"
   ]
  },
  {
   "cell_type": "markdown",
   "id": "e4d5802a",
   "metadata": {},
   "source": [
    "### Init PageRank"
   ]
  },
  {
   "cell_type": "code",
   "execution_count": 8,
   "id": "e34351db",
   "metadata": {},
   "outputs": [],
   "source": [
    "d = 0.15\n",
    "n = len(nodes)\n",
    "pageranks = np.ones((n,1))"
   ]
  },
  {
   "cell_type": "markdown",
   "id": "a338d26a",
   "metadata": {},
   "source": [
    "### Iterate"
   ]
  },
  {
   "cell_type": "code",
   "execution_count": 9,
   "id": "df6cf133",
   "metadata": {},
   "outputs": [],
   "source": [
    "pageranks = np.ones((n,1))\n",
    "prev_pageranks = np.ones((n,1))\n",
    "deltas = []\n",
    "for i in range(20):\n",
    "    \n",
    "    #Compute new pageranks\n",
    "    pageranks = compute_pageranks(pageranks,CP,PC,d,n,nodes)\n",
    "    \n",
    "    #Compute the delta \n",
    "    delta = np.sum((prev_pageranks - pageranks)**2) / n\n",
    "    deltas.append(delta)\n",
    "    \n",
    "    #Assign current to previous\n",
    "    prev_pageranks = pageranks.copy()"
   ]
  },
  {
   "cell_type": "markdown",
   "id": "ec36d810",
   "metadata": {},
   "source": [
    "### Plot the convergence"
   ]
  },
  {
   "cell_type": "code",
   "execution_count": 10,
   "id": "2b01af0d",
   "metadata": {},
   "outputs": [
    {
     "data": {
      "image/png": "[encoded data removed]",
      "text/plain": [
       "<Figure size 504x504 with 1 Axes>"
      ]
     },
     "metadata": {
      "needs_background": "light"
     },
     "output_type": "display_data"
    }
   ],
   "source": [
    "plt.figure(figsize=(7,7));\n",
    "plt.plot(deltas,'k',linewidth=2);\n",
    "plt.grid();\n",
    "plt.xlabel('iteration',fontsize=18);\n",
    "plt.ylabel('delta in pagerank',fontsize=18);"
   ]
  },
  {
   "cell_type": "markdown",
   "id": "46a7da22",
   "metadata": {},
   "source": [
    "### Plot the resulting PageRanks on the graph"
   ]
  },
  {
   "cell_type": "code",
   "execution_count": 15,
   "id": "0c64510d",
   "metadata": {},
   "outputs": [
    {
     "data": {
      "image/png": "[encoded data removed]",
      "text/plain": [
       "<Figure size 576x576 with 1 Axes>"
      ]
     },
     "metadata": {
      "needs_background": "light"
     },
     "output_type": "display_data"
    }
   ],
   "source": [
    "plt.figure(figsize=(8,8))\n",
    "norm_pageranks = pageranks / np.max(pageranks)\n",
    "for i in range(len(nodes)):\n",
    "    pr = pageranks[i,0]\n",
    "    norm_pr = norm_pageranks[i,0]\n",
    "    pr = np.round(pr,2)\n",
    "    plt.scatter(coords[i,0],coords[i,1],s=1000,color=(norm_pr,0,1-(norm_pr**2)),zorder=100)\n",
    "    plt.text(coords[i,0]-0.05,coords[i,1]-0.05,str(i+1),\n",
    "             color='white',\n",
    "             zorder=101,\n",
    "             fontsize=18,**csfont);\n",
    "    plt.text(coords[i,0]-0.15,coords[i,1]+0.30,str(pr),\n",
    "             color='black',\n",
    "             zorder=101,\n",
    "             fontsize=18,**csfont);\n",
    "plt.grid()\n",
    "plt.axis((-2.5,2.5,-2.5,2.5))\n",
    "for edge in graph:\n",
    "    left,right = edge\n",
    "    plt.plot([coords[left-1,0],coords[right-1,0]],[coords[left-1,1],coords[right-1,1]],'k')\n",
    "plt.xlabel('x',fontsize=18,**csfont);\n",
    "plt.ylabel('y',fontsize=18,**csfont);\n",
    "plt.xticks(fontsize=14,**csfont);\n",
    "plt.yticks(fontsize=14,**csfont);\n",
    "plt.savefig('../../assets/figures/020/pagerank_2.png',dpi=300,bbox_inches=\"tight\")    "
   ]
  },
  {
   "cell_type": "code",
   "execution_count": null,
   "id": "5622b910",
   "metadata": {},
   "outputs": [],
   "source": []
  }
 ],
 "metadata": {
  "kernelspec": {
   "display_name": "Python 3 (ipykernel)",
   "language": "python",
   "name": "python3"
  },
  "language_info": {
   "codemirror_mode": {
    "name": "ipython",
    "version": 3
   },
   "file_extension": ".py",
   "mimetype": "text/x-python",
   "name": "python",
   "nbconvert_exporter": "python",
   "pygments_lexer": "ipython3",
   "version": "3.9.6"
  }
 },
 "nbformat": 4,
 "nbformat_minor": 5
}
