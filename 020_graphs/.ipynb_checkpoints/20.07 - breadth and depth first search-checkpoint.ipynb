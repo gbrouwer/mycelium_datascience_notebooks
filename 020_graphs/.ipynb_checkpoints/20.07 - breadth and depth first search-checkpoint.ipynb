{
 "cells": [
  {
   "cell_type": "markdown",
   "id": "556ffb71",
   "metadata": {},
   "source": [
    "### Import"
   ]
  },
  {
   "cell_type": "code",
   "execution_count": 78,
   "id": "99ad7260",
   "metadata": {},
   "outputs": [],
   "source": [
    "import os\n",
    "import sys\n",
    "import numpy as np\n",
    "import pandas as pd\n",
    "import networkx as nx\n",
    "import matplotlib.pyplot as plt\n",
    "from scipy.spatial.distance import pdist\n",
    "from scipy.spatial.distance import cdist\n",
    "from scipy.spatial.distance import squareform"
   ]
  },
  {
   "cell_type": "markdown",
   "id": "1ca06c03",
   "metadata": {},
   "source": [
    "### Fonts"
   ]
  },
  {
   "cell_type": "code",
   "execution_count": 79,
   "id": "856db674",
   "metadata": {},
   "outputs": [],
   "source": [
    "csfont = {'fontname':'Georgia'}\n",
    "hfont = {'fontname':'Helvetica'}"
   ]
  },
  {
   "cell_type": "markdown",
   "id": "7c9056a2",
   "metadata": {},
   "source": [
    "### Create Nodes"
   ]
  },
  {
   "cell_type": "code",
   "execution_count": 80,
   "id": "50d25adf",
   "metadata": {},
   "outputs": [],
   "source": [
    "y = []\n",
    "x = []\n",
    "depths = []\n",
    "for i in range(4):\n",
    "    no_nodes_in_layer = (2**i)\n",
    "    xvals = np.linspace(0,1,no_nodes_in_layer+2)[1:-1]\n",
    "    yvals = xvals.copy()\n",
    "    depth = xvals.copy()\n",
    "    yvals[:] = i\n",
    "    depth[:] = i\n",
    "    x = x + xvals.tolist()\n",
    "    y = y + yvals.tolist()\n",
    "    depths = depths + depth.tolist()\n",
    "x = np.array(x)\n",
    "y = 1 - (np.array(y) / np.max(y))\n",
    "X = np.vstack((x,y)).T\n",
    "X[:,0] = X[:,0]*1.5\n",
    "depths = np.array(depths)"
   ]
  },
  {
   "cell_type": "markdown",
   "id": "c3b8a664",
   "metadata": {},
   "source": [
    "### Create Edges"
   ]
  },
  {
   "cell_type": "code",
   "execution_count": 81,
   "id": "565fca23",
   "metadata": {},
   "outputs": [],
   "source": [
    "edges = []\n",
    "D = squareform(pdist(X))\n",
    "for i in range(X.shape[0]):\n",
    "    depth = depths[i] + 1\n",
    "    d = D[i,:]\n",
    "    ind = np.where(depths == depth)[0]\n",
    "    sortind = np.argsort(d[ind])\n",
    "    ind = ind[sortind][:2]\n",
    "    ind = np.sort(ind)[::-1]\n",
    "    if (len(ind) == 2):\n",
    "        edge1 = (i,ind[0])\n",
    "        edge2 = (i,ind[1])\n",
    "        edges.append(edge1)\n",
    "        edges.append(edge2)"
   ]
  },
  {
   "cell_type": "markdown",
   "id": "e98bdf27",
   "metadata": {},
   "source": [
    "### Create Graph"
   ]
  },
  {
   "cell_type": "code",
   "execution_count": 82,
   "id": "a7df2644",
   "metadata": {},
   "outputs": [],
   "source": [
    "graph = {}\n",
    "for edge in edges:\n",
    "    node1,node2 = edge\n",
    "    if node1 in graph:\n",
    "        neighbors = graph[node1]\n",
    "        neighbors.append(node2)\n",
    "        graph[node1] = neighbors\n",
    "    else:\n",
    "        graph[node1] = [node2]\n",
    "    if node2 in graph:\n",
    "        neighbors = graph[node2]\n",
    "        neighbors.append(node1)\n",
    "        graph[node2] = neighbors\n",
    "    else:\n",
    "        graph[node2] = [node1]"
   ]
  },
  {
   "cell_type": "markdown",
   "id": "98e920a9",
   "metadata": {},
   "source": [
    "### Breath First Search Init"
   ]
  },
  {
   "cell_type": "code",
   "execution_count": 88,
   "id": "d8a51123",
   "metadata": {},
   "outputs": [],
   "source": [
    "start_node = 0\n",
    "queue = [start_node]\n",
    "nodelist = range(X.shape[0])\n",
    "visited = np.zeros((len(nodelist)))\n",
    "order = np.zeros((len(nodelist))) - 1"
   ]
  },
  {
   "cell_type": "markdown",
   "id": "bd63fe05",
   "metadata": {},
   "source": [
    "### Breadth first search"
   ]
  },
  {
   "cell_type": "code",
   "execution_count": 89,
   "id": "305713f6",
   "metadata": {},
   "outputs": [
    {
     "name": "stdout",
     "output_type": "stream",
     "text": [
      "0\n",
      "1\n",
      "3\n",
      "7\n",
      "8\n",
      "4\n",
      "9\n",
      "10\n",
      "2\n",
      "5\n",
      "11\n",
      "12\n",
      "6\n",
      "13\n",
      "14\n"
     ]
    }
   ],
   "source": [
    "order_count = 0\n",
    "while (len(queue) > 0):\n",
    "    node = queue[0]\n",
    "    if (order[node] == -1):\n",
    "        order[node] = order_count\n",
    "        order_count = order_count + 1\n",
    "    visited[node] = 1\n",
    "    queue = queue[1:]\n",
    "    neigbors = graph[node]\n",
    "    for neighbor in neigbors:\n",
    "        if visited[neighbor] == 0:\n",
    "            queue = [neighbor] + queue"
   ]
  },
  {
   "cell_type": "markdown",
   "id": "0e56ebe4",
   "metadata": {},
   "source": [
    "### Draw Graph of Visitations"
   ]
  },
  {
   "cell_type": "code",
   "execution_count": 87,
   "id": "c9d38db1",
   "metadata": {},
   "outputs": [
    {
     "data": {
      "image/png": "[encoded data removed]",
      "text/plain": [
       "<Figure size 504x504 with 1 Axes>"
      ]
     },
     "metadata": {
      "needs_background": "light"
     },
     "output_type": "display_data"
    }
   ],
   "source": [
    "plt.figure(figsize=(7,7))\n",
    "for node in graph:\n",
    "    edges = graph[node]\n",
    "    for edge in edges:\n",
    "        plt.plot([-X[node,0],-X[edge,0]],[X[node,1],X[edge,1]],'k',linewidth=0.5)\n",
    "for i in range(len(order)):\n",
    "    index = np.where(order == i)[0][0]\n",
    "    value = i / (len(order)-1)\n",
    "    plt.scatter(-X[index,0],X[index,1],color=(value**2,value**0.5,0.5-(value*0.5)),edgecolor='k',s=200,zorder=100)\n",
    "    plt.text(-X[index,0]+0.03,X[index,1]-0.00,str(i),fontsize=24,**csfont);\n",
    "plt.grid('off')\n",
    "plt.axis('off')\n",
    "plt.xticks(fontsize=14,**csfont);\n",
    "plt.yticks(fontsize=14,**csfont);\n",
    "plt.title('Breadth First Search\\n',fontsize=24,**csfont);\n",
    "plt.savefig('../../assets/figures/020/bfs.png',dpi=300,bbox_inches=\"tight\")   "
   ]
  },
  {
   "cell_type": "markdown",
   "id": "5e01bf78",
   "metadata": {},
   "source": [
    "### Depth First Search Init"
   ]
  },
  {
   "cell_type": "code",
   "execution_count": 71,
   "id": "df224930",
   "metadata": {},
   "outputs": [],
   "source": [
    "start_node = 0\n",
    "stack = [start_node]\n",
    "visited = np.zeros((len(nodelist)))\n",
    "order = np.zeros((len(nodelist))) - 1"
   ]
  },
  {
   "cell_type": "markdown",
   "id": "f154404e",
   "metadata": {},
   "source": [
    "### Depth first search recursive helper"
   ]
  },
  {
   "cell_type": "code",
   "execution_count": 72,
   "id": "b58a28ba",
   "metadata": {
    "scrolled": false
   },
   "outputs": [],
   "source": [
    "order_count = 0\n",
    "while (len(stack) > 0):\n",
    "    node = stack[0]\n",
    "    if (order[node] == -1):\n",
    "        order[node] = order_count\n",
    "    order_count = order_count + 1\n",
    "    visited[node] = 1\n",
    "    stack = stack[1:]\n",
    "    neigbors = graph[node]\n",
    "    for neighbor in neigbors:\n",
    "        if visited[neighbor] == 0:\n",
    "            stack = [neighbor] + stack"
   ]
  },
  {
   "cell_type": "markdown",
   "id": "6da2d399",
   "metadata": {},
   "source": [
    "### Plot"
   ]
  },
  {
   "cell_type": "code",
   "execution_count": 77,
   "id": "b9c93b21",
   "metadata": {},
   "outputs": [
    {
     "data": {
      "image/png": "[encoded data removed]",
      "text/plain": [
       "<Figure size 504x504 with 1 Axes>"
      ]
     },
     "metadata": {
      "needs_background": "light"
     },
     "output_type": "display_data"
    }
   ],
   "source": [
    "plt.figure(figsize=(7,7))\n",
    "for node in graph:\n",
    "    edges = graph[node]\n",
    "    for edge in edges:\n",
    "        plt.plot([X[node,0],X[edge,0]],[X[node,1],X[edge,1]],'k',linewidth=0.5)\n",
    "for i in range(len(order)):\n",
    "    index = np.where(order == i)[0][0]\n",
    "    value = i / (len(order)-1)\n",
    "    plt.scatter(X[index,0],X[index,1],color=(value**2,value**0.5,0.5-(value*0.5)),edgecolor='k',s=200,zorder=100)\n",
    "    plt.text(X[index,0]+0.03,X[index,1]-0.00,str(i),fontsize=24,**csfont);\n",
    "plt.grid('off')\n",
    "plt.axis('off')\n",
    "plt.xticks(fontsize=14,**csfont);\n",
    "plt.yticks(fontsize=14,**csfont);\n",
    "plt.title('Depth First Search\\n',fontsize=24,**csfont);\n",
    "plt.savefig('../../assets/figures/020/dfs.png',dpi=300,bbox_inches=\"tight\")   "
   ]
  }
 ],
 "metadata": {
  "kernelspec": {
   "display_name": "Python 3 (ipykernel)",
   "language": "python",
   "name": "python3"
  },
  "language_info": {
   "codemirror_mode": {
    "name": "ipython",
    "version": 3
   },
   "file_extension": ".py",
   "mimetype": "text/x-python",
   "name": "python",
   "nbconvert_exporter": "python",
   "pygments_lexer": "ipython3",
   "version": "3.9.6"
  }
 },
 "nbformat": 4,
 "nbformat_minor": 5
}
