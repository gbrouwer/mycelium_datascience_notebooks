{
 "cells": [
  {
   "cell_type": "markdown",
   "id": "8d3abbc9",
   "metadata": {},
   "source": [
    "### Import"
   ]
  },
  {
   "cell_type": "code",
   "execution_count": 1,
   "id": "8a39c15f",
   "metadata": {},
   "outputs": [],
   "source": [
    "import os\n",
    "import numpy as np\n",
    "import matplotlib.pyplot as plt\n",
    "from sklearn.datasets import make_blobs\n",
    "from sklearn.datasets import make_classification\n",
    "from sklearn.model_selection import train_test_split"
   ]
  },
  {
   "cell_type": "markdown",
   "id": "9e8d733b",
   "metadata": {},
   "source": [
    "### Sigmoid function"
   ]
  },
  {
   "cell_type": "code",
   "execution_count": 2,
   "id": "65a9e301",
   "metadata": {},
   "outputs": [],
   "source": [
    "def sigmoid(x):\n",
    "    return 1  / (1 + np.exp(-x))"
   ]
  },
  {
   "cell_type": "markdown",
   "id": "bb56f06f",
   "metadata": {},
   "source": [
    "### Loss function"
   ]
  },
  {
   "cell_type": "code",
   "execution_count": 21,
   "id": "824fa667",
   "metadata": {},
   "outputs": [],
   "source": [
    "def compute_loss(y,p):\n",
    "    \n",
    "    loss = -np.sum(np.dot(y.T,np.log(p+0.0000001) + np.dot((1-y).T,np.log(1-p)))) /(len(p))   \n",
    "    return loss"
   ]
  },
  {
   "cell_type": "markdown",
   "id": "f3179f7f",
   "metadata": {},
   "source": [
    "### Predict"
   ]
  },
  {
   "cell_type": "code",
   "execution_count": 22,
   "id": "5bdcd7d7",
   "metadata": {},
   "outputs": [],
   "source": [
    "def predict(X,w):\n",
    "    \n",
    "    H = sigmoid(np.dot(X,w))\n",
    "    return H"
   ]
  },
  {
   "cell_type": "markdown",
   "id": "3d992060",
   "metadata": {},
   "source": [
    "### Create Data"
   ]
  },
  {
   "cell_type": "code",
   "execution_count": 46,
   "id": "df9d59b2",
   "metadata": {},
   "outputs": [],
   "source": [
    "n_samples = 3000\n",
    "n_features = 2\n",
    "centers = (np.random.random((2,n_features)) - 0.5)*5\n",
    "X,y = make_blobs(n_samples=n_samples,\n",
    "                 n_features=n_features,\n",
    "                 centers=centers,\n",
    "                 cluster_std=2.0,\n",
    "                 shuffle = True,\n",
    "                 random_state = 41,\n",
    "                 return_centers = False)\n",
    "X_train, X_test, y_train, y_test = train_test_split(X, y, test_size=0.33333, random_state=40)\n",
    "X_train[:,-1] = 1\n",
    "X_test[:,-1] = 1"
   ]
  },
  {
   "cell_type": "markdown",
   "id": "6ea08df0",
   "metadata": {},
   "source": [
    "### Initialize"
   ]
  },
  {
   "cell_type": "code",
   "execution_count": 47,
   "id": "2ce6bc73",
   "metadata": {},
   "outputs": [],
   "source": [
    "w = np.random.randn(n_features)*0.1\n",
    "learning_rate = 0.01\n",
    "batch_size = 1000\n",
    "no_epoch = 1000"
   ]
  },
  {
   "cell_type": "markdown",
   "id": "aca4569a",
   "metadata": {},
   "source": [
    "### Gradient Descent"
   ]
  },
  {
   "cell_type": "code",
   "execution_count": 48,
   "id": "7226fefd",
   "metadata": {},
   "outputs": [],
   "source": [
    "loss_train = []\n",
    "loss_test = []\n",
    "accuracy_train = []\n",
    "accuracy_test = []\n",
    "for epoch in range(no_epoch):\n",
    "    \n",
    "    #Get Batch Data\n",
    "    indices = np.random.permutation(n_samples)[:batch_size]\n",
    "    X_batch = X[indices]\n",
    "    y_batch = y[indices]\n",
    "\n",
    "    #Compute gradients and update weights\n",
    "    gradients = 2/batch_size * np.dot(X_batch.T,sigmoid(np.dot(X_batch,w)) - y_batch)\n",
    "    w = w - learning_rate * gradients\n",
    "\n",
    "    #Compute Loss training\n",
    "    y_prob = sigmoid(np.dot(X_batch,w))\n",
    "    y_pred = 1.0*(y_prob>0.5)\n",
    "    loss = compute_loss(y_batch,y_prob)\n",
    "    loss_train.append(loss)\n",
    "\n",
    "    #Compute Accuracy Training\n",
    "    accuracy = np.sum(y_pred == y_batch) / len(y_pred)\n",
    "    accuracy_train.append(accuracy)\n",
    "\n",
    "    #Compute Loss testing\n",
    "    y_prob = sigmoid(np.dot(X_test,w))\n",
    "    loss = compute_loss(y_test,y_prob)\n",
    "    y_pred = 1.0*(y_prob>0.5)\n",
    "    accuracy = np.sum(y_pred == y_test) / len(y_pred)\n",
    "    accuracy_test.append(accuracy)\n",
    "    loss_test.append(loss)\n",
    "\n",
    "loss_train = np.array(loss_train)\n",
    "loss_test = np.array(loss_test)\n",
    "accuracy_train = np.array(accuracy_train)\n",
    "accuracy_test = np.array(accuracy_test)"
   ]
  },
  {
   "cell_type": "markdown",
   "id": "18578300",
   "metadata": {},
   "source": [
    "### Plot Loss Field"
   ]
  },
  {
   "cell_type": "code",
   "execution_count": 53,
   "id": "d72e57c0",
   "metadata": {},
   "outputs": [
    {
     "data": {
      "image/png": "[encoded data removed]",
      "text/plain": [
       "<Figure size 432x288 with 1 Axes>"
      ]
     },
     "metadata": {
      "needs_background": "light"
     },
     "output_type": "display_data"
    }
   ],
   "source": [
    "n_points = 23\n",
    "x = np.linspace(-3,3,n_points)\n",
    "L = np.zeros((n_points,n_points))\n",
    "for i in range(n_points):\n",
    "    for j in range(n_points):\n",
    "        vw = np.array([x[i],x[j]])\n",
    "        vw = np.expand_dims(vw,-1)\n",
    "        y_prob = sigmoid(np.dot(X,vw))\n",
    "        loss = compute_loss(y,y_prob)        \n",
    "        L[i,j] = loss\n",
    "plt.imshow(np.log(L),extent=(-3,+3,-3,+3));"
   ]
  },
  {
   "cell_type": "code",
   "execution_count": null,
   "id": "c1851a95",
   "metadata": {},
   "outputs": [],
   "source": []
  }
 ],
 "metadata": {
  "kernelspec": {
   "display_name": "Python 3 (ipykernel)",
   "language": "python",
   "name": "python3"
  },
  "language_info": {
   "codemirror_mode": {
    "name": "ipython",
    "version": 3
   },
   "file_extension": ".py",
   "mimetype": "text/x-python",
   "name": "python",
   "nbconvert_exporter": "python",
   "pygments_lexer": "ipython3",
   "version": "3.9.6"
  }
 },
 "nbformat": 4,
 "nbformat_minor": 5
}
