{
 "cells": [
  {
   "cell_type": "markdown",
   "id": "1bced333",
   "metadata": {},
   "source": [
    "### Import"
   ]
  },
  {
   "cell_type": "code",
   "execution_count": 3,
   "id": "371df1f8",
   "metadata": {},
   "outputs": [],
   "source": [
    "import numpy as np\n",
    "import os\n",
    "import sys\n",
    "import json\n",
    "import pickle\n",
    "import re\n",
    "import pandas as pd\n",
    "import matplotlib.pyplot as plt\n",
    "import enchant\n",
    "from tqdm import tqdm\n",
    "from sklearn.decomposition import PCA"
   ]
  },
  {
   "cell_type": "markdown",
   "id": "b9ad93b3",
   "metadata": {},
   "source": [
    "### Corpus Dictionary, Count and Probability Class"
   ]
  },
  {
   "cell_type": "code",
   "execution_count": 83,
   "id": "a5d69f39",
   "metadata": {},
   "outputs": [],
   "source": [
    "class Corpus:\n",
    "    \n",
    "    def __init__(self, label, corpus):\n",
    "        self.label = label\n",
    "        self.corpus = corpus\n",
    "        self.dictionary = {}\n",
    "        self.counts = []\n",
    "        self.frequencies = []\n",
    "        self.keywords = []\n",
    "        self.min_count = 50\n",
    "        self.max_frequency = 0.001\n",
    "        \n",
    "    def build(self):\n",
    "        \n",
    "        self.word_count()\n",
    "        self.get_keywords()\n",
    "        self.get_counts()\n",
    "        self.get_frequencies()\n",
    "        self.sort_by_frequency()\n",
    "\n",
    "    def word_count(self):\n",
    "        for text in self.corpus:\n",
    "            words = text.split(' ')\n",
    "            for word in words:\n",
    "                if word in self.dictionary:\n",
    "                    count = self.dictionary[word]\n",
    "                    self.dictionary[word] = count + 1\n",
    "                else:\n",
    "                    self.dictionary[word] = 1\n",
    "                    \n",
    "    def get_keywords(self):\n",
    "        self.keywords = np.array(list(self.dictionary.keys()))\n",
    "\n",
    "    def get_counts(self):        \n",
    "        self.counts = np.array(list(self.dictionary.values()))\n",
    "        \n",
    "    def get_frequencies(self):        \n",
    "        self.frequencies = self.counts / np.sum(self.counts)\n",
    "\n",
    "    def sort_by_frequency(self):        \n",
    "        self.indices = np.argsort(self.frequencies)[::-1]\n",
    "        self.frequencies = self.frequencies[self.indices]\n",
    "        self.counts = self.counts[self.indices]\n",
    "        self.keywords = self.keywords[self.indices]   \n",
    "        \n",
    "    def restrict(self):\n",
    "        self.indices = np.where(self.counts > self.min_count)[0]\n",
    "        self.keywords = self.keywords[self.indices]\n",
    "        self.frequencies = self.frequencies[self.indices]\n",
    "        self.counts = self.counts[self.indices]\n",
    "        \n",
    "        self.indices = np.where(self.frequencies < self.max_frequency)[0]\n",
    "        self.keywords = self.keywords[self.indices]\n",
    "        self.frequencies = self.frequencies[self.indices]\n",
    "        self.counts = self.counts[self.indices]\n",
    "        "
   ]
  },
  {
   "cell_type": "markdown",
   "id": "ce64923b",
   "metadata": {},
   "source": [
    "### Load and unpack"
   ]
  },
  {
   "cell_type": "code",
   "execution_count": 84,
   "id": "15e71d82",
   "metadata": {},
   "outputs": [],
   "source": [
    "data = pickle.load( open(\"../../data/articles/pickle/processed.p\", \"rb\"))\n",
    "records = data['records']\n",
    "labels = []\n",
    "abstracts = []\n",
    "for item in records:\n",
    "    title,abstract,authors,label = item\n",
    "    abstracts.append(abstract)\n",
    "    labels.append(label)\n",
    "labels = np.array(labels)\n",
    "abstracts = np.array(abstracts)\n",
    "classes = np.unique(labels)"
   ]
  },
  {
   "cell_type": "markdown",
   "id": "9cf9bee9",
   "metadata": {},
   "source": [
    "### Create a Corpus for each class and an overall corpus"
   ]
  },
  {
   "cell_type": "code",
   "execution_count": 85,
   "id": "1f22ddb4",
   "metadata": {},
   "outputs": [],
   "source": [
    "corpi = {}\n",
    "corpi['overall'] = Corpus('overall',abstracts)\n",
    "corpi['overall'].build()\n",
    "corpi['overall'].restrict()\n",
    "for name in classes:\n",
    "\n",
    "    indices = np.where(labels == name)[0]\n",
    "    abstracts_subset = abstracts[indices]\n",
    "    corpi[name] = Corpus(name,abstracts_subset)\n",
    "    corpi[name].build()\n",
    "    corpi[name].restrict()"
   ]
  },
  {
   "cell_type": "markdown",
   "id": "feff72af",
   "metadata": {},
   "source": [
    "### Plot the Frequencies curver for all dictionaries "
   ]
  },
  {
   "cell_type": "code",
   "execution_count": 86,
   "id": "4ea18d5a",
   "metadata": {},
   "outputs": [
    {
     "data": {
      "image/png": "[encoded data removed]",
      "text/plain": [
       "<Figure size 504x504 with 1 Axes>"
      ]
     },
     "metadata": {
      "needs_background": "light"
     },
     "output_type": "display_data"
    }
   ],
   "source": [
    "plt.figure(figsize=(7,7));\n",
    "for item in corpi:\n",
    "\n",
    "    corpus = corpi[item]\n",
    "    plt.plot(corpus.frequencies);\n",
    "    plt.xlabel('Word Index',fontsize=18);\n",
    "    plt.ylabel('Frequency',fontsize=18);\n",
    "    plt.yscale(\"log\")\n",
    "    plt.grid('on');"
   ]
  },
  {
   "cell_type": "markdown",
   "id": "3ee6bbac",
   "metadata": {},
   "source": [
    "### Compute apriori probabilities"
   ]
  },
  {
   "cell_type": "code",
   "execution_count": 85,
   "id": "1bb2f262",
   "metadata": {},
   "outputs": [],
   "source": [
    "no_total = len(labels)\n",
    "no_spam = np.sum(labels)\n",
    "no_ham = no_total - no_spam\n",
    "prob_spam = no_spam / no_total\n",
    "prob_ham = no_ham / no_total"
   ]
  },
  {
   "cell_type": "markdown",
   "id": "dca5e958",
   "metadata": {},
   "source": [
    "### Compute Word Probabilities"
   ]
  },
  {
   "cell_type": "code",
   "execution_count": 86,
   "id": "eaa91732",
   "metadata": {},
   "outputs": [],
   "source": [
    "prob_word = frequencies.copy()"
   ]
  },
  {
   "cell_type": "markdown",
   "id": "b56ed769",
   "metadata": {},
   "source": [
    "### Count Words given Ham"
   ]
  },
  {
   "cell_type": "code",
   "execution_count": 127,
   "id": "821f8760",
   "metadata": {},
   "outputs": [],
   "source": [
    "labels = np.array(labels)\n",
    "ham_indices = np.where(labels == 0)[0]\n",
    "count_word_ham = np.zeros((prob_word.shape))\n",
    "for index in tqdm(ham_indices):\n",
    "    text = corpus[index]\n",
    "    label = labels[index]\n",
    "    words = text.split(' ')\n",
    "    words = np.unique(words)\n",
    "    for word in words:\n",
    "        if word in keywords:\n",
    "            index = np.where(keywords == word)[0][0]\n",
    "            count_word_ham[index] = count_word_ham[index] + 1"
   ]
  },
  {
   "cell_type": "markdown",
   "id": "c232abf1",
   "metadata": {},
   "source": [
    "### Count Words given Spam"
   ]
  },
  {
   "cell_type": "code",
   "execution_count": 128,
   "id": "53a76065",
   "metadata": {},
   "outputs": [],
   "source": [
    "labels = np.array(labels)\n",
    "spam_indices = np.where(labels == 1)[0]\n",
    "count_word_spam = np.zeros((prob_word.shape))\n",
    "for index in tqdm(spam_indices):\n",
    "    text = corpus[index]\n",
    "    label = labels[index]\n",
    "    words = text.split(' ')\n",
    "    words = np.unique(words)\n",
    "    for word in words:\n",
    "        if word in keywords:\n",
    "            index = np.where(keywords == word)[0][0]\n",
    "            count_word_spam[index] = count_word_spam[index] + 1"
   ]
  },
  {
   "cell_type": "markdown",
   "id": "61b57b3e",
   "metadata": {},
   "source": [
    "### Normalize"
   ]
  },
  {
   "cell_type": "code",
   "execution_count": 129,
   "id": "3d5d8dd0",
   "metadata": {},
   "outputs": [],
   "source": [
    "prob_word_ham = count_word_ham / np.sum(count_word_ham)\n",
    "prob_word_spam = count_word_spam / np.sum(count_word_spam)"
   ]
  },
  {
   "cell_type": "markdown",
   "id": "05ef4914",
   "metadata": {},
   "source": [
    "### Collect Probabilities and keyword into model"
   ]
  },
  {
   "cell_type": "code",
   "execution_count": 140,
   "id": "71010b47",
   "metadata": {},
   "outputs": [],
   "source": [
    "model = {}\n",
    "model['prob_spam'] = prob_spam\n",
    "model['prob_ham'] = prob_ham\n",
    "model['prob_word'] = prob_word\n",
    "model['prob_word_ham'] = prob_word_ham\n",
    "model['prob_word_spam'] = prob_word_spam\n",
    "model['dictionary'] = keywords"
   ]
  },
  {
   "cell_type": "markdown",
   "id": "bbe4c097",
   "metadata": {},
   "source": [
    "### Predict Helper"
   ]
  },
  {
   "cell_type": "code",
   "execution_count": 224,
   "id": "f7f82034",
   "metadata": {},
   "outputs": [],
   "source": [
    "def predict(text,model):\n",
    "    \n",
    "    #Unpack\n",
    "    keywords = model['dictionary']\n",
    "    prob_spam = model['prob_spam']\n",
    "    prob_ham = model['prob_ham']\n",
    "    prob_word = model['prob_word']\n",
    "    prob_word_ham = model['prob_word_ham']\n",
    "    prob_word_spam = model['prob_word_spam']\n",
    "    \n",
    "    #Loop Through Text\n",
    "    words = text.split(' ')\n",
    "    prob_ham_word = 1\n",
    "    prob_spam_word = 1 \n",
    "    for word in words:\n",
    "        index = np.where(keywords == word)[0]\n",
    "        if (len(index) > 0):\n",
    "            index = index[0]\n",
    "            prob_ham_word = prob_ham_word * ((prob_word_ham[index] * prob_ham) / prob_word[index])\n",
    "            prob_spam_word = prob_spam_word * ((prob_word_spam[index] * prob_spam) / prob_word[index])\n",
    "    prob_ham_word = prob_ham_word / (prob_ham_word + prob_spam_word)\n",
    "    prob_spam_word = prob_spam_word / (prob_ham_word + prob_spam_word)\n",
    "    \n",
    "    #Return\n",
    "    return prob_spam_word"
   ]
  },
  {
   "cell_type": "markdown",
   "id": "06882e69",
   "metadata": {},
   "source": [
    "### Predict"
   ]
  },
  {
   "cell_type": "code",
   "execution_count": 229,
   "id": "aee34cb8",
   "metadata": {},
   "outputs": [
    {
     "name": "stderr",
     "output_type": "stream",
     "text": [
      "  0%|                                                                                                                                                          | 27/33705 [00:00<06:04, 92.29it/s]/Users/brouwerg/.pyenv/versions/3.7.3/Library/Frameworks/Python.framework/Versions/3.7/lib/python3.7/site-packages/ipykernel_launcher.py:21: RuntimeWarning: invalid value encountered in double_scalars\n",
      "100%|██████████████████████████████████████████████████████████████████████████████████████████████████████████████████████████████████████████████████████| 33705/33705 [05:14<00:00, 107.29it/s]\n"
     ]
    }
   ],
   "source": [
    "y_pred = []\n",
    "for index in tqdm(range(len(corpus))):\n",
    "    text = corpus[index]\n",
    "    label = labels[index]\n",
    "    prob = predict(text,model)\n",
    "    pred = prob > 0.5\n",
    "    y_pred.append(pred)"
   ]
  },
  {
   "cell_type": "code",
   "execution_count": 220,
   "id": "2e0c729e",
   "metadata": {},
   "outputs": [
    {
     "data": {
      "text/plain": [
       "3.888044223137987"
      ]
     },
     "execution_count": 220,
     "metadata": {},
     "output_type": "execute_result"
    }
   ],
   "source": [
    "0.0002650074189864993 / 6.815956912460616e-05"
   ]
  },
  {
   "cell_type": "code",
   "execution_count": 1,
   "id": "c9fedc1c",
   "metadata": {},
   "outputs": [
    {
     "ename": "NameError",
     "evalue": "name 'text' is not defined",
     "output_type": "error",
     "traceback": [
      "\u001b[0;31m---------------------------------------------------------------------------\u001b[0m",
      "\u001b[0;31mNameError\u001b[0m                                 Traceback (most recent call last)",
      "\u001b[0;32m/var/folders/4l/ln544hys5j59kb45wwc1klvrkffmmh/T/ipykernel_66937/1080490001.py\u001b[0m in \u001b[0;36m<module>\u001b[0;34m\u001b[0m\n\u001b[0;32m----> 1\u001b[0;31m \u001b[0mprint\u001b[0m\u001b[0;34m(\u001b[0m\u001b[0mtext\u001b[0m\u001b[0;34m)\u001b[0m\u001b[0;34m\u001b[0m\u001b[0;34m\u001b[0m\u001b[0m\n\u001b[0m\u001b[1;32m      2\u001b[0m \u001b[0mprint\u001b[0m\u001b[0;34m(\u001b[0m\u001b[0my_pred\u001b[0m\u001b[0;34m)\u001b[0m\u001b[0;34m\u001b[0m\u001b[0;34m\u001b[0m\u001b[0m\n",
      "\u001b[0;31mNameError\u001b[0m: name 'text' is not defined"
     ]
    }
   ],
   "source": [
    "print(text)\n",
    "print(y_pred)\n"
   ]
  },
  {
   "cell_type": "code",
   "execution_count": null,
   "id": "b740db34",
   "metadata": {},
   "outputs": [],
   "source": []
  }
 ],
 "metadata": {
  "kernelspec": {
   "display_name": "Python 3 (ipykernel)",
   "language": "python",
   "name": "python3"
  },
  "language_info": {
   "codemirror_mode": {
    "name": "ipython",
    "version": 3
   },
   "file_extension": ".py",
   "mimetype": "text/x-python",
   "name": "python",
   "nbconvert_exporter": "python",
   "pygments_lexer": "ipython3",
   "version": "3.7.3"
  }
 },
 "nbformat": 4,
 "nbformat_minor": 5
}
