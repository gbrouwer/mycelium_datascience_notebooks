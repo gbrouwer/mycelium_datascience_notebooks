{
 "cells": [
  {
   "cell_type": "markdown",
   "id": "bb8ee5a5",
   "metadata": {},
   "source": [
    "### Import"
   ]
  },
  {
   "cell_type": "code",
   "execution_count": 33,
   "id": "10074bd5",
   "metadata": {},
   "outputs": [],
   "source": [
    "import ebooklib\n",
    "import re\n",
    "from bs4 import BeautifulSoup\n",
    "from ebooklib import epub"
   ]
  },
  {
   "cell_type": "markdown",
   "id": "84893200",
   "metadata": {},
   "source": [
    "### epub2html"
   ]
  },
  {
   "cell_type": "code",
   "execution_count": 34,
   "id": "35ef3851",
   "metadata": {},
   "outputs": [],
   "source": [
    "def epub2thtml(epub_path):\n",
    "    book = epub.read_epub(epub_path)\n",
    "    chapters = []\n",
    "    for item in book.get_items():\n",
    "        if item.get_type() == ebooklib.ITEM_DOCUMENT:\n",
    "            chapters.append(item.get_content())\n",
    "    return chapters"
   ]
  },
  {
   "cell_type": "markdown",
   "id": "291511c3",
   "metadata": {},
   "source": [
    "### Element Blacklist"
   ]
  },
  {
   "cell_type": "code",
   "execution_count": 35,
   "id": "79443853",
   "metadata": {},
   "outputs": [],
   "source": [
    "blacklist = [   '[document]',   'noscript', 'header',   'html', 'meta', 'head','input', 'script',   ]"
   ]
  },
  {
   "cell_type": "markdown",
   "id": "624521c5",
   "metadata": {},
   "source": [
    "#### Chapter to text"
   ]
  },
  {
   "cell_type": "code",
   "execution_count": 36,
   "id": "ee874fce",
   "metadata": {},
   "outputs": [],
   "source": [
    "def chap2text(chap):\n",
    "    output = ''\n",
    "    soup = BeautifulSoup(chap, 'html.parser')\n",
    "    text = soup.find_all(text=True)\n",
    "    for t in text:\n",
    "        if t.parent.name not in blacklist:\n",
    "            output += '{} '.format(t)\n",
    "    return output"
   ]
  },
  {
   "cell_type": "markdown",
   "id": "b9310dcb",
   "metadata": {},
   "source": [
    "### thtml2ttext"
   ]
  },
  {
   "cell_type": "code",
   "execution_count": 37,
   "id": "73bfacb0",
   "metadata": {},
   "outputs": [],
   "source": [
    "def thtml2ttext(thtml):\n",
    "    Output = []\n",
    "    for html in thtml:\n",
    "        text =  chap2text(html)\n",
    "        Output.append(text)\n",
    "    return Output"
   ]
  },
  {
   "cell_type": "markdown",
   "id": "a1a0a0a1",
   "metadata": {},
   "source": [
    "### Main Function"
   ]
  },
  {
   "cell_type": "code",
   "execution_count": 38,
   "id": "5d3802ce",
   "metadata": {},
   "outputs": [],
   "source": [
    "def epub2text(epub_path):\n",
    "    chapters = epub2thtml(epub_path)\n",
    "    ttext = thtml2ttext(chapters)\n",
    "    return ttext"
   ]
  },
  {
   "cell_type": "markdown",
   "id": "2a6d3905",
   "metadata": {},
   "source": [
    "### Convert"
   ]
  },
  {
   "cell_type": "code",
   "execution_count": 39,
   "id": "3b173dd7",
   "metadata": {},
   "outputs": [],
   "source": [
    "out = epub2text('../../data/books/principles_of_neuroscience.epub')"
   ]
  },
  {
   "cell_type": "markdown",
   "id": "6d5329b2",
   "metadata": {},
   "source": [
    "### Clean all chapters and write them to separate files"
   ]
  },
  {
   "cell_type": "code",
   "execution_count": 96,
   "id": "5d922ae7",
   "metadata": {},
   "outputs": [],
   "source": [
    "for c,chapter in enumerate(out):\n",
    "\n",
    "    #Remove Everything After Selected Readings\n",
    "    chapter = chapter.lower()\n",
    "    \n",
    "    if ('selected readings' in chapter):\n",
    "        index = chapter.index('selected readings')\n",
    "        chapter = chapter[:index-1]\n",
    "        chapter = chapter.replace(u'\\xa0', u' ')\n",
    "        chapter = chapter.replace(u'\\n', u'.')\n",
    "        chapter = re.sub(r'[^a-zA-Z.]',' ', chapter)\n",
    "#         chapter = chapter.replace('  .', u'.')\n",
    "#         chapter = chapter.replace(' .', u'.')\n",
    "#         chapter = chapter.replace('..', u'.')\n",
    "        words = chapter.split(' ')\n",
    "        words = [word for word in words if len(word) > 0]\n",
    "        chapter = ' '.join(words)\n",
    "        chapter = chapter.replace(' .', u'.')\n",
    "        chapter = chapter.split('.')\n",
    "        with open('../../data/books/principles_of_neuroscience_chapter_' + str(c) + '.txt','w') as f:\n",
    "            for line in chapter:\n",
    "                if (len(line) > 10):\n",
    "                    if (line[0] == ' '):\n",
    "                        line = line[1:]\n",
    "                    f.write(line + '\\n')"
   ]
  },
  {
   "cell_type": "code",
   "execution_count": null,
   "id": "35929dec",
   "metadata": {},
   "outputs": [],
   "source": []
  }
 ],
 "metadata": {
  "kernelspec": {
   "display_name": "Python 3 (ipykernel)",
   "language": "python",
   "name": "python3"
  },
  "language_info": {
   "codemirror_mode": {
    "name": "ipython",
    "version": 3
   },
   "file_extension": ".py",
   "mimetype": "text/x-python",
   "name": "python",
   "nbconvert_exporter": "python",
   "pygments_lexer": "ipython3",
   "version": "3.10.6"
  }
 },
 "nbformat": 4,
 "nbformat_minor": 5
}
