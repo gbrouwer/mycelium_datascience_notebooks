{
 "cells": [
  {
   "cell_type": "code",
   "execution_count": 1,
   "id": "371df1f8",
   "metadata": {},
   "outputs": [],
   "source": [
    "import numpy as np\n",
    "import os\n",
    "import sys\n",
    "import json\n",
    "import pickle\n",
    "import re\n",
    "import pandas as pd\n",
    "import matplotlib.pyplot as plt\n",
    "from tqdm import tqdm\n",
    "from sklearn.decomposition import PCA\n",
    "from bs4 import BeautifulSoup"
   ]
  },
  {
   "cell_type": "markdown",
   "id": "1175f835",
   "metadata": {},
   "source": [
    "### Read Stopwords"
   ]
  },
  {
   "cell_type": "code",
   "execution_count": 21,
   "id": "79f52d7c",
   "metadata": {},
   "outputs": [],
   "source": [
    "stopwords = []\n",
    "with open('../../data/meta/stopwords','r') as f:\n",
    "    for line in f:\n",
    "        stopwords.append(line.rstrip())"
   ]
  },
  {
   "cell_type": "markdown",
   "id": "e8d4e8f5",
   "metadata": {},
   "source": [
    "### Read Primary Websites"
   ]
  },
  {
   "cell_type": "code",
   "execution_count": null,
   "id": "24936b2a",
   "metadata": {},
   "outputs": [],
   "source": [
    "primary_list = []\n",
    "with open('../../data/cancer_corpus/primary_list','r') as f:\n",
    "    for line in f:\n",
    "        primary_list.append(line.rstrip())"
   ]
  },
  {
   "cell_type": "markdown",
   "id": "ce64923b",
   "metadata": {},
   "source": [
    "### Download primary HTML"
   ]
  },
  {
   "cell_type": "code",
   "execution_count": null,
   "id": "15e71d82",
   "metadata": {},
   "outputs": [],
   "source": [
    "for item in primary_list:\n",
    "    cmd = 'wget ' + item\n",
    "    os.system(cmd)"
   ]
  },
  {
   "cell_type": "markdown",
   "id": "7f5768d9",
   "metadata": {},
   "source": [
    "### Read Full List"
   ]
  },
  {
   "cell_type": "code",
   "execution_count": 4,
   "id": "27697cd4",
   "metadata": {},
   "outputs": [],
   "source": [
    "full_list = []\n",
    "with open('../../data/cancer_corpus/merged-file','r') as f:\n",
    "    for line in f:\n",
    "        full_list.append(line.rstrip())"
   ]
  },
  {
   "cell_type": "markdown",
   "id": "02c397db",
   "metadata": {},
   "source": [
    "### Download all HTML"
   ]
  },
  {
   "cell_type": "code",
   "execution_count": 7,
   "id": "1f5017ba",
   "metadata": {},
   "outputs": [],
   "source": [
    "for i,item in enumerate(full_list):\n",
    "    cmd = 'wget -O ' + str(i) + ' ' + item\n",
    "    print(cmd)\n",
    "    os.system(cmd)"
   ]
  },
  {
   "cell_type": "markdown",
   "id": "f22faa3f",
   "metadata": {},
   "source": [
    "### Extract all text"
   ]
  },
  {
   "cell_type": "code",
   "execution_count": 24,
   "id": "1cb46dda",
   "metadata": {},
   "outputs": [
    {
     "name": "stderr",
     "output_type": "stream",
     "text": [
      "765it [00:15, 50.52it/s]\n"
     ]
    }
   ],
   "source": [
    "corpus = []\n",
    "for i,item in tqdm(enumerate(full_list)):\n",
    "    filename = '../../data/cancer_corpus/htmltext/' + str(i)\n",
    "    doc = ''\n",
    "    with open(filename) as fp:\n",
    "        soup = BeautifulSoup(fp, 'html.parser')\n",
    "        for para in soup.find_all(\"p\"):\n",
    "            doc = doc + ' ' + para.get_text()\n",
    "    corpus.append(doc)"
   ]
  },
  {
   "cell_type": "markdown",
   "id": "13f11dca",
   "metadata": {},
   "source": [
    "### Clean"
   ]
  },
  {
   "cell_type": "code",
   "execution_count": 29,
   "id": "90871311",
   "metadata": {},
   "outputs": [
    {
     "name": "stderr",
     "output_type": "stream",
     "text": [
      "100%|██████████████████████████████████████████████████████████████████████████████████| 765/765 [00:02<00:00, 357.22it/s]\n"
     ]
    }
   ],
   "source": [
    "corpus_clean = []\n",
    "for i in tqdm(range(len(corpus))):\n",
    "    \n",
    "    #Doc\n",
    "    doc = corpus[i]\n",
    "    doc = doc.replace(\"'s\",\"\")\n",
    "    doc = doc.replace(\"'\",\"\")\n",
    "    doc = re.sub(r'[^a-zA-Z]',' ', doc)\n",
    "    doc = doc.lower()\n",
    "    words = doc.split(' ')\n",
    "    words = [word for word in words if len(word) > 0]\n",
    "    words = [word for word in words if word not in stopwords]\n",
    "    doc = ' '.join(words)\n",
    "    corpus_clean.append(doc)\n"
   ]
  },
  {
   "cell_type": "markdown",
   "id": "5b516b49",
   "metadata": {},
   "source": [
    "### Store"
   ]
  },
  {
   "cell_type": "code",
   "execution_count": 34,
   "id": "d50ff8b8",
   "metadata": {},
   "outputs": [],
   "source": [
    "data = {}\n",
    "data['corpus'] = corpus_clean\n",
    "pickle.dump( data, open( \"../../data/cancer_corpus/pickle/corpus.p\", \"wb\"))"
   ]
  }
 ],
 "metadata": {
  "kernelspec": {
   "display_name": "Python 3 (ipykernel)",
   "language": "python",
   "name": "python3"
  },
  "language_info": {
   "codemirror_mode": {
    "name": "ipython",
    "version": 3
   },
   "file_extension": ".py",
   "mimetype": "text/x-python",
   "name": "python",
   "nbconvert_exporter": "python",
   "pygments_lexer": "ipython3",
   "version": "3.10.6"
  }
 },
 "nbformat": 4,
 "nbformat_minor": 5
}
