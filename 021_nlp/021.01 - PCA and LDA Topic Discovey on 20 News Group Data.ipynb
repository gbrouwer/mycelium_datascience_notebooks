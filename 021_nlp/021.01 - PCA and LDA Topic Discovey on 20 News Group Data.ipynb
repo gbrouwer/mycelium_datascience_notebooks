{
 "cells": [
  {
   "cell_type": "code",
   "execution_count": 203,
   "id": "371df1f8",
   "metadata": {},
   "outputs": [],
   "source": [
    "import numpy as np\n",
    "import os\n",
    "import sys\n",
    "import json\n",
    "import pickle\n",
    "import re\n",
    "import pandas as pd\n",
    "import matplotlib.pyplot as plt\n",
    "import nltk\n",
    "import io\n",
    "from tqdm import tqdm\n",
    "from sklearn.decomposition import PCA\n",
    "from bs4 import BeautifulSoup\n",
    "from nltk.corpus import wordnet as wn\n",
    "from tabulate import tabulate\n",
    "from sklearn.decomposition import LatentDirichletAllocation\n",
    "from sklearn.datasets import make_multilabel_classification"
   ]
  },
  {
   "cell_type": "markdown",
   "id": "edf08250",
   "metadata": {},
   "source": [
    "### Read Stopwords"
   ]
  },
  {
   "cell_type": "code",
   "execution_count": 204,
   "id": "fb780d5d",
   "metadata": {},
   "outputs": [],
   "source": [
    "stopwords = []\n",
    "with open('../../data/meta/stopwords','r') as f:\n",
    "    for line in f:\n",
    "        stopwords.append(line.rstrip())"
   ]
  },
  {
   "cell_type": "markdown",
   "id": "e8d4e8f5",
   "metadata": {},
   "source": [
    "### Read Primary Websites"
   ]
  },
  {
   "cell_type": "code",
   "execution_count": null,
   "id": "24936b2a",
   "metadata": {},
   "outputs": [],
   "source": [
    "primary_list = []\n",
    "with open('../../data/cancer_corpus/primary_list','r') as f:\n",
    "    for line in f:\n",
    "        primary_list.append(line.rstrip())"
   ]
  },
  {
   "cell_type": "markdown",
   "id": "ce64923b",
   "metadata": {},
   "source": [
    "### Download primary HTML"
   ]
  },
  {
   "cell_type": "code",
   "execution_count": null,
   "id": "15e71d82",
   "metadata": {},
   "outputs": [],
   "source": [
    "for item in primary_list:\n",
    "    cmd = 'wget ' + item\n",
    "    os.system(cmd)"
   ]
  },
  {
   "cell_type": "markdown",
   "id": "7f5768d9",
   "metadata": {},
   "source": [
    "### Read Full List"
   ]
  },
  {
   "cell_type": "code",
   "execution_count": 2,
   "id": "27697cd4",
   "metadata": {},
   "outputs": [],
   "source": [
    "full_list = []\n",
    "with open('../../data/cancer_corpus/merged-file','r') as f:\n",
    "    for line in f:\n",
    "        full_list.append(line.rstrip())"
   ]
  },
  {
   "cell_type": "markdown",
   "id": "8cbe2780",
   "metadata": {},
   "source": [
    "### Download all HTML"
   ]
  },
  {
   "cell_type": "code",
   "execution_count": 3,
   "id": "c2aa3baa",
   "metadata": {},
   "outputs": [],
   "source": [
    "# for i,item in enumerate(full_list):\n",
    "#     cmd = 'wget -O ' + str(i) + ' ' + item\n",
    "#     print(cmd)\n",
    "#     os.system(cmd)"
   ]
  },
  {
   "cell_type": "markdown",
   "id": "f22faa3f",
   "metadata": {},
   "source": [
    "### Extract all text"
   ]
  },
  {
   "cell_type": "code",
   "execution_count": 24,
   "id": "1cb46dda",
   "metadata": {},
   "outputs": [
    {
     "name": "stderr",
     "output_type": "stream",
     "text": [
      "765it [00:14, 51.07it/s]\n"
     ]
    }
   ],
   "source": [
    "corpus = []\n",
    "for i,item in tqdm(enumerate(full_list)):\n",
    "    filename = '../../data/cancer_corpus/htmltext/' + str(i)\n",
    "    doc = ''\n",
    "    with open(filename) as fp:\n",
    "        soup = BeautifulSoup(fp, 'html.parser')\n",
    "        for para in soup.find_all(\"p\"):\n",
    "            doc = doc + ' ' + para.get_text()\n",
    "    corpus.append(doc)"
   ]
  },
  {
   "cell_type": "markdown",
   "id": "07f6c012",
   "metadata": {},
   "source": [
    "### Clean"
   ]
  },
  {
   "cell_type": "code",
   "execution_count": 45,
   "id": "90871311",
   "metadata": {},
   "outputs": [
    {
     "name": "stderr",
     "output_type": "stream",
     "text": [
      "100%|████████████████████████████████████████| 765/765 [00:02<00:00, 342.62it/s]\n"
     ]
    }
   ],
   "source": [
    "corpus_clean = []\n",
    "for i in tqdm(range(len(corpus))):\n",
    "    doc = corpus[i]\n",
    "    doc = doc.replace(\"'s\",\"\")\n",
    "    doc = doc.replace(\"'\",\"\")\n",
    "    doc = re.sub(r'[^a-zA-Z]',' ', doc)\n",
    "    doc = doc.lower()\n",
    "    words = doc.split(' ')\n",
    "    words = [word for word in words if len(word) > 0]\n",
    "    words = [word for word in words if word not in stopwords]\n",
    "    doc = ' '.join(words)\n",
    "    corpus_clean.append(doc)"
   ]
  },
  {
   "cell_type": "markdown",
   "id": "d17556ea",
   "metadata": {},
   "source": [
    "### Store"
   ]
  },
  {
   "cell_type": "code",
   "execution_count": 46,
   "id": "d50ff8b8",
   "metadata": {},
   "outputs": [],
   "source": [
    "data = {}\n",
    "data['corpus'] = corpus_clean\n",
    "pickle.dump( data, open( \"../../data/cancer_corpus/pickle/corpus.p\", \"wb\"))"
   ]
  },
  {
   "cell_type": "markdown",
   "id": "063be821",
   "metadata": {},
   "source": [
    "### Corpus to Dictionary"
   ]
  },
  {
   "cell_type": "code",
   "execution_count": 57,
   "id": "3e702d3e",
   "metadata": {},
   "outputs": [],
   "source": [
    "D = {}\n",
    "for doc in corpus_clean:\n",
    "    words = doc.split(' ')\n",
    "    for word in words:\n",
    "        if word in D:\n",
    "            value = D[word]\n",
    "            D[word] = value + 1\n",
    "        else:\n",
    "            D[word] = 1"
   ]
  },
  {
   "cell_type": "markdown",
   "id": "da9cf938",
   "metadata": {},
   "source": [
    "### Create Matrices C, B"
   ]
  },
  {
   "cell_type": "code",
   "execution_count": 178,
   "id": "2a0cdc23",
   "metadata": {},
   "outputs": [],
   "source": [
    "terms = list(D.keys())\n",
    "counts = list(D.values())\n",
    "C = np.zeros((len(corpus_clean),len(terms)))\n",
    "B = np.zeros((len(corpus_clean),len(terms)))\n",
    "for d,doc in enumerate(corpus_clean):\n",
    "    words = doc.split(' ')\n",
    "    for word in words:\n",
    "        if word in terms:\n",
    "            index = terms.index(word)\n",
    "            B[d,index] = 1\n",
    "            C[d,index] = C[d,index] + 1"
   ]
  },
  {
   "cell_type": "markdown",
   "id": "a5bff995",
   "metadata": {},
   "source": [
    "### Create TFiDF"
   ]
  },
  {
   "cell_type": "code",
   "execution_count": 183,
   "id": "447a4468",
   "metadata": {},
   "outputs": [],
   "source": [
    "TF = C\n",
    "iDF = 1 - (np.sum(B,axis=0) / len(corpus))\n",
    "iDF = np.tile(iDF,(len(corpus),1))\n",
    "TFiDF = TF * iDF"
   ]
  },
  {
   "cell_type": "markdown",
   "id": "6c9b032d",
   "metadata": {},
   "source": [
    "### PCA on all"
   ]
  },
  {
   "cell_type": "code",
   "execution_count": 184,
   "id": "c7a3c065",
   "metadata": {},
   "outputs": [],
   "source": [
    "no_components = 5\n",
    "pca_binary = PCA(n_components=5);\n",
    "pca_binary.fit_transform(B);\n",
    "\n",
    "pca_tf = PCA(n_components=5);\n",
    "pca_tf.fit_transform(C);\n",
    "\n",
    "pca_tfidf = PCA(n_components=5);\n",
    "pca_tfidf.fit_transform(TFiDF);"
   ]
  },
  {
   "cell_type": "markdown",
   "id": "c7357929",
   "metadata": {},
   "source": [
    "### Plot Explained Variance"
   ]
  },
  {
   "cell_type": "code",
   "execution_count": 186,
   "id": "67791d70",
   "metadata": {},
   "outputs": [
    {
     "data": {
      "image/png": "[encoded data removed]",
      "text/plain": [
       "<Figure size 640x480 with 1 Axes>"
      ]
     },
     "metadata": {},
     "output_type": "display_data"
    }
   ],
   "source": [
    "plt.plot(pca_tf.explained_variance_ratio_,'r');\n",
    "plt.plot(pca_binary.explained_variance_ratio_,'g');\n",
    "plt.plot(pca_tfidf.explained_variance_ratio_,'b');"
   ]
  },
  {
   "cell_type": "markdown",
   "id": "53158629",
   "metadata": {},
   "source": [
    "### Visualize Topics for all methods"
   ]
  },
  {
   "cell_type": "code",
   "execution_count": 139,
   "id": "3f3b7c88",
   "metadata": {},
   "outputs": [
    {
     "name": "stdout",
     "output_type": "stream",
     "text": [
      "╒════╤═══════════╤═══════════╤════════════╤═══════════╤════════════╕\n",
      "│    │ Topic 1   │ Topic 2   │ Topic 3    │ Topic 4   │ Topic 5    │\n",
      "╞════╪═══════════╪═══════════╪════════════╪═══════════╪════════════╡\n",
      "│  0 │ cells     │ attending │ cancer     │ breast    │ treatment  │\n",
      "├────┼───────────┼───────────┼────────────┼───────────┼────────────┤\n",
      "│  1 │ blood     │ assistant │ breast     │ radiation │ learn      │\n",
      "├────┼───────────┼───────────┼────────────┼───────────┼────────────┤\n",
      "│  2 │ people    │ physician │ colon      │ tumor     │ pain       │\n",
      "├────┼───────────┼───────────┼────────────┼───────────┼────────────┤\n",
      "│  3 │ symptoms  │ director  │ attending  │ surgery   │ care       │\n",
      "├────┼───────────┼───────────┼────────────┼───────────┼────────────┤\n",
      "│  4 │ tumors    │ associate │ risk       │ tissue    │ support    │\n",
      "├────┼───────────┼───────────┼────────────┼───────────┼────────────┤\n",
      "│  5 │ called    │ chair     │ physician  │ tumors    │ services   │\n",
      "├────┼───────────┼───────────┼────────────┼───────────┼────────────┤\n",
      "│  6 │ tests     │ oncology  │ rectal     │ cells     │ counseling │\n",
      "├────┼───────────┼───────────┼────────────┼───────────┼────────────┤\n",
      "│  7 │ risk      │ chief     │ assistant  │ women     │ program    │\n",
      "├────┼───────────┼───────────┼────────────┼───────────┼────────────┤\n",
      "│  8 │ include   │ brain     │ stage      │ lymph     │ radiation  │\n",
      "├────┼───────────┼───────────┼────────────┼───────────┼────────────┤\n",
      "│  9 │ type      │ vice      │ colorectal │ spread    │ team       │\n",
      "╘════╧═══════════╧═══════════╧════════════╧═══════════╧════════════╛\n"
     ]
    }
   ],
   "source": [
    "table = np.zeros((11,no_components)).astype('str')\n",
    "terms = np.array(terms)\n",
    "for i in range(no_components):\n",
    "    component = pca_tf.components_[i,:]\n",
    "    indices = np.argsort(component)\n",
    "    table[0,i] = 'Topic ' + str(i+1)\n",
    "    for j,index in enumerate(indices[:10]):\n",
    "        table[j+1,i] = (terms[index])\n",
    "print(tabulate(table, headers='firstrow', showindex=True,tablefmt='fancy_grid'))"
   ]
  },
  {
   "cell_type": "code",
   "execution_count": 140,
   "id": "307fc836",
   "metadata": {},
   "outputs": [
    {
     "name": "stdout",
     "output_type": "stream",
     "text": [
      "╒════╤═══════════╤═══════════╤═══════════╤════════════╤═══════════╕\n",
      "│    │ Topic 1   │ Topic 2   │ Topic 3   │ Topic 4    │ Topic 5   │\n",
      "╞════╪═══════════╪═══════════╪═══════════╪════════════╪═══════════╡\n",
      "│  0 │ called    │ previous  │ symptoms  │ diagnosed  │ remove    │\n",
      "├────┼───────────┼───────────┼───────────┼────────────┼───────────┤\n",
      "│  1 │ tumor     │ physician │ called    │ cancers    │ procedure │\n",
      "├────┼───────────┼───────────┼───────────┼────────────┼───────────┤\n",
      "│  2 │ spread    │ assistant │ doctor    │ early      │ surgeons  │\n",
      "├────┼───────────┼───────────┼───────────┼────────────┼───────────┤\n",
      "│  3 │ type      │ chair     │ common    │ types      │ tissue    │\n",
      "├────┼───────────┼───────────┼───────────┼────────────┼───────────┤\n",
      "│  4 │ tumors    │ attending │ body      │ disease    │ minimally │\n",
      "├────┼───────────┼───────────┼───────────┼────────────┼───────────┤\n",
      "│  5 │ tissue    │ associate │ risk      │ women      │ invasive  │\n",
      "├────┼───────────┼───────────┼───────────┼────────────┼───────────┤\n",
      "│  6 │ cancers   │ education │ include   │ condition  │ surgeon   │\n",
      "├────┼───────────┼───────────┼───────────┼────────────┼───────────┤\n",
      "│  7 │ small     │ director  │ type      │ microscope │ imaging   │\n",
      "├────┼───────────┼───────────┼───────────┼────────────┼───────────┤\n",
      "│  8 │ advanced  │ vice      │ tests     │ year       │ small     │\n",
      "├────┼───────────┼───────────┼───────────┼────────────┼───────────┤\n",
      "│  9 │ stage     │ training  │ blood     │ stage      │ surgical  │\n",
      "╘════╧═══════════╧═══════════╧═══════════╧════════════╧═══════════╛\n"
     ]
    }
   ],
   "source": [
    "table = np.zeros((11,no_components)).astype('str')\n",
    "terms = np.array(terms)\n",
    "for i in range(no_components):\n",
    "    component = pca_binary.components_[i,:]\n",
    "    indices = np.argsort(component)\n",
    "    table[0,i] = 'Topic ' + str(i+1)\n",
    "    for j,index in enumerate(indices[:10]):\n",
    "        table[j+1,i] = (terms[index])\n",
    "print(tabulate(table, headers='firstrow', showindex=True,tablefmt='fancy_grid'))"
   ]
  },
  {
   "cell_type": "code",
   "execution_count": 187,
   "id": "6b3da94c",
   "metadata": {},
   "outputs": [
    {
     "name": "stdout",
     "output_type": "stream",
     "text": [
      "╒════╤══════════════╤════════════════╤══════════════════╤════════════╤═══════════╕\n",
      "│    │ Topic 1      │ Topic 2        │ Topic 3          │ Topic 4    │ Topic 5   │\n",
      "╞════╪══════════════╪════════════════╪══════════════════╪════════════╪═══════════╡\n",
      "│  0 │ tumors       │ breast         │ physician        │ breast     │ melanoma  │\n",
      "├────┼──────────────┼────────────────┼──────────────────┼────────────┼───────────┤\n",
      "│  1 │ risk         │ women          │ assistant        │ attending  │ stage     │\n",
      "├────┼──────────────┼────────────────┼──────────────────┼────────────┼───────────┤\n",
      "│  2 │ blood        │ learn          │ attending        │ physician  │ tumors    │\n",
      "├────┼──────────────┼────────────────┼──────────────────┼────────────┼───────────┤\n",
      "│  3 │ symptoms     │ tissue         │ chair            │ mastectomy │ spread    │\n",
      "├────┼──────────────┼────────────────┼──────────────────┼────────────┼───────────┤\n",
      "│  4 │ tumor        │ pain           │ bile             │ assistant  │ cell      │\n",
      "├────┼──────────────┼────────────────┼──────────────────┼────────────┼───────────┤\n",
      "│  5 │ called       │ mastectomy     │ pancreatic       │ protocol   │ tumor     │\n",
      "├────┼──────────────┼────────────────┼──────────────────┼────────────┼───────────┤\n",
      "│  6 │ people       │ reconstruction │ gastrointestinal │ study      │ liver     │\n",
      "├────┼──────────────┼────────────────┼──────────────────┼────────────┼───────────┤\n",
      "│  7 │ chemotherapy │ screening      │ practitioner     │ phase      │ attending │\n",
      "├────┼──────────────┼────────────────┼──────────────────┼────────────┼───────────┤\n",
      "│  8 │ spread       │ tumor          │ blood            │ screening  │ blood     │\n",
      "├────┼──────────────┼────────────────┼──────────────────┼────────────┼───────────┤\n",
      "│  9 │ tissue       │ colon          │ nurse            │ women      │ tissue    │\n",
      "╘════╧══════════════╧════════════════╧══════════════════╧════════════╧═══════════╛\n"
     ]
    }
   ],
   "source": [
    "table = np.zeros((11,no_components)).astype('str')\n",
    "terms = np.array(terms)\n",
    "for i in range(no_components):\n",
    "    component = pca_tfidf.components_[i,:]\n",
    "    indices = np.argsort(component)\n",
    "    table[0,i] = 'Topic ' + str(i+1)\n",
    "    for j,index in enumerate(indices[:10]):\n",
    "        table[j+1,i] = (terms[index])\n",
    "print(tabulate(table, headers='firstrow', showindex=True,tablefmt='fancy_grid'))"
   ]
  },
  {
   "cell_type": "markdown",
   "id": "3be2c307",
   "metadata": {},
   "source": [
    "### Store for Google Embedder"
   ]
  },
  {
   "cell_type": "code",
   "execution_count": 192,
   "id": "636db331",
   "metadata": {},
   "outputs": [],
   "source": [
    "weights = pca_tf.components_.T\n",
    "vocab = terms\n",
    "out_v = io.open('pca_vectors.tsv', 'w', encoding='utf-8')\n",
    "out_m = io.open('pca_metadata.tsv', 'w', encoding='utf-8')\n",
    "for index, word in enumerate(vocab):\n",
    "    if index == 0:\n",
    "        continue  \n",
    "    vec = weights[index]\n",
    "    out_v.write('\\t'.join([str(x) for x in vec]) + \"\\n\")\n",
    "    out_m.write(word + \"\\n\")\n",
    "out_v.close()\n",
    "out_m.close()"
   ]
  },
  {
   "cell_type": "markdown",
   "id": "e8eea94d",
   "metadata": {},
   "source": [
    "### LDA"
   ]
  },
  {
   "cell_type": "code",
   "execution_count": 201,
   "id": "41901f2e",
   "metadata": {},
   "outputs": [],
   "source": [
    "lda = LatentDirichletAllocation(n_components=5,random_state=0)\n",
    "S = lda.fit_transform(C.T).T"
   ]
  },
  {
   "cell_type": "code",
   "execution_count": 202,
   "id": "2e546df6",
   "metadata": {},
   "outputs": [
    {
     "name": "stdout",
     "output_type": "stream",
     "text": [
      "╒════╤═══════════╤═══════════╤═══════════╤═══════════╤═══════════╕\n",
      "│    │ Topic 1   │ Topic 2   │ Topic 3   │ Topic 4   │ Topic 5   │\n",
      "╞════╪═══════════╪═══════════╪═══════════╪═══════════╪═══════════╡\n",
      "│  0 │ tumor     │ risk      │ radiation │ attending │ tumor     │\n",
      "├────┼───────────┼───────────┼───────────┼───────────┼───────────┤\n",
      "│  1 │ attending │ called    │ surgery   │ breast    │ attending │\n",
      "├────┼───────────┼───────────┼───────────┼───────────┼───────────┤\n",
      "│  2 │ tumors    │ tissue    │ attending │ assistant │ tumors    │\n",
      "├────┼───────────┼───────────┼───────────┼───────────┼───────────┤\n",
      "│  3 │ breast    │ symptoms  │ therapy   │ physician │ assistant │\n",
      "├────┼───────────┼───────────┼───────────┼───────────┼───────────┤\n",
      "│  4 │ assistant │ blood     │ breast    │ director  │ physician │\n",
      "├────┼───────────┼───────────┼───────────┼───────────┼───────────┤\n",
      "│  5 │ director  │ spread    │ assistant │ symptoms  │ director  │\n",
      "├────┼───────────┼───────────┼───────────┼───────────┼───────────┤\n",
      "│  6 │ physician │ pain      │ physician │ chair     │ clinical  │\n",
      "├────┼───────────┼───────────┼───────────┼───────────┼───────────┤\n",
      "│  7 │ called    │ doctor    │ director  │ program   │ chair     │\n",
      "├────┼───────────┼───────────┼───────────┼───────────┼───────────┤\n",
      "│  8 │ clinical  │ stage     │ surgeon   │ service   │ medical   │\n",
      "├────┼───────────┼───────────┼───────────┼───────────┼───────────┤\n",
      "│  9 │ tissue    │ type      │ chair     │ melanoma  │ pain      │\n",
      "╘════╧═══════════╧═══════════╧═══════════╧═══════════╧═══════════╛\n"
     ]
    }
   ],
   "source": [
    "table = np.zeros((11,no_components)).astype('str')\n",
    "terms = np.array(terms)\n",
    "for i in range(no_components):\n",
    "    component = S[i,:]\n",
    "    indices = np.argsort(component)\n",
    "    table[0,i] = 'Topic ' + str(i+1)\n",
    "    for j,index in enumerate(indices[:10]):\n",
    "        table[j+1,i] = (terms[index])\n",
    "print(tabulate(table, headers='firstrow', showindex=True,tablefmt='fancy_grid'))"
   ]
  },
  {
   "cell_type": "code",
   "execution_count": 200,
   "id": "353a0a85",
   "metadata": {},
   "outputs": [
    {
     "data": {
      "text/plain": [
       "(5, 7127)"
      ]
     },
     "execution_count": 200,
     "metadata": {},
     "output_type": "execute_result"
    }
   ],
   "source": [
    "pca_binary.components_.shape"
   ]
  },
  {
   "cell_type": "code",
   "execution_count": null,
   "id": "ad1c73a7",
   "metadata": {},
   "outputs": [],
   "source": []
  }
 ],
 "metadata": {
  "kernelspec": {
   "display_name": "Python 3 (ipykernel)",
   "language": "python",
   "name": "python3"
  },
  "language_info": {
   "codemirror_mode": {
    "name": "ipython",
    "version": 3
   },
   "file_extension": ".py",
   "mimetype": "text/x-python",
   "name": "python",
   "nbconvert_exporter": "python",
   "pygments_lexer": "ipython3",
   "version": "3.10.6"
  }
 },
 "nbformat": 4,
 "nbformat_minor": 5
}
