{
 "cells": [
  {
   "cell_type": "markdown",
   "id": "dca50eb5",
   "metadata": {},
   "source": [
    "### Import"
   ]
  },
  {
   "cell_type": "code",
   "execution_count": 1,
   "id": "fd56fb2b",
   "metadata": {},
   "outputs": [],
   "source": [
    "import pandas as pd\n",
    "import gensim\n",
    "import numpy as np\n",
    "import re, string\n",
    "import warnings\n",
    "import tensorflow as tf\n",
    "import matplotlib.pyplot as plt\n",
    "from tqdm import tqdm\n",
    "from __future__ import absolute_import, division, print_function, unicode_literals\n",
    "from sklearn.manifold import TSNE\n",
    "from sklearn import preprocessing\n",
    "warnings.filterwarnings(action='ignore')"
   ]
  },
  {
   "cell_type": "markdown",
   "id": "68ef7193",
   "metadata": {},
   "source": [
    "### Word2Vec Model"
   ]
  },
  {
   "cell_type": "code",
   "execution_count": 2,
   "id": "39232e15",
   "metadata": {},
   "outputs": [],
   "source": [
    "class Word2Vec:\n",
    "    \n",
    "    def __init__(self, vocab_size=0, embedding_dim=16, optimizer='sgd', epochs=10000):\n",
    "        self.vocab_size=vocab_size\n",
    "        self.embedding_dim=5\n",
    "        self.epochs=epochs\n",
    "        if optimizer=='adam':\n",
    "            self.optimizer = tf.optimizers.Adam()\n",
    "        else:\n",
    "            self.optimizer = tf.optimizers.SGD(learning_rate=0.1)\n",
    "\n",
    "    def train(self, x_train=None, y_train=None):\n",
    "        self.W1 = tf.Variable(tf.random.normal([self.vocab_size, self.embedding_dim]))\n",
    "        self.b1 = tf.Variable(tf.random.normal([self.embedding_dim])) #bias\n",
    "        self.W2 = tf.Variable(tf.random.normal([self.embedding_dim, self.vocab_size]))\n",
    "        self.b2 = tf.Variable(tf.random.normal([self.vocab_size]))\n",
    "        for _ in range(self.epochs):\n",
    "            with tf.GradientTape() as t:\n",
    "                hidden_layer = tf.add(tf.matmul(x_train,self.W1),self.b1)\n",
    "                output_layer = tf.nn.softmax(tf.add( tf.matmul(hidden_layer, self.W2), self.b2))\n",
    "                cross_entropy_loss = tf.reduce_mean(\n",
    "                    -tf.math.reduce_sum(y_train * tf.math.log(output_layer), axis=[1]))\n",
    "            grads = t.gradient(cross_entropy_loss, [self.W1, self.b1, self.W2, self.b2])\n",
    "            self.optimizer.apply_gradients(zip(grads,[self.W1, self.b1, self.W2, self.b2]))\n",
    "        if(_ % 1000 == 0):\n",
    "            print(cross_entropy_loss)\n",
    "\n",
    "    def vectorized(self, word_idx):\n",
    "        return (self.W1+self.b1)[word_idx]"
   ]
  },
  {
   "cell_type": "markdown",
   "id": "29524d46",
   "metadata": {},
   "source": [
    "### Load Corpus"
   ]
  },
  {
   "cell_type": "code",
   "execution_count": 3,
   "id": "30957685",
   "metadata": {},
   "outputs": [],
   "source": [
    "fullstr = ''\n",
    "with open('../../data/books/mobydick','r') as f:\n",
    "    for line in f:\n",
    "        line = line.rstrip().lower()\n",
    "        line = re.sub(r'[^a-zA-Z.]',' ', line)\n",
    "        line = line.lower()\n",
    "        fullstr = fullstr + ' ' + line\n",
    "raw_sentences = fullstr.split('.')\n",
    "sentences = []\n",
    "for sentence in raw_sentences:\n",
    "    sentences.append(sentence.split())"
   ]
  },
  {
   "cell_type": "markdown",
   "id": "1ad11422",
   "metadata": {},
   "source": [
    "### Create the data "
   ]
  },
  {
   "cell_type": "code",
   "execution_count": 4,
   "id": "56d01f69",
   "metadata": {},
   "outputs": [
    {
     "name": "stderr",
     "output_type": "stream",
     "text": [
      "100%|████████████████████████████████████| 7367/7367 [00:00<00:00, 14193.21it/s]\n"
     ]
    }
   ],
   "source": [
    "data = []\n",
    "WINDOW_SIZE = 2\n",
    "for sentence in tqdm(sentences):\n",
    "    for word_index, word in enumerate(sentence):\n",
    "        for nb_word in sentence[max(word_index - WINDOW_SIZE, 0) : min(word_index + WINDOW_SIZE, len(sentence)) + 1] :\n",
    "            if nb_word != word:\n",
    "                data.append([word, nb_word])"
   ]
  },
  {
   "cell_type": "markdown",
   "id": "6f84479e",
   "metadata": {},
   "source": [
    "### Build dictionaries"
   ]
  },
  {
   "cell_type": "code",
   "execution_count": 5,
   "id": "8d8127ed",
   "metadata": {},
   "outputs": [],
   "source": [
    "words = []\n",
    "for word in fullstr.split():\n",
    "    if word != '.': \n",
    "        if (word[-1] == '.'):\n",
    "            word = word[:-1]\n",
    "        words.append(word)\n",
    "words = set(words)\n",
    "word2int = {}\n",
    "int2word = {}\n",
    "vocab_size = len(words) \n",
    "for i,word in enumerate(words):\n",
    "    word2int[word] = i\n",
    "    int2word[i] = word"
   ]
  },
  {
   "cell_type": "markdown",
   "id": "bafc5910",
   "metadata": {},
   "source": [
    "### To One Hot Vectors"
   ]
  },
  {
   "cell_type": "code",
   "execution_count": null,
   "id": "4e9bde65",
   "metadata": {},
   "outputs": [],
   "source": [
    "def to_one_hot(data_point_index, vocab_size):\n",
    "    temp = np.zeros(vocab_size)\n",
    "    temp[data_point_index] = 1\n",
    "    return temp\n",
    "x_train = [] \n",
    "y_train = []\n",
    "for data_word in data:\n",
    "    x_train.append(to_one_hot(word2int[ data_word[0] ], vocab_size))\n",
    "    y_train.append(to_one_hot(word2int[ data_word[1] ], vocab_size))\n",
    "x_train = np.asarray(x_train, dtype='float32')\n",
    "y_train = np.asarray(y_train, dtype='float32')    "
   ]
  },
  {
   "cell_type": "markdown",
   "id": "1db66544",
   "metadata": {},
   "source": [
    "### Training"
   ]
  },
  {
   "cell_type": "code",
   "execution_count": 17,
   "id": "3195c35d",
   "metadata": {},
   "outputs": [
    {
     "name": "stdout",
     "output_type": "stream",
     "text": [
      "Metal device set to: Apple M2\n"
     ]
    },
    {
     "name": "stderr",
     "output_type": "stream",
     "text": [
      "2023-02-01 13:00:16.749837: I tensorflow/core/common_runtime/pluggable_device/pluggable_device_factory.cc:306] Could not identify NUMA node of platform GPU ID 0, defaulting to 0. Your kernel may not have been built with NUMA support.\n",
      "2023-02-01 13:00:16.750591: I tensorflow/core/common_runtime/pluggable_device/pluggable_device_factory.cc:272] Created TensorFlow device (/job:localhost/replica:0/task:0/device:GPU:0 with 0 MB memory) -> physical PluggableDevice (device: 0, name: METAL, pci bus id: <undefined>)\n"
     ]
    }
   ],
   "source": [
    "w2v = Word2Vec(vocab_size=vocab_size, optimizer='adam', epochs=10000)\n",
    "w2v.train(x_train, y_train)"
   ]
  },
  {
   "cell_type": "markdown",
   "id": "ff657596",
   "metadata": {},
   "source": [
    "### Get all vectors"
   ]
  },
  {
   "cell_type": "code",
   "execution_count": 38,
   "id": "0fa3f39b",
   "metadata": {},
   "outputs": [
    {
     "data": {
      "text/plain": [
       "(7, 5)"
      ]
     },
     "execution_count": 38,
     "metadata": {},
     "output_type": "execute_result"
    }
   ],
   "source": [
    "vectors = []\n",
    "for word in words:\n",
    "    vector = w2v.vectorized(word2int[word])\n",
    "    vectors.append(vector.numpy())\n",
    "vectors = np.array(vectors)\n",
    "vectors.shape"
   ]
  },
  {
   "cell_type": "markdown",
   "id": "9fe3c44a",
   "metadata": {},
   "source": [
    "### Create Manifold"
   ]
  },
  {
   "cell_type": "code",
   "execution_count": 39,
   "id": "d008e945",
   "metadata": {},
   "outputs": [],
   "source": [
    "model = TSNE(n_components=2, random_state=0,perplexity=5)\n",
    "np.set_printoptions(suppress=True)\n",
    "vectors = model.fit_transform(vectors)\n",
    "normalizer = preprocessing.Normalizer()\n",
    "vectors =  normalizer.fit_transform(vectors, 'l2')"
   ]
  },
  {
   "cell_type": "markdown",
   "id": "5451b68e",
   "metadata": {},
   "source": [
    "### Plot"
   ]
  },
  {
   "cell_type": "code",
   "execution_count": 40,
   "id": "12cbee58",
   "metadata": {},
   "outputs": [
    {
     "name": "stdout",
     "output_type": "stream",
     "text": [
      "the -0.6191737\n",
      "he 0.3678362\n",
      "king -0.23765941\n",
      "she -0.7682743\n",
      "queen -0.8808076\n",
      "is -0.98210204\n",
      "royal -0.06701836\n"
     ]
    },
    {
     "data": {
      "image/png": "[encoded data removed]",
      "text/plain": [
       "<Figure size 640x480 with 1 Axes>"
      ]
     },
     "metadata": {},
     "output_type": "display_data"
    }
   ],
   "source": [
    "import matplotlib.pyplot as plt\n",
    "fig, ax = plt.subplots()\n",
    "ax.set_xlim(left=-1, right=1)\n",
    "ax.set_ylim(bottom=-1, top=1)\n",
    "for word in words:\n",
    "    print(word, vectors[word2int[word]][1])\n",
    "    ax.annotate(word, (vectors[word2int[word]][0],vectors[word2int[word]][1] ))\n",
    "plt.show()"
   ]
  },
  {
   "cell_type": "code",
   "execution_count": null,
   "id": "36474948",
   "metadata": {},
   "outputs": [],
   "source": []
  }
 ],
 "metadata": {
  "kernelspec": {
   "display_name": "Python 3 (ipykernel)",
   "language": "python",
   "name": "python3"
  },
  "language_info": {
   "codemirror_mode": {
    "name": "ipython",
    "version": 3
   },
   "file_extension": ".py",
   "mimetype": "text/x-python",
   "name": "python",
   "nbconvert_exporter": "python",
   "pygments_lexer": "ipython3",
   "version": "3.10.6"
  }
 },
 "nbformat": 4,
 "nbformat_minor": 5
}
