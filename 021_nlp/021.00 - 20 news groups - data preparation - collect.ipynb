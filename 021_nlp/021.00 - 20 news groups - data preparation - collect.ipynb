{
 "cells": [
  {
   "cell_type": "markdown",
   "id": "d7fa1577",
   "metadata": {},
   "source": [
    "### import"
   ]
  },
  {
   "cell_type": "code",
   "execution_count": 6,
   "id": "00d95de5",
   "metadata": {},
   "outputs": [],
   "source": [
    "import numpy as np\n",
    "import os\n",
    "import sys\n",
    "import json\n",
    "import ssl\n",
    "import pickle\n",
    "import matplotlib.pyplot as plt\n",
    "from tqdm import tqdm\n",
    "from sklearn.datasets import fetch_20newsgroups"
   ]
  },
  {
   "cell_type": "markdown",
   "id": "4c4e6bca",
   "metadata": {},
   "source": [
    "### Download"
   ]
  },
  {
   "cell_type": "code",
   "execution_count": 33,
   "id": "119a4a8e",
   "metadata": {},
   "outputs": [],
   "source": [
    "ssl._create_default_https_context = ssl._create_unverified_context\n",
    "newsgroups_train = fetch_20newsgroups(subset='train')\n",
    "newsgroups_test = fetch_20newsgroups(subset='test')"
   ]
  },
  {
   "cell_type": "markdown",
   "id": "dc0358e5",
   "metadata": {},
   "source": [
    "### Compile"
   ]
  },
  {
   "cell_type": "code",
   "execution_count": 69,
   "id": "4cb1a676",
   "metadata": {},
   "outputs": [
    {
     "data": {
      "text/plain": [
       "'From: kerr@ux1.cso.uiuc.edu (Stan Kerr)'"
      ]
     },
     "execution_count": 69,
     "metadata": {},
     "output_type": "execute_result"
    }
   ],
   "source": [
    "for item in newsgroups_train['data'][:10]:\n",
    "    elements = item.split('\\n')\n",
    "    indices = np.where(len(elements) > 0)[0]\n",
    "index = np.where(elements )"
   ]
  },
  {
   "cell_type": "markdown",
   "id": "13366330",
   "metadata": {},
   "source": [
    "### Find All Files in Test and Train"
   ]
  },
  {
   "cell_type": "code",
   "execution_count": 2,
   "id": "9e1d70f9",
   "metadata": {},
   "outputs": [],
   "source": [
    "test_files = []\n",
    "train_files = []\n",
    "for root, dirs, files in os.walk(\"../../data/20_newsgroups/raw/test/\", topdown=False):\n",
    "    for name in files:\n",
    "        test_files.append(os.path.join(root, name))\n",
    "for root, dirs, files in os.walk(\"../../data/20_newsgroups/raw/train/\", topdown=False):\n",
    "    for name in files:\n",
    "        train_files.append(os.path.join(root, name))"
   ]
  },
  {
   "cell_type": "markdown",
   "id": "075d48ac",
   "metadata": {},
   "source": [
    "### Read Test and store"
   ]
  },
  {
   "cell_type": "code",
   "execution_count": 3,
   "id": "90e30d4d",
   "metadata": {},
   "outputs": [
    {
     "ename": "FileNotFoundError",
     "evalue": "[Errno 2] No such file or directory: '../../data/20newsgroups/pickle/test.p'",
     "output_type": "error",
     "traceback": [
      "\u001b[0;31m---------------------------------------------------------------------------\u001b[0m",
      "\u001b[0;31mFileNotFoundError\u001b[0m                         Traceback (most recent call last)",
      "Cell \u001b[0;32mIn[3], line 19\u001b[0m\n\u001b[1;32m     17\u001b[0m data[\u001b[38;5;124m'\u001b[39m\u001b[38;5;124mcorpus\u001b[39m\u001b[38;5;124m'\u001b[39m] \u001b[38;5;241m=\u001b[39m test_corpus\n\u001b[1;32m     18\u001b[0m data[\u001b[38;5;124m'\u001b[39m\u001b[38;5;124mcategory\u001b[39m\u001b[38;5;124m'\u001b[39m] \u001b[38;5;241m=\u001b[39m test_categories\n\u001b[0;32m---> 19\u001b[0m pickle\u001b[38;5;241m.\u001b[39mdump( data, \u001b[38;5;28;43mopen\u001b[39;49m\u001b[43m(\u001b[49m\u001b[43m \u001b[49m\u001b[38;5;124;43m\"\u001b[39;49m\u001b[38;5;124;43m../../data/20newsgroups/pickle/test.p\u001b[39;49m\u001b[38;5;124;43m\"\u001b[39;49m\u001b[43m,\u001b[49m\u001b[43m \u001b[49m\u001b[38;5;124;43m\"\u001b[39;49m\u001b[38;5;124;43mwb\u001b[39;49m\u001b[38;5;124;43m\"\u001b[39;49m\u001b[43m \u001b[49m\u001b[43m)\u001b[49m )\n",
      "File \u001b[0;32m/Library/Frameworks/Python.framework/Versions/3.10/lib/python3.10/site-packages/IPython/core/interactiveshell.py:282\u001b[0m, in \u001b[0;36m_modified_open\u001b[0;34m(file, *args, **kwargs)\u001b[0m\n\u001b[1;32m    275\u001b[0m \u001b[38;5;28;01mif\u001b[39;00m file \u001b[38;5;129;01min\u001b[39;00m {\u001b[38;5;241m0\u001b[39m, \u001b[38;5;241m1\u001b[39m, \u001b[38;5;241m2\u001b[39m}:\n\u001b[1;32m    276\u001b[0m     \u001b[38;5;28;01mraise\u001b[39;00m \u001b[38;5;167;01mValueError\u001b[39;00m(\n\u001b[1;32m    277\u001b[0m         \u001b[38;5;124mf\u001b[39m\u001b[38;5;124m\"\u001b[39m\u001b[38;5;124mIPython won\u001b[39m\u001b[38;5;124m'\u001b[39m\u001b[38;5;124mt let you open fd=\u001b[39m\u001b[38;5;132;01m{\u001b[39;00mfile\u001b[38;5;132;01m}\u001b[39;00m\u001b[38;5;124m by default \u001b[39m\u001b[38;5;124m\"\u001b[39m\n\u001b[1;32m    278\u001b[0m         \u001b[38;5;124m\"\u001b[39m\u001b[38;5;124mas it is likely to crash IPython. If you know what you are doing, \u001b[39m\u001b[38;5;124m\"\u001b[39m\n\u001b[1;32m    279\u001b[0m         \u001b[38;5;124m\"\u001b[39m\u001b[38;5;124myou can use builtins\u001b[39m\u001b[38;5;124m'\u001b[39m\u001b[38;5;124m open.\u001b[39m\u001b[38;5;124m\"\u001b[39m\n\u001b[1;32m    280\u001b[0m     )\n\u001b[0;32m--> 282\u001b[0m \u001b[38;5;28;01mreturn\u001b[39;00m \u001b[43mio_open\u001b[49m\u001b[43m(\u001b[49m\u001b[43mfile\u001b[49m\u001b[43m,\u001b[49m\u001b[43m \u001b[49m\u001b[38;5;241;43m*\u001b[39;49m\u001b[43margs\u001b[49m\u001b[43m,\u001b[49m\u001b[43m \u001b[49m\u001b[38;5;241;43m*\u001b[39;49m\u001b[38;5;241;43m*\u001b[39;49m\u001b[43mkwargs\u001b[49m\u001b[43m)\u001b[49m\n",
      "\u001b[0;31mFileNotFoundError\u001b[0m: [Errno 2] No such file or directory: '../../data/20newsgroups/pickle/test.p'"
     ]
    }
   ],
   "source": [
    "test_corpus = []\n",
    "test_categories = []\n",
    "for i in range(len(test_files)):\n",
    "    filename = test_files[i]\n",
    "    category = filename.split('/')[-2]\n",
    "    with open(test_files[i],'r') as f:\n",
    "        text = ''\n",
    "        try:\n",
    "            for line in f:\n",
    "                text = text + ' ' + line.strip()\n",
    "        except:\n",
    "            pass\n",
    "    if (len(text) > 0):\n",
    "        test_corpus.append(text)\n",
    "        test_categories.append(category)\n",
    "data = {}\n",
    "data['corpus'] = test_corpus\n",
    "data['category'] = test_categories\n",
    "pickle.dump( data, open( \"../../data/20newsgroups/pickle/test.p\", \"wb\" ) )"
   ]
  },
  {
   "cell_type": "markdown",
   "id": "e2c77577",
   "metadata": {},
   "source": [
    "### Read Train and store"
   ]
  },
  {
   "cell_type": "code",
   "execution_count": 47,
   "id": "07823ef7",
   "metadata": {},
   "outputs": [],
   "source": [
    "train_corpus = []\n",
    "train_categories = []\n",
    "for i in range(len(train_files)):\n",
    "    filename = train_files[i]\n",
    "    category = filename.split('/')[-2]\n",
    "    with open(train_files[i],'r') as f:\n",
    "        text = ''\n",
    "        try:\n",
    "            for line in f:\n",
    "                text = text + ' ' + line.strip()\n",
    "        except:\n",
    "            pass\n",
    "    if (len(text) > 0):\n",
    "        train_corpus.append(text)\n",
    "        train_categories.append(category)\n",
    "data = {}\n",
    "data['corpus'] = train_corpus\n",
    "data['category'] = train_categories\n",
    "pickle.dump( data, open( \"../../data/20newsgroups/pickle/train.p\", \"wb\" ) )"
   ]
  },
  {
   "cell_type": "code",
   "execution_count": null,
   "id": "b889dc04",
   "metadata": {},
   "outputs": [],
   "source": []
  }
 ],
 "metadata": {
  "kernelspec": {
   "display_name": "Python 3 (ipykernel)",
   "language": "python",
   "name": "python3"
  },
  "language_info": {
   "codemirror_mode": {
    "name": "ipython",
    "version": 3
   },
   "file_extension": ".py",
   "mimetype": "text/x-python",
   "name": "python",
   "nbconvert_exporter": "python",
   "pygments_lexer": "ipython3",
   "version": "3.10.6"
  }
 },
 "nbformat": 4,
 "nbformat_minor": 5
}
