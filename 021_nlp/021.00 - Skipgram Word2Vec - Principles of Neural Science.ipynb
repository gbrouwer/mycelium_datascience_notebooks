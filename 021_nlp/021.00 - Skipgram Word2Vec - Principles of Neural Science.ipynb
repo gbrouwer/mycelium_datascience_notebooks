{
 "cells": [
  {
   "cell_type": "markdown",
   "metadata": {
    "id": "mk4-Hpe1CH16"
   },
   "source": [
    "## Setup"
   ]
  },
  {
   "cell_type": "code",
   "execution_count": 2,
   "metadata": {
    "execution": {
     "iopub.execute_input": "2022-12-14T06:16:43.855578Z",
     "iopub.status.busy": "2022-12-14T06:16:43.855106Z",
     "iopub.status.idle": "2022-12-14T06:16:45.871623Z",
     "shell.execute_reply": "2022-12-14T06:16:45.870903Z"
    },
    "id": "RutaI-Tpev3T"
   },
   "outputs": [],
   "source": [
    "import io\n",
    "import re\n",
    "import string\n",
    "import numpy as np\n",
    "import tensorflow as tf\n",
    "from tqdm import tqdm\n",
    "from tensorflow.keras import layers"
   ]
  },
  {
   "cell_type": "markdown",
   "metadata": {},
   "source": [
    "### Parameters"
   ]
  },
  {
   "cell_type": "code",
   "execution_count": 3,
   "metadata": {
    "execution": {
     "iopub.execute_input": "2022-12-14T06:16:45.883958Z",
     "iopub.status.busy": "2022-12-14T06:16:45.883417Z",
     "iopub.status.idle": "2022-12-14T06:16:45.886553Z",
     "shell.execute_reply": "2022-12-14T06:16:45.885943Z"
    },
    "id": "XkJ5299Tek6B"
   },
   "outputs": [],
   "source": [
    "SEED = 42\n",
    "AUTOTUNE = tf.data.AUTOTUNE"
   ]
  },
  {
   "cell_type": "markdown",
   "metadata": {
    "id": "aj--8RFK6fgW"
   },
   "source": [
    "### Generate training data helper function"
   ]
  },
  {
   "cell_type": "code",
   "execution_count": 14,
   "metadata": {
    "execution": {
     "iopub.execute_input": "2022-12-14T06:16:49.386741Z",
     "iopub.status.busy": "2022-12-14T06:16:49.386489Z",
     "iopub.status.idle": "2022-12-14T06:16:49.392328Z",
     "shell.execute_reply": "2022-12-14T06:16:49.391784Z"
    },
    "id": "63INISDEX1Hu"
   },
   "outputs": [],
   "source": [
    "def generate_training_data(sequences, window_size, num_ns, vocab_size, seed):\n",
    "\n",
    "    #Init\n",
    "    context_class = tf.reshape(tf.constant(0, dtype=\"int64\"), (1, 1))\n",
    "    targets, contexts, labels = [], [], []\n",
    "    sampling_table = tf.keras.preprocessing.sequence.make_sampling_table(vocab_size)\n",
    "\n",
    "    #Iterate over all sequences (sentences) in the dataset.\n",
    "    for sequence in tqdm(sequences):\n",
    "\n",
    "        #Generate positive skip-gram pairs for a sequence (sentence).\n",
    "        positive_skip_grams, _ = tf.keras.preprocessing.sequence.skipgrams(\n",
    "              sequence,\n",
    "              vocabulary_size=vocab_size,\n",
    "              sampling_table=sampling_table,\n",
    "              window_size=window_size,\n",
    "              negative_samples=0)\n",
    "\n",
    "        for target_word, context_word in positive_skip_grams:\n",
    "            context_class = tf.expand_dims(tf.constant([context_word], dtype=\"int64\"), 1)\n",
    "            negative_sampling_candidates, _, _ = tf.random.log_uniform_candidate_sampler(\n",
    "                true_classes=context_class,\n",
    "                num_true=1,\n",
    "                num_sampled=num_ns,\n",
    "                unique=True,\n",
    "                range_max=vocab_size,\n",
    "                seed=seed,\n",
    "                name=\"negative_sampling\")\n",
    "            \n",
    "        #Build context and label vectors (for one target word)\n",
    "        context = tf.concat([tf.squeeze(context_class,1), negative_sampling_candidates], 0)\n",
    "        label = tf.constant([1] + [0]*num_ns, dtype=\"int64\")\n",
    "\n",
    "        #Append each element from the training example to global lists.\n",
    "        targets.append(target_word)\n",
    "        contexts.append(context)\n",
    "        labels.append(label)\n",
    "\n",
    "    return targets, contexts, labels"
   ]
  },
  {
   "cell_type": "markdown",
   "metadata": {
    "id": "shvPC8Ji2cMK"
   },
   "source": [
    "## Prepare training data for word2vec"
   ]
  },
  {
   "cell_type": "code",
   "execution_count": 15,
   "metadata": {
    "execution": {
     "iopub.execute_input": "2022-12-14T06:16:49.494127Z",
     "iopub.status.busy": "2022-12-14T06:16:49.493689Z",
     "iopub.status.idle": "2022-12-14T06:16:49.532024Z",
     "shell.execute_reply": "2022-12-14T06:16:49.531430Z"
    },
    "id": "ViDrwy-HjAs9"
   },
   "outputs": [],
   "source": [
    "text_ds = tf.data.TextLineDataset('../../data/books/principles_of_neuroscience.txt')\n",
    "text_ds = text_ds.filter(lambda x: tf.cast(tf.strings.length(x), bool))"
   ]
  },
  {
   "cell_type": "markdown",
   "metadata": {
    "id": "vfsc88zE9upk"
   },
   "source": [
    "### Vectorize sentences from the corpus"
   ]
  },
  {
   "cell_type": "code",
   "execution_count": 16,
   "metadata": {
    "execution": {
     "iopub.execute_input": "2022-12-14T06:16:49.535643Z",
     "iopub.status.busy": "2022-12-14T06:16:49.535050Z",
     "iopub.status.idle": "2022-12-14T06:16:49.549393Z",
     "shell.execute_reply": "2022-12-14T06:16:49.548584Z"
    },
    "id": "2MlsXzo-ZlfK"
   },
   "outputs": [],
   "source": [
    "def custom_standardization(input_data):\n",
    "    lowercase = tf.strings.lower(input_data)\n",
    "    return tf.strings.regex_replace(lowercase,'[%s]' % re.escape(string.punctuation), '')\n",
    "\n",
    "\n",
    "#Define the vocabulary size and the number of words in a sequence.\n",
    "vocab_size = 4096\n",
    "sequence_length = 10\n",
    "vectorize_layer = layers.TextVectorization(\n",
    "    standardize=custom_standardization,\n",
    "    max_tokens=vocab_size,\n",
    "    output_mode='int',\n",
    "    output_sequence_length=sequence_length)"
   ]
  },
  {
   "cell_type": "markdown",
   "metadata": {
    "id": "g92LuvnyBmz1"
   },
   "source": [
    "### Call TextVectorization.adapt on the text dataset to create vocabulary."
   ]
  },
  {
   "cell_type": "code",
   "execution_count": 17,
   "metadata": {
    "execution": {
     "iopub.execute_input": "2022-12-14T06:16:49.552886Z",
     "iopub.status.busy": "2022-12-14T06:16:49.552419Z",
     "iopub.status.idle": "2022-12-14T06:16:50.799157Z",
     "shell.execute_reply": "2022-12-14T06:16:50.798400Z"
    },
    "id": "seZau_iYMPFT"
   },
   "outputs": [
    {
     "name": "stderr",
     "output_type": "stream",
     "text": [
      "2023-02-01 12:15:16.645951: I tensorflow/core/grappler/optimizers/custom_graph_optimizer_registry.cc:114] Plugin optimizer for device_type GPU is enabled.\n"
     ]
    }
   ],
   "source": [
    "vectorize_layer.adapt(text_ds.batch(1024))"
   ]
  },
  {
   "cell_type": "markdown",
   "metadata": {
    "id": "jg2z7eeHMnH-"
   },
   "source": [
    "### Have a look at vocab"
   ]
  },
  {
   "cell_type": "code",
   "execution_count": 18,
   "metadata": {
    "execution": {
     "iopub.execute_input": "2022-12-14T06:16:50.803496Z",
     "iopub.status.busy": "2022-12-14T06:16:50.802880Z",
     "iopub.status.idle": "2022-12-14T06:16:50.812989Z",
     "shell.execute_reply": "2022-12-14T06:16:50.812408Z"
    },
    "id": "jgw9pTA7MRaU"
   },
   "outputs": [
    {
     "name": "stdout",
     "output_type": "stream",
     "text": [
      "['', '[UNK]', 'the', 'of', 'in', 'and', 'a', 'to', 'is', 'that', 'are', 'by', 'with', 'from', 'as', 'for', 'neurons', 'or', 'this', 'an']\n"
     ]
    }
   ],
   "source": [
    "inverse_vocab = vectorize_layer.get_vocabulary()\n",
    "print(inverse_vocab[:20])"
   ]
  },
  {
   "cell_type": "markdown",
   "metadata": {
    "id": "DOQ30Tx6KA2G"
   },
   "source": [
    "### Vectorize and obtain sequences from the dataset"
   ]
  },
  {
   "cell_type": "code",
   "execution_count": 19,
   "metadata": {
    "execution": {
     "iopub.execute_input": "2022-12-14T06:16:50.816540Z",
     "iopub.status.busy": "2022-12-14T06:16:50.815833Z",
     "iopub.status.idle": "2022-12-14T06:16:50.859037Z",
     "shell.execute_reply": "2022-12-14T06:16:50.858471Z"
    },
    "id": "yUVYrDp0araQ"
   },
   "outputs": [],
   "source": [
    "text_vector_ds = text_ds.batch(1024).prefetch(AUTOTUNE).map(vectorize_layer).unbatch()\n",
    "sequences = list(text_vector_ds.as_numpy_iterator())"
   ]
  },
  {
   "cell_type": "markdown",
   "metadata": {
    "id": "yDzSOjNwCWNh"
   },
   "source": [
    "### Generate training examples from sequences"
   ]
  },
  {
   "cell_type": "code",
   "execution_count": 20,
   "metadata": {
    "execution": {
     "iopub.execute_input": "2022-12-14T06:16:55.284370Z",
     "iopub.status.busy": "2022-12-14T06:16:55.283912Z",
     "iopub.status.idle": "2022-12-14T06:17:47.545102Z",
     "shell.execute_reply": "2022-12-14T06:17:47.544351Z"
    },
    "id": "44DJ22M6nX5o"
   },
   "outputs": [
    {
     "name": "stderr",
     "output_type": "stream",
     "text": [
      "100%|████████████████████████████████████| 33257/33257 [01:16<00:00, 433.71it/s]\n"
     ]
    },
    {
     "name": "stdout",
     "output_type": "stream",
     "text": [
      "targets.shape: (33257,)\n",
      "contexts.shape: (33257, 5)\n",
      "labels.shape: (33257, 5)\n"
     ]
    }
   ],
   "source": [
    "context_class = tf.reshape(tf.constant(0, dtype=\"int64\"), (1, 1))\n",
    "targets, contexts, labels = generate_training_data(\n",
    "    sequences=sequences,\n",
    "    window_size=2,\n",
    "    num_ns=4,\n",
    "    vocab_size=vocab_size,\n",
    "    seed=SEED)\n",
    "\n",
    "targets = np.array(targets)\n",
    "contexts = np.array(contexts)\n",
    "labels = np.array(labels)\n",
    "\n",
    "print(f\"targets.shape: {targets.shape}\")\n",
    "print(f\"contexts.shape: {contexts.shape}\")\n",
    "print(f\"labels.shape: {labels.shape}\")"
   ]
  },
  {
   "cell_type": "markdown",
   "metadata": {
    "id": "97PqsusOFEpc"
   },
   "source": [
    "### Configure the dataset for performance"
   ]
  },
  {
   "cell_type": "code",
   "execution_count": 21,
   "metadata": {
    "execution": {
     "iopub.execute_input": "2022-12-14T06:17:47.548742Z",
     "iopub.status.busy": "2022-12-14T06:17:47.548461Z",
     "iopub.status.idle": "2022-12-14T06:17:47.564750Z",
     "shell.execute_reply": "2022-12-14T06:17:47.564070Z"
    },
    "id": "nbu8PxPSnVY2"
   },
   "outputs": [
    {
     "name": "stdout",
     "output_type": "stream",
     "text": [
      "<PrefetchDataset element_spec=((TensorSpec(shape=(1024,), dtype=tf.int64, name=None), TensorSpec(shape=(1024, 5), dtype=tf.int64, name=None)), TensorSpec(shape=(1024, 5), dtype=tf.int64, name=None))>\n"
     ]
    }
   ],
   "source": [
    "BATCH_SIZE = 1024\n",
    "BUFFER_SIZE = 10000\n",
    "dataset = tf.data.Dataset.from_tensor_slices(((targets, contexts), labels))\n",
    "dataset = dataset.shuffle(BUFFER_SIZE).batch(BATCH_SIZE, drop_remainder=True)\n",
    "dataset = dataset.cache().prefetch(buffer_size=AUTOTUNE)\n",
    "print(dataset)"
   ]
  },
  {
   "cell_type": "markdown",
   "metadata": {
    "id": "1S-CmUMszyEf"
   },
   "source": [
    "## Model and training"
   ]
  },
  {
   "cell_type": "code",
   "execution_count": 22,
   "metadata": {
    "execution": {
     "iopub.execute_input": "2022-12-14T06:17:47.578098Z",
     "iopub.status.busy": "2022-12-14T06:17:47.577566Z",
     "iopub.status.idle": "2022-12-14T06:17:47.582833Z",
     "shell.execute_reply": "2022-12-14T06:17:47.582217Z"
    },
    "id": "i9ec-sS6xd8Z"
   },
   "outputs": [],
   "source": [
    "class Word2Vec(tf.keras.Model):\n",
    "    \n",
    "    def __init__(self, vocab_size, embedding_dim):\n",
    "        super(Word2Vec, self).__init__()\n",
    "        self.target_embedding = layers.Embedding(vocab_size,\n",
    "                                                 embedding_dim,\n",
    "                                                 input_length=1,\n",
    "                                                 name=\"w2v_embedding\")\n",
    "        self.context_embedding = layers.Embedding(vocab_size,\n",
    "                                                  embedding_dim,\n",
    "                                                  input_length=num_ns+1)\n",
    "\n",
    "    \n",
    "    def call(self, pair):\n",
    "        target, context = pair\n",
    "        if len(target.shape) == 2:\n",
    "            target = tf.squeeze(target, axis=1)\n",
    "        word_emb = self.target_embedding(target)\n",
    "        context_emb = self.context_embedding(context)\n",
    "        dots = tf.einsum('be,bce->bc', word_emb, context_emb)\n",
    "        return dots"
   ]
  },
  {
   "cell_type": "markdown",
   "metadata": {
    "id": "-RLKz9LFECXu"
   },
   "source": [
    "### Define loss function and compile model\n"
   ]
  },
  {
   "cell_type": "code",
   "execution_count": 23,
   "metadata": {
    "id": "I3Md-9QanqBM"
   },
   "outputs": [],
   "source": [
    "def custom_loss(x_logit, y_true):\n",
    "    return tf.nn.sigmoid_cross_entropy_with_logits(logits=x_logit, labels=y_true)"
   ]
  },
  {
   "cell_type": "markdown",
   "metadata": {},
   "source": [
    "### Compile Model"
   ]
  },
  {
   "cell_type": "code",
   "execution_count": 25,
   "metadata": {
    "execution": {
     "iopub.execute_input": "2022-12-14T06:17:47.585954Z",
     "iopub.status.busy": "2022-12-14T06:17:47.585419Z",
     "iopub.status.idle": "2022-12-14T06:17:47.605196Z",
     "shell.execute_reply": "2022-12-14T06:17:47.604558Z"
    },
    "id": "ekQg_KbWnnmQ"
   },
   "outputs": [],
   "source": [
    "num_ns = 4\n",
    "embedding_dim = 128\n",
    "word2vec = Word2Vec(vocab_size, embedding_dim)\n",
    "word2vec.compile(optimizer='adam',\n",
    "                 loss=tf.keras.losses.CategoricalCrossentropy(from_logits=True),\n",
    "                 metrics=['accuracy'])"
   ]
  },
  {
   "cell_type": "markdown",
   "metadata": {},
   "source": [
    "### Fit"
   ]
  },
  {
   "cell_type": "code",
   "execution_count": 26,
   "metadata": {
    "execution": {
     "iopub.execute_input": "2022-12-14T06:17:47.615139Z",
     "iopub.status.busy": "2022-12-14T06:17:47.614549Z",
     "iopub.status.idle": "2022-12-14T06:17:59.161446Z",
     "shell.execute_reply": "2022-12-14T06:17:59.160714Z"
    },
    "id": "gmC1BJalEZIY",
    "scrolled": false
   },
   "outputs": [
    {
     "name": "stdout",
     "output_type": "stream",
     "text": [
      "Epoch 1/100\n",
      " 3/32 [=>............................] - ETA: 0s - loss: 1.6092 - accuracy: 0.1976 "
     ]
    },
    {
     "name": "stderr",
     "output_type": "stream",
     "text": [
      "2023-02-01 12:17:58.137339: I tensorflow/core/grappler/optimizers/custom_graph_optimizer_registry.cc:114] Plugin optimizer for device_type GPU is enabled.\n"
     ]
    },
    {
     "name": "stdout",
     "output_type": "stream",
     "text": [
      "32/32 [==============================] - 1s 22ms/step - loss: 1.6065 - accuracy: 0.2994\n",
      "Epoch 2/100\n",
      "32/32 [==============================] - 0s 13ms/step - loss: 1.5846 - accuracy: 0.7397\n",
      "Epoch 3/100\n",
      "32/32 [==============================] - 0s 13ms/step - loss: 1.5465 - accuracy: 0.8356\n",
      "Epoch 4/100\n",
      "32/32 [==============================] - 0s 13ms/step - loss: 1.4777 - accuracy: 0.8503\n",
      "Epoch 5/100\n",
      "32/32 [==============================] - 0s 13ms/step - loss: 1.3771 - accuracy: 0.8514\n",
      "Epoch 6/100\n",
      "32/32 [==============================] - 0s 13ms/step - loss: 1.2571 - accuracy: 0.8518\n",
      "Epoch 7/100\n",
      "32/32 [==============================] - 0s 13ms/step - loss: 1.1341 - accuracy: 0.8551\n",
      "Epoch 8/100\n",
      "32/32 [==============================] - 0s 13ms/step - loss: 1.0181 - accuracy: 0.8617\n",
      "Epoch 9/100\n",
      "32/32 [==============================] - 0s 13ms/step - loss: 0.9125 - accuracy: 0.8725\n",
      "Epoch 10/100\n",
      "32/32 [==============================] - 0s 13ms/step - loss: 0.8178 - accuracy: 0.8829\n",
      "Epoch 11/100\n",
      "32/32 [==============================] - 0s 11ms/step - loss: 0.7336 - accuracy: 0.8935\n",
      "Epoch 12/100\n",
      "32/32 [==============================] - 0s 12ms/step - loss: 0.6591 - accuracy: 0.9023\n",
      "Epoch 13/100\n",
      "32/32 [==============================] - 0s 13ms/step - loss: 0.5934 - accuracy: 0.9104\n",
      "Epoch 14/100\n",
      "32/32 [==============================] - 0s 13ms/step - loss: 0.5356 - accuracy: 0.9184\n",
      "Epoch 15/100\n",
      "32/32 [==============================] - 0s 13ms/step - loss: 0.4848 - accuracy: 0.9256\n",
      "Epoch 16/100\n",
      "32/32 [==============================] - 0s 13ms/step - loss: 0.4401 - accuracy: 0.9326\n",
      "Epoch 17/100\n",
      "32/32 [==============================] - 0s 13ms/step - loss: 0.4008 - accuracy: 0.9386\n",
      "Epoch 18/100\n",
      "32/32 [==============================] - 0s 13ms/step - loss: 0.3662 - accuracy: 0.9438\n",
      "Epoch 19/100\n",
      "32/32 [==============================] - 0s 13ms/step - loss: 0.3357 - accuracy: 0.9500\n",
      "Epoch 20/100\n",
      "32/32 [==============================] - 0s 13ms/step - loss: 0.3087 - accuracy: 0.9553\n",
      "Epoch 21/100\n",
      "32/32 [==============================] - 0s 12ms/step - loss: 0.2847 - accuracy: 0.9598\n",
      "Epoch 22/100\n",
      "32/32 [==============================] - 0s 12ms/step - loss: 0.2635 - accuracy: 0.9632\n",
      "Epoch 23/100\n",
      "32/32 [==============================] - 0s 13ms/step - loss: 0.2446 - accuracy: 0.9671\n",
      "Epoch 24/100\n",
      "32/32 [==============================] - 0s 13ms/step - loss: 0.2277 - accuracy: 0.9703\n",
      "Epoch 25/100\n",
      "32/32 [==============================] - 0s 11ms/step - loss: 0.2126 - accuracy: 0.9728\n",
      "Epoch 26/100\n",
      "32/32 [==============================] - 0s 11ms/step - loss: 0.1991 - accuracy: 0.9753\n",
      "Epoch 27/100\n",
      "32/32 [==============================] - 0s 12ms/step - loss: 0.1870 - accuracy: 0.9772\n",
      "Epoch 28/100\n",
      "32/32 [==============================] - 0s 13ms/step - loss: 0.1761 - accuracy: 0.9794\n",
      "Epoch 29/100\n",
      "32/32 [==============================] - 0s 12ms/step - loss: 0.1662 - accuracy: 0.9808\n",
      "Epoch 30/100\n",
      "32/32 [==============================] - 0s 13ms/step - loss: 0.1573 - accuracy: 0.9825\n",
      "Epoch 31/100\n",
      "32/32 [==============================] - 0s 14ms/step - loss: 0.1492 - accuracy: 0.9838\n",
      "Epoch 32/100\n",
      "32/32 [==============================] - 0s 13ms/step - loss: 0.1419 - accuracy: 0.9847\n",
      "Epoch 33/100\n",
      "32/32 [==============================] - 0s 13ms/step - loss: 0.1352 - accuracy: 0.9858\n",
      "Epoch 34/100\n",
      "32/32 [==============================] - 0s 12ms/step - loss: 0.1292 - accuracy: 0.9866\n",
      "Epoch 35/100\n",
      "32/32 [==============================] - 0s 13ms/step - loss: 0.1236 - accuracy: 0.9873\n",
      "Epoch 36/100\n",
      "32/32 [==============================] - 0s 13ms/step - loss: 0.1186 - accuracy: 0.9881\n",
      "Epoch 37/100\n",
      "32/32 [==============================] - 0s 12ms/step - loss: 0.1139 - accuracy: 0.9889\n",
      "Epoch 38/100\n",
      "32/32 [==============================] - 0s 12ms/step - loss: 0.1097 - accuracy: 0.9894\n",
      "Epoch 39/100\n",
      "32/32 [==============================] - 0s 13ms/step - loss: 0.1057 - accuracy: 0.9897\n",
      "Epoch 40/100\n",
      "32/32 [==============================] - 0s 12ms/step - loss: 0.1021 - accuracy: 0.9900\n",
      "Epoch 41/100\n",
      "32/32 [==============================] - 0s 12ms/step - loss: 0.0988 - accuracy: 0.9901\n",
      "Epoch 42/100\n",
      "32/32 [==============================] - 0s 12ms/step - loss: 0.0957 - accuracy: 0.9904\n",
      "Epoch 43/100\n",
      "32/32 [==============================] - 0s 12ms/step - loss: 0.0928 - accuracy: 0.9906\n",
      "Epoch 44/100\n",
      "32/32 [==============================] - 0s 12ms/step - loss: 0.0902 - accuracy: 0.9908\n",
      "Epoch 45/100\n",
      "32/32 [==============================] - 0s 12ms/step - loss: 0.0877 - accuracy: 0.9910\n",
      "Epoch 46/100\n",
      "32/32 [==============================] - 0s 13ms/step - loss: 0.0855 - accuracy: 0.9913\n",
      "Epoch 47/100\n",
      "32/32 [==============================] - 0s 12ms/step - loss: 0.0833 - accuracy: 0.9914\n",
      "Epoch 48/100\n",
      "32/32 [==============================] - 0s 12ms/step - loss: 0.0813 - accuracy: 0.9915\n",
      "Epoch 49/100\n",
      "32/32 [==============================] - 0s 12ms/step - loss: 0.0795 - accuracy: 0.9917\n",
      "Epoch 50/100\n",
      "32/32 [==============================] - 0s 13ms/step - loss: 0.0778 - accuracy: 0.9918\n",
      "Epoch 51/100\n",
      "32/32 [==============================] - 0s 13ms/step - loss: 0.0761 - accuracy: 0.9919\n",
      "Epoch 52/100\n",
      "32/32 [==============================] - 0s 13ms/step - loss: 0.0746 - accuracy: 0.9919\n",
      "Epoch 53/100\n",
      "32/32 [==============================] - 0s 13ms/step - loss: 0.0732 - accuracy: 0.9919\n",
      "Epoch 54/100\n",
      "32/32 [==============================] - 0s 11ms/step - loss: 0.0719 - accuracy: 0.9920\n",
      "Epoch 55/100\n",
      "32/32 [==============================] - 0s 13ms/step - loss: 0.0706 - accuracy: 0.9920\n",
      "Epoch 56/100\n",
      "32/32 [==============================] - 0s 13ms/step - loss: 0.0694 - accuracy: 0.9920\n",
      "Epoch 57/100\n",
      "32/32 [==============================] - 0s 12ms/step - loss: 0.0683 - accuracy: 0.9920\n",
      "Epoch 58/100\n",
      "32/32 [==============================] - 0s 13ms/step - loss: 0.0672 - accuracy: 0.9921\n",
      "Epoch 59/100\n",
      "32/32 [==============================] - 0s 13ms/step - loss: 0.0662 - accuracy: 0.9922\n",
      "Epoch 60/100\n",
      "32/32 [==============================] - 0s 13ms/step - loss: 0.0653 - accuracy: 0.9921\n",
      "Epoch 61/100\n",
      "32/32 [==============================] - 0s 13ms/step - loss: 0.0644 - accuracy: 0.9921\n",
      "Epoch 62/100\n",
      "32/32 [==============================] - 0s 13ms/step - loss: 0.0635 - accuracy: 0.9922\n",
      "Epoch 63/100\n",
      "32/32 [==============================] - 0s 12ms/step - loss: 0.0627 - accuracy: 0.9923\n",
      "Epoch 64/100\n",
      "32/32 [==============================] - 0s 12ms/step - loss: 0.0620 - accuracy: 0.9924\n",
      "Epoch 65/100\n",
      "32/32 [==============================] - 0s 13ms/step - loss: 0.0613 - accuracy: 0.9924\n",
      "Epoch 66/100\n",
      "32/32 [==============================] - 0s 12ms/step - loss: 0.0606 - accuracy: 0.9924\n",
      "Epoch 67/100\n",
      "32/32 [==============================] - 0s 11ms/step - loss: 0.0599 - accuracy: 0.9923\n",
      "Epoch 68/100\n",
      "32/32 [==============================] - 0s 12ms/step - loss: 0.0593 - accuracy: 0.9923\n",
      "Epoch 69/100\n",
      "32/32 [==============================] - 0s 13ms/step - loss: 0.0587 - accuracy: 0.9923\n",
      "Epoch 70/100\n",
      "32/32 [==============================] - 0s 13ms/step - loss: 0.0582 - accuracy: 0.9923\n",
      "Epoch 71/100\n",
      "32/32 [==============================] - 0s 13ms/step - loss: 0.0576 - accuracy: 0.9923\n",
      "Epoch 72/100\n",
      "32/32 [==============================] - 0s 13ms/step - loss: 0.0571 - accuracy: 0.9923\n",
      "Epoch 73/100\n",
      "32/32 [==============================] - 0s 13ms/step - loss: 0.0566 - accuracy: 0.9923\n",
      "Epoch 74/100\n",
      "32/32 [==============================] - 0s 12ms/step - loss: 0.0561 - accuracy: 0.9923\n",
      "Epoch 75/100\n",
      "32/32 [==============================] - 0s 13ms/step - loss: 0.0557 - accuracy: 0.9922\n",
      "Epoch 76/100\n",
      "32/32 [==============================] - 0s 13ms/step - loss: 0.0553 - accuracy: 0.9921\n",
      "Epoch 77/100\n",
      "32/32 [==============================] - 0s 13ms/step - loss: 0.0549 - accuracy: 0.9921\n",
      "Epoch 78/100\n",
      "32/32 [==============================] - 0s 12ms/step - loss: 0.0545 - accuracy: 0.9920\n",
      "Epoch 79/100\n",
      "32/32 [==============================] - 0s 11ms/step - loss: 0.0541 - accuracy: 0.9920\n",
      "Epoch 80/100\n",
      "32/32 [==============================] - 0s 13ms/step - loss: 0.0537 - accuracy: 0.9920\n",
      "Epoch 81/100\n",
      "32/32 [==============================] - 0s 13ms/step - loss: 0.0534 - accuracy: 0.9919\n",
      "Epoch 82/100\n"
     ]
    },
    {
     "name": "stdout",
     "output_type": "stream",
     "text": [
      "32/32 [==============================] - 0s 13ms/step - loss: 0.0531 - accuracy: 0.9919\n",
      "Epoch 83/100\n",
      "32/32 [==============================] - 0s 13ms/step - loss: 0.0527 - accuracy: 0.9919\n",
      "Epoch 84/100\n",
      "32/32 [==============================] - 0s 12ms/step - loss: 0.0524 - accuracy: 0.9919\n",
      "Epoch 85/100\n",
      "32/32 [==============================] - 0s 12ms/step - loss: 0.0522 - accuracy: 0.9919\n",
      "Epoch 86/100\n",
      "32/32 [==============================] - 0s 11ms/step - loss: 0.0519 - accuracy: 0.9919\n",
      "Epoch 87/100\n",
      "32/32 [==============================] - 0s 12ms/step - loss: 0.0516 - accuracy: 0.9919\n",
      "Epoch 88/100\n",
      "32/32 [==============================] - 0s 13ms/step - loss: 0.0513 - accuracy: 0.9919\n",
      "Epoch 89/100\n",
      "32/32 [==============================] - 0s 13ms/step - loss: 0.0511 - accuracy: 0.9918\n",
      "Epoch 90/100\n",
      "32/32 [==============================] - 0s 12ms/step - loss: 0.0508 - accuracy: 0.9918\n",
      "Epoch 91/100\n",
      "32/32 [==============================] - 0s 12ms/step - loss: 0.0506 - accuracy: 0.9918\n",
      "Epoch 92/100\n",
      "32/32 [==============================] - 0s 13ms/step - loss: 0.0504 - accuracy: 0.9918\n",
      "Epoch 93/100\n",
      "32/32 [==============================] - 0s 12ms/step - loss: 0.0502 - accuracy: 0.9918\n",
      "Epoch 94/100\n",
      "32/32 [==============================] - 0s 12ms/step - loss: 0.0500 - accuracy: 0.9917\n",
      "Epoch 95/100\n",
      "32/32 [==============================] - 0s 12ms/step - loss: 0.0498 - accuracy: 0.9917\n",
      "Epoch 96/100\n",
      "32/32 [==============================] - 0s 13ms/step - loss: 0.0496 - accuracy: 0.9917\n",
      "Epoch 97/100\n",
      "32/32 [==============================] - 0s 12ms/step - loss: 0.0494 - accuracy: 0.9917\n",
      "Epoch 98/100\n",
      "32/32 [==============================] - 0s 10ms/step - loss: 0.0492 - accuracy: 0.9916\n",
      "Epoch 99/100\n",
      "32/32 [==============================] - 0s 11ms/step - loss: 0.0490 - accuracy: 0.9916\n",
      "Epoch 100/100\n",
      "32/32 [==============================] - 0s 13ms/step - loss: 0.0489 - accuracy: 0.9916\n"
     ]
    },
    {
     "data": {
      "text/plain": [
       "<keras.callbacks.History at 0x175038190>"
      ]
     },
     "execution_count": 26,
     "metadata": {},
     "output_type": "execute_result"
    }
   ],
   "source": [
    "word2vec.fit(dataset, epochs=100)"
   ]
  },
  {
   "cell_type": "markdown",
   "metadata": {
    "id": "awF3iRQCZOLj"
   },
   "source": [
    "<!-- <img class=\"tfo-display-only-on-site\" src=\"images/word2vec_tensorboard.png\"/> -->"
   ]
  },
  {
   "cell_type": "markdown",
   "metadata": {
    "id": "gWzdmUzS8Sl4"
   },
   "source": [
    "### Create and save the vectors and metadata files"
   ]
  },
  {
   "cell_type": "code",
   "execution_count": 29,
   "metadata": {
    "execution": {
     "iopub.execute_input": "2022-12-14T06:17:59.180595Z",
     "iopub.status.busy": "2022-12-14T06:17:59.180376Z",
     "iopub.status.idle": "2022-12-14T06:17:59.499643Z",
     "shell.execute_reply": "2022-12-14T06:17:59.498985Z"
    },
    "id": "VLIahl9s53XT"
   },
   "outputs": [],
   "source": [
    "weights = word2vec.get_layer('w2v_embedding').get_weights()[0]\n",
    "vocab = vectorize_layer.get_vocabulary()\n",
    "out_v = io.open('../../data/results/neuralscience_skipgram_vectors.tsv', 'w', encoding='utf-8')\n",
    "out_m = io.open('../../data/results/neuralscience_skipgram_metadata.tsv', 'w', encoding='utf-8')\n",
    "for index, word in enumerate(vocab):\n",
    "    if index == 0:\n",
    "        continue  \n",
    "    vec = weights[index]\n",
    "    out_v.write('\\t'.join([str(x) for x in vec]) + \"\\n\")\n",
    "    out_m.write(word + \"\\n\")\n",
    "out_v.close()\n",
    "out_m.close()"
   ]
  },
  {
   "cell_type": "code",
   "execution_count": null,
   "metadata": {},
   "outputs": [],
   "source": []
  }
 ],
 "metadata": {
  "colab": {
   "collapsed_sections": [],
   "name": "word2vec.ipynb",
   "toc_visible": true
  },
  "kernelspec": {
   "display_name": "Python 3 (ipykernel)",
   "language": "python",
   "name": "python3"
  },
  "language_info": {
   "codemirror_mode": {
    "name": "ipython",
    "version": 3
   },
   "file_extension": ".py",
   "mimetype": "text/x-python",
   "name": "python",
   "nbconvert_exporter": "python",
   "pygments_lexer": "ipython3",
   "version": "3.10.6"
  }
 },
 "nbformat": 4,
 "nbformat_minor": 1
}
