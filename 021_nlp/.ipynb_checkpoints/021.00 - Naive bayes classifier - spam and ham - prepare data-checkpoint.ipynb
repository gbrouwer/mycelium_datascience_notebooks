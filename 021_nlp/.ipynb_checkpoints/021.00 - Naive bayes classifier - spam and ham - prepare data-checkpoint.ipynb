{
 "cells": [
  {
   "cell_type": "code",
   "execution_count": 11,
   "id": "2cb4547d",
   "metadata": {},
   "outputs": [],
   "source": [
    "import numpy as np\n",
    "import os\n",
    "import sys\n",
    "import json\n",
    "import pickle\n",
    "import re\n",
    "import pandas as pd\n",
    "import matplotlib.pyplot as plt\n",
    "from tqdm import tqdm\n",
    "from sklearn.decomposition import PCA"
   ]
  },
  {
   "cell_type": "markdown",
   "id": "20c8fa93",
   "metadata": {},
   "source": [
    "### Read Stopwords"
   ]
  },
  {
   "cell_type": "code",
   "execution_count": 12,
   "id": "6ec4b45d",
   "metadata": {},
   "outputs": [],
   "source": [
    "stopwords = []\n",
    "with open('../../data/meta/stopwords','r') as f:\n",
    "    for line in f:\n",
    "        stopwords.append(line.rstrip())"
   ]
  },
  {
   "cell_type": "markdown",
   "id": "72d26698",
   "metadata": {},
   "source": [
    "### Find all Spam"
   ]
  },
  {
   "cell_type": "code",
   "execution_count": 20,
   "id": "323d0876",
   "metadata": {},
   "outputs": [],
   "source": [
    "myfiles = []\n",
    "labels = []\n",
    "for root, dirs, files in os.walk(\"../../data/enron/raw/ham/\", topdown=False):\n",
    "    for name in files:\n",
    "        labels.append(0)\n",
    "        myfiles.append(os.path.join(root, name))\n",
    "for root, dirs, files in os.walk(\"../../data/enron/raw/spam/\", topdown=False):\n",
    "    for name in files:\n",
    "        labels.append(1)\n",
    "        myfiles.append(os.path.join(root, name))"
   ]
  },
  {
   "cell_type": "markdown",
   "id": "d35240f4",
   "metadata": {},
   "source": [
    "### Read"
   ]
  },
  {
   "cell_type": "code",
   "execution_count": 21,
   "id": "723a431c",
   "metadata": {},
   "outputs": [],
   "source": [
    "corpus = []\n",
    "for i in range(len(myfiles)):\n",
    "    filename = myfiles[i]\n",
    "    with open(filename,'r') as f:\n",
    "        text = ''\n",
    "        try:\n",
    "            for line in f:\n",
    "                text = text + ' ' + line.strip()\n",
    "        except:\n",
    "            pass\n",
    "    corpus.append(text)"
   ]
  },
  {
   "cell_type": "markdown",
   "id": "df186286",
   "metadata": {},
   "source": [
    "### Clean"
   ]
  },
  {
   "cell_type": "code",
   "execution_count": 22,
   "id": "68b7695d",
   "metadata": {},
   "outputs": [],
   "source": [
    "corpus_clean = []\n",
    "for i in range(len(corpus)):\n",
    "    text = corpus[i]\n",
    "    text = text.replace('Subject:','')\n",
    "    text = text.replace(\"'s\",\"\")\n",
    "    text = text.replace(\"'\",\"\")\n",
    "    text = re.sub(r'[^a-zA-Z]',' ', text)\n",
    "    text = text.lower()\n",
    "    words = text.split(' ')\n",
    "    words = [word for word in words if len(word) > 1]\n",
    "    words = [word for word in words if word not in stopwords]    \n",
    "    text = ' '.join(words)\n",
    "    corpus_clean.append(text)"
   ]
  },
  {
   "cell_type": "markdown",
   "id": "668f43a5",
   "metadata": {},
   "source": [
    "### Store"
   ]
  },
  {
   "cell_type": "code",
   "execution_count": 25,
   "id": "bf9dc548",
   "metadata": {},
   "outputs": [],
   "source": [
    "data = {}\n",
    "data['corpus'] = corpus_clean\n",
    "data['labels'] = labels\n",
    "pickle.dump( data, open( \"../../data/enron/pickle/processed.p\", \"wb\"))"
   ]
  }
 ],
 "metadata": {
  "kernelspec": {
   "display_name": "Python 3 (ipykernel)",
   "language": "python",
   "name": "python3"
  },
  "language_info": {
   "codemirror_mode": {
    "name": "ipython",
    "version": 3
   },
   "file_extension": ".py",
   "mimetype": "text/x-python",
   "name": "python",
   "nbconvert_exporter": "python",
   "pygments_lexer": "ipython3",
   "version": "3.10.6"
  }
 },
 "nbformat": 4,
 "nbformat_minor": 5
}
