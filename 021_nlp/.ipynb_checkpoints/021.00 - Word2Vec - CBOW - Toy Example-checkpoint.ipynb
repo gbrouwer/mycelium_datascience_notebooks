{
 "cells": [
  {
   "cell_type": "markdown",
   "id": "dca50eb5",
   "metadata": {},
   "source": [
    "### Import"
   ]
  },
  {
   "cell_type": "code",
   "execution_count": 1,
   "id": "fd56fb2b",
   "metadata": {},
   "outputs": [],
   "source": [
    "import pandas as pd\n",
    "import gensim\n",
    "from bs4 import BeautifulSoup\n",
    "import re, string\n",
    "import warnings\n",
    "import tensorflow as tf\n",
    "from __future__ import absolute_import, division, print_function, unicode_literals\n",
    "warnings.filterwarnings(action='ignore')"
   ]
  },
  {
   "cell_type": "markdown",
   "id": "ac666194",
   "metadata": {},
   "source": [
    "### Word2Vec Model"
   ]
  },
  {
   "cell_type": "code",
   "execution_count": 2,
   "id": "39232e15",
   "metadata": {},
   "outputs": [],
   "source": [
    "class Word2Vec:\n",
    "    \n",
    "    def __init__(self, vocab_size=0, embedding_dim=16, optimizer='sgd', epochs=10000):\n",
    "        self.vocab_size=vocab_size\n",
    "        self.embedding_dim=5\n",
    "        self.epochs=epochs\n",
    "        if optimizer=='adam':\n",
    "            self.optimizer = tf.optimizers.Adam()\n",
    "        else:\n",
    "            self.optimizer = tf.optimizers.SGD(learning_rate=0.1)\n",
    "\n",
    "    def train(self, x_train=None, y_train=None):\n",
    "        self.W1 = tf.Variable(tf.random.normal([self.vocab_size, self.embedding_dim]))\n",
    "        self.b1 = tf.Variable(tf.random.normal([self.embedding_dim])) #bias\n",
    "        self.W2 = tf.Variable(tf.random.normal([self.embedding_dim, self.vocab_size]))\n",
    "        self.b2 = tf.Variable(tf.random.normal([self.vocab_size]))\n",
    "        for _ in range(self.epochs):\n",
    "            with tf.GradientTape() as t:\n",
    "                hidden_layer = tf.add(tf.matmul(x_train,self.W1),self.b1)\n",
    "                output_layer = tf.nn.softmax(tf.add( tf.matmul(hidden_layer, self.W2), self.b2))\n",
    "                cross_entropy_loss = tf.reduce_mean(\n",
    "                    -tf.math.reduce_sum(y_train * tf.math.log(output_layer), axis=[1]))\n",
    "            grads = t.gradient(cross_entropy_loss, [self.W1, self.b1, self.W2, self.b2])\n",
    "            self.optimizer.apply_gradients(zip(grads,[self.W1, self.b1, self.W2, self.b2]))\n",
    "        if(_ % 1000 == 0):\n",
    "            print(cross_entropy_loss)\n",
    "\n",
    "    def vectorized(self, word_idx):\n",
    "        return (self.W1+self.b1)[word_idx]"
   ]
  },
  {
   "cell_type": "markdown",
   "id": "1ce362bb",
   "metadata": {},
   "source": [
    "### Test Corpus"
   ]
  },
  {
   "cell_type": "code",
   "execution_count": 4,
   "id": "30957685",
   "metadata": {},
   "outputs": [],
   "source": [
    "corpus_raw = 'He is the king . The king is royal . She is the royal  queen '\n",
    "corpus_raw = corpus_raw.lower()\n",
    "raw_sentences = corpus_raw.split('.')\n",
    "sentences = []\n",
    "for sentence in raw_sentences:\n",
    "    sentences.append(sentence.split())"
   ]
  },
  {
   "cell_type": "markdown",
   "id": "39813ada",
   "metadata": {},
   "source": [
    "### Create the data "
   ]
  },
  {
   "cell_type": "code",
   "execution_count": 7,
   "id": "9af66821",
   "metadata": {},
   "outputs": [],
   "source": [
    "data = []\n",
    "WINDOW_SIZE = 2\n",
    "for sentence in sentences:\n",
    "    for word_index, word in enumerate(sentence):\n",
    "        for nb_word in sentence[max(word_index - WINDOW_SIZE, 0) : min(word_index + WINDOW_SIZE, len(sentence)) + 1] :\n",
    "            if nb_word != word:\n",
    "                data.append([word, nb_word])"
   ]
  },
  {
   "cell_type": "markdown",
   "id": "0d315b98",
   "metadata": {},
   "source": [
    "### Vectorize"
   ]
  },
  {
   "cell_type": "code",
   "execution_count": null,
   "id": "d0c165f4",
   "metadata": {},
   "outputs": [],
   "source": [
    "words = []\n",
    "for word in corpus_raw.split():\n",
    "    if word != '.': # because we don't want to treat . as a word\n",
    "        words.append(word)\n",
    "words = set(words) # so that all duplicate words are removed\n",
    "word2int = {}\n",
    "int2word = {}\n",
    "vocab_size = len(words) # gives the total number of unique words\n",
    "for i,word in enumerate(words):\n",
    "    word2int[word] = i\n",
    "    int2word[i] = word\n",
    "\n",
    "    \n",
    "# function to convert numbers to one hot vectors\n",
    "def to_one_hot(data_point_index, vocab_size):\n",
    "    temp = np.zeros(vocab_size)\n",
    "    temp[data_point_index] = 1\n",
    "    return temp\n",
    "x_train = [] # input word\n",
    "y_train = [] # output word\n",
    "for data_word in data:\n",
    "    x_train.append(to_one_hot(word2int[ data_word[0] ], vocab_size))\n",
    "    y_train.append(to_one_hot(word2int[ data_word[1] ], vocab_size))\n",
    "# convert them to numpy arrays\n",
    "x_train = np.asarray(x_train, dtype='float32')\n",
    "y_train = np.asarray(y_train, dtype='float32')\n",
    "TRAIN THE MODEL\n",
    "w2v = Word2Vec(vocab_size=vocab_size, optimizer='adam', epochs=10000)\n",
    "w2v.train(x_train, y_train)\n",
    "#training process\n",
    "tf.Tensor(2.8971386, shape=(), dtype=float32)\n",
    "tf.Tensor(1.4061855, shape=(), dtype=float32)\n",
    "tf.Tensor(1.3393705, shape=(), dtype=float32)\n",
    "tf.Tensor(1.324885, shape=(), dtype=float32)\n",
    "tf.Tensor(1.3221014, shape=(), dtype=float32)\n",
    "tf.Tensor(1.3211844, shape=(), dtype=float32)\n",
    "tf.Tensor(1.320798, shape=(), dtype=float32)\n",
    "tf.Tensor(1.3206141, shape=(), dtype=float32)\n",
    "tf.Tensor(1.3205199, shape=(), dtype=float32)\n",
    "tf.Tensor(1.3204701, shape=(), dtype=float32)\n",
    "Let check how the word “queen” looks like in vector space:\n",
    "\n",
    "w2v.vectozied(word2int['queen'])\n",
    "<tf.Tensor: id=1920489, shape=(5,), dtype=float32, numpy=\n",
    "array([-0.34213448,  0.83041203,  1.1423318 , -0.87035054,  2.8295236 ],\n",
    "      dtype=float32)>\n",
    "VISUALISE WORDS IN 2D SPACE\n",
    "Transform to 2d space\n",
    "\n",
    "from sklearn.manifold import TSNE\n",
    "from sklearn import preprocessing\n",
    "model = TSNE(n_components=2, random_state=0)\n",
    "np.set_printoptions(suppress=True)\n",
    "vectors = model.fit_transform(vectors)\n",
    "normalizer = preprocessing.Normalizer()\n",
    "vectors =  normalizer.fit_transform(vectors, 'l2')\n",
    "Plot all words\n",
    "\n",
    "import matplotlib.pyplot as plt\n",
    "fig, ax = plt.subplots()\n",
    "ax.set_xlim(left=-1, right=1)\n",
    "ax.set_ylim(bottom=-1, top=1)\n",
    "for word in words:\n",
    "    print(word, vectors[word2int[word]][1])\n",
    "    ax.annotate(word, (vectors[word2int[word]][0],vectors[word2int[word]][1] ))\n",
    "plt.show()\n",
    "\n",
    "words in 2D space\n",
    "she 0.03894128\n",
    "is -0.53304255\n",
    "queen -0.97676146\n",
    "he -0.99200153\n",
    "the 0.51811576\n",
    "royal -0.7622982\n",
    "king 0.93413407"
   ]
  },
  {
   "cell_type": "code",
   "execution_count": null,
   "id": "d94a0db1",
   "metadata": {},
   "outputs": [],
   "source": []
  }
 ],
 "metadata": {
  "kernelspec": {
   "display_name": "Python 3 (ipykernel)",
   "language": "python",
   "name": "python3"
  },
  "language_info": {
   "codemirror_mode": {
    "name": "ipython",
    "version": 3
   },
   "file_extension": ".py",
   "mimetype": "text/x-python",
   "name": "python",
   "nbconvert_exporter": "python",
   "pygments_lexer": "ipython3",
   "version": "3.10.6"
  }
 },
 "nbformat": 4,
 "nbformat_minor": 5
}
