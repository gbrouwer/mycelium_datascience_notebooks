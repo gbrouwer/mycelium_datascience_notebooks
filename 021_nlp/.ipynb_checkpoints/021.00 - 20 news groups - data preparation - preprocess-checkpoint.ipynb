{
 "cells": [
  {
   "cell_type": "markdown",
   "id": "d7fa1577",
   "metadata": {},
   "source": [
    "### import"
   ]
  },
  {
   "cell_type": "code",
   "execution_count": 54,
   "id": "00d95de5",
   "metadata": {},
   "outputs": [],
   "source": [
    "import numpy as np\n",
    "import os\n",
    "import sys\n",
    "import json\n",
    "import pickle\n",
    "import re\n",
    "import matplotlib.pyplot as plt\n",
    "from tqdm import tqdm"
   ]
  },
  {
   "cell_type": "markdown",
   "id": "13366330",
   "metadata": {},
   "source": [
    "### Load"
   ]
  },
  {
   "cell_type": "code",
   "execution_count": 55,
   "id": "9e1d70f9",
   "metadata": {},
   "outputs": [],
   "source": [
    "test_data = favorite_color = pickle.load( open( \"../../data/20newsgroups/pickle/test.p\", \"rb\"))\n",
    "train_data = favorite_color = pickle.load( open( \"../../data/20newsgroups/pickle/train.p\", \"rb\"))\n",
    "test_corpus = test_data['corpus']\n",
    "test_categories = test_data['category']\n",
    "train_corpus = train_data['corpus']\n",
    "train_categories = train_data['category']"
   ]
  },
  {
   "cell_type": "markdown",
   "id": "075d48ac",
   "metadata": {},
   "source": [
    "### Read Stopwords"
   ]
  },
  {
   "cell_type": "code",
   "execution_count": 56,
   "id": "90e30d4d",
   "metadata": {},
   "outputs": [],
   "source": [
    "stopwords = []\n",
    "with open('../../data/meta/stopwords','r') as f:\n",
    "    for line in f:\n",
    "        stopwords.append(line.rstrip())"
   ]
  },
  {
   "cell_type": "markdown",
   "id": "e2c77577",
   "metadata": {},
   "source": [
    "### Clean Test"
   ]
  },
  {
   "cell_type": "code",
   "execution_count": 58,
   "id": "07823ef7",
   "metadata": {},
   "outputs": [],
   "source": [
    "test_corpus_clean = []\n",
    "for i in range(len(test_corpus)):\n",
    "    text = test_corpus[i]\n",
    "    text = re.sub('\\S+@\\S+',' ',text)\n",
    "    text = text.replace('In-Reply-To:','')\n",
    "    text = text.replace('Subject:','')\n",
    "    text = text.replace(\"'s\",\"\")\n",
    "    text = text.replace(\"'\",\"\")\n",
    "    text = re.sub(r'[^a-zA-Z0-9]',' ', text)\n",
    "    text = text.lower()\n",
    "    words = text.split(' ')\n",
    "    words = [word for word in words if len(word) > 1]\n",
    "    words = [word for word in words if word not in stopwords]    \n",
    "    text = ' '.join(words)\n",
    "    test_corpus_clean.append(text)\n",
    "data = {}\n",
    "data['corpus'] = test_corpus_clean\n",
    "data['category'] = test_categories\n",
    "pickle.dump( data, open( \"../../data/20newsgroups/pickle/test_clean.p\", \"wb\" ) )        "
   ]
  },
  {
   "cell_type": "markdown",
   "id": "68165835",
   "metadata": {},
   "source": [
    "### Clear Train"
   ]
  },
  {
   "cell_type": "code",
   "execution_count": 59,
   "id": "5101ef04",
   "metadata": {},
   "outputs": [],
   "source": [
    "train_corpus_clean = []\n",
    "for i in range(len(train_corpus)):\n",
    "    text = train_corpus[i]\n",
    "    text = re.sub('\\S+@\\S+',' ',text)\n",
    "    text = text.replace('In-Reply-To:','')\n",
    "    text = text.replace('Subject:','')\n",
    "    text = text.replace(\"'s\",\"\")\n",
    "    text = text.replace(\"'\",\"\")\n",
    "    text = re.sub(r'[^a-zA-Z0-9]',' ', text)\n",
    "    text = text.lower()\n",
    "    words = text.split(' ')\n",
    "    words = [word for word in words if len(word) > 1]\n",
    "    words = [word for word in words if word not in stopwords]    \n",
    "    text = ' '.join(words)\n",
    "    train_corpus_clean.append(text)\n",
    "data = {}\n",
    "data['corpus'] = train_corpus_clean\n",
    "data['category'] = train_categories\n",
    "pickle.dump( data, open( \"../../data/20newsgroups/pickle/train_clean.p\", \"wb\" ) )    "
   ]
  }
 ],
 "metadata": {
  "kernelspec": {
   "display_name": "Python 3 (ipykernel)",
   "language": "python",
   "name": "python3"
  },
  "language_info": {
   "codemirror_mode": {
    "name": "ipython",
    "version": 3
   },
   "file_extension": ".py",
   "mimetype": "text/x-python",
   "name": "python",
   "nbconvert_exporter": "python",
   "pygments_lexer": "ipython3",
   "version": "3.10.6"
  }
 },
 "nbformat": 4,
 "nbformat_minor": 5
}
