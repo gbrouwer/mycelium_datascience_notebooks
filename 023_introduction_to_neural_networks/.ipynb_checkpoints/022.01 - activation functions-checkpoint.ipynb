{
 "cells": [
  {
   "cell_type": "markdown",
   "id": "ccf0a3bb",
   "metadata": {},
   "source": [
    "# Activation Functions\n",
    "Some plots to visualize activation function"
   ]
  },
  {
   "cell_type": "markdown",
   "id": "8d3abbc9",
   "metadata": {},
   "source": [
    "### Import"
   ]
  },
  {
   "cell_type": "code",
   "execution_count": 1,
   "id": "8a39c15f",
   "metadata": {},
   "outputs": [],
   "source": [
    "import os\n",
    "import numpy as np\n",
    "import matplotlib.pyplot as plt\n",
    "from sklearn.datasets import make_classification\n",
    "from sklearn.model_selection import train_test_split"
   ]
  },
  {
   "cell_type": "markdown",
   "id": "e7c5635a",
   "metadata": {},
   "source": [
    "### Fonts"
   ]
  },
  {
   "cell_type": "code",
   "execution_count": 2,
   "id": "220eeaa3",
   "metadata": {},
   "outputs": [],
   "source": [
    "csfont = {'fontname':'Georgia'}\n",
    "hfont = {'fontname':'Helvetica'}"
   ]
  },
  {
   "cell_type": "markdown",
   "id": "9e8d733b",
   "metadata": {},
   "source": [
    "### Sigmoid function"
   ]
  },
  {
   "cell_type": "code",
   "execution_count": 10,
   "id": "65a9e301",
   "metadata": {},
   "outputs": [],
   "source": [
    "def sigmoid(x):\n",
    "    return 1  / (1 + np.exp(-x))"
   ]
  },
  {
   "cell_type": "markdown",
   "id": "bb56f06f",
   "metadata": {},
   "source": [
    "### ReLu function"
   ]
  },
  {
   "cell_type": "code",
   "execution_count": 3,
   "id": "824fa667",
   "metadata": {},
   "outputs": [],
   "source": [
    "def compute_loss(y,p):\n",
    "    \n",
    "    loss = -np.sum(np.dot(y.T,np.log(p+0.0000001) + np.dot((1-y).T,np.log(1-p)))) /(len(p))   \n",
    "    return loss"
   ]
  },
  {
   "cell_type": "markdown",
   "id": "f3179f7f",
   "metadata": {},
   "source": [
    "### Predict"
   ]
  },
  {
   "cell_type": "code",
   "execution_count": 110,
   "id": "5bdcd7d7",
   "metadata": {},
   "outputs": [],
   "source": [
    "def predict(X,w):\n",
    "    \n",
    "    H = sigmoid(np.dot(X,w))\n",
    "    return H"
   ]
  },
  {
   "cell_type": "markdown",
   "id": "3d992060",
   "metadata": {},
   "source": [
    "### Create Data"
   ]
  },
  {
   "cell_type": "code",
   "execution_count": 111,
   "id": "df9d59b2",
   "metadata": {},
   "outputs": [],
   "source": [
    "n_samples = 4000\n",
    "n_features = 200\n",
    "class_sep = 0.75\n",
    "X, y = make_classification(n_samples=n_samples,\n",
    "                           n_features=n_features,\n",
    "                           n_informative=n_features,\n",
    "                           n_redundant=0,\n",
    "                           random_state=40,\n",
    "                           class_sep=class_sep)"
   ]
  },
  {
   "cell_type": "markdown",
   "id": "b610c3c3",
   "metadata": {},
   "source": [
    "### Divide into train, test and validation data sets\n",
    "There aren't any scikit-learn inbuilt methods that divide our data threeways (test, train, validation), but it does offer a two way seperation. Running it twice allows us to achieve the threeway split we need."
   ]
  },
  {
   "cell_type": "code",
   "execution_count": 112,
   "id": "d91f1ca6",
   "metadata": {},
   "outputs": [],
   "source": [
    "ratios = [0.8,0.1,0.1]\n",
    "X, X_val, y, y_val = train_test_split(X, y, test_size=ratios[-1], random_state=40)\n",
    "X_train, X_test, y_train, y_test = train_test_split(X, y, test_size=ratios[-2], random_state=40)"
   ]
  },
  {
   "cell_type": "markdown",
   "id": "b04b2cf2",
   "metadata": {},
   "source": [
    "### Create the bias node by repurposing the last regressor and setting it to a constant 1"
   ]
  },
  {
   "cell_type": "code",
   "execution_count": 113,
   "id": "71995306",
   "metadata": {
    "scrolled": true
   },
   "outputs": [],
   "source": [
    "X_train[:,-1] = 1\n",
    "X_test[:,-1] = 1\n",
    "X_val[:,-1] = 1"
   ]
  },
  {
   "cell_type": "markdown",
   "id": "6ea08df0",
   "metadata": {},
   "source": [
    "### Initialize"
   ]
  },
  {
   "cell_type": "code",
   "execution_count": 114,
   "id": "2ce6bc73",
   "metadata": {},
   "outputs": [],
   "source": [
    "w = np.random.randn(n_features)*0.1\n",
    "learning_rate = 0.01\n",
    "batch_size = 1000\n",
    "no_epoch = 400"
   ]
  },
  {
   "cell_type": "markdown",
   "id": "aca4569a",
   "metadata": {},
   "source": [
    "### Gradient Descent"
   ]
  },
  {
   "cell_type": "code",
   "execution_count": 117,
   "id": "7226fefd",
   "metadata": {},
   "outputs": [],
   "source": [
    "loss_train = []\n",
    "loss_test = []\n",
    "accuracy_train = []\n",
    "accuracy_test = []\n",
    "for epoch in range(no_epoch):\n",
    "    \n",
    "    #Get Batch Data\n",
    "    indices = np.random.permutation(X_train.shape[0])[:batch_size]\n",
    "    X_batch = X_train[indices]\n",
    "    y_batch = y_train[indices]\n",
    "\n",
    "    #Compute gradients and update weights\n",
    "    gradients = 2/batch_size * np.dot(X_batch.T,sigmoid(np.dot(X_batch,w)) - y_batch)\n",
    "    w = w - learning_rate * gradients\n",
    "\n",
    "    #Compute Loss training\n",
    "    y_prob = sigmoid(np.dot(X_batch,w))\n",
    "    y_pred = 1.0*(y_prob>0.5)\n",
    "    loss = compute_loss(y_batch,y_prob)\n",
    "    loss_train.append(loss)\n",
    "\n",
    "    #Compute Accuracy Training Data\n",
    "    accuracy = np.sum(y_pred == y_batch) / len(y_pred)\n",
    "    accuracy_train.append(accuracy)\n",
    "\n",
    "    #Compute Loss testing\n",
    "    y_prob = sigmoid(np.dot(X_test,w))\n",
    "    loss = compute_loss(y_test,y_prob)\n",
    "    y_pred = 1.0*(y_prob>0.5)\n",
    "    accuracy = np.sum(y_pred == y_test) / len(y_pred)\n",
    "    accuracy_test.append(accuracy)\n",
    "    loss_test.append(loss)\n",
    "\n",
    "loss_train = np.array(loss_train)\n",
    "loss_test = np.array(loss_test)\n",
    "accuracy_train = np.array(accuracy_train)\n",
    "accuracy_test = np.array(accuracy_test)"
   ]
  },
  {
   "cell_type": "markdown",
   "id": "18578300",
   "metadata": {},
   "source": [
    "### Plot Loss"
   ]
  },
  {
   "cell_type": "code",
   "execution_count": 116,
   "id": "d72e57c0",
   "metadata": {},
   "outputs": [
    {
     "data": {
      "image/png": "[encoded data removed]",
      "text/plain": [
       "<Figure size 864x432 with 2 Axes>"
      ]
     },
     "metadata": {
      "needs_background": "light"
     },
     "output_type": "display_data"
    }
   ],
   "source": [
    "plt.figure(figsize=(12,6));\n",
    "plt.subplot(1,2,1)\n",
    "plt.plot(loss_train,'k');\n",
    "plt.plot(loss_test,'r');\n",
    "plt.xlabel('epoch',fontsize=18);\n",
    "plt.ylabel('loss',fontsize=18);\n",
    "plt.grid();\n",
    "\n",
    "plt.subplot(1,2,2)\n",
    "plt.plot(accuracy_train,'k');\n",
    "plt.plot(accuracy_test,'r');\n",
    "plt.xlabel('epoch',fontsize=18);\n",
    "plt.ylabel('accuracy',fontsize=18);\n",
    "plt.grid();"
   ]
  },
  {
   "cell_type": "code",
   "execution_count": 345,
   "id": "bf8ffc72",
   "metadata": {},
   "outputs": [
    {
     "data": {
      "text/plain": [
       "array([274.97392136])"
      ]
     },
     "execution_count": 345,
     "metadata": {},
     "output_type": "execute_result"
    }
   ],
   "source": []
  },
  {
   "cell_type": "code",
   "execution_count": null,
   "id": "65d14858",
   "metadata": {},
   "outputs": [],
   "source": []
  }
 ],
 "metadata": {
  "kernelspec": {
   "display_name": "Python 3 (ipykernel)",
   "language": "python",
   "name": "python3"
  },
  "language_info": {
   "codemirror_mode": {
    "name": "ipython",
    "version": 3
   },
   "file_extension": ".py",
   "mimetype": "text/x-python",
   "name": "python",
   "nbconvert_exporter": "python",
   "pygments_lexer": "ipython3",
   "version": "3.9.6"
  }
 },
 "nbformat": 4,
 "nbformat_minor": 5
}
