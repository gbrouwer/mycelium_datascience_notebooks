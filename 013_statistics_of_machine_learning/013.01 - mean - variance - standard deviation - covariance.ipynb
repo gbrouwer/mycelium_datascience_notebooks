{
 "cells": [
  {
   "cell_type": "markdown",
   "id": "c9a4b062-3a47-4716-9553-7d3853491dd0",
   "metadata": {},
   "source": [
    "### Import"
   ]
  },
  {
   "cell_type": "code",
   "execution_count": 2,
   "id": "7e5eef70-49fc-43ed-86d2-ddb5cacb5db0",
   "metadata": {},
   "outputs": [],
   "source": [
    "import os\n",
    "import numpy as np\n",
    "import sys\n",
    "import matplotlib.pyplot as plt\n",
    "from scipy.stats import multivariate_normal as mnorm\n",
    "from matplotlib.colors import LogNorm\n",
    "from sklearn import mixture\n",
    "from mpl_toolkits import mplot3d"
   ]
  },
  {
   "cell_type": "markdown",
   "id": "7add0ca1-ce7c-4949-97ea-663852b7a824",
   "metadata": {},
   "source": [
    "### Fonts"
   ]
  },
  {
   "cell_type": "code",
   "execution_count": 3,
   "id": "f63f7058-45c1-4ca8-b836-a3ae32151f75",
   "metadata": {},
   "outputs": [],
   "source": [
    "csfont = {'fontname':'Georgia'}\n",
    "hfont = {'fontname':'Helvetica'}"
   ]
  },
  {
   "cell_type": "markdown",
   "id": "01e9d39d-92a8-4a83-bee4-d4e0cfc1274c",
   "metadata": {},
   "source": [
    "### Create Random Points"
   ]
  },
  {
   "cell_type": "code",
   "execution_count": 31,
   "id": "b7862ec0-8b40-4bc1-a375-3844a66fb2bf",
   "metadata": {},
   "outputs": [],
   "source": [
    "npoints = 25\n",
    "x_mu = 0\n",
    "x_sigma = 1\n",
    "y_mu = 0\n",
    "y_sigma = 1\n",
    "rv_x = mnorm(x_mu,x_sigma)\n",
    "rv_y = mnorm(y_mu,y_sigma)\n",
    "x = rv_x.rvs(npoints)\n",
    "y = rv_y.rvs(npoints)\n",
    "a = 1.25\n",
    "b = -0.50\n",
    "n = np.random.normal(0,0.75**2,npoints)\n",
    "y = (a*x + n) + b"
   ]
  },
  {
   "cell_type": "markdown",
   "id": "03abc930",
   "metadata": {},
   "source": [
    "### Plot"
   ]
  },
  {
   "cell_type": "code",
   "execution_count": 32,
   "id": "83ca53bb-7d32-40c9-9191-4f64acacbf46",
   "metadata": {},
   "outputs": [
    {
     "data": {
      "image/png": "[encoded data removed]",
      "text/plain": [
       "<Figure size 432x432 with 1 Axes>"
      ]
     },
     "metadata": {
      "needs_background": "light"
     },
     "output_type": "display_data"
    }
   ],
   "source": [
    "plt.figure(figsize=(6,6));\n",
    "plt.scatter(x,y,s=50,c='k')\n",
    "plt.axis((-4,4,-4,4));\n",
    "plt.xticks(fontsize=14,**csfont);\n",
    "plt.yticks(fontsize=14,**csfont);\n",
    "plt.xlabel('x',fontsize=22,**csfont)\n",
    "plt.ylabel('y',fontsize=22,**csfont)\n",
    "plt.grid()\n",
    "plt.savefig('../../assets/figures/013/mean_var_std_cov.png',bbox_inches=\"tight\")\n",
    "plt.show();"
   ]
  },
  {
   "cell_type": "markdown",
   "id": "a5fac516",
   "metadata": {},
   "source": [
    "### Create Latex Table"
   ]
  },
  {
   "cell_type": "code",
   "execution_count": null,
   "id": "964f8915",
   "metadata": {},
   "outputs": [],
   "source": [
    "    #Left matrix\n",
    "    left_str = '\\\\begin{bmatrix}\\n'\n",
    "    for i in range(X.shape[0]):\n",
    "        for j in range(X.shape[1]):\n",
    "            if (X[i,j] < 0):\n",
    "                left_str = left_str + \"{\" + '{0:.2f}'.format(X[i,j]) + \"} & \"\n",
    "            else:\n",
    "                left_str = left_str + \"{\" + '+{0:.2f}'.format(X[i,j]) + \"} & \"\n",
    "        left_str = left_str[:-2] + ' \\\\\\\\ \\n'\n",
    "    left_str = left_str + '\\\\end{bmatrix}'\n",
    "\n",
    "    #Middle matrix\n",
    "    middle_str = '\\\\begin{bmatrix}\\n'\n",
    "    for i in range(T.shape[0]):\n",
    "        for j in range(T.shape[1]):\n",
    "            if (T[i,j] < 0):\n",
    "                middle_str = middle_str + \"{\" + '{0:.2f}'.format(T[i,j]) + \"} & \"\n",
    "            else:\n",
    "                middle_str = middle_str + \"{\" + '+{0:.2f}'.format(T[i,j]) + \"} & \"\n",
    "        middle_str = middle_str[:-2] + ' \\\\\\\\ \\n'\n",
    "    middle_str = middle_str + '\\\\end{bmatrix}'\n",
    "\n",
    "    #Right matrix\n",
    "    right_str = '\\\\begin{bmatrix}\\n'\n",
    "    for i in range(XT.shape[0]):\n",
    "        for j in range(XT.shape[1]):\n",
    "            if (XT[i,j] < 0):\n",
    "                right_str = right_str + \"{\" + '{0:.2f}'.format(XT[i,j]) + \"} & \"\n",
    "            else:\n",
    "                right_str = right_str + \"{\" + '+{0:.2f}'.format(XT[i,j]) + \"} & \"\n",
    "        right_str = right_str[:-2] + ' \\\\\\\\ \\n'\n",
    "    right_str = right_str + '\\\\end{bmatrix}'\n",
    "\n",
    "    #Draw Equation\n",
    "    equation = left_str + '\\n\\cdot\\n' + middle_str + '\\n=\\n' + right_str\n",
    "\n",
    "    #Create latex step by step computation\n",
    "    for i in range(X.shape[0]):\n",
    "        for j in range(X.shape[1]):\n",
    "            left = X[i,:]\n",
    "            right = T[:,j]\n",
    "            mystr = ''\n",
    "            for m in range(len(left)):\n",
    "                mystr = mystr + '({0:.2f}'.format(left[m]) + ' \\cdot ' + '{0:.2f})'.format(right[m]) + ' + '\n",
    "            mystr = mystr[:-2] + '= ' '{0:.2f}'.format(np.sum(left*right)) + ' \\\\\\\\'  + ' \\\\\\\\'\n",
    "\n",
    "    #Return\n",
    "    return mystr"
   ]
  },
  {
   "cell_type": "code",
   "execution_count": null,
   "id": "934281a3",
   "metadata": {},
   "outputs": [],
   "source": []
  }
 ],
 "metadata": {
  "kernelspec": {
   "display_name": "Python 3 (ipykernel)",
   "language": "python",
   "name": "python3"
  },
  "language_info": {
   "codemirror_mode": {
    "name": "ipython",
    "version": 3
   },
   "file_extension": ".py",
   "mimetype": "text/x-python",
   "name": "python",
   "nbconvert_exporter": "python",
   "pygments_lexer": "ipython3",
   "version": "3.9.6"
  }
 },
 "nbformat": 4,
 "nbformat_minor": 5
}
