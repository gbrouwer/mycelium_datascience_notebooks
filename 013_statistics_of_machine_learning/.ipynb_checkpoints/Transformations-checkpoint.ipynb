{
 "cells": [
  {
   "cell_type": "markdown",
   "id": "e85447bd",
   "metadata": {},
   "source": [
    "### Import"
   ]
  },
  {
   "cell_type": "code",
   "execution_count": 201,
   "id": "44dde120",
   "metadata": {},
   "outputs": [],
   "source": [
    "import os\n",
    "import numpy as np\n",
    "import sys\n",
    "import matplotlib.pyplot as plt\n",
    "from sklearn.datasets import make_blobs\n",
    "from scipy.spatial.distance import cdist\n",
    "from scipy.spatial.distance import pdist\n",
    "from scipy.spatial.distance import squareform\n",
    "from scipy.stats import multivariate_normal as mnorm\n",
    "from mpl_toolkits import mplot3d\n",
    "from tqdm import tqdm"
   ]
  },
  {
   "cell_type": "markdown",
   "id": "502b0b65",
   "metadata": {},
   "source": [
    "### Create Data"
   ]
  },
  {
   "cell_type": "code",
   "execution_count": 202,
   "id": "cf70cba6",
   "metadata": {},
   "outputs": [],
   "source": [
    "mu = [-50,-50]\n",
    "sigma = np.array([[75,-25],[-50,150]])*2\n",
    "rv = mnorm(mu,sigma)\n",
    "x = np.linspace(-100,100,201)\n",
    "y = np.linspace(-100,100,201)\n",
    "X,Y = np.meshgrid(x, y)\n",
    "XX = np.array([X.ravel(), Y.ravel()]).T\n",
    "Z = rv.pdf(XX).reshape(X.shape)\n",
    "P = rv.rvs(100)\n",
    "O = np.ones((100,1))\n",
    "P = np.hstack((P,O))"
   ]
  },
  {
   "cell_type": "markdown",
   "id": "bc9cac86",
   "metadata": {},
   "source": [
    "### Display Curve"
   ]
  },
  {
   "cell_type": "code",
   "execution_count": 203,
   "id": "d836d548",
   "metadata": {},
   "outputs": [],
   "source": [
    "xval = np.linspace(270,360,361) / 180 * np.pi\n",
    "cx = (np.sin(xval) * 50) + 100\n",
    "cy = (np.cos(xval) * 50) + 100"
   ]
  },
  {
   "cell_type": "markdown",
   "id": "19915f11",
   "metadata": {},
   "source": [
    "### Translation"
   ]
  },
  {
   "cell_type": "code",
   "execution_count": 229,
   "id": "2047e33b",
   "metadata": {},
   "outputs": [
    {
     "data": {
      "image/png": "[encoded data removed]",
      "text/plain": [
       "<Figure size 648x216 with 3 Axes>"
      ]
     },
     "metadata": {
      "needs_background": "light"
     },
     "output_type": "display_data"
    }
   ],
   "source": [
    "plt.figure(figsize=(9,3));\n",
    "for i in range(50):\n",
    "    translation = [i,i]\n",
    "    T = np.eye(3)\n",
    "    T[2,0] = translation[0]\n",
    "    T[2,1] = translation[1]\n",
    "    PT = np.dot(P,T)\n",
    "    plt.clf()\n",
    "    plt.subplot(1,3,1);plt.axis('off')\n",
    "    plt.subplot(1,3,2)\n",
    "    plt.scatter(PT[:,0],PT[:,1],c='gray');\n",
    "    plt.axis((-100,100,-100,100));\n",
    "    plt.xlabel('x',fontsize=18)\n",
    "    plt.ylabel('y',fontsize=18)\n",
    "    plt.grid()\n",
    "    plt.subplot(1,3,3);plt.axis('off')\n",
    "    plt.savefig('../../assets/gifs/011/translation/' + str(i) + '.png',dpi=150,bbox_inches='tight')"
   ]
  },
  {
   "cell_type": "markdown",
   "id": "f1824693",
   "metadata": {},
   "source": [
    "### Rotation"
   ]
  },
  {
   "cell_type": "code",
   "execution_count": 230,
   "id": "cb2dda0d",
   "metadata": {},
   "outputs": [
    {
     "data": {
      "image/png": "[encoded data removed]",
      "text/plain": [
       "<Figure size 648x216 with 3 Axes>"
      ]
     },
     "metadata": {
      "needs_background": "light"
     },
     "output_type": "display_data"
    }
   ],
   "source": [
    "plt.figure(figsize=(9,3));\n",
    "for i in range(45):\n",
    "    rotation = i / 180 * np.pi\n",
    "    R = np.eye(3)\n",
    "    R[0,0] = np.cos(rotation)\n",
    "    R[0,1] = -np.sin(rotation)\n",
    "    R[1,0] = np.sin(rotation)\n",
    "    R[1,1] = np.cos(rotation)\n",
    "    PTR = np.dot(PT,R)\n",
    "    plt.clf()\n",
    "    plt.subplot(1,3,1);plt.axis('off')\n",
    "    plt.subplot(1,3,2)\n",
    "    plt.scatter(PTR[:,0],PTR[:,1],c='gray');\n",
    "    plt.axis((-100,100,-100,100));\n",
    "    plt.xlabel('x',fontsize=18)\n",
    "    plt.ylabel('y',fontsize=18)\n",
    "    plt.grid()\n",
    "    plt.subplot(1,3,3);plt.axis('off')\n",
    "    plt.savefig('../../assets/gifs/011/rotation/' + str(i) + '.png',dpi=150,bbox_inches='tight')"
   ]
  },
  {
   "cell_type": "markdown",
   "id": "e97757e6",
   "metadata": {},
   "source": [
    "### Scaling"
   ]
  },
  {
   "cell_type": "code",
   "execution_count": 233,
   "id": "1d49640a",
   "metadata": {},
   "outputs": [
    {
     "data": {
      "image/png": "[encoded data removed]",
      "text/plain": [
       "<Figure size 648x216 with 3 Axes>"
      ]
     },
     "metadata": {
      "needs_background": "light"
     },
     "output_type": "display_data"
    }
   ],
   "source": [
    "plt.figure(figsize=(9,3));\n",
    "for i in range(45):\n",
    "    scalar = 1 + (0.00666666666 * i)\n",
    "    Sc = [scalar,1/scalar] \n",
    "    S = np.eye(3)\n",
    "    S[0,0] = Sc[0]\n",
    "    S[1,1] = Sc[1]\n",
    "    PTRS = np.dot(PTR,S)\n",
    "    plt.clf()\n",
    "    plt.subplot(1,3,1);plt.axis('off')\n",
    "    plt.subplot(1,3,2)\n",
    "    plt.scatter(PTRS[:,0],PTRS[:,1],c='gray');\n",
    "    plt.axis((-100,100,-100,100));\n",
    "    plt.xlabel('x',fontsize=18)\n",
    "    plt.ylabel('y',fontsize=18)\n",
    "    plt.grid()\n",
    "    plt.subplot(1,3,3);plt.axis('off')\n",
    "    plt.savefig('../../assets/gifs/011/scaling/' + str(i) + '.png',dpi=150,bbox_inches='tight')"
   ]
  },
  {
   "cell_type": "markdown",
   "id": "b188e570",
   "metadata": {},
   "source": [
    "### Combined"
   ]
  },
  {
   "cell_type": "code",
   "execution_count": null,
   "id": "de93871b",
   "metadata": {},
   "outputs": [],
   "source": [
    "plt.figure(figsize=(9,3));\n",
    "for i in range(45):\n",
    "    translation = [i*1.11111,i*1.111111]\n",
    "    T = np.eye(3)\n",
    "    T[2,0] = translation[0]\n",
    "    T[2,1] = translation[1]\n",
    "    rotation = i / 180 * np.pi\n",
    "    R = np.eye(3)\n",
    "    R[0,0] = np.cos(rotation)\n",
    "    R[0,1] = -np.sin(rotation)\n",
    "    R[1,0] = np.sin(rotation)\n",
    "    R[1,1] = np.cos(rotation)\n",
    "    scalar = 1 + (0.00666666666 * i)\n",
    "    Sc = [scalar,1/scalar] \n",
    "    S = np.eye(3)\n",
    "    S[0,0] = Sc[0]\n",
    "    S[1,1] = Sc[1]\n",
    "    M = np.dot(np.dot(T,R),S)\n",
    "    PTRS = np.dot(P,M)\n",
    "    plt.clf()\n",
    "    plt.subplot(1,3,1);plt.axis('off')\n",
    "    plt.subplot(1,3,2)\n",
    "    plt.scatter(PTRS[:,0],PTRS[:,1],c='gray');\n",
    "    plt.axis((-100,100,-100,100));\n",
    "    plt.xlabel('x',fontsize=18)\n",
    "    plt.ylabel('y',fontsize=18)\n",
    "    plt.grid()\n",
    "    plt.subplot(1,3,3);plt.axis('off')\n",
    "    plt.savefig('../../assets/gifs/011/combined/' + str(i) + '.png',dpi=150,bbox_inches='tight')"
   ]
  }
 ],
 "metadata": {
  "kernelspec": {
   "display_name": "Python 3 (ipykernel)",
   "language": "python",
   "name": "python3"
  },
  "language_info": {
   "codemirror_mode": {
    "name": "ipython",
    "version": 3
   },
   "file_extension": ".py",
   "mimetype": "text/x-python",
   "name": "python",
   "nbconvert_exporter": "python",
   "pygments_lexer": "ipython3",
   "version": "3.7.3"
  }
 },
 "nbformat": 4,
 "nbformat_minor": 5
}
