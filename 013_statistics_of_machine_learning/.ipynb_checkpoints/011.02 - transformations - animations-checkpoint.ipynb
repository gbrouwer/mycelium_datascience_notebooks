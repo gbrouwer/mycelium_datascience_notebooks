{
 "cells": [
  {
   "cell_type": "markdown",
   "id": "e85447bd",
   "metadata": {},
   "source": [
    "### Import"
   ]
  },
  {
   "cell_type": "code",
   "execution_count": 4,
   "id": "44dde120",
   "metadata": {},
   "outputs": [],
   "source": [
    "import os\n",
    "import numpy as np\n",
    "import sys\n",
    "import matplotlib.pyplot as plt\n",
    "from sklearn.datasets import make_blobs\n",
    "from scipy.spatial.distance import cdist\n",
    "from scipy.spatial.distance import pdist\n",
    "from scipy.spatial.distance import squareform\n",
    "from scipy.stats import multivariate_normal as mnorm\n",
    "from mpl_toolkits import mplot3d\n",
    "np.random.seed(182)"
   ]
  },
  {
   "cell_type": "markdown",
   "id": "890a18f7",
   "metadata": {},
   "source": [
    "### Original Data"
   ]
  },
  {
   "cell_type": "code",
   "execution_count": 25,
   "id": "1d49640a",
   "metadata": {},
   "outputs": [],
   "source": [
    "X = np.ones((5,3))\n",
    "X[0,0] = -5\n",
    "X[1,0] = -5\n",
    "X[2,0] = 5\n",
    "X[3,0] = 5\n",
    "X[4,0] = 0\n",
    "X[0,1] = -5\n",
    "X[1,1] = 5\n",
    "X[2,1] = 5\n",
    "X[3,1] = -5\n",
    "X[4,1] = 0"
   ]
  },
  {
   "cell_type": "markdown",
   "id": "e77ee12e",
   "metadata": {},
   "source": [
    "### Translate to 0,0"
   ]
  },
  {
   "cell_type": "code",
   "execution_count": 29,
   "id": "96998218",
   "metadata": {},
   "outputs": [
    {
     "data": {
      "text/plain": [
       "<Figure size 432x432 with 0 Axes>"
      ]
     },
     "metadata": {},
     "output_type": "display_data"
    }
   ],
   "source": [
    "plt.figure(figsize=(6,6));\n",
    "x_increment = 5/50\n",
    "y_increment = -10/50\n",
    "XT = X.copy()\n",
    "for i in range(50):\n",
    "    XT[:,0] = x_increment + XT[:,0]\n",
    "    XT[:,1] = y_increment + XT[:,1]    \n",
    "    plt.scatter(XT[:,0],XT[:,1],s=100,zorder=100,color='k');\n",
    "    plt.axis((-20,20,-20,20))\n",
    "    plt.savefig('../../assets/gifs/011/translation/' + str(i).zfill(3) + '.png');\n",
    "    plt.clf();"
   ]
  },
  {
   "cell_type": "markdown",
   "id": "67d0c275",
   "metadata": {},
   "source": [
    "### Rotate"
   ]
  },
  {
   "cell_type": "code",
   "execution_count": 30,
   "id": "fa384c1b",
   "metadata": {},
   "outputs": [
    {
     "data": {
      "text/plain": [
       "<Figure size 432x432 with 0 Axes>"
      ]
     },
     "metadata": {},
     "output_type": "display_data"
    }
   ],
   "source": [
    "degree_angle = 30/50\n",
    "rad_angle = degree_angle / 180 * np.pi\n",
    "R = np.eye(3)\n",
    "R[:2,:2] = np.array([[np.cos(rad_angle),-np.sin(rad_angle)],[np.sin(rad_angle),np.cos(rad_angle)]])\n",
    "XR = X.copy()\n",
    "plt.figure(figsize=(6,6));\n",
    "for i in range(50):\n",
    "    XR = np.dot(XR,R)\n",
    "    plt.scatter(XR[:,0],XR[:,1],s=100,zorder=100,color='k');\n",
    "    plt.axis((-20,20,-20,20));\n",
    "    plt.grid();\n",
    "    plt.savefig('../../assets/gifs/011/rotation/' + str(i).zfill(3) + '.png');\n",
    "    plt.clf();"
   ]
  },
  {
   "cell_type": "markdown",
   "id": "9c453649",
   "metadata": {},
   "source": [
    "### Scale"
   ]
  },
  {
   "cell_type": "code",
   "execution_count": 31,
   "id": "b7f3a269",
   "metadata": {},
   "outputs": [
    {
     "data": {
      "text/plain": [
       "<Figure size 432x432 with 0 Axes>"
      ]
     },
     "metadata": {},
     "output_type": "display_data"
    }
   ],
   "source": [
    "plt.figure(figsize=(6,6));\n",
    "XS = X.copy()\n",
    "for i in range(50):\n",
    "    ratio_x = 1 + (i/50 * 0.5)\n",
    "    ratio_y = 1 + (i/50 * 0.25)\n",
    "    XS[:,0] = X[:,0] * ratio_x\n",
    "    XS[:,1] = X[:,1] * ratio_y\n",
    "    plt.scatter(XS[:,0],XS[:,1],s=100,zorder=100,color='k');\n",
    "    plt.axis((-20,20,-20,20));\n",
    "    plt.grid();\n",
    "    plt.savefig('../../assets/gifs/011/scaling/' + str(i).zfill(3) + '.png');\n",
    "    plt.clf();"
   ]
  },
  {
   "cell_type": "markdown",
   "id": "d1c98d4c",
   "metadata": {},
   "source": [
    "### Shear"
   ]
  },
  {
   "cell_type": "code",
   "execution_count": null,
   "id": "78d2b53c",
   "metadata": {},
   "outputs": [],
   "source": [
    "plt.figure(figsize=(6,6));\n",
    "XS = X.copy()\n",
    "for i in range(50):\n",
    "    sx = i/50*0.15\n",
    "    sy = i/50*0.15\n",
    "    XS[:,0] = X[:,0] * ratio_x\n",
    "    XS[:,1] = X[:,1] * ratio_y\n",
    "    plt.scatter(XS[:,0],XS[:,1],s=100,zorder=100,color='k');\n",
    "    plt.axis((-20,20,-20,20));\n",
    "    plt.grid();\n",
    "    plt.savefig('../../assets/gifs/011/scaling/' + str(i).zfill(3) + '.png');\n",
    "    plt.clf();"
   ]
  },
  {
   "cell_type": "markdown",
   "id": "fabd30de",
   "metadata": {},
   "source": [
    "### Combined"
   ]
  },
  {
   "cell_type": "code",
   "execution_count": 37,
   "id": "5305c316",
   "metadata": {},
   "outputs": [
    {
     "data": {
      "text/plain": [
       "<Figure size 432x432 with 0 Axes>"
      ]
     },
     "metadata": {},
     "output_type": "display_data"
    }
   ],
   "source": [
    "M = [[1.29903811,-0.625,0.],[0.75,1.08253175,0.],[5.,-10.,1.]]\n",
    "M = np.array(M)\n",
    "plt.figure(figsize=(6,6));\n",
    "XM = X.copy()\n",
    "for i in range(50):\n",
    "    ratio = i/50\n",
    "    Mthis = np.eye(3)*(1-ratio) + M*ratio\n",
    "    XM = np.dot(X,Mthis)\n",
    "    plt.scatter(XM[:,0],XM[:,1],s=100,zorder=100,color='k');\n",
    "    plt.axis((-20,20,-20,20));\n",
    "    plt.grid();\n",
    "    plt.savefig('../../assets/gifs/011/transformation/' + str(i).zfill(3) + '.png');\n",
    "    plt.clf();"
   ]
  },
  {
   "cell_type": "markdown",
   "id": "1a4f76e0",
   "metadata": {},
   "source": [
    "### Draw Matrix Multiplication Animation (Identify)"
   ]
  },
  {
   "cell_type": "code",
   "execution_count": 201,
   "id": "8dd46171",
   "metadata": {},
   "outputs": [
    {
     "data": {
      "text/plain": [
       "<Figure size 864x432 with 0 Axes>"
      ]
     },
     "metadata": {},
     "output_type": "display_data"
    }
   ],
   "source": [
    "I = np.eye(3)\n",
    "XR = X.copy()\n",
    "plt.figure(figsize=(12,6));\n",
    "count = 0\n",
    "for n in range(5):\n",
    "    for m in range(3):\n",
    "        count = count + 1\n",
    "        row = X[n,:]\n",
    "        column = I[:,m]\n",
    "        result = XR[n,m]\n",
    "        compstr1 = str(row[0]) + \"*\" + str(column[0])\n",
    "        compstr2 = str(row[1]) + \"*\" +  str(column[1])\n",
    "        compstr3 = str(row[2]) + \"*\" +  str(column[2])\n",
    "        compstr = compstr1 + \" + \" + compstr2 + \" + \" + compstr3 + ' = ' + str(result)\n",
    "\n",
    "        for i in range(X.shape[0]):\n",
    "            for j in range(X.shape[1]):\n",
    "                if (i==n):\n",
    "                    plt.text(j*3+0.5,-i,str(X[i,j]),fontsize=24,c='r',fontweight='bold')\n",
    "                else:\n",
    "                    plt.text(j*3+0.5,-i,str(X[i,j]),fontsize=24,c='k')\n",
    "\n",
    "        for i in range(I.shape[0]):\n",
    "            for j in range(I.shape[1]):\n",
    "                if (j==m):\n",
    "                    plt.text(12.5+(j*3),-i-1,str(I[i,j]),fontsize=24,c='g',fontweight='bold')\n",
    "                else:\n",
    "                    plt.text(12.5+(j*3),-i-1,str(I[i,j]),fontsize=24,c='k')\n",
    "\n",
    "        for i in range(XR.shape[0]):\n",
    "            for j in range(XR.shape[1]):\n",
    "                if (j==m and i == n):\n",
    "                    plt.text(24.5+(j*3),-i,str(XR[i,j]),fontsize=24,c='b',fontweight='bold')\n",
    "                else:\n",
    "                    plt.text(24.5+(j*3),-i,str(XR[i,j]),fontsize=24,c='k')\n",
    "\n",
    "        plt.plot([-0.5,-0.5],[0.75,-4.25],'k')\n",
    "        plt.plot([-0.5,0.5],[0.75,0.75],'k')\n",
    "        plt.plot([-0.5,0.5],[-4.25,-4.25],'k')\n",
    "        plt.plot([9.5,9.5],[0.75,-4.25],'k')\n",
    "        plt.plot([9.5,8.5],[0.75,0.75],'k')\n",
    "        plt.plot([9.5,8.5],[-4.25,-4.25],'k')\n",
    "        plt.plot([23.5,23.5],[0.75,-4.25],'k')\n",
    "        plt.plot([23.5,24.5],[0.75,0.75],'k')\n",
    "        plt.plot([23.5,24.5],[-4.25,-4.25],'k')\n",
    "        plt.plot([33.5,33.5],[0.75,-4.25],'k')\n",
    "        plt.plot([33.5,32.5],[0.75,0.75],'k')\n",
    "        plt.plot([33.5,32.5],[-4.25,-4.25],'k')\n",
    "        plt.plot([11.5,11.5],[-0.25,-3.25],'k')\n",
    "        plt.plot([11.5,12.5],[-0.25,-0.25],'k')\n",
    "        plt.plot([11.5,12.5],[-3.25,-3.25],'k')\n",
    "        plt.plot([21.5,21.5],[-0.25,-3.25],'k')\n",
    "        plt.plot([21.5,20.5],[-0.25,-0.25],'k')\n",
    "        plt.plot([21.5,20.5],[-3.25,-3.25],'k')\n",
    "        plt.scatter(3.5+(j*3.5),-i+2.15,s=50,c='k')\n",
    "        plt.text(15+(j*3.5),-i+2,\"=\",fontsize=24)\n",
    "        plt.text(0,-i-2,compstr,fontsize=24,fontweight='bold')\n",
    "        plt.axis((-1,34,-7,2)) \n",
    "        plt.axis('off');\n",
    "        plt.savefig('../../assets/gifs/011/identify_dot/' + str(count).zfill(3) + '.png');\n",
    "        plt.clf();        "
   ]
  },
  {
   "cell_type": "markdown",
   "id": "35a4213b",
   "metadata": {},
   "source": [
    "### Draw Matrix Multiplication Animation (Translation)"
   ]
  },
  {
   "cell_type": "code",
   "execution_count": 196,
   "id": "739dbf36",
   "metadata": {},
   "outputs": [
    {
     "data": {
      "text/plain": [
       "<Figure size 864x432 with 0 Axes>"
      ]
     },
     "metadata": {},
     "output_type": "display_data"
    }
   ],
   "source": [
    "T = np.eye(3)\n",
    "T[2,0] = 5\n",
    "T[2,1] = -10\n",
    "XR = np.dot(X,T)\n",
    "plt.figure(figsize=(12,6));\n",
    "count = 0\n",
    "for n in range(5):\n",
    "    for m in range(3):\n",
    "        count = count + 1\n",
    "        row = X[n,:]\n",
    "        column = T[:,m]\n",
    "        result = XR[n,m]\n",
    "        compstr1 = str(row[0]) + \"*\" + str(column[0])\n",
    "        compstr2 = str(row[1]) + \"*\" +  str(column[1])\n",
    "        compstr3 = str(row[2]) + \"*\" +  str(column[2])\n",
    "        compstr = compstr1 + \" + \" + compstr2 + \" + \" + compstr3 + ' = ' + str(result)\n",
    "\n",
    "        for i in range(X.shape[0]):\n",
    "            for j in range(X.shape[1]):\n",
    "                if (i==n):\n",
    "                    plt.text(j*3.5,-i,str(X[i,j]),fontsize=24,c='r',fontweight='bold')\n",
    "                else:\n",
    "                    plt.text(j*3.5,-i,str(X[i,j]),fontsize=24,c='k')\n",
    "\n",
    "        for i in range(T.shape[0]):\n",
    "            for j in range(T.shape[1]):\n",
    "                if (j==m):\n",
    "                    plt.text(12+(j*3.5),-i-1,str(T[i,j]),fontsize=24,c='g',fontweight='bold')\n",
    "                else:\n",
    "                    plt.text(12+(j*3.5),-i-1,str(T[i,j]),fontsize=24,c='k')\n",
    "\n",
    "        for i in range(XR.shape[0]):\n",
    "            for j in range(XR.shape[1]):\n",
    "                if (j==m and i == n):\n",
    "                    plt.text(24+(j*3.5),-i,str(XR[i,j]),fontsize=24,c='b',fontweight='bold')\n",
    "                else:\n",
    "                    plt.text(24+(j*3.5),-i,str(XR[i,j]),fontsize=24,c='k')\n",
    "\n",
    "        plt.plot([-0.5,-0.5],[0.75,-4.25],'k')\n",
    "        plt.plot([-0.5,0.5],[0.75,0.75],'k')\n",
    "        plt.plot([-0.5,0.5],[-4.25,-4.25],'k')\n",
    "        plt.plot([9.5,9.5],[0.75,-4.25],'k')\n",
    "        plt.plot([9.5,8.5],[0.75,0.75],'k')\n",
    "        plt.plot([9.5,8.5],[-4.25,-4.25],'k')\n",
    "        plt.plot([23.5,23.5],[0.75,-4.25],'k')\n",
    "        plt.plot([23.5,24.5],[0.75,0.75],'k')\n",
    "        plt.plot([23.5,24.5],[-4.25,-4.25],'k')\n",
    "        plt.plot([33.5,33.5],[0.75,-4.25],'k')\n",
    "        plt.plot([33.5,32.5],[0.75,0.75],'k')\n",
    "        plt.plot([33.5,32.5],[-4.25,-4.25],'k')\n",
    "        plt.plot([11.5,11.5],[-0.25,-3.25],'k')\n",
    "        plt.plot([11.5,12.5],[-0.25,-0.25],'k')\n",
    "        plt.plot([11.5,12.5],[-3.25,-3.25],'k')\n",
    "        plt.plot([21.5,21.5],[-0.25,-3.25],'k')\n",
    "        plt.plot([21.5,20.5],[-0.25,-0.25],'k')\n",
    "        plt.plot([21.5,20.5],[-3.25,-3.25],'k')\n",
    "        plt.scatter(3.5+(j*3.5),-i+2.15,s=50,c='k')\n",
    "        plt.text(15+(j*3.5),-i+2,\"=\",fontsize=24)\n",
    "        plt.text(0,-i-2,c        plt.axis((-1,34,-7,2)) \n",
    "ompstr,fontsize=24,fontweight='bold')\n",
    "        plt.axis('off');\n",
    "        plt.savefig('../../assets/gifs/011/translation_dot/' + str(count).zfill(3) + '.png');\n",
    "        plt.clf();        "
   ]
  },
  {
   "cell_type": "code",
   "execution_count": null,
   "id": "82effc0d",
   "metadata": {},
   "outputs": [],
   "source": []
  }
 ],
 "metadata": {
  "kernelspec": {
   "display_name": "Python 3 (ipykernel)",
   "language": "python",
   "name": "python3"
  },
  "language_info": {
   "codemirror_mode": {
    "name": "ipython",
    "version": 3
   },
   "file_extension": ".py",
   "mimetype": "text/x-python",
   "name": "python",
   "nbconvert_exporter": "python",
   "pygments_lexer": "ipython3",
   "version": "3.7.3"
  }
 },
 "nbformat": 4,
 "nbformat_minor": 5
}
