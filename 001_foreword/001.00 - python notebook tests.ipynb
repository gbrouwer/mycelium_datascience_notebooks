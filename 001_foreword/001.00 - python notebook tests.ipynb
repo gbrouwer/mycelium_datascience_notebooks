{
 "cells": [
  {
   "cell_type": "markdown",
   "id": "9939ee0a-8d1e-41e1-841f-4fb2f12842a0",
   "metadata": {},
   "source": [
    "### Import"
   ]
  },
  {
   "cell_type": "code",
   "execution_count": 5,
   "id": "01cff178-2f6b-4fa9-8f6c-2b60496fc70e",
   "metadata": {},
   "outputs": [],
   "source": [
    "import os\n",
    "import numpy as np\n",
    "import matplotlib.pyplot as plt\n",
    "import seaborn\n",
    "import pandas as pd\n",
    "import json\n",
    "import pickle\n",
    "import tensorflow as tf\n",
    "import cv2\n",
    "import networkx as nx\n",
    "import keras\n",
    "\n",
    "from tqdm import tqdm\n",
    "="
   ]
  },
  {
   "cell_type": "code",
   "execution_count": null,
   "id": "9b2649e9-5304-44d0-a42d-09ab4215074e",
   "metadata": {},
   "outputs": [],
   "source": [
    "### Number "
   ]
  }
 ],
 "metadata": {
  "kernelspec": {
   "display_name": "Python 3 (ipykernel)",
   "language": "python",
   "name": "python3"
  },
  "language_info": {
   "codemirror_mode": {
    "name": "ipython",
    "version": 3
   },
   "file_extension": ".py",
   "mimetype": "text/x-python",
   "name": "python",
   "nbconvert_exporter": "python",
   "pygments_lexer": "ipython3",
   "version": "3.9.6"
  }
 },
 "nbformat": 4,
 "nbformat_minor": 5
}
