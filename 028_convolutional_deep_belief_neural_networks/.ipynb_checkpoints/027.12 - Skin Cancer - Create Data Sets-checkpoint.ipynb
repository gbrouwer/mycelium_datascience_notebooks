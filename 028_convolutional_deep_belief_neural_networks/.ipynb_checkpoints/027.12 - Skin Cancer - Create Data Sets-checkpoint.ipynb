{
 "cells": [
  {
   "cell_type": "markdown",
   "metadata": {},
   "source": [
    "### Import"
   ]
  },
  {
   "cell_type": "code",
   "execution_count": 2,
   "metadata": {
    "_cell_guid": "b1076dfc-b9ad-4769-8c92-a6c4dae69d19",
    "_uuid": "8f2839f25d086af736a60e9eeb907d3b93b6e0e5"
   },
   "outputs": [],
   "source": [
    "import numpy as np\n",
    "import pandas as pd\n",
    "import tensorflow as tf\n",
    "import matplotlib.pyplot as plt\n",
    "import os\n",
    "import time\n",
    "import sys\n",
    "import imageio\n",
    "import pickle\n",
    "import json\n",
    "import visualkeras\n",
    "from tensorflow import keras\n",
    "from tensorflow.keras import datasets, layers, models\n",
    "from tqdm import tqdm\n",
    "from PIL import Image\n",
    "from sklearn.decomposition import PCA\n",
    "from keras.models import Model\n",
    "from keras.layers import Input, Reshape, Dense, Flatten\n",
    "from sklearn.metrics import accuracy_score, precision_score, recall_score, confusion_matrix\n",
    "from sklearn.model_selection import train_test_split\n",
    "from tensorflow.keras import layers, losses"
   ]
  },
  {
   "cell_type": "markdown",
   "metadata": {},
   "source": [
    "### Fonts"
   ]
  },
  {
   "cell_type": "code",
   "execution_count": 3,
   "metadata": {},
   "outputs": [],
   "source": [
    "csfont = {'fontname':'Georgia'}\n",
    "hfont = {'fontname':'Helvetica'}"
   ]
  },
  {
   "cell_type": "markdown",
   "metadata": {},
   "source": [
    "### Load Meta Data"
   ]
  },
  {
   "cell_type": "code",
   "execution_count": 4,
   "metadata": {},
   "outputs": [],
   "source": [
    "metadata = pd.read_csv('../../data/skin_cancer/meta/metadata.csv')\n",
    "image_ids = metadata['image_id'].values\n",
    "diagnosis = metadata['dx'].values\n",
    "diagtypes = np.unique(diagnosis)\n",
    "for diag in diagtypes:\n",
    "    os.system('mkdir -p ../../data/skin_cancer/processed/images/' + diag)\n",
    "    os.system('mkdir -p ../../data/skin_cancer/processed/segmentations/' + diag)"
   ]
  },
  {
   "cell_type": "markdown",
   "metadata": {},
   "source": [
    "### Find All Images"
   ]
  },
  {
   "cell_type": "code",
   "execution_count": 8,
   "metadata": {},
   "outputs": [
    {
     "name": "stderr",
     "output_type": "stream",
     "text": [
      "100%|██████████████████████████████████████████████████████████████| 10015/10015 [04:42<00:00, 35.47it/s]\n"
     ]
    }
   ],
   "source": [
    "count = 0\n",
    "len(image_ids)\n",
    "for i in tqdm(range(len(image_ids))):\n",
    "\n",
    "    #Load Images\n",
    "    image_id = image_ids[i]\n",
    "    diag = diagnosis[i]\n",
    "    imagename = '../../data/skin_cancer/raw/images/' + image_id + '.jpg'\n",
    "    segname = '../../data/skin_cancer/raw/segmentations/' + image_id + '_segmentation.png'\n",
    "    im1 = Image.open(imagename).resize((256,256))\n",
    "    seg1 = Image.open(segname).resize((256,256))\n",
    "\n",
    "    #Create Square versions\n",
    "    im1 = np.array(im1)\n",
    "    im2 = np.fliplr(im1)\n",
    "    im3 = np.flipud(im1)\n",
    "    im4 = np.fliplr(im3)\n",
    "    seg1 = np.array(seg1)\n",
    "    seg2 = np.fliplr(seg1)\n",
    "    seg3 = np.flipud(seg1)\n",
    "    seg4 = np.fliplr(seg3)\n",
    "    \n",
    "    xshift = np.random.randint(28)\n",
    "    yshift = np.random.randint(28)        \n",
    "    imc1 = im1[xshift:xshift+227,yshift:yshift+227,:]\n",
    "    segc1 = seg1[xshift:xshift+227,yshift:yshift+227]\n",
    "    image_savename = '../../data/skin_cancer/processed/images/' + diag + '/' + str(count).zfill(3) + '.jpg'\n",
    "    seg_savename = '../../data/skin_cancer/processed/segmentations/' + diag + '/' + str(count).zfill(3) + '.jpg'\n",
    "    im1c = Image.fromarray(imc1)\n",
    "    im1c.save(image_savename)\n",
    "    seg1c = Image.fromarray(segc1)\n",
    "    seg1c.save(seg_savename)\n",
    "    count = count + 1;\n",
    "\n",
    "    xshift = np.random.randint(28)\n",
    "    yshift = np.random.randint(28)        \n",
    "    imc2 = im2[xshift:xshift+227,yshift:yshift+227,:]\n",
    "    segc2 = seg2[xshift:xshift+227,yshift:yshift+227]\n",
    "    image_savename = '../../data/skin_cancer/processed/images/' + diag + '/' + str(count).zfill(3) + '.jpg'\n",
    "    seg_savename = '../../data/skin_cancer/processed/segmentations/' + diag + '/' + str(count).zfill(3) + '.jpg'\n",
    "    im2c = Image.fromarray(imc2)\n",
    "    im2c.save(image_savename)\n",
    "    seg2c = Image.fromarray(segc2)\n",
    "    seg2c.save(seg_savename)\n",
    "    count = count + 1;\n",
    "\n",
    "    xshift = np.random.randint(28)\n",
    "    yshift = np.random.randint(28)        \n",
    "    imc3 = im3[xshift:xshift+227,yshift:yshift+227,:]\n",
    "    segc3 = seg3[xshift:xshift+227,yshift:yshift+227]\n",
    "    image_savename = '../../data/skin_cancer/processed/images/' + diag + '/' + str(count).zfill(3) + '.jpg'\n",
    "    seg_savename = '../../data/skin_cancer/processed/segmentations/' + diag + '/' + str(count).zfill(3) + '.jpg'\n",
    "    im3c = Image.fromarray(imc3)\n",
    "    im3c.save(image_savename)\n",
    "    seg3c = Image.fromarray(segc3)\n",
    "    seg3c.save(seg_savename)\n",
    "    count = count + 1;        \n",
    "\n",
    "    xshift = np.random.randint(28)\n",
    "    yshift = np.random.randint(28)        \n",
    "    imc4 = im4[xshift:xshift+227,yshift:yshift+227,:]\n",
    "    segc4 = seg4[xshift:xshift+227,yshift:yshift+227]\n",
    "    image_savename = '../../data/skin_cancer/processed/images/' + diag + '/' + str(count).zfill(3) + '.jpg'\n",
    "    seg_savename = '../../data/skin_cancer/processed/segmentations/' + diag + '/' + str(count).zfill(3) + '.jpg'\n",
    "    im4c = Image.fromarray(imc4)\n",
    "    im4c.save(image_savename)\n",
    "    seg4c = Image.fromarray(segc4)\n",
    "    seg4c.save(seg_savename)\n",
    "    count = count + 1;"
   ]
  }
 ],
 "metadata": {
  "kernelspec": {
   "display_name": "Python 3 (ipykernel)",
   "language": "python",
   "name": "python3"
  },
  "language_info": {
   "codemirror_mode": {
    "name": "ipython",
    "version": 3
   },
   "file_extension": ".py",
   "mimetype": "text/x-python",
   "name": "python",
   "nbconvert_exporter": "python",
   "pygments_lexer": "ipython3",
   "version": "3.9.6"
  }
 },
 "nbformat": 4,
 "nbformat_minor": 4
}
