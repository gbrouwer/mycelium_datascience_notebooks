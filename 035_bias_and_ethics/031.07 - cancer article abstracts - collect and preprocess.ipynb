{
 "cells": [
  {
   "cell_type": "code",
   "execution_count": 2,
   "id": "371df1f8",
   "metadata": {},
   "outputs": [],
   "source": [
    "import numpy as np\n",
    "import os\n",
    "import sys\n",
    "import json\n",
    "import pickle\n",
    "import re\n",
    "import pandas as pd\n",
    "import matplotlib.pyplot as plt\n",
    "from tqdm import tqdm"
   ]
  },
  {
   "cell_type": "markdown",
   "id": "e8d4e8f5",
   "metadata": {},
   "source": [
    "### Read Stopwords"
   ]
  },
  {
   "cell_type": "code",
   "execution_count": 3,
   "id": "24936b2a",
   "metadata": {},
   "outputs": [],
   "source": [
    "stopwords = []\n",
    "with open('../../data/meta/stopwords','r') as f:\n",
    "    for line in f:\n",
    "        stopwords.append(line.rstrip())"
   ]
  },
  {
   "cell_type": "markdown",
   "id": "ce64923b",
   "metadata": {},
   "source": [
    "### Find Files"
   ]
  },
  {
   "cell_type": "code",
   "execution_count": 4,
   "id": "15e71d82",
   "metadata": {},
   "outputs": [],
   "source": [
    "myfiles = []\n",
    "classes = []\n",
    "for root, dirs, files in os.walk(\"../../data/cancer_corpi/articles/\", topdown=False):\n",
    "    for name in files:\n",
    "        if '.txt' in name:\n",
    "            classes.append(name.split('/')[-1][:-4])\n",
    "            myfiles.append(os.path.join(root, name))"
   ]
  },
  {
   "cell_type": "markdown",
   "id": "7f5768d9",
   "metadata": {},
   "source": [
    "### Read Files"
   ]
  },
  {
   "cell_type": "code",
   "execution_count": 5,
   "id": "27697cd4",
   "metadata": {},
   "outputs": [],
   "source": [
    "records = []\n",
    "labels = []\n",
    "for m,myfile in enumerate(myfiles):\n",
    "    with open(myfile,'r') as f:\n",
    "        block = []\n",
    "        prev_blocks = []\n",
    "        for line in f:\n",
    "            line = line.rstrip()\n",
    "            if (len(line) == 0):\n",
    "                prev_blocks.append(block)\n",
    "                if (len(prev_blocks) > 5):\n",
    "                    prev_blocks = prev_blocks[1:]\n",
    "                if (len(block) > 5):\n",
    "                    for p,prev_block in enumerate(prev_blocks):\n",
    "                        for prev_line in prev_block:\n",
    "                            if 'Author information:' == prev_line:\n",
    "                                title = ' '.join(prev_blocks[p-2])\n",
    "                                authors = ' '.join(prev_blocks[p-1])\n",
    "                                abstract = ' '.join(block)\n",
    "                                records.append((title,authors,abstract))\n",
    "                                labels.append(classes[m])\n",
    "                block = []\n",
    "            else:\n",
    "                block.append(line)"
   ]
  },
  {
   "cell_type": "markdown",
   "id": "f22faa3f",
   "metadata": {},
   "source": [
    "### Clean"
   ]
  },
  {
   "cell_type": "code",
   "execution_count": 8,
   "id": "1cb46dda",
   "metadata": {},
   "outputs": [
    {
     "name": "stderr",
     "output_type": "stream",
     "text": [
      "100%|█████████████████████████████████████████████████████████████████████████████████████████████████████████████████| 39787/39787 [00:13<00:00, 2908.77it/s]"
     ]
    },
    {
     "name": "stdout",
     "output_type": "stream",
     "text": [
      "0\n"
     ]
    },
    {
     "name": "stderr",
     "output_type": "stream",
     "text": [
      "\n"
     ]
    }
   ],
   "source": [
    "records_clean = []\n",
    "count = 0\n",
    "for i in tqdm(range(len(records))):\n",
    "\n",
    "    label = labels[i]\n",
    "    title,authors,abstract = records[i]\n",
    "    if '[Article' in title:\n",
    "        pass\n",
    "    else:\n",
    "        \n",
    "        #Title\n",
    "        title = title.replace(\"'s\",\"\")\n",
    "        title = title.replace(\"'\",\"\")\n",
    "        title = re.sub(r'[^a-zA-Z]',' ', title)\n",
    "        title = title.lower()\n",
    "        words = title.split(' ')\n",
    "        words = [word for word in words if len(word) > 0]\n",
    "        words = [word for word in words if word not in stopwords]\n",
    "        title = ' '.join(words)\n",
    "\n",
    "        #Abatract\n",
    "        abstract = abstract.replace(\"'s\",\"\")\n",
    "        abstract = abstract.replace(\"leukaemia\",\"leukemia\")\n",
    "        if 'leukaemia' in abstract:\n",
    "            count = count + 1\n",
    "        abstract = abstract.replace(\"'\",\"\")\n",
    "        abstract = re.sub(r'[^a-zA-Z]',' ', abstract)\n",
    "        abstract = abstract.lower()\n",
    "        words = abstract.split(' ')\n",
    "        words = [word for word in words if len(word) > 0]\n",
    "        words = [word for word in words if word not in stopwords]\n",
    "        abstract = ' '.join(words)\n",
    "\n",
    "        #Auhor\n",
    "        authors = re.sub(r'\\([^)]*\\)', '', authors)\n",
    "        authors = authors.replace('.','')\n",
    "        authors = authors.lower()\n",
    "        authors = authors.split(',')\n",
    "\n",
    "        #Store\n",
    "        records_clean.append((title,abstract,authors,label))\n",
    "print(count)"
   ]
  },
  {
   "cell_type": "markdown",
   "id": "2737f95a",
   "metadata": {},
   "source": [
    "### Store"
   ]
  },
  {
   "cell_type": "code",
   "execution_count": 35,
   "id": "d50ff8b8",
   "metadata": {},
   "outputs": [],
   "source": [
    "data = {}\n",
    "data['records'] = records_clean\n",
    "pickle.dump( data, open( \"../../data/cancer_corpi/articles/pickle/processed.p\", \"wb\"))"
   ]
  }
 ],
 "metadata": {
  "kernelspec": {
   "display_name": "Python 3 (ipykernel)",
   "language": "python",
   "name": "python3"
  },
  "language_info": {
   "codemirror_mode": {
    "name": "ipython",
    "version": 3
   },
   "file_extension": ".py",
   "mimetype": "text/x-python",
   "name": "python",
   "nbconvert_exporter": "python",
   "pygments_lexer": "ipython3",
   "version": "3.9.6"
  }
 },
 "nbformat": 4,
 "nbformat_minor": 5
}
