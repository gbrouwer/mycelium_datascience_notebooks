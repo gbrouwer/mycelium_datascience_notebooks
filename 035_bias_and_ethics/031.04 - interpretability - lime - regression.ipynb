{
 "cells": [
  {
   "cell_type": "code",
   "execution_count": 1,
   "id": "15cc116e",
   "metadata": {},
   "outputs": [],
   "source": [
    "import sklearn.ensemble\n",
    "import numpy as np\n",
    "import lime\n",
    "import lime.lime_tabular\n",
    "from sklearn.datasets import load_boston"
   ]
  },
  {
   "cell_type": "code",
   "execution_count": null,
   "id": "a89655a4",
   "metadata": {},
   "outputs": [],
   "source": [
    "### Fonts"
   ]
  },
  {
   "cell_type": "code",
   "execution_count": null,
   "id": "d5cfa90c",
   "metadata": {},
   "outputs": [],
   "source": []
  },
  {
   "cell_type": "code",
   "execution_count": null,
   "id": "de3012ec",
   "metadata": {},
   "outputs": [],
   "source": [
    "### Load Data"
   ]
  },
  {
   "cell_type": "code",
   "execution_count": null,
   "id": "8804b620",
   "metadata": {},
   "outputs": [],
   "source": []
  },
  {
   "cell_type": "code",
   "execution_count": null,
   "id": "7564495a",
   "metadata": {},
   "outputs": [],
   "source": []
  },
  {
   "cell_type": "code",
   "execution_count": null,
   "id": "9acbe7a0",
   "metadata": {},
   "outputs": [],
   "source": []
  },
  {
   "cell_type": "code",
   "execution_count": null,
   "id": "ba6e2c61",
   "metadata": {},
   "outputs": [],
   "source": []
  },
  {
   "cell_type": "code",
   "execution_count": null,
   "id": "41e029df",
   "metadata": {},
   "outputs": [],
   "source": []
  },
  {
   "cell_type": "code",
   "execution_count": null,
   "id": "0d1d7d8d",
   "metadata": {},
   "outputs": [],
   "source": [
    "boston = load_boston()\n",
    "rf = sklearn.ensemble.RandomForestRegressor(n_estimators=1000)\n",
    "train, test, labels_train, labels_test = sklearn.model_selection.train_test_split(boston.data, boston.target, train_size=0.80)\n",
    "rf.fit(train, labels_train)\n",
    "RandomForestRegressor(bootstrap=True, criterion='mse', max_depth=None,\n",
    "           max_features='auto', max_leaf_nodes=None,\n",
    "           min_impurity_split=1e-07, min_samples_leaf=1,\n",
    "           min_samples_split=2, min_weight_fraction_leaf=0.0,\n",
    "           n_estimators=1000, n_jobs=1, oob_score=False, random_state=None,\n",
    "           verbose=0, warm_start=False)\n"
   ]
  },
  {
   "cell_type": "code",
   "execution_count": null,
   "id": "cf1e63d9",
   "metadata": {},
   "outputs": [],
   "source": [
    "print('Random Forest MSError', np.mean((rf.predict(test) - labels_test) ** 2))\n",
    "('Random Forest MSError', 17.349331324117653)\n",
    "print('MSError when predicting the mean', np.mean((labels_train.mean() - labels_test) ** 2))\n",
    "('MSError when predicting the mean', 79.186326166360075)\n",
    "categorical_features = np.argwhere(np.array([len(set(boston.data[:,x])) for x in range(boston.data.shape[1])]) <= 10).flatten()\n",
    "explainer = lime.lime_tabular.LimeTabularExplainer(train, feature_names=boston.feature_names, class_names=['price'], categorical_features=categorical_features, verbose=True, mode='regression')\n",
    "i = 25\n",
    "exp = explainer.explain_instance(test[i], rf.predict, num_features=5)\n",
    "Intercept 23.9047475063\n",
    "Prediction_local [ 22.32579479]\n",
    "Right: 23.1073\n",
    "exp.show_in_notebook(show_table=True)\n",
    "Predicted value\n",
    "8.40\n",
    "(min)\n",
    "23.11\n",
    "48.11\n",
    "(max)\n",
    "negative\n",
    "positive\n",
    "6.99 < LSTAT <= 11.43\n",
    "1.76\n",
    "6.21 < RM <= 6.62\n",
    "1.56\n",
    "NOX > 0.62\n",
    "0.77\n",
    "19.10 < PTRATIO <= ...\n",
    "0.61\n",
    "2.08 < DIS <= 3.17\n",
    "0.39\n",
    "Feature\tValue\n",
    "LSTAT\t7.79\n",
    "RM\t6.40\n",
    "NOX\t0.77\n",
    "PTRATIO\t20.20\n",
    "DIS\t2.52\n",
    "exp.as_list()"
   ]
  }
 ],
 "metadata": {
  "kernelspec": {
   "display_name": "Python 3 (ipykernel)",
   "language": "python",
   "name": "python3"
  },
  "language_info": {
   "codemirror_mode": {
    "name": "ipython",
    "version": 3
   },
   "file_extension": ".py",
   "mimetype": "text/x-python",
   "name": "python",
   "nbconvert_exporter": "python",
   "pygments_lexer": "ipython3",
   "version": "3.9.6"
  }
 },
 "nbformat": 4,
 "nbformat_minor": 5
}
