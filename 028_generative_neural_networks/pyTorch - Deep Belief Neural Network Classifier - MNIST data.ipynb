{
 "cells": [
  {
   "cell_type": "markdown",
   "id": "7b69a929",
   "metadata": {},
   "source": [
    "### Import"
   ]
  },
  {
   "cell_type": "code",
   "execution_count": 1,
   "id": "d897a48c",
   "metadata": {},
   "outputs": [],
   "source": [
    "import os\n",
    "import torch\n",
    "import sys\n",
    "import numpy as np\n",
    "import torch.nn as nn\n",
    "import torch.nn.functional as F\n",
    "import matplotlib.pyplot as plt\n",
    "import torchvision.transforms as transforms\n",
    "from sklearn.model_selection import train_test_split\n",
    "from sklearn.datasets import make_regression\n",
    "from sklearn.datasets import make_classification\n",
    "from torch.autograd import Variable\n",
    "from torchvision import datasets\n",
    "from torch.utils.data.sampler import SubsetRandomSampler\n",
    "from sklearn.metrics import confusion_matrix"
   ]
  },
  {
   "cell_type": "markdown",
   "id": "02e53b5c",
   "metadata": {},
   "source": [
    "### Get the MNIST data - From the Demo"
   ]
  },
  {
   "cell_type": "code",
   "execution_count": 2,
   "id": "585d607c",
   "metadata": {},
   "outputs": [],
   "source": [
    "num_workers = 0\n",
    "batch_size = 50\n",
    "valid_size = 0.2\n",
    "transform = transforms.ToTensor()\n",
    "train_data = datasets.MNIST(root = 'data', train = True, download = True, transform = transform)\n",
    "test_data = datasets.MNIST(root = 'data', train = False, download = True, transform = transform)"
   ]
  },
  {
   "cell_type": "markdown",
   "id": "105fbce2",
   "metadata": {},
   "source": [
    "### Create Random Split Between the datasets"
   ]
  },
  {
   "cell_type": "code",
   "execution_count": 3,
   "id": "f4d55262",
   "metadata": {},
   "outputs": [],
   "source": [
    "num_train = len(train_data)\n",
    "indices = list(range(num_train))\n",
    "np.random.shuffle(indices)\n",
    "split = int(np.floor(valid_size * num_train))\n",
    "train_index, valid_index = indices[split:], indices[:split]\n",
    "train_sampler = SubsetRandomSampler(train_index)\n",
    "valid_sampler = SubsetRandomSampler(valid_index)"
   ]
  },
  {
   "cell_type": "markdown",
   "id": "e5baa778",
   "metadata": {},
   "source": [
    "### Create Loaders"
   ]
  },
  {
   "cell_type": "code",
   "execution_count": 4,
   "id": "3ff41d9d",
   "metadata": {},
   "outputs": [],
   "source": [
    "train_loader = torch.utils.data.DataLoader(train_data, \n",
    "                                           batch_size = batch_size, \n",
    "                                           sampler = train_sampler, \n",
    "                                           num_workers = num_workers)\n",
    "valid_loader = torch.utils.data.DataLoader(train_data, \n",
    "                                           batch_size = batch_size,\n",
    "                                           sampler = valid_sampler, \n",
    "                                           num_workers = num_workers)\n",
    "test_loader = torch.utils.data.DataLoader(test_data,\n",
    "                                          batch_size = batch_size,\n",
    "                                          num_workers = num_workers)"
   ]
  },
  {
   "cell_type": "markdown",
   "id": "f77299be",
   "metadata": {},
   "source": [
    "### Convert all data to a tensor for computing overall loss and accuracy"
   ]
  },
  {
   "cell_type": "code",
   "execution_count": 5,
   "id": "01b32a1d",
   "metadata": {},
   "outputs": [],
   "source": [
    "train_tensor = train_data.data\n",
    "train_tensor = train_tensor.float()\n",
    "train_tensor_labels = train_data.targets\n",
    "test_tensor = test_data.data\n",
    "test_tensor = test_tensor.float()\n",
    "test_tensor_labels = test_data.targets"
   ]
  },
  {
   "cell_type": "markdown",
   "id": "a3ab2374",
   "metadata": {},
   "source": [
    "### Plot Some Data as a Sanity Check"
   ]
  },
  {
   "cell_type": "code",
   "execution_count": 6,
   "id": "c843f4c7",
   "metadata": {},
   "outputs": [
    {
     "data": {
      "image/png": "[encoded data removed]",
      "text/plain": [
       "<Figure size 2500x400 with 20 Axes>"
      ]
     },
     "metadata": {},
     "output_type": "display_data"
    }
   ],
   "source": [
    "dataiter = iter(train_loader)\n",
    "images, labels = next(dataiter)\n",
    "images = images.numpy()\n",
    "fig = plt.figure(figsize=(25, 4))\n",
    "for idx in np.arange(20):\n",
    "    ax = fig.add_subplot(2, int(20/2), idx+1, xticks=[], yticks=[])\n",
    "    ax.imshow(np.squeeze(images[idx]), cmap='gray')"
   ]
  },
  {
   "cell_type": "markdown",
   "id": "6a266bc4",
   "metadata": {},
   "source": [
    "### Create Deep Belief Model"
   ]
  },
  {
   "cell_type": "code",
   "execution_count": 29,
   "id": "a030a0a6",
   "metadata": {},
   "outputs": [],
   "source": [
    "class DeepBeliefClassifier(nn.Module):\n",
    "\n",
    "    def __init__(self,hidden_1,hidden_2,no_classes):\n",
    "        super(DeepBeliefClassifier,self).__init__()\n",
    "        self.fc1 = nn.Linear(28*28, hidden_1)\n",
    "        self.fc2 = nn.Linear(hidden_1,hidden_2)\n",
    "        self.fc3 = nn.Linear(hidden_2,no_classes)\n",
    "        self.droput = nn.Dropout(0.2)\n",
    "        \n",
    "    def forward(self,x):\n",
    "        x = x.view(-1,28*28)\n",
    "        x = F.relu(self.fc1(x))\n",
    "        x = self.droput(x)\n",
    "        x = F.relu(self.fc2(x))\n",
    "        x = self.droput(x)\n",
    "        x = self.fc3(x)\n",
    "        return x"
   ]
  },
  {
   "cell_type": "markdown",
   "id": "25b08fc8",
   "metadata": {},
   "source": [
    "### Parameters"
   ]
  },
  {
   "cell_type": "code",
   "execution_count": 30,
   "id": "698eb39c",
   "metadata": {},
   "outputs": [],
   "source": [
    "learningRate = 0.01 \n",
    "n_epochs = 100"
   ]
  },
  {
   "cell_type": "markdown",
   "id": "2cfb2830",
   "metadata": {},
   "source": [
    "### Instantiate Model"
   ]
  },
  {
   "cell_type": "code",
   "execution_count": 31,
   "id": "24bd79bf",
   "metadata": {},
   "outputs": [],
   "source": [
    "model = DeepBeliefClassifier(512,512,10)"
   ]
  },
  {
   "cell_type": "markdown",
   "id": "1b452237",
   "metadata": {},
   "source": [
    "### Optimizer parameters"
   ]
  },
  {
   "cell_type": "code",
   "execution_count": 32,
   "id": "77b616b6",
   "metadata": {},
   "outputs": [],
   "source": [
    "criterion = nn.CrossEntropyLoss()\n",
    "optimizer = torch.optim.SGD(model.parameters(),lr = learningRate)"
   ]
  },
  {
   "cell_type": "markdown",
   "id": "05696f43",
   "metadata": {},
   "source": [
    "### Start Training"
   ]
  },
  {
   "cell_type": "code",
   "execution_count": 34,
   "id": "e3959f40",
   "metadata": {
    "scrolled": false
   },
   "outputs": [
    {
     "name": "stdout",
     "output_type": "stream",
     "text": [
      "Epoch: 0, Training Loss: 42.533752, Test Loss: 40.434502\n",
      "Epoch: 1, Training Loss: 41.765484, Test Loss: 40.248192\n",
      "Epoch: 2, Training Loss: 39.449326, Test Loss: 38.416882\n",
      "Epoch: 3, Training Loss: 37.210674, Test Loss: 36.538780\n",
      "Epoch: 4, Training Loss: 34.294804, Test Loss: 34.556389\n",
      "Epoch: 5, Training Loss: 34.384289, Test Loss: 34.401073\n",
      "Epoch: 6, Training Loss: 30.759727, Test Loss: 31.431244\n",
      "Epoch: 7, Training Loss: 29.645716, Test Loss: 30.485659\n",
      "Epoch: 8, Training Loss: 27.201706, Test Loss: 28.310127\n",
      "Epoch: 9, Training Loss: 25.219931, Test Loss: 26.357325\n",
      "Epoch: 10, Training Loss: 23.938145, Test Loss: 25.121246\n",
      "Epoch: 11, Training Loss: 22.276363, Test Loss: 23.776646\n",
      "Epoch: 12, Training Loss: 21.043394, Test Loss: 22.547028\n",
      "Epoch: 13, Training Loss: 19.491949, Test Loss: 21.212257\n",
      "Epoch: 14, Training Loss: 18.946720, Test Loss: 20.969522\n",
      "Epoch: 15, Training Loss: 17.203140, Test Loss: 19.192278\n",
      "Epoch: 16, Training Loss: 17.615633, Test Loss: 19.991896\n",
      "Epoch: 17, Training Loss: 16.234550, Test Loss: 18.739779\n",
      "Epoch: 18, Training Loss: 14.696655, Test Loss: 17.246128\n",
      "Epoch: 19, Training Loss: 14.347102, Test Loss: 16.976515\n",
      "Epoch: 20, Training Loss: 13.346764, Test Loss: 16.025669\n",
      "Epoch: 21, Training Loss: 13.256402, Test Loss: 16.519476\n",
      "Epoch: 22, Training Loss: 12.739150, Test Loss: 15.890821\n",
      "Epoch: 23, Training Loss: 12.119461, Test Loss: 15.671922\n",
      "Epoch: 24, Training Loss: 11.190640, Test Loss: 14.467600\n",
      "Epoch: 25, Training Loss: 11.211367, Test Loss: 15.079150\n",
      "Epoch: 26, Training Loss: 11.756540, Test Loss: 15.445579\n",
      "Epoch: 27, Training Loss: 9.824810, Test Loss: 13.727488\n",
      "Epoch: 28, Training Loss: 9.984345, Test Loss: 14.022796\n",
      "Epoch: 29, Training Loss: 9.360007, Test Loss: 13.509315\n",
      "Epoch: 30, Training Loss: 9.422255, Test Loss: 13.838740\n",
      "Epoch: 31, Training Loss: 8.623537, Test Loss: 13.293106\n",
      "Epoch: 32, Training Loss: 9.137575, Test Loss: 13.753316\n",
      "Epoch: 33, Training Loss: 7.755297, Test Loss: 12.423333\n",
      "Epoch: 34, Training Loss: 8.043608, Test Loss: 12.781201\n",
      "Epoch: 35, Training Loss: 7.159057, Test Loss: 11.902298\n",
      "Epoch: 36, Training Loss: 7.752301, Test Loss: 12.810924\n",
      "Epoch: 37, Training Loss: 7.387948, Test Loss: 12.681081\n",
      "Epoch: 38, Training Loss: 7.002874, Test Loss: 12.664743\n",
      "Epoch: 39, Training Loss: 6.511662, Test Loss: 11.994041\n",
      "Epoch: 40, Training Loss: 6.856743, Test Loss: 12.460388\n",
      "Epoch: 41, Training Loss: 6.557791, Test Loss: 12.267662\n",
      "Epoch: 42, Training Loss: 5.790977, Test Loss: 11.567175\n",
      "Epoch: 43, Training Loss: 5.775982, Test Loss: 11.820416\n",
      "Epoch: 44, Training Loss: 5.580424, Test Loss: 11.466419\n",
      "Epoch: 45, Training Loss: 5.404506, Test Loss: 11.543839\n",
      "Epoch: 46, Training Loss: 5.564675, Test Loss: 11.953714\n",
      "Epoch: 47, Training Loss: 5.241997, Test Loss: 11.502653\n",
      "Epoch: 48, Training Loss: 5.287635, Test Loss: 11.964561\n",
      "Epoch: 49, Training Loss: 4.994683, Test Loss: 11.395204\n",
      "Epoch: 50, Training Loss: 4.943555, Test Loss: 11.740042\n",
      "Epoch: 51, Training Loss: 4.558564, Test Loss: 11.250247\n",
      "Epoch: 52, Training Loss: 4.626076, Test Loss: 11.525845\n",
      "Epoch: 53, Training Loss: 4.645322, Test Loss: 11.550027\n",
      "Epoch: 54, Training Loss: 4.644635, Test Loss: 11.661554\n",
      "Epoch: 55, Training Loss: 4.265431, Test Loss: 11.251320\n",
      "Epoch: 56, Training Loss: 4.269855, Test Loss: 11.512291\n",
      "Epoch: 57, Training Loss: 4.165371, Test Loss: 11.309080\n",
      "Epoch: 58, Training Loss: 4.035666, Test Loss: 11.082877\n",
      "Epoch: 59, Training Loss: 3.904597, Test Loss: 11.177285\n",
      "Epoch: 60, Training Loss: 3.886633, Test Loss: 11.203485\n",
      "Epoch: 61, Training Loss: 3.758121, Test Loss: 11.056461\n",
      "Epoch: 62, Training Loss: 3.736220, Test Loss: 11.152057\n",
      "Epoch: 63, Training Loss: 3.689525, Test Loss: 11.135092\n",
      "Epoch: 64, Training Loss: 3.589987, Test Loss: 11.055782\n",
      "Epoch: 65, Training Loss: 3.431240, Test Loss: 10.997053\n",
      "Epoch: 66, Training Loss: 3.562925, Test Loss: 11.151812\n",
      "Epoch: 67, Training Loss: 3.476394, Test Loss: 11.399958\n",
      "Epoch: 68, Training Loss: 3.459329, Test Loss: 11.266980\n",
      "Epoch: 69, Training Loss: 3.329566, Test Loss: 11.145185\n",
      "Epoch: 70, Training Loss: 3.443118, Test Loss: 11.286366\n",
      "Epoch: 71, Training Loss: 3.271734, Test Loss: 10.952388\n",
      "Epoch: 72, Training Loss: 3.213266, Test Loss: 11.228884\n",
      "Epoch: 73, Training Loss: 3.175072, Test Loss: 11.082350\n",
      "Epoch: 74, Training Loss: 2.984921, Test Loss: 10.718916\n",
      "Epoch: 75, Training Loss: 3.150882, Test Loss: 11.054003\n",
      "Epoch: 76, Training Loss: 2.895753, Test Loss: 10.676062\n",
      "Epoch: 77, Training Loss: 3.046186, Test Loss: 11.253432\n",
      "Epoch: 78, Training Loss: 3.006314, Test Loss: 11.433720\n",
      "Epoch: 79, Training Loss: 2.891567, Test Loss: 10.980259\n",
      "Epoch: 80, Training Loss: 3.112137, Test Loss: 11.554231\n",
      "Epoch: 81, Training Loss: 2.904193, Test Loss: 11.068496\n",
      "Epoch: 82, Training Loss: 3.119009, Test Loss: 11.655624\n",
      "Epoch: 83, Training Loss: 2.838966, Test Loss: 11.078140\n",
      "Epoch: 84, Training Loss: 2.829519, Test Loss: 11.105390\n",
      "Epoch: 85, Training Loss: 2.866966, Test Loss: 11.453982\n",
      "Epoch: 86, Training Loss: 2.725846, Test Loss: 11.191977\n",
      "Epoch: 87, Training Loss: 2.736998, Test Loss: 11.150467\n",
      "Epoch: 88, Training Loss: 2.812348, Test Loss: 11.572056\n",
      "Epoch: 89, Training Loss: 2.792147, Test Loss: 11.556039\n",
      "Epoch: 90, Training Loss: 2.688951, Test Loss: 11.330765\n",
      "Epoch: 91, Training Loss: 2.666501, Test Loss: 11.501026\n",
      "Epoch: 92, Training Loss: 2.848828, Test Loss: 12.228913\n",
      "Epoch: 93, Training Loss: 2.691578, Test Loss: 11.420909\n",
      "Epoch: 94, Training Loss: 2.773899, Test Loss: 11.657241\n",
      "Epoch: 95, Training Loss: 2.742600, Test Loss: 11.533607\n",
      "Epoch: 96, Training Loss: 2.772167, Test Loss: 11.749976\n",
      "Epoch: 97, Training Loss: 2.697045, Test Loss: 11.515843\n",
      "Epoch: 98, Training Loss: 2.671699, Test Loss: 11.598631\n",
      "Epoch: 99, Training Loss: 2.698334, Test Loss: 11.813869\n"
     ]
    }
   ],
   "source": [
    "train_loss_history = []\n",
    "train_accuracy_history = []\n",
    "test_loss_history = []\n",
    "test_accuracy_history = []\n",
    "for epoch in range(n_epochs):\n",
    "\n",
    "    #Training\n",
    "    model.train()\n",
    "    for train_inputs,train_labels in train_loader:\n",
    "        optimizer.zero_grad()\n",
    "        train_output = model(train_inputs)\n",
    "        train_loss = criterion(train_output,train_labels)\n",
    "        train_loss.backward()\n",
    "        optimizer.step()\n",
    "    \n",
    "    #Validation\n",
    "    model.eval()\n",
    "    for _inputs,val_labels in valid_loader:\n",
    "        val_output = model(val_inputs)\n",
    "        val_loss = criterion(val_output,val_labels)\n",
    "\n",
    "        \n",
    "    #Compute accuracy and loss after epoch\n",
    "    train_output = model(train_tensor)\n",
    "    train_loss = criterion(train_output,train_tensor_labels)\n",
    "    train_loss_history.append(train_loss.item())\n",
    "    _,train_pred = torch.max(train_output, 1)    \n",
    "    train_accuracy = np.sum(train_pred.numpy() == train_tensor_labels.numpy()) / len(train_tensor_labels.numpy())\n",
    "    train_accuracy_history.append(train_accuracy)\n",
    "    \n",
    "    #Compute accuracy and loss after epoch\n",
    "    test_output = model(test_tensor)\n",
    "    test_loss = criterion(test_output,test_tensor_labels)\n",
    "    test_loss_history.append(test_loss.item())\n",
    "    _,test_pred = torch.max(test_output,1)\n",
    "    test_accuracy = np.sum(test_pred.numpy() == test_tensor_labels.numpy()) / len(test_tensor_labels.numpy())\n",
    "    test_accuracy_history.append(test_accuracy)\n",
    "    \n",
    "    #Verbose\n",
    "    if (epoch % 1 == 0):\n",
    "        print('Epoch: {}, Training Loss: {:.6f}, Test Loss: {:.6f}'.format(epoch, train_loss,test_loss))\n",
    "    \n",
    "#Save the model\n",
    "torch.save(model.state_dict(), 'model.pt')"
   ]
  },
  {
   "cell_type": "markdown",
   "id": "f9630be2",
   "metadata": {},
   "source": [
    "### Plot Loss and accuracy"
   ]
  },
  {
   "cell_type": "code",
   "execution_count": 35,
   "id": "59cc20c9",
   "metadata": {},
   "outputs": [
    {
     "data": {
      "image/png": "[encoded data removed]",
      "text/plain": [
       "<Figure size 1000x500 with 2 Axes>"
      ]
     },
     "metadata": {},
     "output_type": "display_data"
    }
   ],
   "source": [
    "train_loss_history = np.array(train_loss_history)\n",
    "test_loss_history = np.array(test_loss_history)\n",
    "train_accuracy_history = np.array(train_accuracy_history)\n",
    "test_accuracy_history = np.array(test_accuracy_history)\n",
    "\n",
    "plt.figure(figsize=(10,5))\n",
    "plt.subplot(1,2,1)\n",
    "plt.plot(train_loss_history,'r')\n",
    "plt.plot(test_loss_history,'g')\n",
    "plt.grid();\n",
    "plt.xlabel('Epoch',fontsize=16);\n",
    "plt.ylabel('Loss',fontsize=16);\n",
    "\n",
    "plt.subplot(1,2,2)\n",
    "plt.plot(train_accuracy_history,'r')\n",
    "plt.plot(test_accuracy_history,'g')\n",
    "plt.grid();\n",
    "plt.xlabel('Epoch',fontsize=16);\n",
    "plt.ylabel('Accuracy',fontsize=16);"
   ]
  },
  {
   "cell_type": "markdown",
   "id": "d0349714",
   "metadata": {},
   "source": [
    "### Get Parameters and compare with actual coefficients"
   ]
  },
  {
   "cell_type": "code",
   "execution_count": 36,
   "id": "b7726129",
   "metadata": {},
   "outputs": [],
   "source": [
    "# for name,param in model.named_parameters():\n",
    "#     if 'weight' in name:\n",
    "#         w = param[0].detach().numpy()\n",
    "#         print(name)\n",
    "#         print(w)\n",
    "#     if 'bias' in name:\n",
    "#         b = param[0].detach().numpy()        \n",
    "#         print(name)\n",
    "#         print(b)"
   ]
  },
  {
   "cell_type": "markdown",
   "id": "4adfa8c1",
   "metadata": {},
   "source": [
    "### Create Confusion Matrix"
   ]
  },
  {
   "cell_type": "code",
   "execution_count": 38,
   "id": "d4653d98",
   "metadata": {},
   "outputs": [
    {
     "data": {
      "text/plain": [
       "<matplotlib.image.AxesImage at 0x29f6bb490>"
      ]
     },
     "execution_count": 38,
     "metadata": {},
     "output_type": "execute_result"
    },
    {
     "data": {
      "image/png": "[encoded data removed]",
      "text/plain": [
       "<Figure size 640x480 with 1 Axes>"
      ]
     },
     "metadata": {},
     "output_type": "display_data"
    }
   ],
   "source": [
    "model.eval()\n",
    "test_output = model(test_tensor)\n",
    "_,test_pred = torch.max(test_output,1)\n",
    "test_pred = test_pred.numpy()\n",
    "C = confusion_matrix(test_tensor_labels, test_pred)\n",
    "plt.imshow(C,cmap='magma')"
   ]
  },
  {
   "cell_type": "code",
   "execution_count": null,
   "id": "3692f2fd",
   "metadata": {},
   "outputs": [],
   "source": []
  },
  {
   "cell_type": "code",
   "execution_count": null,
   "id": "5da5b901",
   "metadata": {},
   "outputs": [],
   "source": []
  }
 ],
 "metadata": {
  "kernelspec": {
   "display_name": "Python 3 (ipykernel)",
   "language": "python",
   "name": "python3"
  },
  "language_info": {
   "codemirror_mode": {
    "name": "ipython",
    "version": 3
   },
   "file_extension": ".py",
   "mimetype": "text/x-python",
   "name": "python",
   "nbconvert_exporter": "python",
   "pygments_lexer": "ipython3",
   "version": "3.10.6"
  }
 },
 "nbformat": 4,
 "nbformat_minor": 5
}
