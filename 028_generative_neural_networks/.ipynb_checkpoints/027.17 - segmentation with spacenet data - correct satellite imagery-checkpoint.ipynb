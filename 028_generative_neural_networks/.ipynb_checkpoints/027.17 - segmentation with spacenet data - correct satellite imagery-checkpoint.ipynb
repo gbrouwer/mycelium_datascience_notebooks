{
 "cells": [
  {
   "cell_type": "markdown",
   "metadata": {
    "id": "cZCM65CBt1CJ"
   },
   "source": [
    "# Spacenet - correct satellite imagery"
   ]
  },
  {
   "cell_type": "code",
   "execution_count": 13,
   "metadata": {},
   "outputs": [],
   "source": [
    "import numpy as np\n",
    "import pandas as pd\n",
    "import tensorflow as tf\n",
    "import matplotlib.pyplot as plt\n",
    "import os\n",
    "import geojson\n",
    "import time\n",
    "import sys\n",
    "import imageio\n",
    "import pickle\n",
    "import json\n",
    "from osgeo import gdal\n",
    "from tensorflow import keras\n",
    "from tensorflow.keras import datasets, layers, models\n",
    "from tqdm import tqdm\n",
    "from sklearn.decomposition import PCA\n",
    "from keras.models import Model\n",
    "from keras.layers import Input, Reshape, Dense, Flatten\n",
    "from sklearn.metrics import accuracy_score, precision_score, recall_score, confusion_matrix\n",
    "from sklearn.model_selection import train_test_split\n",
    "from tensorflow.keras import layers, losses\n",
    "from scipy.spatial.distance import cdist\n",
    "from scipy.spatial.distance import pdist\n",
    "from scipy.spatial.distance import squareform\n",
    "from matplotlib.patches import Polygon\n",
    "from PIL import Image, ImageOps "
   ]
  },
  {
   "cell_type": "markdown",
   "metadata": {},
   "source": [
    "### Find All Satellite Imagery"
   ]
  },
  {
   "cell_type": "code",
   "execution_count": 7,
   "metadata": {},
   "outputs": [],
   "source": [
    "imfiles = []\n",
    "basedir = '../../data/spacenet/khartoum/train/processed/satellite/'\n",
    "for root, dirs, files in os.walk(basedir, topdown=False):\n",
    "    for name in files:\n",
    "        if '.png' in name:\n",
    "            imfiles.append(os.path.join(root, name))"
   ]
  },
  {
   "cell_type": "markdown",
   "metadata": {},
   "source": [
    "### Loop Through Images to Correct"
   ]
  },
  {
   "cell_type": "code",
   "execution_count": 11,
   "metadata": {
    "scrolled": false
   },
   "outputs": [
    {
     "name": "stderr",
     "output_type": "stream",
     "text": [
      "100%|█████████████████████████████████████████████████████████████████████████████████████████████████████████| 1/1 [00:00<00:00, 35.46it/s]\n"
     ]
    }
   ],
   "source": [
    "# resolution = 650\n",
    "# width = 0.000001\n",
    "# count = 0\n",
    "# geobase_dir = '../../data/spacenet/khartoum/train/raw/geojson/buildings/buildings_AOI_5_Khartoum_'\n",
    "# satpng_dir = '../../data/spacenet/khartoum/train/processed/satellite/'\n",
    "# plt.figure(figsize=(12,12))    \n",
    "# fig,ax = plt.subplots()\n",
    "imfiles = [imfiles[0]]\n",
    "for i in tqdm(range(len(imfiles))):\n",
    "    satfile = imfiles[i]\n",
    "    new_satfile = satfile.replace('processed','equalized')\n",
    "    im = Image.open(satfile)\n",
    "    im2 = ImageOps.equalize(im1, mask = None)\n",
    "#     geofile = geobase_dir + satfile.split('_')[-1].replace('.tif','.geojson')\n",
    "#     new_satfile = satpng_dir + str(count).zfill(3) + '.png'\n",
    "#     satpng_file = satpng_dir + str(count).zfill(3) + '.png'\n",
    "#     segpng_file = satpng_file.replace('satellite','segmented')\n",
    "#     count = count + 2\n",
    "#     raster = gdal.Open(satfile, gdal.GA_ReadOnly)\n",
    "\n",
    "#     band1 = raster.GetRasterBand(1).ReadAsArray()\n",
    "#     band2 = raster.GetRasterBand(2).ReadAsArray()\n",
    "#     band3 = raster.GetRasterBand(3).ReadAsArray()\n",
    "#     im = np.zeros((band1.shape[0],band1.shape[1],3))\n",
    "#     im[:,:,0] = band1\n",
    "#     im[:,:,1] = band2\n",
    "#     im[:,:,2] = band3\n",
    "#     im = im / 2000 * 255\n",
    "#     image = Image.fromarray(im.astype('uint8'))\n",
    "#     image.save(satpng_file)\n",
    "\n",
    "#     geotransform = raster.GetGeoTransform()\n",
    "#     (xs,xw,zs,ys,ze,yw) = geotransform\n",
    "#     xpos = np.linspace(xs,xs+(resolution*xw))\n",
    "#     ypos = np.linspace(ys,ys+(resolution*yw))\n",
    "#     with open(geofile) as f:\n",
    "\n",
    "#         #Add Patches \n",
    "#         gj = geojson.load(f)\n",
    "#         for item in gj['features']:\n",
    "#             coordinates = item['geometry']['coordinates']\n",
    "#             coordinates = np.squeeze(np.array(coordinates))\n",
    "#             if (len(coordinates.shape) == 2):\n",
    "#                 px = coordinates[:,0]\n",
    "#                 py = coordinates[:,1]\n",
    "#                 p = Polygon(coordinates[:,:2], edgecolor='r',facecolor='r')\n",
    "#                 plt.plot(coordinates[:,0],coordinates[:,1],c='r',linewidth=0.1)\n",
    "#                 ax.add_patch(p)\n",
    "\n",
    "#     #Add Corners\n",
    "#     p1,p2,p3,p4 = addCorners(xs,xw,ys,yw,resolution,width,'k')\n",
    "#     ax.add_patch(p1)\n",
    "#     ax.add_patch(p2)\n",
    "#     ax.add_patch(p3)\n",
    "#     ax.add_patch(p4)\n",
    "#     plt.box()\n",
    "#     plt.grid('off')\n",
    "#     plt.xticks([])\n",
    "#     plt.yticks([])\n",
    "#     plt.savefig(segpng_file, dpi=300,bbox_inches=\"tight\")    \n",
    "#     plt.clf()"
   ]
  },
  {
   "cell_type": "code",
   "execution_count": null,
   "metadata": {},
   "outputs": [],
   "source": [
    "print(np.min(im))\n",
    "print(np.max(im))"
   ]
  },
  {
   "cell_type": "code",
   "execution_count": null,
   "metadata": {},
   "outputs": [],
   "source": []
  }
 ],
 "metadata": {
  "accelerator": "GPU",
  "colab": {
   "collapsed_sections": [],
   "name": "segmentation.ipynb",
   "toc_visible": true
  },
  "kernelspec": {
   "display_name": "Python 3 (ipykernel)",
   "language": "python",
   "name": "python3"
  },
  "language_info": {
   "codemirror_mode": {
    "name": "ipython",
    "version": 3
   },
   "file_extension": ".py",
   "mimetype": "text/x-python",
   "name": "python",
   "nbconvert_exporter": "python",
   "pygments_lexer": "ipython3",
   "version": "3.9.6"
  }
 },
 "nbformat": 4,
 "nbformat_minor": 1
}
