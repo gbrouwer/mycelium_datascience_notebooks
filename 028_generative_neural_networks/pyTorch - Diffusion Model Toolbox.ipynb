{
 "cells": [
  {
   "cell_type": "markdown",
   "id": "536b05e2",
   "metadata": {},
   "source": [
    "### Import"
   ]
  },
  {
   "cell_type": "code",
   "execution_count": 3,
   "id": "bfe50c06",
   "metadata": {},
   "outputs": [],
   "source": [
    "import matplotlib.pyplot as plt\n",
    "import numpy as np\n",
    "import os\n",
    "import sys\n",
    "from denoising_diffusion_pytorch import Unet, GaussianDiffusion, Trainer"
   ]
  },
  {
   "cell_type": "markdown",
   "id": "eac0b0a4",
   "metadata": {},
   "source": [
    "### Create Unet model"
   ]
  },
  {
   "cell_type": "code",
   "execution_count": 9,
   "id": "1f050143",
   "metadata": {},
   "outputs": [],
   "source": [
    "model = Unet(\n",
    "    dim = 64,\n",
    "    dim_mults = (1, 2, 4, 8))#.cuda()"
   ]
  },
  {
   "cell_type": "markdown",
   "id": "14d1b6e5",
   "metadata": {},
   "source": [
    "### Create Diffusion Model"
   ]
  },
  {
   "cell_type": "code",
   "execution_count": 13,
   "id": "c1f10b3d",
   "metadata": {},
   "outputs": [],
   "source": [
    "diffusion = GaussianDiffusion(\n",
    "    model,\n",
    "    image_size = 128,\n",
    "    timesteps = 1000,           \n",
    "    sampling_timesteps = 250,   \n",
    "    loss_type = 'l1')#.cuda()"
   ]
  },
  {
   "cell_type": "markdown",
   "id": "6ecdf8d6",
   "metadata": {},
   "source": [
    "### Create Trainer"
   ]
  },
  {
   "cell_type": "code",
   "execution_count": 14,
   "id": "42485e72",
   "metadata": {},
   "outputs": [],
   "source": [
    "trainer = Trainer(\n",
    "    diffusion,\n",
    "    '/Users/gijsjoostbrouwer/Projects/mycelium_datascience/data/dogs-vs-cats/train/cats/',\n",
    "    train_batch_size = 32,\n",
    "    train_lr = 8e-5,\n",
    "    train_num_steps = 7000,           # total training steps\n",
    "    gradient_accumulate_every = 2,    # gradient accumulation steps\n",
    "    ema_decay = 0.995,                # exponential moving average decay\n",
    "    amp = True                        # turn on mixed precision\n",
    ")"
   ]
  },
  {
   "cell_type": "markdown",
   "id": "d562d239",
   "metadata": {},
   "source": [
    "### Train"
   ]
  },
  {
   "cell_type": "code",
   "execution_count": null,
   "id": "c4cb810f",
   "metadata": {},
   "outputs": [
    {
     "data": {
      "application/vnd.jupyter.widget-view+json": {
       "model_id": "301d48e1a5ea4a17b038f041f4f3c70e",
       "version_major": 2,
       "version_minor": 0
      },
      "text/plain": [
       "  0%|          | 0/7000 [00:00<?, ?it/s]"
      ]
     },
     "metadata": {},
     "output_type": "display_data"
    }
   ],
   "source": [
    "trainer.train()"
   ]
  },
  {
   "cell_type": "code",
   "execution_count": null,
   "id": "f9c9f7af",
   "metadata": {},
   "outputs": [],
   "source": []
  }
 ],
 "metadata": {
  "kernelspec": {
   "display_name": "Python 3 (ipykernel)",
   "language": "python",
   "name": "python3"
  },
  "language_info": {
   "codemirror_mode": {
    "name": "ipython",
    "version": 3
   },
   "file_extension": ".py",
   "mimetype": "text/x-python",
   "name": "python",
   "nbconvert_exporter": "python",
   "pygments_lexer": "ipython3",
   "version": "3.10.6"
  }
 },
 "nbformat": 4,
 "nbformat_minor": 5
}
