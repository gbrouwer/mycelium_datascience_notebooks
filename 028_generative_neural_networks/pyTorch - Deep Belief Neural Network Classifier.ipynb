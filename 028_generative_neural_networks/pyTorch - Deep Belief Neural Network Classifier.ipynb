{
 "cells": [
  {
   "cell_type": "markdown",
   "id": "7b69a929",
   "metadata": {},
   "source": [
    "### Import"
   ]
  },
  {
   "cell_type": "code",
   "execution_count": 137,
   "id": "d897a48c",
   "metadata": {},
   "outputs": [],
   "source": [
    "import os\n",
    "import torch\n",
    "import sys\n",
    "import numpy as np\n",
    "import torch.nn as nn\n",
    "import torch.nn.functional as F\n",
    "import matplotlib.pyplot as plt\n",
    "import torchvision.transforms as transforms\n",
    "from sklearn.model_selection import train_test_split\n",
    "from sklearn.datasets import make_regression\n",
    "from sklearn.datasets import make_classification\n",
    "from torch.autograd import Variable\n",
    "from torchvision import datasets\n",
    "from torch.utils.data.sampler import SubsetRandomSampler\n",
    "from sklearn.metrics import confusion_matrix"
   ]
  },
  {
   "cell_type": "markdown",
   "id": "c49e66c7",
   "metadata": {},
   "source": [
    "### Create Data"
   ]
  },
  {
   "cell_type": "code",
   "execution_count": 120,
   "id": "f98a6260",
   "metadata": {},
   "outputs": [],
   "source": [
    "n_features = 100\n",
    "n_classes = 10\n",
    "noise = 0.0\n",
    "X,y = make_classification(n_samples=1000,\n",
    "                                      n_features=n_features,\n",
    "                                      n_informative=n_features,\n",
    "                                      n_redundant=0,\n",
    "                                      n_repeated=0,\n",
    "                                      n_classes=n_classes,\n",
    "                                      n_clusters_per_class=1,\n",
    "                                      weights=None,\n",
    "                                      flip_y=noise,\n",
    "                                      class_sep=2.0,\n",
    "                                      hypercube=True,\n",
    "                                      shift=0.0,\n",
    "                                      shuffle=True,\n",
    "                                      random_state=42)"
   ]
  },
  {
   "cell_type": "markdown",
   "id": "09770711",
   "metadata": {},
   "source": [
    "### Split the data"
   ]
  },
  {
   "cell_type": "code",
   "execution_count": 121,
   "id": "a1481117",
   "metadata": {},
   "outputs": [],
   "source": [
    "x_train, x_val, y_train, y_val = train_test_split(X, y, test_size=0.2, random_state=42)\n",
    "x_train = np.array(x_train, dtype=np.float32)\n",
    "y_train = np.array(y_train, dtype=np.float32)\n",
    "x_val = np.array(x_val, dtype=np.float32)\n",
    "y_val = np.array(y_val, dtype=np.float32)"
   ]
  },
  {
   "cell_type": "markdown",
   "id": "d7ae28db",
   "metadata": {},
   "source": [
    "### Convert to torch Tensor"
   ]
  },
  {
   "cell_type": "code",
   "execution_count": 122,
   "id": "69cbb01d",
   "metadata": {},
   "outputs": [],
   "source": [
    "train_inputs = Variable(torch.from_numpy(x_train))\n",
    "train_labels = Variable(torch.from_numpy(y_train))\n",
    "train_labels = train_labels.type(torch.LongTensor)\n",
    "\n",
    "val_inputs = Variable(torch.from_numpy(x_val))\n",
    "val_labels = Variable(torch.from_numpy(y_val))\n",
    "val_labels = val_labels.type(torch.LongTensor)\n",
    "\n",
    "#inputs = Variable(torch.from_numpy(x_train).cuda())\n",
    "#labels = Variable(torch.from_numpy(y_train).cuda())"
   ]
  },
  {
   "cell_type": "markdown",
   "id": "6a266bc4",
   "metadata": {},
   "source": [
    "### Create Deep Belief Model"
   ]
  },
  {
   "cell_type": "code",
   "execution_count": 123,
   "id": "a030a0a6",
   "metadata": {},
   "outputs": [],
   "source": [
    "class DeepBeliefClassifier(nn.Module):\n",
    "    def __init__(self):\n",
    "        super(DeepBeliefClassifier,self).__init__()\n",
    "        hidden_1 = 50\n",
    "        hidden_2 = 25\n",
    "        self.fc1 = nn.Linear(n_features,hidden_1)\n",
    "        self.fc2 = nn.Linear(hidden_1,hidden_2)\n",
    "        self.fc3 = nn.Linear(hidden_2,n_classes)\n",
    "        self.droput = nn.Dropout(0.2)\n",
    "        \n",
    "    def forward(self,x):\n",
    "        # flatten image input\n",
    "        x = x.view(-1,100)\n",
    "        x = F.relu(self.fc1(x))\n",
    "        x = self.droput(x)\n",
    "        x = F.relu(self.fc2(x))\n",
    "        x = self.droput(x)\n",
    "        x = self.fc3(x)\n",
    "        return x"
   ]
  },
  {
   "cell_type": "markdown",
   "id": "25b08fc8",
   "metadata": {},
   "source": [
    "### Parameters"
   ]
  },
  {
   "cell_type": "code",
   "execution_count": 124,
   "id": "698eb39c",
   "metadata": {},
   "outputs": [],
   "source": [
    "learningRate = 0.01 \n",
    "n_epochs = 5000"
   ]
  },
  {
   "cell_type": "markdown",
   "id": "2cfb2830",
   "metadata": {},
   "source": [
    "### Instantiate Model"
   ]
  },
  {
   "cell_type": "code",
   "execution_count": 125,
   "id": "24bd79bf",
   "metadata": {},
   "outputs": [
    {
     "name": "stdout",
     "output_type": "stream",
     "text": [
      "DeepBeliefClassifier(\n",
      "  (fc1): Linear(in_features=100, out_features=50, bias=True)\n",
      "  (fc2): Linear(in_features=50, out_features=25, bias=True)\n",
      "  (fc3): Linear(in_features=25, out_features=10, bias=True)\n",
      "  (droput): Dropout(p=0.2, inplace=False)\n",
      ")\n"
     ]
    }
   ],
   "source": [
    "model = DeepBeliefClassifier()\n",
    "print(model)"
   ]
  },
  {
   "cell_type": "markdown",
   "id": "1b452237",
   "metadata": {},
   "source": [
    "### Optimizer parameters"
   ]
  },
  {
   "cell_type": "code",
   "execution_count": 126,
   "id": "77b616b6",
   "metadata": {},
   "outputs": [],
   "source": [
    "criterion = nn.CrossEntropyLoss()\n",
    "optimizer = torch.optim.SGD(model.parameters(),lr = learningRate)"
   ]
  },
  {
   "cell_type": "markdown",
   "id": "05696f43",
   "metadata": {},
   "source": [
    "### Start Training"
   ]
  },
  {
   "cell_type": "code",
   "execution_count": 127,
   "id": "e3959f40",
   "metadata": {
    "scrolled": false
   },
   "outputs": [
    {
     "name": "stdout",
     "output_type": "stream",
     "text": [
      "Epoch: 0, Training Loss: 2.409245, Validation Loss: 2.386229\n",
      "Epoch: 100, Training Loss: 1.897477, Validation Loss: 1.964517\n",
      "Epoch: 200, Training Loss: 1.281052, Validation Loss: 1.364515\n",
      "Epoch: 300, Training Loss: 0.859699, Validation Loss: 0.874294\n",
      "Epoch: 400, Training Loss: 0.593332, Validation Loss: 0.621143\n",
      "Epoch: 500, Training Loss: 0.520090, Validation Loss: 0.488084\n",
      "Epoch: 600, Training Loss: 0.438472, Validation Loss: 0.412529\n",
      "Epoch: 700, Training Loss: 0.348102, Validation Loss: 0.367245\n",
      "Epoch: 800, Training Loss: 0.303273, Validation Loss: 0.336585\n",
      "Epoch: 900, Training Loss: 0.267424, Validation Loss: 0.316814\n",
      "Epoch: 1000, Training Loss: 0.214775, Validation Loss: 0.307017\n",
      "Epoch: 1100, Training Loss: 0.185946, Validation Loss: 0.296427\n",
      "Epoch: 1200, Training Loss: 0.172230, Validation Loss: 0.289010\n",
      "Epoch: 1300, Training Loss: 0.156077, Validation Loss: 0.284914\n",
      "Epoch: 1400, Training Loss: 0.151003, Validation Loss: 0.280174\n",
      "Epoch: 1500, Training Loss: 0.141107, Validation Loss: 0.278552\n",
      "Epoch: 1600, Training Loss: 0.122037, Validation Loss: 0.279004\n",
      "Epoch: 1700, Training Loss: 0.135332, Validation Loss: 0.273115\n",
      "Epoch: 1800, Training Loss: 0.114882, Validation Loss: 0.273232\n",
      "Epoch: 1900, Training Loss: 0.089859, Validation Loss: 0.271775\n",
      "Epoch: 2000, Training Loss: 0.127417, Validation Loss: 0.270536\n",
      "Epoch: 2100, Training Loss: 0.114047, Validation Loss: 0.272210\n",
      "Epoch: 2200, Training Loss: 0.085804, Validation Loss: 0.270646\n",
      "Epoch: 2300, Training Loss: 0.080732, Validation Loss: 0.267304\n",
      "Epoch: 2400, Training Loss: 0.106660, Validation Loss: 0.266911\n",
      "Epoch: 2500, Training Loss: 0.105565, Validation Loss: 0.268382\n",
      "Epoch: 2600, Training Loss: 0.096916, Validation Loss: 0.270701\n",
      "Epoch: 2700, Training Loss: 0.068549, Validation Loss: 0.270236\n",
      "Epoch: 2800, Training Loss: 0.097924, Validation Loss: 0.269776\n",
      "Epoch: 2900, Training Loss: 0.104099, Validation Loss: 0.274162\n",
      "Epoch: 3000, Training Loss: 0.087849, Validation Loss: 0.272843\n",
      "Epoch: 3100, Training Loss: 0.066386, Validation Loss: 0.273400\n",
      "Epoch: 3200, Training Loss: 0.063482, Validation Loss: 0.275107\n",
      "Epoch: 3300, Training Loss: 0.054221, Validation Loss: 0.274971\n",
      "Epoch: 3400, Training Loss: 0.067658, Validation Loss: 0.274289\n",
      "Epoch: 3500, Training Loss: 0.061232, Validation Loss: 0.273308\n",
      "Epoch: 3600, Training Loss: 0.065882, Validation Loss: 0.276214\n",
      "Epoch: 3700, Training Loss: 0.054559, Validation Loss: 0.276522\n",
      "Epoch: 3800, Training Loss: 0.055425, Validation Loss: 0.276618\n",
      "Epoch: 3900, Training Loss: 0.049618, Validation Loss: 0.278475\n",
      "Epoch: 4000, Training Loss: 0.048805, Validation Loss: 0.281858\n",
      "Epoch: 4100, Training Loss: 0.067859, Validation Loss: 0.281539\n",
      "Epoch: 4200, Training Loss: 0.068425, Validation Loss: 0.283093\n",
      "Epoch: 4300, Training Loss: 0.052263, Validation Loss: 0.283674\n",
      "Epoch: 4400, Training Loss: 0.049047, Validation Loss: 0.285186\n",
      "Epoch: 4500, Training Loss: 0.055933, Validation Loss: 0.286733\n",
      "Epoch: 4600, Training Loss: 0.049138, Validation Loss: 0.285959\n",
      "Epoch: 4700, Training Loss: 0.047708, Validation Loss: 0.286471\n",
      "Epoch: 4800, Training Loss: 0.059147, Validation Loss: 0.289001\n",
      "Epoch: 4900, Training Loss: 0.043980, Validation Loss: 0.288815\n"
     ]
    }
   ],
   "source": [
    "valid_loss_min = np.Inf\n",
    "train_loss_history = []\n",
    "train_accuracy_history = []\n",
    "val_loss_history = []\n",
    "val_accuracy_history = []\n",
    "for epoch in range(n_epochs):\n",
    "\n",
    "    #Training\n",
    "    model.train()\n",
    "    optimizer.zero_grad()\n",
    "    train_output = model(train_inputs)\n",
    "    train_loss = criterion(train_output,train_labels)\n",
    "    train_loss.backward()\n",
    "    optimizer.step()\n",
    "    train_loss_history.append(train_loss.item())\n",
    "    \n",
    "    #Validation\n",
    "    model.eval()\n",
    "    val_output = model(val_inputs)\n",
    "    val_loss = criterion(val_output,val_labels)\n",
    "    val_loss_history.append(val_loss.item())\n",
    "\n",
    "    #Compute accuracy\n",
    "    _,train_pred = torch.max(train_output, 1)    \n",
    "    train_accuracy = np.sum(train_pred.numpy() == train_labels.numpy()) / len(train_labels.numpy())\n",
    "    train_accuracy_history.append(train_accuracy)\n",
    "\n",
    "    _,val_pred = torch.max(val_output, 1)\n",
    "    val_accuracy = np.sum(val_pred.numpy() == val_labels.numpy()) / len(val_labels.numpy())\n",
    "    val_accuracy_history.append(val_accuracy)\n",
    "    \n",
    "    #Verbose\n",
    "    if (epoch % 100 == 0):\n",
    "        print('Epoch: {}, Training Loss: {:.6f}, Validation Loss: {:.6f}'.format(epoch, train_loss,val_loss))\n",
    "    \n",
    "#Save the model\n",
    "torch.save(model.state_dict(), 'model.pt')"
   ]
  },
  {
   "cell_type": "markdown",
   "id": "f9630be2",
   "metadata": {},
   "source": [
    "### Plot Loss and accuracy"
   ]
  },
  {
   "cell_type": "code",
   "execution_count": 128,
   "id": "59cc20c9",
   "metadata": {},
   "outputs": [
    {
     "data": {
      "image/png": "[encoded data removed]",
      "text/plain": [
       "<Figure size 1000x500 with 2 Axes>"
      ]
     },
     "metadata": {},
     "output_type": "display_data"
    }
   ],
   "source": [
    "train_loss_history = np.array(train_loss_history)\n",
    "val_loss_history = np.array(val_loss_history)\n",
    "train_accuracy_history = np.array(train_accuracy_history)\n",
    "val_accuracy_history = np.array(val_accuracy_history)\n",
    "\n",
    "plt.figure(figsize=(10,5))\n",
    "plt.subplot(1,2,1)\n",
    "plt.plot(train_loss_history,'r')\n",
    "plt.plot(val_loss_history,'g')\n",
    "plt.grid();\n",
    "plt.xlabel('Epoch',fontsize=16);\n",
    "plt.ylabel('Loss',fontsize=16);\n",
    "\n",
    "plt.subplot(1,2,2)\n",
    "plt.plot(train_accuracy_history,'r')\n",
    "plt.plot(val_accuracy_history,'g')\n",
    "plt.grid();\n",
    "plt.xlabel('Epoch',fontsize=16);\n",
    "plt.ylabel('Accuracy',fontsize=16);"
   ]
  },
  {
   "cell_type": "markdown",
   "id": "d0349714",
   "metadata": {},
   "source": [
    "### Get Parameters and compare with actual coefficients"
   ]
  },
  {
   "cell_type": "code",
   "execution_count": 136,
   "id": "b7726129",
   "metadata": {},
   "outputs": [
    {
     "name": "stdout",
     "output_type": "stream",
     "text": [
      "fc1.weight\n",
      "[ 0.12287929  0.01472556  0.0372835  -0.11591526  0.01407655  0.06160849\n",
      "  0.14240353  0.01804039  0.02666428  0.01556909 -0.04307513  0.03756383\n",
      " -0.09840313  0.08982477  0.10845381 -0.05621908 -0.03557326  0.11748412\n",
      "  0.07212981 -0.02981414 -0.07104589 -0.03824827  0.05652351 -0.08279818\n",
      "  0.00680107 -0.08748387 -0.08388255 -0.03699452 -0.07738719  0.07478554\n",
      "  0.00797045  0.06070276 -0.05974406  0.07247845  0.13647056 -0.05326692\n",
      "  0.11429812 -0.04997596  0.03618561 -0.06886851  0.04913453 -0.03048478\n",
      " -0.18909355  0.06426126  0.09083031  0.06129687 -0.15759438  0.10585822\n",
      "  0.08608566 -0.00639066  0.07974134 -0.11264095  0.02599929  0.02772311\n",
      "  0.06997925 -0.01139581  0.156229    0.01065915  0.02397126  0.03810648\n",
      " -0.00552722 -0.00476313 -0.01561931  0.06640478 -0.11668182  0.05929017\n",
      " -0.03180018  0.03916579 -0.04196375  0.06959588  0.10263963 -0.03430557\n",
      "  0.10047375  0.17063144  0.04998539  0.07342946  0.02687424  0.05877333\n",
      "  0.04559923 -0.02628351  0.07995869  0.07236822  0.01567977 -0.11979546\n",
      "  0.11030523 -0.00045708 -0.05757342 -0.1033677  -0.01470632 -0.06827569\n",
      "  0.00334957 -0.02563348 -0.08919109 -0.02715766 -0.01600914  0.03547175\n",
      "  0.06153052 -0.00638047 -0.02790874 -0.08225351]\n",
      "fc1.bias\n",
      "0.0032842027\n",
      "fc2.weight\n",
      "[ 0.30854228 -0.0825979  -0.16299865 -0.09869166 -0.08215671  0.00648021\n",
      "  0.08830888  0.16342771 -0.15892676 -0.10188576  0.10784303  0.02627828\n",
      "  0.24637228 -0.15329838 -0.04598561 -0.02566687 -0.0254643   0.07266298\n",
      "  0.03136755 -0.11964717  0.04919849  0.00843494  0.02257585  0.05326032\n",
      " -0.10814773  0.22763762 -0.08349072  0.21304302 -0.05814296 -0.17997026\n",
      "  0.09851701  0.17114629  0.10938267  0.0084101   0.00155876 -0.07255694\n",
      "  0.22784929 -0.10032292  0.12726043 -0.05908501  0.01306364 -0.03772009\n",
      " -0.02062797 -0.14424624 -0.04691881  0.15290742 -0.00245279  0.02042411\n",
      " -0.00626552  0.18878113]\n",
      "fc2.bias\n",
      "-0.041454706\n",
      "fc3.weight\n",
      "[-0.13691889  0.12596466 -0.2028478   0.3085595  -0.19052416 -0.32700965\n",
      "  0.19355461  0.34857675  0.2545276   0.31422123 -0.24070704 -0.15834482\n",
      " -0.1495414  -0.14844385  0.07054772 -0.29047552 -0.01415206 -0.17848046\n",
      " -0.13055179 -0.14280362  0.25729582 -0.07208613  0.05636415  0.19174024\n",
      " -0.21277313]\n",
      "fc3.bias\n",
      "0.1067699\n"
     ]
    }
   ],
   "source": [
    "for name,param in model.named_parameters():\n",
    "    if 'weight' in name:\n",
    "        w = param[0].detach().numpy()\n",
    "        print(name)\n",
    "        print(w)\n",
    "    if 'bias' in name:\n",
    "        b = param[0].detach().numpy()        \n",
    "        print(name)\n",
    "        print(b)\n",
    "\n",
    "# plt.figure(figsize=(6,6))        \n",
    "# plt.scatter(w,coef,c='r')\n",
    "# plt.scatter(b,bias,c='g')\n",
    "# plt.grid()"
   ]
  },
  {
   "cell_type": "markdown",
   "id": "4adfa8c1",
   "metadata": {},
   "source": [
    "### Create Confusion Matrix"
   ]
  },
  {
   "cell_type": "code",
   "execution_count": 139,
   "id": "d4653d98",
   "metadata": {},
   "outputs": [
    {
     "data": {
      "text/plain": [
       "<matplotlib.image.AxesImage at 0x29121f910>"
      ]
     },
     "execution_count": 139,
     "metadata": {},
     "output_type": "execute_result"
    },
    {
     "data": {
      "image/png": "[encoded data removed]",
      "text/plain": [
       "<Figure size 640x480 with 1 Axes>"
      ]
     },
     "metadata": {},
     "output_type": "display_data"
    }
   ],
   "source": [
    "model.eval()\n",
    "val_output = model(val_inputs)\n",
    "_,val_pred = torch.max(val_output, 1)\n",
    "val_pred = val_pred.numpy()\n",
    "C = confusion_matrix(val_labels, val_pred)\n",
    "plt.imshow(C,cmap='magma')"
   ]
  },
  {
   "cell_type": "code",
   "execution_count": null,
   "id": "3692f2fd",
   "metadata": {},
   "outputs": [],
   "source": []
  }
 ],
 "metadata": {
  "kernelspec": {
   "display_name": "Python 3 (ipykernel)",
   "language": "python",
   "name": "python3"
  },
  "language_info": {
   "codemirror_mode": {
    "name": "ipython",
    "version": 3
   },
   "file_extension": ".py",
   "mimetype": "text/x-python",
   "name": "python",
   "nbconvert_exporter": "python",
   "pygments_lexer": "ipython3",
   "version": "3.10.6"
  }
 },
 "nbformat": 4,
 "nbformat_minor": 5
}
