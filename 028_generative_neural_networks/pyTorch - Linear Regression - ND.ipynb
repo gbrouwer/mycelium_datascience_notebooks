{
 "cells": [
  {
   "cell_type": "markdown",
   "id": "7b69a929",
   "metadata": {},
   "source": [
    "### Import"
   ]
  },
  {
   "cell_type": "code",
   "execution_count": 2,
   "id": "d897a48c",
   "metadata": {},
   "outputs": [],
   "source": [
    "import os\n",
    "import torch\n",
    "import sys\n",
    "import numpy as np\n",
    "import matplotlib.pyplot as plt\n",
    "from sklearn.model_selection import train_test_split\n",
    "from sklearn.datasets import make_regression\n",
    "from torch.autograd import Variable"
   ]
  },
  {
   "cell_type": "markdown",
   "id": "c49e66c7",
   "metadata": {},
   "source": [
    "### Create Data"
   ]
  },
  {
   "cell_type": "code",
   "execution_count": 18,
   "id": "f98a6260",
   "metadata": {},
   "outputs": [
    {
     "name": "stdout",
     "output_type": "stream",
     "text": [
      "(1000, 10)\n",
      "(1000, 1)\n"
     ]
    }
   ],
   "source": [
    "bias = 50.0\n",
    "noise = 10.0\n",
    "n_features = 10\n",
    "x_train,y_train,coef = make_regression(n_samples = 1000,\n",
    "                           n_features = n_features,\n",
    "                           n_informative = n_features,\n",
    "                           n_targets = 1,\n",
    "                           bias = bias,\n",
    "                           effective_rank = None,\n",
    "                           noise = noise,\n",
    "                           shuffle = True,\n",
    "                           coef = True,\n",
    "                           random_state = 42)\n",
    "x_train = np.array(x_train, dtype=np.float32)\n",
    "y_train = np.array(y_train, dtype=np.float32)\n",
    "y_train = y_train.reshape(-1, 1)"
   ]
  },
  {
   "cell_type": "markdown",
   "id": "d7ae28db",
   "metadata": {},
   "source": [
    "### Convert to torch Tensor"
   ]
  },
  {
   "cell_type": "code",
   "execution_count": 19,
   "id": "69cbb01d",
   "metadata": {},
   "outputs": [],
   "source": [
    "inputs = Variable(torch.from_numpy(x_train))\n",
    "labels = Variable(torch.from_numpy(y_train))\n",
    "\n",
    "#inputs = Variable(torch.from_numpy(x_train).cuda())\n",
    "#labels = Variable(torch.from_numpy(y_train).cuda())"
   ]
  },
  {
   "cell_type": "markdown",
   "id": "6a266bc4",
   "metadata": {},
   "source": [
    "### Create Linear Regresion Class Model"
   ]
  },
  {
   "cell_type": "code",
   "execution_count": 20,
   "id": "a030a0a6",
   "metadata": {},
   "outputs": [],
   "source": [
    "class linearRegression(torch.nn.Module):\n",
    "    def __init__(self, inputSize, outputSize):\n",
    "        super(linearRegression, self).__init__()\n",
    "        self.linear = torch.nn.Linear(inputSize, outputSize)\n",
    "\n",
    "    def forward(self, x):\n",
    "        out = self.linear(x)\n",
    "        return out"
   ]
  },
  {
   "cell_type": "markdown",
   "id": "25b08fc8",
   "metadata": {},
   "source": [
    "### Parameters"
   ]
  },
  {
   "cell_type": "code",
   "execution_count": 21,
   "id": "698eb39c",
   "metadata": {},
   "outputs": [],
   "source": [
    "inputDim = n_features\n",
    "outputDim = 1\n",
    "learningRate = 0.01 \n",
    "epochs = 1000"
   ]
  },
  {
   "cell_type": "markdown",
   "id": "2cfb2830",
   "metadata": {},
   "source": [
    "### Instantiate Model"
   ]
  },
  {
   "cell_type": "code",
   "execution_count": 22,
   "id": "24bd79bf",
   "metadata": {},
   "outputs": [],
   "source": [
    "model = linearRegression(inputDim, outputDim)"
   ]
  },
  {
   "cell_type": "markdown",
   "id": "1b452237",
   "metadata": {},
   "source": [
    "### Optimizer parameters"
   ]
  },
  {
   "cell_type": "code",
   "execution_count": 23,
   "id": "77b616b6",
   "metadata": {},
   "outputs": [],
   "source": [
    "criterion = torch.nn.MSELoss() \n",
    "optimizer = torch.optim.SGD(model.parameters(), lr=learningRate)"
   ]
  },
  {
   "cell_type": "markdown",
   "id": "05696f43",
   "metadata": {},
   "source": [
    "### Start Training"
   ]
  },
  {
   "cell_type": "code",
   "execution_count": 24,
   "id": "e3959f40",
   "metadata": {
    "scrolled": false
   },
   "outputs": [
    {
     "name": "stdout",
     "output_type": "stream",
     "text": [
      "epoch 0, loss 20269.798828125\n",
      "epoch 100, loss 493.309814453125\n",
      "epoch 200, loss 102.27570343017578\n",
      "epoch 300, loss 93.12458801269531\n",
      "epoch 400, loss 92.8824691772461\n",
      "epoch 500, loss 92.8755111694336\n",
      "epoch 600, loss 92.87528228759766\n",
      "epoch 700, loss 92.87528228759766\n",
      "epoch 800, loss 92.87528228759766\n",
      "epoch 900, loss 92.87528228759766\n"
     ]
    }
   ],
   "source": [
    "loss_history = []\n",
    "for epoch in range(epochs):\n",
    "\n",
    "    #Clear gradient buffers\n",
    "    optimizer.zero_grad()\n",
    "\n",
    "    #Get output from the model, given the inputs\n",
    "    outputs = model(inputs)\n",
    "\n",
    "    #Get loss for the predicted output\n",
    "    loss = criterion(outputs, labels)\n",
    "    loss_history.append(loss.item())\n",
    "\n",
    "    #Get gradients w.r.t to parameters\n",
    "    loss.backward()\n",
    "\n",
    "    #Update parameters\n",
    "    optimizer.step()\n",
    "\n",
    "    #Print\n",
    "    if (epoch % 100 == 0):\n",
    "        print('epoch {}, loss {}'.format(epoch, loss.item()))"
   ]
  },
  {
   "cell_type": "markdown",
   "id": "f9630be2",
   "metadata": {},
   "source": [
    "### Plot Loss"
   ]
  },
  {
   "cell_type": "code",
   "execution_count": 25,
   "id": "59cc20c9",
   "metadata": {},
   "outputs": [
    {
     "data": {
      "image/png": "[encoded data removed]",
      "text/plain": [
       "<Figure size 600x600 with 1 Axes>"
      ]
     },
     "metadata": {},
     "output_type": "display_data"
    }
   ],
   "source": [
    "loss_history = np.array(loss_history)\n",
    "plt.figure(figsize=(6,6))\n",
    "plt.plot(loss_history,'r')\n",
    "plt.grid();\n",
    "plt.xlabel('Epoch',fontsize=16);\n",
    "plt.ylabel('Loss',fontsize=16);"
   ]
  },
  {
   "cell_type": "markdown",
   "id": "d0349714",
   "metadata": {},
   "source": [
    "### Get Parameters and compare with actual coefficients"
   ]
  },
  {
   "cell_type": "code",
   "execution_count": 30,
   "id": "b7726129",
   "metadata": {},
   "outputs": [
    {
     "data": {
      "image/png": "[encoded data removed]",
      "text/plain": [
       "<Figure size 600x600 with 1 Axes>"
      ]
     },
     "metadata": {},
     "output_type": "display_data"
    }
   ],
   "source": [
    "for name,param in model.named_parameters():\n",
    "    if 'weight' in name:\n",
    "        w = param[0].detach().numpy()\n",
    "    if 'bias' in name:\n",
    "        b = param[0].detach().numpy()        \n",
    "\n",
    "plt.figure(figsize=(6,6))        \n",
    "plt.scatter(w,coef,c='r')\n",
    "plt.scatter(b,bias,c='g')\n",
    "plt.grid()"
   ]
  },
  {
   "cell_type": "code",
   "execution_count": null,
   "id": "586db93e",
   "metadata": {},
   "outputs": [],
   "source": []
  }
 ],
 "metadata": {
  "kernelspec": {
   "display_name": "Python 3 (ipykernel)",
   "language": "python",
   "name": "python3"
  },
  "language_info": {
   "codemirror_mode": {
    "name": "ipython",
    "version": 3
   },
   "file_extension": ".py",
   "mimetype": "text/x-python",
   "name": "python",
   "nbconvert_exporter": "python",
   "pygments_lexer": "ipython3",
   "version": "3.10.6"
  }
 },
 "nbformat": 4,
 "nbformat_minor": 5
}
