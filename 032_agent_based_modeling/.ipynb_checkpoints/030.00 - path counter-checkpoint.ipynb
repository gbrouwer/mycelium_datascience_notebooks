{
 "cells": [
  {
   "cell_type": "markdown",
   "id": "ded3a345",
   "metadata": {},
   "source": [
    "### Import"
   ]
  },
  {
   "cell_type": "code",
   "execution_count": 2,
   "id": "97a5958d",
   "metadata": {},
   "outputs": [],
   "source": [
    "import sys\n",
    "import os\n",
    "import pandas as pd\n",
    "import numpy as np\n",
    "import matplotlib.pyplot as plt\n",
    "from scipy.spatial.distance import pdist\n",
    "from scipy.spatial.distance import cdist\n",
    "from scipy.spatial.distance import squareform"
   ]
  },
  {
   "cell_type": "markdown",
   "id": "ee33e098",
   "metadata": {},
   "source": [
    "### Create Virtual World of Cities"
   ]
  },
  {
   "cell_type": "code",
   "execution_count": 22,
   "id": "79914bc0",
   "metadata": {},
   "outputs": [],
   "source": [
    "val = np.linspace(0,2*np.pi,17)[:-1]\n",
    "x = np.sin(val) * 100\n",
    "y = np.cos(val) * 100\n",
    "C = np.vstack((x,y)).T\n",
    "D = squareform(pdist(C))"
   ]
  },
  {
   "cell_type": "markdown",
   "id": "bea160a8",
   "metadata": {},
   "source": [
    "### Parameters"
   ]
  },
  {
   "cell_type": "code",
   "execution_count": 68,
   "id": "98a67d4c",
   "metadata": {},
   "outputs": [],
   "source": [
    "no_agents = 1000\n",
    "no_survivors = 500\n",
    "mutation_rate = 1/16\n",
    "cross_over = 1/4"
   ]
  },
  {
   "cell_type": "markdown",
   "id": "2699157d",
   "metadata": {},
   "source": [
    "### Create Agents"
   ]
  },
  {
   "cell_type": "code",
   "execution_count": 69,
   "id": "38dd51cd",
   "metadata": {},
   "outputs": [],
   "source": [
    "A = []\n",
    "for i in range(no_agents):\n",
    "    randval = np.random.permutation(16)\n",
    "    A.append(randval)\n",
    "A = np.array(A)"
   ]
  },
  {
   "cell_type": "markdown",
   "id": "5f80edf1",
   "metadata": {},
   "source": [
    "### Compute Distance"
   ]
  },
  {
   "cell_type": "code",
   "execution_count": 70,
   "id": "d1e6b392",
   "metadata": {},
   "outputs": [],
   "source": [
    "def route_to_distance(route,C,D):\n",
    "    \n",
    "    tot_distance = 0\n",
    "    for i in range(len(route)-1):\n",
    "        si = route[i]\n",
    "        ei = route[i+1]\n",
    "        cur_distance = D[si,ei]\n",
    "        tot_distance = tot_distance + cur_distance\n",
    "\n",
    "    return tot_distance"
   ]
  },
  {
   "cell_type": "markdown",
   "id": "9b58604a",
   "metadata": {},
   "source": [
    "### Compute Fitness of each agent"
   ]
  },
  {
   "cell_type": "code",
   "execution_count": 158,
   "id": "a4b29f10",
   "metadata": {},
   "outputs": [
    {
     "name": "stdout",
     "output_type": "stream",
     "text": [
      "2 2\n",
      "4 4\n",
      "15 15\n",
      "12 12\n"
     ]
    }
   ],
   "source": [
    "\n",
    "fitnesses = []\n",
    "for r in range(A.shape[0]):\n",
    "    route = A[r,:]\n",
    "    fitness = route_to_distance(route,C,D)\n",
    "    fitnesses.append(fitness)\n",
    "fitnesses = np.array(fitnesses)\n",
    "max_fit = np.min(fitnesses)\n",
    "min_fit = np.max(fitnesses)\n",
    "median_fit = np.median(fitnesses)\n",
    "mean_fit = np.mean(fitnesses)\n",
    "\n",
    "sortidx = np.argsort(fitnesses)[:no_survivors]\n",
    "survivors = A[sortidx,:]\n",
    "males = survivors[0::2]\n",
    "females = survivors[1::2]\n",
    "\n",
    "for i in range(1):#males.shape[0]):\n",
    "    male = males[i,:]\n",
    "    female = females[i,:]\n",
    "    rx = []\n",
    "    ry = np.random.random((16))\n",
    "    ry = np.where(ry <= 0.25)[0]\n",
    "    male_genes = male[ry]\n",
    "    for item in male_genes:\n",
    "        rx.append(np.where(female == item)[0][0])\n",
    "    female_genes = female[rx]\n",
    "    for j in range(len(ry)):\n",
    "        idy = ry[j]\n",
    "        idx = rx[j]\n",
    "    \n",
    "        # #         swap_indices_female = np.where(female == item)\n",
    "# # #         print(swap_indices_female)"
   ]
  },
  {
   "cell_type": "code",
   "execution_count": 54,
   "id": "b60ea354",
   "metadata": {},
   "outputs": [],
   "source": [
    "[0 10 11]\n",
    "[0 14 3]"
   ]
  },
  {
   "cell_type": "code",
   "execution_count": null,
   "id": "1d1131a0",
   "metadata": {},
   "outputs": [],
   "source": []
  },
  {
   "cell_type": "code",
   "execution_count": null,
   "id": "0402f032",
   "metadata": {},
   "outputs": [],
   "source": []
  }
 ],
 "metadata": {
  "kernelspec": {
   "display_name": "Python 3 (ipykernel)",
   "language": "python",
   "name": "python3"
  },
  "language_info": {
   "codemirror_mode": {
    "name": "ipython",
    "version": 3
   },
   "file_extension": ".py",
   "mimetype": "text/x-python",
   "name": "python",
   "nbconvert_exporter": "python",
   "pygments_lexer": "ipython3",
   "version": "3.9.6"
  }
 },
 "nbformat": 4,
 "nbformat_minor": 5
}
