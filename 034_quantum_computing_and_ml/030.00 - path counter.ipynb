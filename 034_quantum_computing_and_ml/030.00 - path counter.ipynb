{
 "cells": [
  {
   "cell_type": "markdown",
   "id": "ded3a345",
   "metadata": {},
   "source": [
    "### Import"
   ]
  },
  {
   "cell_type": "code",
   "execution_count": 1,
   "id": "97a5958d",
   "metadata": {},
   "outputs": [],
   "source": [
    "import sys\n",
    "import os\n",
    "import pandas as pd\n",
    "import numpy as np\n",
    "import matplotlib.pyplot as plt\n",
    "from scipy.spatial.distance import pdist\n",
    "from scipy.spatial.distance import cdist\n",
    "from scipy.spatial.distance import squareform"
   ]
  },
  {
   "cell_type": "markdown",
   "id": "6cab6acb",
   "metadata": {},
   "source": [
    "### Create Paths"
   ]
  },
  {
   "cell_type": "code",
   "execution_count": 11,
   "id": "0402f032",
   "metadata": {},
   "outputs": [
    {
     "data": {
      "text/plain": [
       "720"
      ]
     },
     "execution_count": 11,
     "metadata": {},
     "output_type": "execute_result"
    }
   ],
   "source": [
    "n = 6\n",
    "S = []\n",
    "for i in range(10000):\n",
    "    idx = tuple(np.random.permutation(n))\n",
    "    S.append(idx)\n",
    "    S = list(set(S))\n",
    "len(S)"
   ]
  },
  {
   "cell_type": "code",
   "execution_count": 12,
   "id": "57d787d2",
   "metadata": {},
   "outputs": [
    {
     "data": {
      "text/plain": [
       "720"
      ]
     },
     "execution_count": 12,
     "metadata": {},
     "output_type": "execute_result"
    }
   ],
   "source": [
    "5 * 4 * 3 * 2 * 1 * 6"
   ]
  },
  {
   "cell_type": "code",
   "execution_count": null,
   "id": "3cf690eb",
   "metadata": {},
   "outputs": [],
   "source": []
  }
 ],
 "metadata": {
  "kernelspec": {
   "display_name": "Python 3 (ipykernel)",
   "language": "python",
   "name": "python3"
  },
  "language_info": {
   "codemirror_mode": {
    "name": "ipython",
    "version": 3
   },
   "file_extension": ".py",
   "mimetype": "text/x-python",
   "name": "python",
   "nbconvert_exporter": "python",
   "pygments_lexer": "ipython3",
   "version": "3.9.6"
  }
 },
 "nbformat": 4,
 "nbformat_minor": 5
}
