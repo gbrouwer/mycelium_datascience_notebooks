{
 "cells": [
  {
   "cell_type": "markdown",
   "id": "6d1409e1",
   "metadata": {},
   "source": [
    "### Import"
   ]
  },
  {
   "cell_type": "code",
   "execution_count": 32,
   "id": "a56911d6",
   "metadata": {},
   "outputs": [],
   "source": [
    "import numpy as np\n",
    "import matplotlib.pyplot as plt\n",
    "import os\n",
    "import sys\n",
    "import pandas as pd\n",
    "import pmdarima as pm\n",
    "from statsmodels.graphics.tsaplots import plot_acf\n",
    "from statsmodels.graphics.tsaplots import plot_pacf\n",
    "from statsmodels.tsa.stattools import acf\n",
    "from statsmodels.tsa.stattools import pacf\n",
    "from pmdarima.arima import auto_arima\n",
    "from pmdarima import model_selection\n",
    "from statsmodels.tsa.stattools import adfuller"
   ]
  },
  {
   "cell_type": "markdown",
   "id": "0816a777",
   "metadata": {},
   "source": [
    "### Create Artifical data"
   ]
  },
  {
   "cell_type": "code",
   "execution_count": 47,
   "id": "946ee939",
   "metadata": {},
   "outputs": [],
   "source": [
    "xvalues = np.linspace(0,2*np.pi*41,1011)\n",
    "offset = 2\n",
    "noiselevel = 0.1\n",
    "sinusoidal_trend_1 = np.sin(xvalues)\n",
    "sinusoidal_trend_2 = np.sin(xvalues*0.3)\n",
    "linear_trend = np.linspace(0,10,1011)\n",
    "noise = np.random.randn(1011)\n",
    "signal = linear_trend + sinusoidal_trend_2 + sinusoidal_trend_1 + offset + noise*noiselevel"
   ]
  },
  {
   "cell_type": "markdown",
   "id": "b947c694",
   "metadata": {},
   "source": [
    "### Load Real World Datasets"
   ]
  },
  {
   "cell_type": "code",
   "execution_count": 52,
   "id": "68119b4d",
   "metadata": {},
   "outputs": [],
   "source": [
    "daily_demand = pd.read_csv('../../data/time_series/daily_demand.csv',delimiter=';')\n",
    "female_births = pd.read_csv('../../data/time_series/daily-total-female-births.csv')\n",
    "airline_passengers = pd.read_csv('../../data/time_series/airline-passengers.csv')\n",
    "energy_consumption = pd.read_csv('../../data/time_series/energy_consumption.csv')\n",
    "consumption = energy_consumption['Consumption'].values\n",
    "births = female_births['Births'].values\n",
    "passengers = airline_passengers['Passengers']\n",
    "daily_demand = daily_demand[['Banking orders (3)']].values"
   ]
  },
  {
   "cell_type": "markdown",
   "id": "fd8c5215",
   "metadata": {},
   "source": [
    "### Test for Stationary"
   ]
  },
  {
   "cell_type": "code",
   "execution_count": 53,
   "id": "3bba909a",
   "metadata": {},
   "outputs": [
    {
     "name": "stdout",
     "output_type": "stream",
     "text": [
      "Statistics for Births\n",
      "39.76373626373626\n",
      "44.185792349726775\n",
      "7.015227025275623\n",
      "6.979158301807611\n",
      "\n",
      "Statistics for Synthetic Signal\n",
      "4.522603224680526\n",
      "9.512701073809085\n",
      "1.7127479442696707\n",
      "1.754249187043054\n",
      "\n",
      "Statistics for Synthetic Signal\n",
      "4.522603224680526\n",
      "9.512701073809085\n",
      "1.7127479442696707\n",
      "1.754249187043054\n",
      "\n",
      "Statistics for Passengers\n",
      "182.90277777777777\n",
      "377.69444444444446\n",
      "47.371803533977136\n",
      "85.8368347002499\n",
      "\n",
      "Statistics for Daily Demand\n",
      "26101.033333333333\n",
      "20128.233333333334\n",
      "13251.074337535387\n",
      "12105.841426582276\n",
      "\n",
      "Statistics for Energy Consumption\n",
      "1457.6525000000001\n",
      "1337.8558723615897\n",
      "143.2527453295398\n",
      "165.60498958492332\n",
      "\n"
     ]
    }
   ],
   "source": [
    "split = int(len(births)/2)\n",
    "print('Statistics for Births')\n",
    "print(np.mean(births[:split]))\n",
    "print(np.mean(births[split:]))\n",
    "print(np.std(births[:split]))\n",
    "print(np.std(births[split:]))\n",
    "print()\n",
    "\n",
    "split = int(len(signal)/2)\n",
    "print('Statistics for Synthetic Signal')\n",
    "print(np.mean(signal[:split]))\n",
    "print(np.mean(signal[split:]))\n",
    "print(np.std(signal[:split]))\n",
    "print(np.std(signal[split:]))\n",
    "print()\n",
    "\n",
    "split = int(len(signal)/2)\n",
    "print('Statistics for Synthetic Signal')\n",
    "print(np.mean(signal[:split]))\n",
    "print(np.mean(signal[split:]))\n",
    "print(np.std(signal[:split]))\n",
    "print(np.std(signal[split:]))\n",
    "print()\n",
    "\n",
    "split = int(len(passengers)/2)\n",
    "print('Statistics for Passengers')\n",
    "print(np.mean(passengers[:split]))\n",
    "print(np.mean(passengers[split:]))\n",
    "print(np.std(passengers[:split]))\n",
    "print(np.std(passengers[split:]))\n",
    "print()\n",
    "\n",
    "split = int(len(daily_demand)/2)\n",
    "print('Statistics for Daily Demand')\n",
    "print(np.mean(daily_demand[:split]))\n",
    "print(np.mean(daily_demand[split:]))\n",
    "print(np.std(daily_demand[:split]))\n",
    "print(np.std(daily_demand[split:]))\n",
    "print()\n",
    "\n",
    "split = int(len(daily_demand)/2)\n",
    "print('Statistics for Energy Consumption')\n",
    "print(np.mean(consumption[:split]))\n",
    "print(np.mean(consumption[split:]))\n",
    "print(np.std(consumption[:split]))\n",
    "print(np.std(consumption[split:]))\n",
    "print()"
   ]
  },
  {
   "cell_type": "markdown",
   "id": "69592eaf",
   "metadata": {},
   "source": [
    "### Augmented Dickey Fuller Test"
   ]
  },
  {
   "cell_type": "code",
   "execution_count": 50,
   "id": "4117a95d",
   "metadata": {},
   "outputs": [
    {
     "name": "stdout",
     "output_type": "stream",
     "text": [
      "Statistics for Births\n",
      "ADF Statistic: -4.808291\n",
      "p-value: 0.000052\n",
      "Critical Values:\n",
      "\t1%: -3.449\n",
      "\t5%: -2.870\n",
      "\t10%: -2.571\n",
      "\n",
      "Statistics for Synthetic Signal\n",
      "ADF Statistic: -1.384468\n",
      "p-value: 0.589699\n",
      "Critical Values:\n",
      "\t1%: -3.437\n",
      "\t5%: -2.864\n",
      "\t10%: -2.568\n",
      "\n",
      "Statistics for Passengers\n",
      "ADF Statistic: 0.815369\n",
      "p-value: 0.991880\n",
      "Critical Values:\n",
      "\t1%: -3.482\n",
      "\t5%: -2.884\n",
      "\t10%: -2.579\n",
      "\n",
      "Statistics for Daily Demand\n",
      "ADF Statistic: -2.519887\n",
      "p-value: 0.110710\n",
      "Critical Values:\n",
      "\t1%: -3.548\n",
      "\t5%: -2.913\n",
      "\t10%: -2.594\n",
      "\n"
     ]
    }
   ],
   "source": [
    "result = adfuller(births)\n",
    "print('Statistics for Births')\n",
    "print('ADF Statistic: %f' % result[0])\n",
    "print('p-value: %f' % result[1])\n",
    "print('Critical Values:')\n",
    "for key, value in result[4].items():\n",
    "    print('\\t%s: %.3f' % (key, value))\n",
    "print('')\n",
    "    \n",
    "result = adfuller(signal)\n",
    "print('Statistics for Synthetic Signal')\n",
    "print('ADF Statistic: %f' % result[0])\n",
    "print('p-value: %f' % result[1])\n",
    "print('Critical Values:')\n",
    "for key, value in result[4].items():\n",
    "    print('\\t%s: %.3f' % (key, value))    \n",
    "print('')    \n",
    "\n",
    "result = adfuller(passengers)\n",
    "print('Statistics for Passengers')\n",
    "print('ADF Statistic: %f' % result[0])\n",
    "print('p-value: %f' % result[1])\n",
    "print('Critical Values:')\n",
    "for key, value in result[4].items():\n",
    "    print('\\t%s: %.3f' % (key, value))    \n",
    "print('')    \n",
    "\n",
    "result = adfuller(daily_demand)\n",
    "print('Statistics for Daily Demand')\n",
    "print('ADF Statistic: %f' % result[0])\n",
    "print('p-value: %f' % result[1])\n",
    "print('Critical Values:')\n",
    "for key, value in result[4].items():\n",
    "    print('\\t%s: %.3f' % (key, value))    \n",
    "print('')    \n",
    "\n",
    "result = adfuller(consumption)\n",
    "print('Statistics for Daily Demand')\n",
    "print('ADF Statistic: %f' % result[0])\n",
    "print('p-value: %f' % result[1])\n",
    "print('Critical Values:')\n",
    "for key, value in result[4].items():\n",
    "    print('\\t%s: %.3f' % (key, value))    \n",
    "print('')    "
   ]
  }
 ],
 "metadata": {
  "kernelspec": {
   "display_name": "Python 3 (ipykernel)",
   "language": "python",
   "name": "python3"
  },
  "language_info": {
   "codemirror_mode": {
    "name": "ipython",
    "version": 3
   },
   "file_extension": ".py",
   "mimetype": "text/x-python",
   "name": "python",
   "nbconvert_exporter": "python",
   "pygments_lexer": "ipython3",
   "version": "3.10.6"
  }
 },
 "nbformat": 4,
 "nbformat_minor": 5
}
