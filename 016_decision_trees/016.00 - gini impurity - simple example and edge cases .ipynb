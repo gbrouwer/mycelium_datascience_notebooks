{
 "cells": [
  {
   "cell_type": "markdown",
   "id": "2ee43e7c",
   "metadata": {},
   "source": [
    "# Gini Impurity Examples"
   ]
  },
  {
   "cell_type": "markdown",
   "id": "c8e71804",
   "metadata": {},
   "source": [
    "### Import"
   ]
  },
  {
   "cell_type": "code",
   "execution_count": 2,
   "id": "f83ff433",
   "metadata": {},
   "outputs": [],
   "source": [
    "import os\n",
    "import numpy as np\n",
    "import sys\n",
    "import matplotlib.pyplot as plt\n",
    "from scipy.stats import multivariate_normal as mnorm\n",
    "from matplotlib.colors import LogNorm\n",
    "from sklearn import mixture\n",
    "from mpl_toolkits import mplot3d"
   ]
  },
  {
   "cell_type": "markdown",
   "id": "026dcfa0",
   "metadata": {},
   "source": [
    "### Gini Impurity"
   ]
  },
  {
   "cell_type": "code",
   "execution_count": 3,
   "id": "f1cd268c",
   "metadata": {},
   "outputs": [],
   "source": [
    "def compute_gini_impurity(y):\n",
    "    \n",
    "    gini_impurity = 0\n",
    "    classes = np.unique(y)\n",
    "    no_classes = len(classes)\n",
    "    for c in classes:\n",
    "        count = len(np.where(y == c)[0])\n",
    "        prob = count / len(y)\n",
    "        gini_impurity = gini_impurity + (prob * (1-prob))\n",
    "    \n",
    "\n",
    "    #Return\n",
    "    return gini_impurity"
   ]
  },
  {
   "cell_type": "markdown",
   "id": "b19588f1",
   "metadata": {},
   "source": [
    "### Simple Binary Examples"
   ]
  },
  {
   "cell_type": "code",
   "execution_count": 5,
   "id": "961bbc9f",
   "metadata": {},
   "outputs": [
    {
     "name": "stdout",
     "output_type": "stream",
     "text": [
      "0.0\n",
      "0.21875\n",
      "0.375\n",
      "0.5\n",
      "0.375\n",
      "0.21875\n",
      "0.0\n"
     ]
    }
   ],
   "source": [
    "n = 16\n",
    "y = np.array([0,0,0,0,0,0,0,0,0,0,0,0,0,0,0,0])\n",
    "count_class0 = len(np.where(y == 0)[0])\n",
    "count_class1 = len(np.where(y == 1)[0])\n",
    "prob_class0 = count_class0 / n\n",
    "prob_class1 = count_class1 / n\n",
    "gini_impurity = (prob_class0 * (1 - prob_class0)) + (prob_class1 * (1 - prob_class1))\n",
    "print(gini_impurity)\n",
    "\n",
    "y = np.array([0,0,0,0,0,0,0,0,0,0,0,0,0,0,1,1])\n",
    "count_class0 = len(np.where(y == 0)[0])\n",
    "count_class1 = len(np.where(y == 1)[0])\n",
    "prob_class0 = count_class0 / n\n",
    "prob_class1 = count_class1 / n\n",
    "gini_impurity = (prob_class0 * (1 - prob_class0)) + (prob_class1 * (1 - prob_class1))\n",
    "print(gini_impurity)\n",
    "\n",
    "\n",
    "y = np.array([0,0,0,0,0,0,0,0,0,0,0,0,1,1,1,1])\n",
    "count_class0 = len(np.where(y == 0)[0])\n",
    "count_class1 = len(np.where(y == 1)[0])\n",
    "prob_class0 = count_class0 / n\n",
    "prob_class1 = count_class1 / n\n",
    "gini_impurity = (prob_class0 * (1 - prob_class0)) + (prob_class1 * (1 - prob_class1))\n",
    "print(gini_impurity)\n",
    "\n",
    "y = np.array([0,0,0,0,0,0,0,0,1,1,1,1,1,1,1,1])\n",
    "count_class0 = len(np.where(y == 0)[0])\n",
    "count_class1 = len(np.where(y == 1)[0])\n",
    "prob_class0 = count_class0 / n\n",
    "prob_class1 = count_class1 / n\n",
    "gini_impurity = (prob_class0 * (1 - prob_class0)) + (prob_class1 * (1 - prob_class1))\n",
    "print(gini_impurity)\n",
    "\n",
    "y = np.array([0,0,0,0,1,1,1,1,1,1,1,1,1,1,1,1])\n",
    "count_class0 = len(np.where(y == 0)[0])\n",
    "count_class1 = len(np.where(y == 1)[0])\n",
    "prob_class0 = count_class0 / n\n",
    "prob_class1 = count_class1 / n\n",
    "gini_impurity = (prob_class0 * (1 - prob_class0)) + (prob_class1 * (1 - prob_class1))\n",
    "print(gini_impurity)\n",
    "\n",
    "y = np.array([0,0,1,1,1,1,1,1,1,1,1,1,1,1,1,1])\n",
    "count_class0 = len(np.where(y == 0)[0])\n",
    "count_class1 = len(np.where(y == 1)[0])\n",
    "prob_class0 = count_class0 / n\n",
    "prob_class1 = count_class1 / n\n",
    "gini_impurity = (prob_class0 * (1 - prob_class0)) + (prob_class1 * (1 - prob_class1))\n",
    "print(gini_impurity)\n",
    "\n",
    "y = np.array([1,1,1,1,1,1,1,1,1,1,1,1,1,1,1,1])\n",
    "count_class0 = len(np.where(y == 0)[0])\n",
    "count_class1 = len(np.where(y == 1)[0])\n",
    "prob_class0 = count_class0 / n\n",
    "prob_class1 = count_class1 / n\n",
    "gini_impurity = (prob_class0 * (1 - prob_class0)) + (prob_class1 * (1 - prob_class1))\n",
    "print(gini_impurity)"
   ]
  },
  {
   "cell_type": "code",
   "execution_count": null,
   "id": "3442d2d0",
   "metadata": {},
   "outputs": [],
   "source": []
  }
 ],
 "metadata": {
  "kernelspec": {
   "display_name": "Python 3 (ipykernel)",
   "language": "python",
   "name": "python3"
  },
  "language_info": {
   "codemirror_mode": {
    "name": "ipython",
    "version": 3
   },
   "file_extension": ".py",
   "mimetype": "text/x-python",
   "name": "python",
   "nbconvert_exporter": "python",
   "pygments_lexer": "ipython3",
   "version": "3.9.10"
  }
 },
 "nbformat": 4,
 "nbformat_minor": 5
}
