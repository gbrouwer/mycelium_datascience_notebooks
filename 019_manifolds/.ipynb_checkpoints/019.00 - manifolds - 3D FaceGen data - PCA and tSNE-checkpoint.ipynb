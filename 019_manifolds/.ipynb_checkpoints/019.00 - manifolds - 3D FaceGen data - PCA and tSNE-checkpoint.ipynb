{
 "cells": [
  {
   "cell_type": "markdown",
   "id": "87e4969f",
   "metadata": {},
   "source": [
    "### Import"
   ]
  },
  {
   "cell_type": "code",
   "execution_count": 75,
   "id": "d6ca22ac",
   "metadata": {},
   "outputs": [],
   "source": [
    "import os\n",
    "import numpy as np\n",
    "import sys\n",
    "import pickle\n",
    "import pandas as pd\n",
    "import matplotlib.pyplot as plt\n",
    "import matplotlib.patches as patches\n",
    "import spectral.io.aviris as aviris\n",
    "import matplotlib.tri as mtri\n",
    "import matplotlib\n",
    "import trimesh\n",
    "import pyrender\n",
    "import pickle\n",
    "import numpy as np\n",
    "import warnings\n",
    "import open3d as o3d\n",
    "import pywavefront\n",
    "\n",
    "from stl import mesh\n",
    "from tqdm import tqdm\n",
    "from PIL import Image\n",
    "from scipy.spatial.distance import pdist\n",
    "from scipy.spatial.distance import cdist\n",
    "from scipy.spatial.distance import squareform\n",
    "from scipy.stats import multivariate_normal as mnorm\n",
    "from scipy import ndimage\n",
    "from matplotlib import cm\n",
    "from mpl_toolkits import mplot3d\n",
    "from skimage import io, color\n",
    "from matplotlib.collections import PatchCollection\n",
    "from matplotlib.patches import Rectangle\n",
    "from mpl_toolkits.mplot3d.art3d import Poly3DCollection\n",
    "from scipy.spatial.transform import Rotation as rot\n",
    "from sklearn.decomposition import PCA"
   ]
  },
  {
   "cell_type": "markdown",
   "id": "f412a96a",
   "metadata": {},
   "source": [
    "### Parameters"
   ]
  },
  {
   "cell_type": "code",
   "execution_count": 76,
   "id": "fcf80832",
   "metadata": {},
   "outputs": [],
   "source": [
    "no_components = 10"
   ]
  },
  {
   "cell_type": "markdown",
   "id": "707f7900",
   "metadata": {},
   "source": [
    "### Fonts"
   ]
  },
  {
   "cell_type": "code",
   "execution_count": 77,
   "id": "b66fefed",
   "metadata": {},
   "outputs": [],
   "source": [
    "csfont = {'fontname':'Georgia'}\n",
    "hfont = {'fontname':'Helvetica'}"
   ]
  },
  {
   "cell_type": "markdown",
   "id": "5aecec3e",
   "metadata": {},
   "source": [
    "### Read Pickle file"
   ]
  },
  {
   "cell_type": "code",
   "execution_count": 78,
   "id": "b5e3ecc0",
   "metadata": {},
   "outputs": [],
   "source": [
    "X = pickle.load(open(\"../../data/facegen/pickle/save.p\",\"rb\"))\n",
    "XV = X['XV']\n",
    "models = X['models']"
   ]
  },
  {
   "cell_type": "markdown",
   "id": "27248cea",
   "metadata": {},
   "source": [
    "### Setup and Run PCA"
   ]
  },
  {
   "cell_type": "code",
   "execution_count": 155,
   "id": "88a0f4d5",
   "metadata": {},
   "outputs": [],
   "source": [
    "pca = PCA(n_components=no_components)\n",
    "C = pca.fit_transform(XV.T)\n",
    "C = C.T"
   ]
  },
  {
   "cell_type": "markdown",
   "id": "eab75955",
   "metadata": {},
   "source": [
    "### Log of Explained variance "
   ]
  },
  {
   "cell_type": "code",
   "execution_count": 156,
   "id": "1297de0d",
   "metadata": {},
   "outputs": [
    {
     "data": {
      "image/png": "[encoded data removed]",
      "text/plain": [
       "<Figure size 576x576 with 1 Axes>"
      ]
     },
     "metadata": {
      "needs_background": "light"
     },
     "output_type": "display_data"
    }
   ],
   "source": [
    "xticks = np.linspace(1,10,10)\n",
    "yticks = np.linspace(0.0001,1,11,True)\n",
    "ytickslabels = ['0.001','0.10','0.20','0.30','','0.50','','0.70','','','1.00']\n",
    "plt.figure(figsize=(8,8))\n",
    "ax = plt.subplot();\n",
    "plt.plot(range(1,no_components+1),pca.explained_variance_ratio_,c='k');\n",
    "plt.yscale('log');\n",
    "plt.grid();\n",
    "plt.scatter(xticks,pca.explained_variance_ratio_,c='r',edgecolor='k',s=200,zorder=100);\n",
    "plt.xticks(xticks,labels=xticks.astype(int),**csfont,fontsize=18);\n",
    "plt.yticks(yticks,labels=ytickslabels,rotation=0,**csfont,fontsize=18);\n",
    "plt.axis((0,11,0.00001,1.25));\n",
    "plt.ylabel('Explained Variance',**csfont,fontsize=24);\n",
    "plt.xlabel('Component',**csfont,fontsize=24);\n",
    "plt.savefig('../../assets/matplotlib/019_faces_texture_explained_variance.png',dpi=300,bbox_inches=\"tight\")"
   ]
  },
  {
   "cell_type": "markdown",
   "id": "0392d22c",
   "metadata": {},
   "source": [
    "### Reshape the components"
   ]
  },
  {
   "cell_type": "code",
   "execution_count": 189,
   "id": "9a358580",
   "metadata": {},
   "outputs": [],
   "source": [
    "CD = C.copy()\n",
    "CD = np.reshape(CD,(no_components,int(C[0,:].shape[0]/3),3))"
   ]
  },
  {
   "cell_type": "markdown",
   "id": "b978d7b9",
   "metadata": {},
   "source": [
    "### Scale down the mean component"
   ]
  },
  {
   "cell_type": "code",
   "execution_count": 190,
   "id": "21fe579d",
   "metadata": {},
   "outputs": [],
   "source": [
    "CD[0,:,:] = CD[0,:,:] * 0.002"
   ]
  },
  {
   "cell_type": "markdown",
   "id": "3f1b9a4b",
   "metadata": {},
   "source": [
    "### Mix together 2 opposites"
   ]
  },
  {
   "cell_type": "code",
   "execution_count": 204,
   "id": "7f1281da",
   "metadata": {},
   "outputs": [],
   "source": [
    "value1 = 0.005\n",
    "value2 = 0.005\n",
    "CA = CD[0,:,:] + value1*CD[1,:,:] + value2*CD[2,:,:]\n",
    "CB = CD[0,:,:]# + -value1*CD[1,:,:] + -value2*CD[2,:,:]"
   ]
  },
  {
   "cell_type": "code",
   "execution_count": 205,
   "id": "09eb3e83",
   "metadata": {},
   "outputs": [
    {
     "data": {
      "text/plain": [
       "array([-0.40857788, -0.63296938, -0.77866915])"
      ]
     },
     "execution_count": 205,
     "metadata": {},
     "output_type": "execute_result"
    }
   ],
   "source": [
    "CA[100,:]\n",
    "CB[100,:]"
   ]
  },
  {
   "cell_type": "markdown",
   "id": "47d4b667",
   "metadata": {},
   "source": [
    "### Read/Write to OBJ file"
   ]
  },
  {
   "cell_type": "code",
   "execution_count": 206,
   "id": "397d7c19",
   "metadata": {
    "scrolled": false
   },
   "outputs": [],
   "source": [
    "mylines = []\n",
    "indices = []\n",
    "count = 0\n",
    "with open('../../data/facegen/reference/reference.obj','r') as f:\n",
    "    for line in f:\n",
    "        line = line.rstrip()\n",
    "        if ('v ' in line[:2]):\n",
    "            indices.append(count)\n",
    "        mylines.append(line)\n",
    "        count = count + 1\n",
    "count = 0\n",
    "indexer = 1\n",
    "indices = np.array(indices)\n",
    "with open('../../data/facegen/reference/CA.obj','w') as f:\n",
    "    for myline in mylines:\n",
    "        if ('v ' in myline[:2]):\n",
    "            new_vector = np.round(CA[indexer,:],4).astype(str)\n",
    "            new_vector_str = 'v ' + ' '.join(new_vector)\n",
    "            f.write(new_vector_str + '\\n')\n",
    "            indexer = indexer + 1\n",
    "        else:\n",
    "            f.write(myline + '\\n')\n",
    "        count = count + 1\n",
    "count = 0\n",
    "indexer = 1\n",
    "indices = np.array(indices)\n",
    "with open('../../data/facegen/reference/CB.obj','w') as f:\n",
    "    for myline in mylines:\n",
    "        if ('v ' in myline[:2]):\n",
    "            new_vector = np.round(CB[indexer,:],4).astype(str)\n",
    "            new_vector_str = 'v ' + ' '.join(new_vector)\n",
    "            f.write(new_vector_str + '\\n')\n",
    "            indexer = indexer + 1\n",
    "        else:\n",
    "            f.write(myline + '\\n')\n",
    "        count = count + 1        "
   ]
  },
  {
   "cell_type": "code",
   "execution_count": null,
   "id": "a0a51374",
   "metadata": {},
   "outputs": [],
   "source": []
  }
 ],
 "metadata": {
  "kernelspec": {
   "display_name": "Python 3 (ipykernel)",
   "language": "python",
   "name": "python3"
  },
  "language_info": {
   "codemirror_mode": {
    "name": "ipython",
    "version": 3
   },
   "file_extension": ".py",
   "mimetype": "text/x-python",
   "name": "python",
   "nbconvert_exporter": "python",
   "pygments_lexer": "ipython3",
   "version": "3.9.6"
  }
 },
 "nbformat": 4,
 "nbformat_minor": 5
}
