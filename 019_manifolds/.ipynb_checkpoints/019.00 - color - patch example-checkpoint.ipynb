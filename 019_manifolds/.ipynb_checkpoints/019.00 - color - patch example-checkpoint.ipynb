{
 "cells": [
  {
   "cell_type": "markdown",
   "id": "87e4969f",
   "metadata": {},
   "source": [
    "### Import"
   ]
  },
  {
   "cell_type": "code",
   "execution_count": 1,
   "id": "d6ca22ac",
   "metadata": {},
   "outputs": [],
   "source": [
    "import os\n",
    "import numpy as np\n",
    "import sys\n",
    "import pandas as pd\n",
    "import matplotlib.pyplot as plt\n",
    "import matplotlib.patches as patches\n",
    "import spectral.io.aviris as aviris\n",
    "import colour\n",
    "from PIL import Image\n",
    "from scipy.stats import multivariate_normal as mnorm\n",
    "from scipy import ndimage\n",
    "from matplotlib import cm\n",
    "from mpl_toolkits import mplot3d\n",
    "from skimage import io, color\n",
    "from matplotlib.collections import PatchCollection\n",
    "from matplotlib.patches import Rectangle"
   ]
  },
  {
   "cell_type": "markdown",
   "id": "707f7900",
   "metadata": {},
   "source": [
    "### Fonts"
   ]
  },
  {
   "cell_type": "code",
   "execution_count": 2,
   "id": "b66fefed",
   "metadata": {},
   "outputs": [],
   "source": [
    "csfont = {'fontname':'Georgia'}\n",
    "hfont = {'fontname':'Helvetica'}"
   ]
  },
  {
   "cell_type": "markdown",
   "id": "daf1da71",
   "metadata": {},
   "source": [
    "### Alternative Comparisons"
   ]
  },
  {
   "cell_type": "code",
   "execution_count": 167,
   "id": "948d228b",
   "metadata": {},
   "outputs": [],
   "source": [
    "LABleft = np.zeros((1,3))\n",
    "LABright = np.zeros((1,3))\n",
    "RGBleft = np.zeros((1,3))\n",
    "RGBright = np.zeros((1,3))\n",
    "\n",
    "\n",
    "# RGBleft[0,0] = 0.2\n",
    "# RGBleft[0,1] = 0.2\n",
    "# RGBleft[0,2] = 0.9\n",
    "# RGBright[0,0] = 1.0\n",
    "# RGBright[0,1] = 0.8\n",
    "# RGBright[0,2] = 1.0\n",
    "\n",
    "# RGBleft[0,0] = 0.0\n",
    "# RGBleft[0,1] = 0.0\n",
    "# RGBleft[0,2] = 1.0\n",
    "# RGBright[0,0] = 1.0\n",
    "# RGBright[0,1] = 0.5\n",
    "# RGBright[0,2] = 0.2"
   ]
  },
  {
   "cell_type": "markdown",
   "id": "902e6df2",
   "metadata": {},
   "source": [
    "### Example Patches"
   ]
  },
  {
   "cell_type": "code",
   "execution_count": 168,
   "id": "605e7e7f",
   "metadata": {},
   "outputs": [
    {
     "name": "stdout",
     "output_type": "stream",
     "text": [
      "115.53756431\n",
      "36.1324051455\n"
     ]
    },
    {
     "data": {
      "image/png": "[encoded data removed]",
      "text/plain": [
       "<Figure size 864x432 with 1 Axes>"
      ]
     },
     "metadata": {
      "needs_background": "light"
     },
     "output_type": "display_data"
    },
    {
     "data": {
      "image/png": "[encoded data removed]",
      "text/plain": [
       "<Figure size 864x432 with 1 Axes>"
      ]
     },
     "metadata": {
      "needs_background": "light"
     },
     "output_type": "display_data"
    },
    {
     "data": {
      "image/png": "[encoded data removed]",
      "text/plain": [
       "<Figure size 864x432 with 1 Axes>"
      ]
     },
     "metadata": {
      "needs_background": "light"
     },
     "output_type": "display_data"
    }
   ],
   "source": [
    "#Create the RGB patches and convert to LAB\n",
    "RGBleft[0,0] = 1.0\n",
    "RGBleft[0,1] = 0.0\n",
    "RGBleft[0,2] = 1.0\n",
    "RGBright[0,0] = 0.3\n",
    "RGBright[0,1] = 0.5\n",
    "RGBright[0,2] = 0.3\n",
    "LABleft = color.rgb2lab(RGBleft)\n",
    "LABright = color.rgb2lab(RGBright)\n",
    "\n",
    "\n",
    "fig, ax = plt.subplots(figsize=(12,6))\n",
    "background = np.zeros((100,180,3)).astype('uint8') + 128\n",
    "rect_left = patches.Rectangle((20, 20), 60, 60, linewidth=0, facecolor=RGBleft)\n",
    "rect_right = patches.Rectangle((100, 20), 60, 60, linewidth=0, facecolor=RGBright)\n",
    "ax.add_patch(rect_left);\n",
    "ax.add_patch(rect_right);\n",
    "ax.imshow(background)\n",
    "plt.axis('off');\n",
    "plt.savefig('../../assets/figures/019/patch2.png', dpi=300,bbox_inches=\"tight\")\n",
    "\n",
    "\n",
    "LABright[0,0] = LABleft[0,0]\n",
    "RGBleft = color.lab2rgb(LABleft)\n",
    "RGBright = color.lab2rgb(LABright)\n",
    "fig, ax = plt.subplots(figsize=(12,6))\n",
    "background = np.zeros((100,180,3)).astype('uint8') + 128\n",
    "rect_left = patches.Rectangle((20, 20), 60, 60, linewidth=0, facecolor=RGBleft)\n",
    "rect_right = patches.Rectangle((100, 20), 60, 60, linewidth=0, facecolor=RGBright)\n",
    "ax.add_patch(rect_left);\n",
    "ax.add_patch(rect_right);\n",
    "ax.imshow(background)\n",
    "plt.axis('off');\n",
    "plt.savefig('../../assets/figures/019/patch2.png', dpi=300,bbox_inches=\"tight\")\n",
    "\n",
    "\n",
    "sat1 = np.sqrt(LABleft[0,1]**2 + LABleft[0,2]**2)\n",
    "sat2 = np.sqrt(LABright[0,1]**2 + LABright[0,2]**2)\n",
    "print(sat1)\n",
    "print(sat2)\n",
    "LABright[0,1] = LABright[0,1] * (sat1/sat2)\n",
    "LABright[0,2] = LABright[0,2] * (sat1/sat2)\n",
    "sat1 = np.sqrt(LABleft[0,1]**2 + LABleft[0,2]**2)\n",
    "sat2 = np.sqrt(LABright[0,1]**2 + LABright[0,2]**2)\n",
    "\n",
    "RGBleft = color.lab2rgb(LABleft)\n",
    "RGBright = color.lab2rgb(LABright)\n",
    "fig, ax = plt.subplots(figsize=(12,6))\n",
    "background = np.zeros((100,180,3)).astype('uint8') + 128\n",
    "rect_left = patches.Rectangle((20, 20), 60, 60, linewidth=0, facecolor=RGBleft)\n",
    "rect_right = patches.Rectangle((100, 20), 60, 60, linewidth=0, facecolor=RGBright)\n",
    "ax.add_patch(rect_left);\n",
    "ax.add_patch(rect_right);\n",
    "ax.imshow(background)\n",
    "plt.axis('off');\n",
    "plt.savefig('../../assets/figures/019/patch3.png', dpi=300,bbox_inches=\"tight\")"
   ]
  }
 ],
 "metadata": {
  "kernelspec": {
   "display_name": "Python 3 (ipykernel)",
   "language": "python",
   "name": "python3"
  },
  "language_info": {
   "codemirror_mode": {
    "name": "ipython",
    "version": 3
   },
   "file_extension": ".py",
   "mimetype": "text/x-python",
   "name": "python",
   "nbconvert_exporter": "python",
   "pygments_lexer": "ipython3",
   "version": "3.9.6"
  }
 },
 "nbformat": 4,
 "nbformat_minor": 5
}
