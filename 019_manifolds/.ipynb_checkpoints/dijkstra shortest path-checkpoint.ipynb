{
 "cells": [
  {
   "cell_type": "markdown",
   "id": "d17bed24",
   "metadata": {},
   "source": [
    "### Import"
   ]
  },
  {
   "cell_type": "code",
   "execution_count": 109,
   "id": "2bce4463",
   "metadata": {},
   "outputs": [],
   "source": [
    "import os\n",
    "import sys\n",
    "import numpy as np\n",
    "import pandas as pd\n",
    "import shapefile\n",
    "import matplotlib.pyplot as plt\n",
    "from scipy.spatial.distance import squareform\n",
    "from scipy.spatial.distance import cdist\n",
    "from scipy.spatial.distance import pdist"
   ]
  },
  {
   "cell_type": "markdown",
   "id": "254af945",
   "metadata": {},
   "source": [
    "### Load Shapefile"
   ]
  },
  {
   "cell_type": "code",
   "execution_count": 110,
   "id": "0c416c15",
   "metadata": {},
   "outputs": [],
   "source": [
    "X = []\n",
    "shp = shapefile.Reader(\"../../data/paris/paris_roads_1300/paris_1300.shp\")\n",
    "for shape in shp.shapes():\n",
    "    P = shape.points\n",
    "    X = X + P\n",
    "X = np.array(X)\n",
    "no_nodes = X.shape[0]"
   ]
  },
  {
   "cell_type": "markdown",
   "id": "196e0396",
   "metadata": {},
   "source": [
    "### Find Intersections"
   ]
  },
  {
   "cell_type": "code",
   "execution_count": 108,
   "id": "705f64f8",
   "metadata": {},
   "outputs": [],
   "source": [
    "intersections = []\n",
    "D = squareform(pdist(X))\n",
    "for i in range(D.shape[0]):\n",
    "    d = D[i,:]\n",
    "    ind = np.argsort(d)\n",
    "    indices = np.where(d[ind] < 0.0001)[0]\n",
    "    indices = ind[indices]\n",
    "    indices = [index for index in indices if index != i]\n",
    "    for index in indices:\n",
    "        intersections.append((i,index))\n",
    "        intersections.append((index,i))"
   ]
  },
  {
   "cell_type": "markdown",
   "id": "94da6279",
   "metadata": {},
   "source": [
    "### Build Graph"
   ]
  },
  {
   "cell_type": "code",
   "execution_count": 99,
   "id": "5ba69d41",
   "metadata": {},
   "outputs": [],
   "source": [
    "graph = {}\n",
    "for edge in edges:\n",
    "    node1,node2 = edge\n",
    "    if node1 in graph:\n",
    "        neighbors = graph[node1]\n",
    "        neighbors.append(node2)\n",
    "        graph[node1] = list(set(neighbors))\n",
    "    else:\n",
    "        graph[node1] = [node2]\n",
    "    if node2 in graph:\n",
    "        neighbors = graph[node2]\n",
    "        neighbors.append(node1)\n",
    "        graph[node2] = list(set(neighbors))\n",
    "    else:\n",
    "        graph[node2] = [node1]"
   ]
  },
  {
   "cell_type": "markdown",
   "id": "ab6fb63a",
   "metadata": {},
   "source": [
    "### Plot"
   ]
  },
  {
   "cell_type": "code",
   "execution_count": 102,
   "id": "dfe9ce27",
   "metadata": {},
   "outputs": [
    {
     "name": "stdout",
     "output_type": "stream",
     "text": [
      "0 24\n",
      "600020.63\n",
      "600020.63\n",
      "0 67\n",
      "600020.63\n",
      "600020.63\n"
     ]
    },
    {
     "data": {
      "image/png": "[encoded data removed]",
      "text/plain": [
       "<Figure size 504x504 with 1 Axes>"
      ]
     },
     "metadata": {
      "needs_background": "light"
     },
     "output_type": "display_data"
    }
   ],
   "source": [
    "plt.figure(figsize=(7,7))\n",
    "for node in graph:\n",
    "    edges = graph[node]\n",
    "    for edge in edges:\n",
    "        print(node,edge)\n",
    "        print(X[node,0])\n",
    "        print(X[edge,0])\n",
    "        plt.plot([X[node,0],X[edge,0]],[X[node,1],X[edge,1]],'k',linewidth=0.5)\n",
    "    break\n",
    "# for i in range(len(order)):\n",
    "#     index = np.where(order == i)[0][0]\n",
    "#     value = i / (len(order)-1)\n",
    "#     plt.scatter(X[index,0],X[index,1],color=(1-value,1-value**2,value),s=100,zorder=100)\n",
    "# plt.axis('off')\n",
    "# plt.savefig('../../assets/figures/bfs.png')    "
   ]
  },
  {
   "cell_type": "markdown",
   "id": "e40445ae",
   "metadata": {},
   "source": [
    "### Dijkstra Init"
   ]
  },
  {
   "cell_type": "code",
   "execution_count": 89,
   "id": "59a40a9b",
   "metadata": {},
   "outputs": [],
   "source": [
    "distance = np.zeros((no_nodes)) + np.Inf\n",
    "startNode = "
   ]
  },
  {
   "cell_type": "code",
   "execution_count": null,
   "id": "f108d6a0",
   "metadata": {},
   "outputs": [],
   "source": []
  }
 ],
 "metadata": {
  "kernelspec": {
   "display_name": "Python 3 (ipykernel)",
   "language": "python",
   "name": "python3"
  },
  "language_info": {
   "codemirror_mode": {
    "name": "ipython",
    "version": 3
   },
   "file_extension": ".py",
   "mimetype": "text/x-python",
   "name": "python",
   "nbconvert_exporter": "python",
   "pygments_lexer": "ipython3",
   "version": "3.7.3"
  }
 },
 "nbformat": 4,
 "nbformat_minor": 5
}
