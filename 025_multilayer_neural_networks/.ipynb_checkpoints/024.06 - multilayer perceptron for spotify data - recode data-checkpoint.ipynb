{
 "cells": [
  {
   "cell_type": "markdown",
   "id": "09a6efd2",
   "metadata": {},
   "source": [
    "### Import"
   ]
  },
  {
   "cell_type": "code",
   "execution_count": 2,
   "id": "1eba5666",
   "metadata": {},
   "outputs": [],
   "source": [
    "import os\n",
    "import sys\n",
    "import numpy as np\n",
    "import pandas as pd\n",
    "import matplotlib.pyplot as plt\n",
    "# import spotipy\n",
    "import json\n",
    "from tqdm import tqd\n",
    "# from spotipy.oauth2 import SpotifyClientCredentials\n",
    "from scipy.stats import multivariate_normal\n",
    "from sklearn.neural_network import MLPClassifier\n",
    "from sklearn.linear_model import Perceptron\n",
    "from sklearn.model_selection import train_test_split\n",
    "from sklearn.metrics import accuracy_score, precision_score, recall_score, confusion_matrix\n",
    "from mpl_toolkits import mplot3d"
   ]
  },
  {
   "cell_type": "markdown",
   "id": "a2c4fe8e",
   "metadata": {},
   "source": [
    "### Fonts"
   ]
  },
  {
   "cell_type": "code",
   "execution_count": 3,
   "id": "b3a8e002",
   "metadata": {},
   "outputs": [],
   "source": [
    "csfont = {'fontname':'Georgia'}\n",
    "hfont = {'fontname':'Helvetica'}"
   ]
  },
  {
   "cell_type": "markdown",
   "id": "a402f6fc",
   "metadata": {},
   "source": [
    "### Get all the JSON files from the spotify data"
   ]
  },
  {
   "cell_type": "code",
   "execution_count": 4,
   "id": "1417bab2",
   "metadata": {},
   "outputs": [],
   "source": [
    "data1 = pd.read_csv('../../data/spotify/SpotifyAudioFeaturesApril2019.csv')\n",
    "data2 = pd.read_csv('../../data/spotify/SpotifyAudioFeaturesNov2018.csv')\n",
    "data = pd.concat((data1,data2));"
   ]
  },
  {
   "cell_type": "markdown",
   "id": "44a407b6",
   "metadata": {},
   "source": [
    "### Get all track IDs"
   ]
  },
  {
   "cell_type": "code",
   "execution_count": 6,
   "id": "0e71789c",
   "metadata": {},
   "outputs": [],
   "source": [
    "track_ids = data['track_id'].values\n",
    "query = []\n",
    "artist_ids = []\n",
    "indices = np.linspace(0,len(track_ids),len(track_ids)-1).astype(int)\n",
    "indices = indices[::50]\n",
    "for i in range(len(indices)):\n",
    "    si = indices[i]\n",
    "    ei = si + 50\n",
    "    query = track_ids[si:ei].tolist()\n",
    "    results = spotify.tracks(query)\n",
    "    results = results['tracks']\n",
    "    with open('../../data/spotify/track_artists.csv','a') as f:\n",
    "        for t,track in enumerate(results):\n",
    "            artist_id = track['artists'][0]['id']\n",
    "            f.write(str(i) + ',' + query[t] + ',' + artist_id + '\\n')"
   ]
  },
  {
   "cell_type": "markdown",
   "id": "4349ea93",
   "metadata": {},
   "source": [
    "### Get Unique Artist IDs"
   ]
  },
  {
   "cell_type": "code",
   "execution_count": 7,
   "id": "abe0a2ec",
   "metadata": {},
   "outputs": [],
   "source": [
    "df = pd.read_csv('../../data/spotify/track_artists.csv',header=None)\n",
    "artist_ids = df[2].values\n",
    "artist_ids = np.array(np.unique(artist_ids))"
   ]
  },
  {
   "cell_type": "markdown",
   "id": "2548409e",
   "metadata": {},
   "source": [
    "### Run a query to get all information on an artistID"
   ]
  },
  {
   "cell_type": "code",
   "execution_count": 8,
   "id": "c0fd29c8",
   "metadata": {},
   "outputs": [],
   "source": [
    "query = []\n",
    "indices = np.linspace(0,len(artistids),len(artistids)-1).astype(int)\n",
    "indices = indices[::50]\n",
    "for i in tqdm(range(len(indices))):\n",
    "    si = indices[i]\n",
    "    ei = si + 50\n",
    "    query = artist_ids[si:ei]\n",
    "    results = spotify.artists(query)\n",
    "    results = results['artists']\n",
    "    with open('../../data/spotify/artist_genres.csv','a') as f:\n",
    "        for t,artist in enumerate(results):\n",
    "            genres = '@'.join(artist['genres'])\n",
    "            f.write(str(i) + ',' + query[t] + ',' + genres + '\\n')"
   ]
  },
  {
   "cell_type": "markdown",
   "id": "6c7245f4",
   "metadata": {},
   "source": [
    "### Join Datasets"
   ]
  },
  {
   "cell_type": "code",
   "execution_count": 9,
   "id": "5bf409bf",
   "metadata": {},
   "outputs": [],
   "source": [
    "genre_df = pd.read_csv('../../data/spotify/artist_genres.csv',header=None)\n",
    "genre_df.columns = ['id','artist_id','genre_string']\n",
    "genre_df = genre_df.fillna('')\n",
    "track_df = pd.read_csv('../../data/spotify/track_artists.csv',header=None)\n",
    "track_df.columns = ['0','track_id','artist_id']\n",
    "df = pd.merge(genre_df, track_df, on=['artist_id','artist_id'], how=\"outer\", indicator=False)\n",
    "df = pd.merge(df, data, on=['track_id','track_id'], how=\"inner\", indicator=False)\n",
    "df = df.drop_duplicates(subset=['track_id'])"
   ]
  },
  {
   "cell_type": "markdown",
   "id": "3604ce7c",
   "metadata": {},
   "source": [
    "### Genre Keywords"
   ]
  },
  {
   "cell_type": "code",
   "execution_count": 17,
   "id": "c5090026",
   "metadata": {},
   "outputs": [],
   "source": [
    "genre_keywords = ['house','country','rock','pop','blues','indie',\n",
    "                  'alternative','trap','metal','soul',\n",
    "                  'k-pop','classical','dance','edm','hip','rap','jazz','edm']"
   ]
  },
  {
   "cell_type": "markdown",
   "id": "a2dc646f",
   "metadata": {},
   "source": [
    "### Create High Level Genre Labeling"
   ]
  },
  {
   "cell_type": "code",
   "execution_count": 20,
   "id": "59012bba",
   "metadata": {},
   "outputs": [
    {
     "name": "stderr",
     "output_type": "stream",
     "text": [
      "130989it [00:00, 200485.14it/s]\n"
     ]
    }
   ],
   "source": [
    "A = np.zeros((df.shape[0],1+len(genre_keywords))).astype(str)\n",
    "genre_strings = df['genre_string'].values\n",
    "trackids_strings = df['track_id'].values\n",
    "for m,mystring in tqdm(enumerate(genre_strings)):\n",
    "    mystring = str(mystring)\n",
    "    idstring = trackids_strings[m]\n",
    "    A[m,0] = idstring\n",
    "    for k,keyword in enumerate(genre_keywords):\n",
    "        if keyword in mystring.lower():\n",
    "            A[m,k+1] = 1"
   ]
  },
  {
   "cell_type": "markdown",
   "id": "3272aa10",
   "metadata": {},
   "source": [
    "### Join Dataframes "
   ]
  },
  {
   "cell_type": "code",
   "execution_count": 21,
   "id": "2d8b81d3",
   "metadata": {},
   "outputs": [],
   "source": [
    "dfA = pd.DataFrame(A)\n",
    "dfA.columns = ['track_id'] + genre_keywords\n",
    "newdf = pd.merge(df, dfA, on=['track_id','track_id'], how=\"inner\", indicator=False)\n",
    "newdf = newdf.drop(labels=['track_id','artist_id','id','0','duration_ms'],axis=1)\n",
    "for genre_keyword in genre_keywords:\n",
    "    newdf[genre_keyword] = newdf[genre_keyword].astype(float)"
   ]
  },
  {
   "cell_type": "markdown",
   "id": "49bbf8c1",
   "metadata": {},
   "source": [
    "### Clean up and remove songs without any genre"
   ]
  },
  {
   "cell_type": "code",
   "execution_count": 22,
   "id": "827fab91",
   "metadata": {},
   "outputs": [],
   "source": [
    "A = A[:,1:].astype(float)\n",
    "sumA = np.sum(A,axis=1)\n",
    "idx = np.where(sumA==1)[0]\n",
    "newdf = newdf.iloc[idx,:]"
   ]
  },
  {
   "cell_type": "markdown",
   "id": "1d002299",
   "metadata": {},
   "source": [
    "### Store"
   ]
  },
  {
   "cell_type": "code",
   "execution_count": 23,
   "id": "7c3c144c",
   "metadata": {},
   "outputs": [],
   "source": [
    "newdf.to_csv('../../data/spotify/df.csv',index=False)"
   ]
  }
 ],
 "metadata": {
  "kernelspec": {
   "display_name": "Python 3 (ipykernel)",
   "language": "python",
   "name": "python3"
  },
  "language_info": {
   "codemirror_mode": {
    "name": "ipython",
    "version": 3
   },
   "file_extension": ".py",
   "mimetype": "text/x-python",
   "name": "python",
   "nbconvert_exporter": "python",
   "pygments_lexer": "ipython3",
   "version": "3.9.6"
  }
 },
 "nbformat": 4,
 "nbformat_minor": 5
}
