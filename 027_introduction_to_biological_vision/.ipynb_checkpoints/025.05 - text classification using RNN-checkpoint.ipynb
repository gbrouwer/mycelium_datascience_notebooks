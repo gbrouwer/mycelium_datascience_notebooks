{
 "cells": [
  {
   "cell_type": "markdown",
   "metadata": {
    "id": "9TnJztDZGw-n"
   },
   "source": [
    "# Text classification with an RNN"
   ]
  },
  {
   "cell_type": "markdown",
   "metadata": {
    "id": "_2VQo4bajwUU"
   },
   "source": [
    "### Import"
   ]
  },
  {
   "cell_type": "code",
   "execution_count": 1,
   "metadata": {
    "execution": {
     "iopub.execute_input": "2022-04-05T11:08:43.157837Z",
     "iopub.status.busy": "2022-04-05T11:08:43.157626Z",
     "iopub.status.idle": "2022-04-05T11:08:45.498180Z",
     "shell.execute_reply": "2022-04-05T11:08:45.497485Z"
    },
    "id": "z682XYsrjkY9"
   },
   "outputs": [],
   "source": [
    "import numpy as np\n",
    "import tensorflow_datasets as tfds\n",
    "import tensorflow as tf\n",
    "import matplotlib.pyplot as plt\n",
    "tfds.disable_progress_bar()"
   ]
  },
  {
   "cell_type": "markdown",
   "metadata": {},
   "source": [
    "### Fonts"
   ]
  },
  {
   "cell_type": "code",
   "execution_count": 2,
   "metadata": {},
   "outputs": [],
   "source": [
    "csfont = {'fontname':'Georgia'}\n",
    "hfont = {'fontname':'Helvetica'}"
   ]
  },
  {
   "cell_type": "markdown",
   "metadata": {},
   "source": [
    "### Parameters"
   ]
  },
  {
   "cell_type": "code",
   "execution_count": 3,
   "metadata": {},
   "outputs": [],
   "source": [
    "BUFFER_SIZE = 10000\n",
    "BATCH_SIZE = 64\n",
    "VOCAB_SIZE = 1000"
   ]
  },
  {
   "cell_type": "markdown",
   "metadata": {
    "id": "1rXHa-w9JZhb"
   },
   "source": [
    "### Helper function to plot graphs:"
   ]
  },
  {
   "cell_type": "code",
   "execution_count": 4,
   "metadata": {
    "execution": {
     "iopub.execute_input": "2022-04-05T11:08:45.502330Z",
     "iopub.status.busy": "2022-04-05T11:08:45.502098Z",
     "iopub.status.idle": "2022-04-05T11:08:46.590808Z",
     "shell.execute_reply": "2022-04-05T11:08:46.590087Z"
    },
    "id": "Mp1Z7P9pYRSK"
   },
   "outputs": [],
   "source": [
    "def plot_graphs(history, metric):\n",
    "    plt.plot(history.history[metric])\n",
    "    plt.plot(history.history['val_'+metric], '')\n",
    "    plt.xlabel(\"Epochs\")\n",
    "    plt.ylabel(metric)\n",
    "    plt.legend([metric, 'val_'+metric])"
   ]
  },
  {
   "cell_type": "markdown",
   "metadata": {
    "id": "pRmMubr0jrE2"
   },
   "source": [
    "### Get Data\n",
    "The IMDB large movie review dataset is a binary classification dataset. All the reviews have either a positive or negative sentiment. We are using tensorflow_datasets to download the dataset."
   ]
  },
  {
   "cell_type": "code",
   "execution_count": 28,
   "metadata": {
    "execution": {
     "iopub.execute_input": "2022-04-05T11:08:46.594935Z",
     "iopub.status.busy": "2022-04-05T11:08:46.594430Z",
     "iopub.status.idle": "2022-04-05T11:08:52.116992Z",
     "shell.execute_reply": "2022-04-05T11:08:52.116404Z"
    },
    "id": "SHRwRoP2nVHX"
   },
   "outputs": [],
   "source": [
    "dataset, info = tfds.load('imdb_reviews', with_info=True,as_supervised=True)\n",
    "train_dataset, test_dataset = dataset['train'], dataset['test']\n",
    "train_dataset.element_spec\n",
    "train_dataset = train_dataset.cache().shuffle(BUFFER_SIZE).batch(BATCH_SIZE).prefetch(tf.data.AUTOTUNE)\n",
    "test_dataset = test_dataset.cache().batch(BATCH_SIZE).prefetch(tf.data.AUTOTUNE)"
   ]
  },
  {
   "cell_type": "markdown",
   "metadata": {
    "id": "s5eWCo88voPY"
   },
   "source": [
    "### Create the text encoder\n",
    "The raw text loaded by tfds needs to be processed before it can be used in a model. The simplest way to process text for training is using the TextVectorization layer. This layer has many capabilities, but this tutorial sticks to the default behavior. Create the layer, and pass the dataset's text to the layer's .adapt method"
   ]
  },
  {
   "cell_type": "code",
   "execution_count": 29,
   "metadata": {
    "execution": {
     "iopub.execute_input": "2022-04-05T11:08:55.594290Z",
     "iopub.status.busy": "2022-04-05T11:08:55.594056Z",
     "iopub.status.idle": "2022-04-05T11:09:00.906388Z",
     "shell.execute_reply": "2022-04-05T11:09:00.905603Z"
    },
    "id": "uC25Lu1Yvuqy"
   },
   "outputs": [],
   "source": [
    "encoder = tf.keras.layers.TextVectorization(max_tokens=VOCAB_SIZE)\n",
    "encoder.adapt(train_dataset.map(lambda text, label: text))"
   ]
  },
  {
   "cell_type": "markdown",
   "metadata": {},
   "source": [
    "### Look at vocabulary"
   ]
  },
  {
   "cell_type": "code",
   "execution_count": 41,
   "metadata": {
    "execution": {
     "iopub.execute_input": "2022-04-05T11:09:00.911143Z",
     "iopub.status.busy": "2022-04-05T11:09:00.910456Z",
     "iopub.status.idle": "2022-04-05T11:09:00.919381Z",
     "shell.execute_reply": "2022-04-05T11:09:00.918659Z"
    },
    "id": "tBoyjjWg0Ac9"
   },
   "outputs": [
    {
     "data": {
      "text/plain": [
       "array(['', '[UNK]', 'the', 'and', 'a', 'of', 'to', 'is', 'in', 'it', 'i',\n",
       "       'this', 'that', 'br', 'was', 'as', 'for', 'with', 'movie', 'but',\n",
       "       'film', 'on', 'not', 'you', 'are', 'his', 'have', 'he', 'be',\n",
       "       'one', 'its', 'at', 'all', 'by', 'an', 'they', 'from', 'who', 'so',\n",
       "       'like'], dtype='<U14')"
      ]
     },
     "execution_count": 41,
     "metadata": {},
     "output_type": "execute_result"
    }
   ],
   "source": [
    "vocab = np.array(encoder.get_vocabulary())\n",
    "vocab[:40]"
   ]
  },
  {
   "cell_type": "markdown",
   "metadata": {},
   "source": [
    "### Check Encoder"
   ]
  },
  {
   "cell_type": "code",
   "execution_count": 42,
   "metadata": {
    "execution": {
     "iopub.execute_input": "2022-04-05T11:09:00.923246Z",
     "iopub.status.busy": "2022-04-05T11:09:00.922590Z",
     "iopub.status.idle": "2022-04-05T11:09:00.941099Z",
     "shell.execute_reply": "2022-04-05T11:09:00.940408Z"
    },
    "id": "RGc7C9WiwRWs"
   },
   "outputs": [
    {
     "name": "stdout",
     "output_type": "stream",
     "text": [
      "[[ 51  10   1 ...   0   0   0]\n",
      " [149  11 194 ...   0   0   0]\n",
      " [  1   1  13 ...   0   0   0]]\n"
     ]
    }
   ],
   "source": [
    "for example, label in train_dataset.take(1):\n",
    "    encoded_example = encoder(example)[:3].numpy()\n",
    "    print(encoded_example)"
   ]
  },
  {
   "cell_type": "markdown",
   "metadata": {
    "id": "F5cjz0bS39IN"
   },
   "source": [
    "### Encoding -> Decoding"
   ]
  },
  {
   "cell_type": "code",
   "execution_count": 44,
   "metadata": {
    "execution": {
     "iopub.execute_input": "2022-04-05T11:09:00.945104Z",
     "iopub.status.busy": "2022-04-05T11:09:00.944439Z",
     "iopub.status.idle": "2022-04-05T11:09:00.951145Z",
     "shell.execute_reply": "2022-04-05T11:09:00.950412Z"
    },
    "id": "N_tD0QY5wXaK"
   },
   "outputs": [
    {
     "name": "stdout",
     "output_type": "stream",
     "text": [
      "-> Original\n",
      "b'When I ordered this from Blockbuster\\'s website I had no idea that it would be as terrible as it was. Who knows? Maybe I\\'d forgotten to take my ADD meds that day. I do know that from the moment the cast drove up in their station wagon, donned in their late 70\\'s-style wide collars, bell-bottoms and feathered hair, I knew that this misplaced gem of the disco era was glory bound for the dumpster.<br /><br />The first foretelling of just how bad things were to be was the narration at the beginning, trying to explain what cosmic forces were at play to wreak havoc upon the universe, forcing polyester and porno-quality music on the would-be viewer. From the opening scene with the poorly-done effects to the \"monsters\" from another world and then the house which jumps from universe to universe was as achingly painful as watching an elementary school production of \\'The Vagina Monologues\\'.<br /><br />Throughout the film, the sure sign something was about to happen was when a small ship would appear. The \"ship\" was comprised suspiciously of what looked like old VCR and camcorder parts and would attack anyone in its path. Of course if moved slower than Bob Barker\\'s impacted bowels, but it had menacing pencil-thin armatures and the ability to cast a ominous green glow that could stop bullets and equipped with a laser capable of cutting through mere balsa wood in an hour or two (with some assistance).<br /><br />Moving on... As the weirdness and bell bottoms continue... We found out that they\\'re caught in a \"Space Time Warp\". How do we garner this little nugget of scientific information? Because the oldest male lead tells his son that, in a more or less off-the-cuff fashion, like reminiscing about \\'how you won the big game\\' over a cup of joe or an ice-cold bottle of refreshing Coca-Cola. Was pops a scientist? Nope, but he knew about horses and has apparently meddled as an amateur in string theory and Einstein\\'s theories.<br /><br />The recording I watched on DVD was almost bootleg quality. The sound was muddy and the transfer looked like it had been shot off a theater screen with the video recorder on a cell phone, other than that, it was really, really, really bad. (There\\'s not enough \\'really\\'s\\' to describe it, really).<br /><br />I know some out there love this movie and compare it to other cult classics. I never saw this film on its original release, but even back then I think I would\\'ve come to the same conclusion: bury this one quick.'\n",
      " \n",
      "-> Encoded to Decoded\n",
      "when i [UNK] this from [UNK] [UNK] i had no idea that it would be as terrible as it was who knows maybe id [UNK] to take my add [UNK] that day i do know that from the moment the cast [UNK] up in their [UNK] [UNK] [UNK] in their late [UNK] [UNK] [UNK] [UNK] and [UNK] [UNK] i knew that this [UNK] [UNK] of the [UNK] [UNK] was [UNK] [UNK] for the [UNK] br the first [UNK] of just how bad things were to be was the [UNK] at the beginning trying to [UNK] what [UNK] [UNK] were at play to [UNK] [UNK] upon the [UNK] [UNK] [UNK] and [UNK] music on the [UNK] viewer from the opening scene with the [UNK] effects to the [UNK] from another world and then the house which [UNK] from [UNK] to [UNK] was as [UNK] [UNK] as watching an [UNK] school production of the [UNK] [UNK] br throughout the film the sure [UNK] something was about to happen was when a small [UNK] would appear the [UNK] was [UNK] [UNK] of what looked like old [UNK] and [UNK] parts and would [UNK] anyone in its [UNK] of course if [UNK] [UNK] than [UNK] [UNK] [UNK] [UNK] but it had [UNK] [UNK] [UNK] and the [UNK] to cast a [UNK] [UNK] [UNK] that could stop [UNK] and [UNK] with a [UNK] [UNK] of [UNK] through [UNK] [UNK] [UNK] in an hour or two with some [UNK] br moving on as the [UNK] and [UNK] [UNK] [UNK] we found out that theyre [UNK] in a space time [UNK] how do we [UNK] this little [UNK] of [UNK] [UNK] because the [UNK] male lead tells his son that in a more or less [UNK] [UNK] like [UNK] about how you [UNK] the big game over a [UNK] of joe or an [UNK] [UNK] of [UNK] [UNK] was [UNK] a [UNK] [UNK] but he knew about [UNK] and has apparently [UNK] as an [UNK] in [UNK] [UNK] and [UNK] [UNK] br the [UNK] i watched on dvd was almost [UNK] quality the sound was [UNK] and the [UNK] looked like it had been shot off a theater screen with the video [UNK] on a [UNK] [UNK] other than that it was really really really bad theres not enough [UNK] to [UNK] it [UNK] br i know some out there love this movie and [UNK] it to other [UNK] [UNK] i never saw this film on its original release but even back then i think i [UNK] come to the same [UNK] [UNK] this one [UNK]                                                                                                                                                                                                                                                                                                                                                                                                                                                                                                                                                                                           \n",
      "\n"
     ]
    }
   ],
   "source": [
    "for n in range(1):\n",
    "    print('-> Original')\n",
    "    print(example[n].numpy())\n",
    "    print(' ')\n",
    "    print('-> Encoded to Decoded')\n",
    "    print(\" \".join(vocab[encoded_example[n]]))\n",
    "    print()"
   ]
  },
  {
   "cell_type": "markdown",
   "metadata": {
    "id": "bjUqGVBxGw-t"
   },
   "source": [
    "## Create the model\n",
    "This model can be build as a tf.keras.Sequential. The first layer is the encoder, which converts the text to a sequence of token indices. After the encoder is an embedding layer. An embedding layer stores one vector per word. When called, it converts the sequences of word indices to sequences of vectors. These vectors are trainable. After training (on enough data), words with similar meanings often have similar vectors. This index-lookup is much more efficient than the equivalent operation of passing a one-hot encoded vector through a tf.keras.layers.Dense layer. A recurrent neural network (RNN) processes sequence input by iterating through the elements. RNNs pass the outputs from one timestep to their input on the next timestep. The tf.keras.layers.Bidirectional wrapper can also be used with an RNN layer. This propagates the input forward and backwards through the RNN layer and then concatenates the final output. The main advantage of a bidirectional RNN is that the signal from the beginning of the input doesn't need to be processed all the way through every timestep to affect the output.The main disadvantage of a bidirectional RNN is that you can't efficiently stream predictions as words are being added to the end. After the RNN has converted the sequence to a single vector the two layers.Dense do some final processing, and convert from this vector representation to a single logit as the classification output."
   ]
  },
  {
   "cell_type": "code",
   "execution_count": 39,
   "metadata": {},
   "outputs": [],
   "source": [
    "model = tf.keras.Sequential([\n",
    "    encoder,\n",
    "    tf.keras.layers.Embedding(len(encoder.get_vocabulary()), 64, mask_zero=True),\n",
    "    tf.keras.layers.Bidirectional(tf.keras.layers.LSTM(64,  return_sequences=True)),\n",
    "    tf.keras.layers.Bidirectional(tf.keras.layers.LSTM(32)),\n",
    "    tf.keras.layers.Dense(64, activation='relu'),\n",
    "    tf.keras.layers.Dropout(0.5),\n",
    "    tf.keras.layers.Dense(1)\n",
    "])"
   ]
  },
  {
   "cell_type": "markdown",
   "metadata": {
    "id": "sRI776ZcH3Tf"
   },
   "source": [
    "### Compile the model"
   ]
  },
  {
   "cell_type": "code",
   "execution_count": 45,
   "metadata": {
    "execution": {
     "iopub.execute_input": "2022-04-05T11:09:08.772981Z",
     "iopub.status.busy": "2022-04-05T11:09:08.772575Z",
     "iopub.status.idle": "2022-04-05T11:09:08.785616Z",
     "shell.execute_reply": "2022-04-05T11:09:08.784770Z"
    },
    "id": "kj2xei41YZjC"
   },
   "outputs": [],
   "source": [
    "model.compile(loss=tf.keras.losses.BinaryCrossentropy(from_logits=True),\n",
    "              optimizer=tf.keras.optimizers.Adam(1e-4),\n",
    "              metrics=['accuracy'])"
   ]
  },
  {
   "cell_type": "markdown",
   "metadata": {
    "id": "zIwH3nto596k"
   },
   "source": [
    "## Train the model"
   ]
  },
  {
   "cell_type": "code",
   "execution_count": null,
   "metadata": {
    "execution": {
     "iopub.execute_input": "2022-04-05T11:09:08.789543Z",
     "iopub.status.busy": "2022-04-05T11:09:08.789017Z",
     "iopub.status.idle": "2022-04-05T11:14:26.672101Z",
     "shell.execute_reply": "2022-04-05T11:14:26.671445Z"
    },
    "id": "hw86wWS4YgR2"
   },
   "outputs": [
    {
     "name": "stdout",
     "output_type": "stream",
     "text": [
      "Epoch 1/10\n",
      "391/391 [==============================] - 552s 1s/step - loss: 0.6244 - accuracy: 0.5944 - val_loss: 0.5054 - val_accuracy: 0.6984\n",
      "Epoch 2/10\n"
     ]
    },
    {
     "name": "stderr",
     "output_type": "stream",
     "text": [
      "2022-09-13 16:57:34.653013: W tensorflow/core/kernels/data/cache_dataset_ops.cc:768] The calling iterator did not fully read the dataset being cached. In order to avoid unexpected truncation of the dataset, the partially cached contents of the dataset  will be discarded. This can happen if you have an input pipeline similar to `dataset.cache().take(k).repeat()`. You should use `dataset.take(k).cache().repeat()` instead.\n",
      "2022-09-13 16:57:34.655005: W tensorflow/core/kernels/data/cache_dataset_ops.cc:768] The calling iterator did not fully read the dataset being cached. In order to avoid unexpected truncation of the dataset, the partially cached contents of the dataset  will be discarded. This can happen if you have an input pipeline similar to `dataset.cache().take(k).repeat()`. You should use `dataset.take(k).cache().repeat()` instead.\n"
     ]
    },
    {
     "name": "stdout",
     "output_type": "stream",
     "text": [
      "391/391 [==============================] - 543s 1s/step - loss: 0.4032 - accuracy: 0.8152 - val_loss: 0.3675 - val_accuracy: 0.8354\n",
      "Epoch 3/10\n"
     ]
    },
    {
     "name": "stderr",
     "output_type": "stream",
     "text": [
      "2022-09-13 17:06:38.047282: W tensorflow/core/kernels/data/cache_dataset_ops.cc:768] The calling iterator did not fully read the dataset being cached. In order to avoid unexpected truncation of the dataset, the partially cached contents of the dataset  will be discarded. This can happen if you have an input pipeline similar to `dataset.cache().take(k).repeat()`. You should use `dataset.take(k).cache().repeat()` instead.\n",
      "2022-09-13 17:06:38.049287: W tensorflow/core/kernels/data/cache_dataset_ops.cc:768] The calling iterator did not fully read the dataset being cached. In order to avoid unexpected truncation of the dataset, the partially cached contents of the dataset  will be discarded. This can happen if you have an input pipeline similar to `dataset.cache().take(k).repeat()`. You should use `dataset.take(k).cache().repeat()` instead.\n"
     ]
    },
    {
     "name": "stdout",
     "output_type": "stream",
     "text": [
      "391/391 [==============================] - 541s 1s/step - loss: 0.3437 - accuracy: 0.8468 - val_loss: 0.3378 - val_accuracy: 0.8469\n",
      "Epoch 4/10\n"
     ]
    },
    {
     "name": "stderr",
     "output_type": "stream",
     "text": [
      "2022-09-13 17:15:38.714689: W tensorflow/core/kernels/data/cache_dataset_ops.cc:768] The calling iterator did not fully read the dataset being cached. In order to avoid unexpected truncation of the dataset, the partially cached contents of the dataset  will be discarded. This can happen if you have an input pipeline similar to `dataset.cache().take(k).repeat()`. You should use `dataset.take(k).cache().repeat()` instead.\n",
      "2022-09-13 17:15:38.716852: W tensorflow/core/kernels/data/cache_dataset_ops.cc:768] The calling iterator did not fully read the dataset being cached. In order to avoid unexpected truncation of the dataset, the partially cached contents of the dataset  will be discarded. This can happen if you have an input pipeline similar to `dataset.cache().take(k).repeat()`. You should use `dataset.take(k).cache().repeat()` instead.\n"
     ]
    },
    {
     "name": "stdout",
     "output_type": "stream",
     "text": [
      "391/391 [==============================] - 745s 2s/step - loss: 0.3231 - accuracy: 0.8587 - val_loss: 0.3284 - val_accuracy: 0.8568\n",
      "Epoch 5/10\n"
     ]
    },
    {
     "name": "stderr",
     "output_type": "stream",
     "text": [
      "2022-09-13 17:28:04.144692: W tensorflow/core/kernels/data/cache_dataset_ops.cc:768] The calling iterator did not fully read the dataset being cached. In order to avoid unexpected truncation of the dataset, the partially cached contents of the dataset  will be discarded. This can happen if you have an input pipeline similar to `dataset.cache().take(k).repeat()`. You should use `dataset.take(k).cache().repeat()` instead.\n",
      "2022-09-13 17:28:04.147058: W tensorflow/core/kernels/data/cache_dataset_ops.cc:768] The calling iterator did not fully read the dataset being cached. In order to avoid unexpected truncation of the dataset, the partially cached contents of the dataset  will be discarded. This can happen if you have an input pipeline similar to `dataset.cache().take(k).repeat()`. You should use `dataset.take(k).cache().repeat()` instead.\n"
     ]
    },
    {
     "name": "stdout",
     "output_type": "stream",
     "text": [
      "391/391 [==============================] - 850s 2s/step - loss: 0.3155 - accuracy: 0.8646 - val_loss: 0.3248 - val_accuracy: 0.8589\n",
      "Epoch 6/10\n"
     ]
    },
    {
     "name": "stderr",
     "output_type": "stream",
     "text": [
      "2022-09-13 17:42:14.534450: W tensorflow/core/kernels/data/cache_dataset_ops.cc:768] The calling iterator did not fully read the dataset being cached. In order to avoid unexpected truncation of the dataset, the partially cached contents of the dataset  will be discarded. This can happen if you have an input pipeline similar to `dataset.cache().take(k).repeat()`. You should use `dataset.take(k).cache().repeat()` instead.\n",
      "2022-09-13 17:42:14.537568: W tensorflow/core/kernels/data/cache_dataset_ops.cc:768] The calling iterator did not fully read the dataset being cached. In order to avoid unexpected truncation of the dataset, the partially cached contents of the dataset  will be discarded. This can happen if you have an input pipeline similar to `dataset.cache().take(k).repeat()`. You should use `dataset.take(k).cache().repeat()` instead.\n"
     ]
    },
    {
     "name": "stdout",
     "output_type": "stream",
     "text": [
      "316/391 [=======================>......] - ETA: 2:32 - loss: 0.3018 - accuracy: 0.8703"
     ]
    }
   ],
   "source": [
    "history = model.fit(train_dataset, epochs=10,\n",
    "                    validation_data=test_dataset,\n",
    "                    validation_steps=30)"
   ]
  },
  {
   "cell_type": "markdown",
   "metadata": {},
   "source": [
    "### Store"
   ]
  },
  {
   "cell_type": "code",
   "execution_count": null,
   "metadata": {},
   "outputs": [],
   "source": [
    "model.save('../../models/rnn_text_classification');"
   ]
  },
  {
   "cell_type": "markdown",
   "metadata": {
    "execution": {
     "iopub.execute_input": "2022-04-05T11:14:26.675786Z",
     "iopub.status.busy": "2022-04-05T11:14:26.675392Z",
     "iopub.status.idle": "2022-04-05T11:14:41.004483Z",
     "shell.execute_reply": "2022-04-05T11:14:41.003831Z"
    },
    "id": "BaNbXi43YgUT"
   },
   "source": [
    "### Predict and Plot the Results"
   ]
  },
  {
   "cell_type": "code",
   "execution_count": 20,
   "metadata": {
    "execution": {
     "iopub.execute_input": "2022-04-05T11:14:41.007809Z",
     "iopub.status.busy": "2022-04-05T11:14:41.007366Z",
     "iopub.status.idle": "2022-04-05T11:14:41.306819Z",
     "shell.execute_reply": "2022-04-05T11:14:41.306126Z"
    },
    "id": "OZmwt_mzaQJk"
   },
   "outputs": [
    {
     "data": {
      "text/plain": [
       "(0.0, 0.6705824166536332)"
      ]
     },
     "execution_count": 20,
     "metadata": {},
     "output_type": "execute_result"
    },
    {
     "data": {
      "image/png": "[encoded data removed]",
      "text/plain": [
       "<Figure size 1152x576 with 2 Axes>"
      ]
     },
     "metadata": {
      "needs_background": "light"
     },
     "output_type": "display_data"
    }
   ],
   "source": [
    "test_loss, test_acc = model.evaluate(test_dataset)\n",
    "print('Test Loss:', test_loss)\n",
    "print('Test Accuracy:', test_acc)plt.figure(figsize=(16, 8))\n",
    "plt.subplot(1, 2, 1)\n",
    "plt.plot(history.history['accuracy'],'k',linewidth=2)\n",
    "plt.plot(history.history['val_accuracy'],'r',linewidth=2)\n",
    "plt.xlabel('Epoch',**csfont,fontsize=24)\n",
    "plt.ylabel('Accuracy',**csfont,fontsize=24)\n",
    "plt.xticks(np.linspace(0,10,11),np.linspace(0,10,11),**csfont,fontsize=16)\n",
    "plt.yticks(np.linspace(0,1,11),np.linspace(0,1,11),**csfont,fontsize=16)\n",
    "\n",
    "plt.subplot(1, 2, 2)\n",
    "plt.plot(history.history['loss'],'k',linewidth=2)\n",
    "plt.plot(history.history['val_loss'],'r',linewidth=2)\n",
    "plt.xlabel('Epoch',**csfont,fontsize=24)\n",
    "plt.ylabel('Loss',**csfont,fontsize=24)\n",
    "plt.xticks(np.linspace(0,10,11),np.linspace(0,10,11),**csfont,fontsize=16)\n",
    "plt.yticks(np.linspace(0,1,11),np.linspace(0,1,11),**csfont,fontsize=16)\n",
    "plt.savefig('../../assets/matplotlib/26-text-classification-with-RNNs.png', dpi=300,bbox_inches=\"tight\")    "
   ]
  },
  {
   "cell_type": "markdown",
   "metadata": {
    "id": "DwSE_386uhxD"
   },
   "source": [
    "Run a prediction on a new sentence:\n",
    "\n",
    "If the prediction is >= 0.0, it is positive else it is negative."
   ]
  },
  {
   "cell_type": "code",
   "execution_count": 21,
   "metadata": {
    "execution": {
     "iopub.execute_input": "2022-04-05T11:14:41.310342Z",
     "iopub.status.busy": "2022-04-05T11:14:41.309922Z",
     "iopub.status.idle": "2022-04-05T11:14:43.743957Z",
     "shell.execute_reply": "2022-04-05T11:14:43.743292Z"
    },
    "id": "ZXgfQSgRW6zU"
   },
   "outputs": [],
   "source": [
    "sample_text = ('The movie was cool. The animation and the graphics '\n",
    "               'were out of this world. I would recommend this movie.')\n",
    "predictions = model.predict(np.array([sample_text]))"
   ]
  },
  {
   "cell_type": "markdown",
   "metadata": {
    "id": "wbSClCrG1z8l"
   },
   "source": [
    "The interesting thing about using an `RNN` with `return_sequences=True` is that the output still has 3-axes, like the input, so it can be passed to another RNN layer, like this:"
   ]
  },
  {
   "cell_type": "code",
   "execution_count": 22,
   "metadata": {
    "execution": {
     "iopub.execute_input": "2022-04-05T11:14:43.748032Z",
     "iopub.status.busy": "2022-04-05T11:14:43.747603Z",
     "iopub.status.idle": "2022-04-05T11:14:46.598105Z",
     "shell.execute_reply": "2022-04-05T11:14:46.597461Z"
    },
    "id": "jo1jjO3vn0jo"
   },
   "outputs": [],
   "source": [
    "model = tf.keras.Sequential([\n",
    "    encoder,\n",
    "    tf.keras.layers.Embedding(len(encoder.get_vocabulary()), 64, mask_zero=True),\n",
    "    tf.keras.layers.Bidirectional(tf.keras.layers.LSTM(64,  return_sequences=True)),\n",
    "    tf.keras.layers.Bidirectional(tf.keras.layers.LSTM(32)),\n",
    "    tf.keras.layers.Dense(64, activation='relu'),\n",
    "    tf.keras.layers.Dropout(0.5),\n",
    "    tf.keras.layers.Dense(1)\n",
    "])"
   ]
  },
  {
   "cell_type": "code",
   "execution_count": 23,
   "metadata": {
    "execution": {
     "iopub.execute_input": "2022-04-05T11:14:46.602098Z",
     "iopub.status.busy": "2022-04-05T11:14:46.601552Z",
     "iopub.status.idle": "2022-04-05T11:14:46.609032Z",
     "shell.execute_reply": "2022-04-05T11:14:46.608535Z"
    },
    "id": "hEPV5jVGp-is"
   },
   "outputs": [],
   "source": [
    "model.compile(loss=tf.keras.losses.BinaryCrossentropy(from_logits=True),\n",
    "              optimizer=tf.keras.optimizers.Adam(1e-4),\n",
    "              metrics=['accuracy'])"
   ]
  },
  {
   "cell_type": "code",
   "execution_count": 24,
   "metadata": {
    "execution": {
     "iopub.execute_input": "2022-04-05T11:14:46.612025Z",
     "iopub.status.busy": "2022-04-05T11:14:46.611535Z",
     "iopub.status.idle": "2022-04-05T11:23:47.832110Z",
     "shell.execute_reply": "2022-04-05T11:23:47.831373Z"
    },
    "id": "LeSE-YjdqAeN"
   },
   "outputs": [
    {
     "name": "stdout",
     "output_type": "stream",
     "text": [
      "Epoch 1/10\n",
      "391/391 [==============================] - 71s 145ms/step - loss: 0.6166 - accuracy: 0.6006 - val_loss: 0.4270 - val_accuracy: 0.8125\n",
      "Epoch 2/10\n",
      "391/391 [==============================] - 52s 131ms/step - loss: 0.3837 - accuracy: 0.8346 - val_loss: 0.3605 - val_accuracy: 0.8417\n",
      "Epoch 3/10\n",
      "391/391 [==============================] - 54s 134ms/step - loss: 0.3345 - accuracy: 0.8572 - val_loss: 0.3385 - val_accuracy: 0.8396\n",
      "Epoch 4/10\n",
      "391/391 [==============================] - 52s 130ms/step - loss: 0.3204 - accuracy: 0.8643 - val_loss: 0.3282 - val_accuracy: 0.8568\n",
      "Epoch 5/10\n",
      "391/391 [==============================] - 52s 131ms/step - loss: 0.3103 - accuracy: 0.8678 - val_loss: 0.3253 - val_accuracy: 0.8547\n",
      "Epoch 6/10\n",
      "391/391 [==============================] - 52s 130ms/step - loss: 0.3068 - accuracy: 0.8693 - val_loss: 0.3233 - val_accuracy: 0.8536\n",
      "Epoch 7/10\n",
      "391/391 [==============================] - 52s 131ms/step - loss: 0.3034 - accuracy: 0.8683 - val_loss: 0.3234 - val_accuracy: 0.8641\n",
      "Epoch 8/10\n",
      "391/391 [==============================] - 53s 133ms/step - loss: 0.2982 - accuracy: 0.8724 - val_loss: 0.3151 - val_accuracy: 0.8599\n",
      "Epoch 9/10\n",
      "391/391 [==============================] - 52s 130ms/step - loss: 0.2938 - accuracy: 0.8734 - val_loss: 0.3211 - val_accuracy: 0.8510\n",
      "Epoch 10/10\n",
      "391/391 [==============================] - 51s 130ms/step - loss: 0.2947 - accuracy: 0.8740 - val_loss: 0.3337 - val_accuracy: 0.8651\n"
     ]
    }
   ],
   "source": [
    "history = model.fit(train_dataset, epochs=10,\n",
    "                    validation_data=test_dataset,\n",
    "                    validation_steps=30)"
   ]
  },
  {
   "cell_type": "code",
   "execution_count": 25,
   "metadata": {
    "execution": {
     "iopub.execute_input": "2022-04-05T11:23:47.835924Z",
     "iopub.status.busy": "2022-04-05T11:23:47.835438Z",
     "iopub.status.idle": "2022-04-05T11:24:12.097443Z",
     "shell.execute_reply": "2022-04-05T11:24:12.096771Z"
    },
    "id": "_LdwilM1qPM3"
   },
   "outputs": [
    {
     "name": "stdout",
     "output_type": "stream",
     "text": [
      "391/391 [==============================] - 24s 61ms/step - loss: 0.3354 - accuracy: 0.8635\n",
      "Test Loss: 0.33541229367256165\n",
      "Test Accuracy: 0.8635200262069702\n"
     ]
    }
   ],
   "source": [
    "test_loss, test_acc = model.evaluate(test_dataset)\n",
    "\n",
    "print('Test Loss:', test_loss)\n",
    "print('Test Accuracy:', test_acc)"
   ]
  },
  {
   "cell_type": "code",
   "execution_count": 26,
   "metadata": {
    "execution": {
     "iopub.execute_input": "2022-04-05T11:24:12.100809Z",
     "iopub.status.busy": "2022-04-05T11:24:12.100224Z",
     "iopub.status.idle": "2022-04-05T11:24:16.419040Z",
     "shell.execute_reply": "2022-04-05T11:24:16.418327Z"
    },
    "id": "ykUKnAoqbycW"
   },
   "outputs": [
    {
     "name": "stdout",
     "output_type": "stream",
     "text": [
      "[[-1.8224874]]\n"
     ]
    }
   ],
   "source": [
    "# predict on a sample text without padding.\n",
    "\n",
    "sample_text = ('The movie was not good. The animation and the graphics '\n",
    "               'were terrible. I would not recommend this movie.')\n",
    "predictions = model.predict(np.array([sample_text]))\n",
    "print(predictions)"
   ]
  },
  {
   "cell_type": "code",
   "execution_count": 27,
   "metadata": {
    "execution": {
     "iopub.execute_input": "2022-04-05T11:24:16.422721Z",
     "iopub.status.busy": "2022-04-05T11:24:16.422130Z",
     "iopub.status.idle": "2022-04-05T11:24:16.650288Z",
     "shell.execute_reply": "2022-04-05T11:24:16.649603Z"
    },
    "id": "_YYub0EDtwCu"
   },
   "outputs": [
    {
     "data": {
      "image/png": "[encoded data removed]",
      "text/plain": [
       "<Figure size 1152x432 with 2 Axes>"
      ]
     },
     "metadata": {
      "needs_background": "light"
     },
     "output_type": "display_data"
    }
   ],
   "source": [
    "plt.figure(figsize=(16, 6))\n",
    "plt.subplot(1, 2, 1)\n",
    "plot_graphs(history, 'accuracy')\n",
    "plt.subplot(1, 2, 2)\n",
    "plot_graphs(history, 'loss')"
   ]
  },
  {
   "cell_type": "markdown",
   "metadata": {
    "id": "9xvpE3BaGw_V"
   },
   "source": [
    "Check out other existing recurrent layers such as [GRU layers](https://www.tensorflow.org/api_docs/python/tf/keras/layers/GRU).\n",
    "\n",
    "If you're interested in building custom RNNs, see the [Keras RNN Guide](https://www.tensorflow.org/guide/keras/rnn).\n"
   ]
  }
 ],
 "metadata": {
  "accelerator": "GPU",
  "colab": {
   "collapsed_sections": [],
   "name": "text_classification_rnn.ipynb",
   "provenance": [],
   "toc_visible": true
  },
  "kernelspec": {
   "display_name": "Python 3 (ipykernel)",
   "language": "python",
   "name": "python3"
  },
  "language_info": {
   "codemirror_mode": {
    "name": "ipython",
    "version": 3
   },
   "file_extension": ".py",
   "mimetype": "text/x-python",
   "name": "python",
   "nbconvert_exporter": "python",
   "pygments_lexer": "ipython3",
   "version": "3.9.6"
  }
 },
 "nbformat": 4,
 "nbformat_minor": 1
}
