{
 "cells": [
  {
   "cell_type": "markdown",
   "id": "34e11152",
   "metadata": {},
   "source": [
    "### Import"
   ]
  },
  {
   "cell_type": "code",
   "execution_count": 1,
   "id": "c7566cd7",
   "metadata": {},
   "outputs": [],
   "source": [
    "import os\n",
    "import sys\n",
    "import numpy as np\n",
    "import pandas as pd\n",
    "import matplotlib.pyplot as plt\n",
    "from mpl_toolkits import mplot3d"
   ]
  },
  {
   "cell_type": "markdown",
   "id": "5b93ef30",
   "metadata": {},
   "source": [
    "### Load Data"
   ]
  },
  {
   "cell_type": "code",
   "execution_count": 2,
   "id": "4f5d752a",
   "metadata": {},
   "outputs": [],
   "source": [
    "data = pd.read_csv('../../data/healthcare_cost/insurance.csv')\n",
    "columns = data.columns\n",
    "x = data.iloc[:,0].values\n",
    "y = data.iloc[:,-1].values"
   ]
  },
  {
   "cell_type": "markdown",
   "id": "04add551",
   "metadata": {},
   "source": [
    "### Clean Dataset for the univariate example"
   ]
  },
  {
   "cell_type": "code",
   "execution_count": 3,
   "id": "8350ec53",
   "metadata": {},
   "outputs": [],
   "source": [
    "ind0 = np.where(y > 17000)[0]\n",
    "ind1 = np.where(x < 46)[0]\n",
    "ind2 = np.where(y > 10000)[0]\n",
    "ind3 = np.intersect1d(ind1,ind2)\n",
    "ind4 = np.union1d(ind3,ind0)\n",
    "ind5 = range(x.shape[0])\n",
    "ind5 = np.setdiff1d(ind5,ind4)\n",
    "x = x[ind5].astype('float')\n",
    "y = y[ind5].astype('float')"
   ]
  },
  {
   "cell_type": "markdown",
   "id": "5af8ff2e",
   "metadata": {},
   "source": [
    "### Add Column of ones"
   ]
  },
  {
   "cell_type": "code",
   "execution_count": 8,
   "id": "9ef070bb",
   "metadata": {},
   "outputs": [],
   "source": [
    "o = np.ones((x.shape[0]))\n",
    "X = np.vstack((x,o)).T"
   ]
  },
  {
   "cell_type": "markdown",
   "id": "55c6a957",
   "metadata": {},
   "source": [
    "### Ordinary Least Squares"
   ]
  },
  {
   "cell_type": "code",
   "execution_count": 11,
   "id": "43efb124",
   "metadata": {},
   "outputs": [],
   "source": [
    "w = np.dot(np.dot(np.linalg.inv(np.dot(X.T,X)),X.T),y)\n",
    "a = w[0]\n",
    "b = w[1]"
   ]
  },
  {
   "cell_type": "markdown",
   "id": "24327aff",
   "metadata": {},
   "source": [
    "### Predict and compute the SSE, SST, SSR, and r-square"
   ]
  },
  {
   "cell_type": "code",
   "execution_count": 12,
   "id": "521705c2",
   "metadata": {},
   "outputs": [
    {
     "name": "stdout",
     "output_type": "stream",
     "text": [
      "14441512012.894512\n",
      "698393980.9205326\n",
      "13743118031.973967\n",
      "0.9516398296593216\n"
     ]
    }
   ],
   "source": [
    "ypred = a*x + b\n",
    "x0 = 15\n",
    "x1 = 65\n",
    "y0 = a*x0 + b\n",
    "y1 = a*x1 + b\n",
    "\n",
    "SST = np.sum((y - np.mean(y))**2)\n",
    "SSE = np.sum((y - ypred)**2)\n",
    "SSR = np.sum((ypred - np.mean(y))**2)\n",
    "rsquare = 1 - (SSE/SST)\n",
    "print(SST)\n",
    "print(SSE)\n",
    "print(SSR)\n",
    "print(rsquare)"
   ]
  },
  {
   "cell_type": "markdown",
   "id": "2bafb0a7",
   "metadata": {},
   "source": [
    "### Plot the result"
   ]
  },
  {
   "cell_type": "code",
   "execution_count": 13,
   "id": "dbad2d1f",
   "metadata": {},
   "outputs": [
    {
     "data": {
      "image/png": "[encoded data removed]",
      "text/plain": [
       "<Figure size 432x432 with 1 Axes>"
      ]
     },
     "metadata": {
      "needs_background": "light"
     },
     "output_type": "display_data"
    }
   ],
   "source": [
    "stepsize = 10\n",
    "plt.figure(figsize=(6,6));\n",
    "plt.scatter(x[::stepsize],y[::stepsize],c='k');\n",
    "plt.plot([x0,x1],[y0,y1],'k',zorder=100)\n",
    "\n",
    "plotrange = list(range(x.shape[0]))[::stepsize]\n",
    "for index in plotrange:\n",
    "    plt.plot([x[index],x[index]],[y[index],ypred[index]],'r--')\n",
    "    plt.scatter(x[index],ypred[index],c='red',zorder=100);\n",
    "\n",
    "plt.grid();\n",
    "plt.xlabel('age',fontsize=18);\n",
    "plt.ylabel('medical expenses (dollars)',fontsize=18);\n",
    "plt.axis((10,70,0,15000));"
   ]
  },
  {
   "cell_type": "code",
   "execution_count": null,
   "id": "83f8407c",
   "metadata": {},
   "outputs": [],
   "source": []
  }
 ],
 "metadata": {
  "kernelspec": {
   "display_name": "Python 3 (ipykernel)",
   "language": "python",
   "name": "python3"
  },
  "language_info": {
   "codemirror_mode": {
    "name": "ipython",
    "version": 3
   },
   "file_extension": ".py",
   "mimetype": "text/x-python",
   "name": "python",
   "nbconvert_exporter": "python",
   "pygments_lexer": "ipython3",
   "version": "3.9.6"
  }
 },
 "nbformat": 4,
 "nbformat_minor": 5
}
