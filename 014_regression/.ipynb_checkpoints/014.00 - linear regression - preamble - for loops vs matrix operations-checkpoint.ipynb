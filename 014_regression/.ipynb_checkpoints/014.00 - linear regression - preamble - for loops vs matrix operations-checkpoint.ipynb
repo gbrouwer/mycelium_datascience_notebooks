{
 "cells": [
  {
   "cell_type": "markdown",
   "id": "066c4332",
   "metadata": {},
   "source": [
    "### Import"
   ]
  },
  {
   "cell_type": "code",
   "execution_count": 2,
   "id": "0499a6e7",
   "metadata": {},
   "outputs": [],
   "source": [
    "import numpy as np\n",
    "import os\n",
    "import sys"
   ]
  },
  {
   "cell_type": "markdown",
   "id": "5b829a44",
   "metadata": {},
   "source": [
    "### For Loops vs Matrices and vector operations\n",
    "Without any numerical modules loaded (read: numpy), python uses conventional lists to store numbers. Lists can represent vectors, and lists of lists can represent matrices. However, this becomes very cumbersome very quickly, and extremely prone to errors. In addition, numerical operations using lists aren't optimized and require much more code to specify. Finally, the same operator might have a very different meaning in the contexts of lists compared to algebra. For example, `list1 + list2` in pure python means the concatenation of two lists. But what we probably wanted was an element-wise addition: each element in list1 at index i is added to each element in list2 at the same index:\n",
    "\n",
    "Pure Python<br><br>\n",
    "```list1 = [0,1,2]```\n",
    "```list2 = [3,4,5]```<br>\n",
    "```list1 + list2 -> [0,1,2,3,4,5]```<br>\n",
    "\n",
    "\n",
    "Numerical library using vectors and matrices (Numpy)<br><br>\n",
    "```list1 = [0,1,2]```<br>\n",
    "```list2 = [3,4,5]```<br>\n",
    "```list1 + list2 = [0+3,1+4,2+5] = [0,5,7]```<br>\n",
    "\n",
    "### Numpy\n",
    "Numpy allows you to take lists and instead treat them as vectors and matrices, making life so much easier. Take for example on of the most basic of operations found from linear to regression to our most complex neural networks: running our data X through a linear model represented by parameters w.<br>\n",
    "\n",
    "Say the model has m weights, and we have n number of data points. Our input data is thus a matrix of nxm, and we have a vector of weights m long. Applying the weights to the input data has us compute for each data point x in X the following:<br>\n",
    "\n",
    "```for i in n:```<br>\n",
    "&nbsp;&nbsp;&nbsp;&nbsp;&nbsp;&nbsp;```y(i) = 0```<br>\n",
    "&nbsp;&nbsp;&nbsp;&nbsp;&nbsp;&nbsp;```for i in m:```<br>\n",
    "&nbsp;&nbsp;&nbsp;&nbsp;&nbsp;&nbsp;&nbsp;&nbsp;&nbsp;&nbsp;```y(i) = y(i) + x(i,j)*w(j)```<br>\n",
    "        \n",
    "This is a lot of code. We are better off using algebriac methods, recognizing that this operation of applying weights to input data is a dot product. And this easily done using the following snippet of numpy.<br>\n",
    "\n",
    "```y = np.dot(X,w)```"
   ]
  },
  {
   "cell_type": "markdown",
   "id": "b8c35780",
   "metadata": {},
   "source": [
    "### Comparison of the two methods as a sanity check\n",
    "As simple example of element-wise multiplication of two vectors in native Python and numpy"
   ]
  },
  {
   "cell_type": "code",
   "execution_count": 3,
   "id": "6b341160",
   "metadata": {},
   "outputs": [
    {
     "name": "stdout",
     "output_type": "stream",
     "text": [
      "native python with for loops\n",
      "[[0.88127906]\n",
      " [1.45890124]\n",
      " [0.45961145]\n",
      " [0.49756834]\n",
      " [0.79514955]\n",
      " [0.54782706]\n",
      " [0.91865703]\n",
      " [0.72856271]\n",
      " [1.30055121]\n",
      " [0.62327543]]\n",
      "numpy matrix implementation\n",
      "[[0.88127906]\n",
      " [1.45890124]\n",
      " [0.45961145]\n",
      " [0.49756834]\n",
      " [0.79514955]\n",
      " [0.54782706]\n",
      " [0.91865703]\n",
      " [0.72856271]\n",
      " [1.30055121]\n",
      " [0.62327543]]\n"
     ]
    }
   ],
   "source": [
    "m = 3\n",
    "n = 10\n",
    "X = np.random.random((n,m))\n",
    "w = np.random.random((m,1))\n",
    "y = np.random.random((n,1))\n",
    "for i in range(n):\n",
    "    y[i,0] = 0\n",
    "    for j in range(m):\n",
    "        y[i,0] = y[i] + X[i,j]*w[j]\n",
    "print('native python with for loops')\n",
    "print(y)\n",
    "print('numpy matrix implementation')\n",
    "y = np.dot(X,w)\n",
    "print(y)"
   ]
  }
 ],
 "metadata": {
  "kernelspec": {
   "display_name": "Python 3 (ipykernel)",
   "language": "python",
   "name": "python3"
  },
  "language_info": {
   "codemirror_mode": {
    "name": "ipython",
    "version": 3
   },
   "file_extension": ".py",
   "mimetype": "text/x-python",
   "name": "python",
   "nbconvert_exporter": "python",
   "pygments_lexer": "ipython3",
   "version": "3.9.6"
  }
 },
 "nbformat": 4,
 "nbformat_minor": 5
}
