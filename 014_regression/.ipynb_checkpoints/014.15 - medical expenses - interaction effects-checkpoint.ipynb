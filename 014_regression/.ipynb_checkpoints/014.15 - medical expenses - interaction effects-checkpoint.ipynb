{
 "cells": [
  {
   "cell_type": "markdown",
   "id": "22910c8c",
   "metadata": {},
   "source": [
    "# Medical Expense Dataset - Interaction Effects\n",
    "Our data exploration suggested interaction effects in our data, which might explain its observed structure. Let's have a quick look at whether we were correct in assuming this"
   ]
  },
  {
   "cell_type": "markdown",
   "id": "34e11152",
   "metadata": {},
   "source": [
    "### Import"
   ]
  },
  {
   "cell_type": "code",
   "execution_count": 20,
   "id": "1635489e",
   "metadata": {},
   "outputs": [],
   "source": [
    "import os\n",
    "import sys\n",
    "import numpy as np\n",
    "import pandas as pd\n",
    "import matplotlib.pyplot as plt\n",
    "import matplotlib as mpl\n",
    "import statsmodels.api as sm\n",
    "from PIL import Image\n",
    "from mpl_toolkits import mplot3d\n",
    "from statsmodels.formula.api import ols"
   ]
  },
  {
   "cell_type": "markdown",
   "id": "4614fd36-72e7-43d7-a2dc-26f6fb8d2092",
   "metadata": {},
   "source": [
    "### Fonts\n",
    "Define fonts to use plot fonts that are similar to the classic LaTEX fonts used for the equations"
   ]
  },
  {
   "cell_type": "code",
   "execution_count": 21,
   "id": "26b44b12",
   "metadata": {},
   "outputs": [],
   "source": [
    "csfont = {'fontname':'Georgia'}\n",
    "hfont = {'fontname':'Helvetica'}"
   ]
  },
  {
   "cell_type": "markdown",
   "id": "436ccccb",
   "metadata": {},
   "source": [
    "### Load Colormap"
   ]
  },
  {
   "cell_type": "code",
   "execution_count": 22,
   "id": "bedba9bd",
   "metadata": {},
   "outputs": [],
   "source": [
    "im = Image.open(\"../../assets/colormaps/watercolours.png\")\n",
    "im = np.array(im)\n",
    "colormap = im[:,0,:] / 255.0"
   ]
  },
  {
   "cell_type": "markdown",
   "id": "5b93ef30",
   "metadata": {},
   "source": [
    "### Load Data\n",
    "This data is a subset of a dataset hosted on [Kaggle](https://www.kaggle.com/datasets/mirichoi0218/insurance)"
   ]
  },
  {
   "cell_type": "code",
   "execution_count": 34,
   "id": "4f5d752a",
   "metadata": {},
   "outputs": [],
   "source": [
    "data = pd.read_csv('../../data/healthcare_cost/insurance.csv')\n",
    "columns = data.columns"
   ]
  },
  {
   "cell_type": "markdown",
   "id": "2bcf802d",
   "metadata": {},
   "source": [
    "### First Model without interaction effects modeled"
   ]
  },
  {
   "cell_type": "code",
   "execution_count": 39,
   "id": "cb8d4b7f",
   "metadata": {},
   "outputs": [
    {
     "name": "stdout",
     "output_type": "stream",
     "text": [
      "True\n",
      "False\n",
      "True\n",
      "True\n",
      "True\n",
      "False\n"
     ]
    }
   ],
   "source": [
    "model = ols('charges ~ C(age) + C(sex) + C(bmi) + C(children) + C(smoker) + C(region)', data=data).fit()\n",
    "stats = sm.stats.anova_lm(model, typ=2)\n",
    "print(stats['PR(>F)']['C(age)'] < 0.001)\n",
    "print(stats['PR(>F)']['C(sex)'] < 0.001)\n",
    "print(stats['PR(>F)']['C(bmi)'] < 0.001)\n",
    "print(stats['PR(>F)']['C(children)'] < 0.001)\n",
    "print(stats['PR(>F)']['C(smoker)'] < 0.001)\n",
    "print(stats['PR(>F)']['C(region)'] < 0.001)"
   ]
  },
  {
   "cell_type": "markdown",
   "id": "bdcaf642",
   "metadata": {},
   "source": [
    "### Second Model without interaction effects modeled"
   ]
  },
  {
   "cell_type": "code",
   "execution_count": 53,
   "id": "df02f253",
   "metadata": {},
   "outputs": [
    {
     "name": "stderr",
     "output_type": "stream",
     "text": [
      "/Users/brouwerg/.pyenv/versions/3.9.6/lib/python3.9/site-packages/statsmodels/base/model.py:1871: ValueWarning: covariance of constraints does not have full rank. The number of constraints is 547, but rank is 322\n",
      "  warnings.warn('covariance of constraints does not have full '\n",
      "/Users/brouwerg/.pyenv/versions/3.9.6/lib/python3.9/site-packages/statsmodels/base/model.py:1871: ValueWarning: covariance of constraints does not have full rank. The number of constraints is 547, but rank is 390\n",
      "  warnings.warn('covariance of constraints does not have full '\n"
     ]
    },
    {
     "name": "stdout",
     "output_type": "stream",
     "text": [
      "True\n",
      "False\n",
      "False\n",
      "False\n",
      "True\n"
     ]
    },
    {
     "ename": "KeyError",
     "evalue": "'C(region)'",
     "output_type": "error",
     "traceback": [
      "\u001b[0;31m---------------------------------------------------------------------------\u001b[0m",
      "\u001b[0;31mKeyError\u001b[0m                                  Traceback (most recent call last)",
      "File \u001b[0;32m~/.pyenv/versions/3.9.6/lib/python3.9/site-packages/pandas/core/indexes/base.py:3621\u001b[0m, in \u001b[0;36mIndex.get_loc\u001b[0;34m(self, key, method, tolerance)\u001b[0m\n\u001b[1;32m   3620\u001b[0m \u001b[38;5;28;01mtry\u001b[39;00m:\n\u001b[0;32m-> 3621\u001b[0m     \u001b[38;5;28;01mreturn\u001b[39;00m \u001b[38;5;28;43mself\u001b[39;49m\u001b[38;5;241;43m.\u001b[39;49m\u001b[43m_engine\u001b[49m\u001b[38;5;241;43m.\u001b[39;49m\u001b[43mget_loc\u001b[49m\u001b[43m(\u001b[49m\u001b[43mcasted_key\u001b[49m\u001b[43m)\u001b[49m\n\u001b[1;32m   3622\u001b[0m \u001b[38;5;28;01mexcept\u001b[39;00m \u001b[38;5;167;01mKeyError\u001b[39;00m \u001b[38;5;28;01mas\u001b[39;00m err:\n",
      "File \u001b[0;32m~/.pyenv/versions/3.9.6/lib/python3.9/site-packages/pandas/_libs/index.pyx:136\u001b[0m, in \u001b[0;36mpandas._libs.index.IndexEngine.get_loc\u001b[0;34m()\u001b[0m\n",
      "File \u001b[0;32m~/.pyenv/versions/3.9.6/lib/python3.9/site-packages/pandas/_libs/index.pyx:163\u001b[0m, in \u001b[0;36mpandas._libs.index.IndexEngine.get_loc\u001b[0;34m()\u001b[0m\n",
      "File \u001b[0;32mpandas/_libs/hashtable_class_helper.pxi:5198\u001b[0m, in \u001b[0;36mpandas._libs.hashtable.PyObjectHashTable.get_item\u001b[0;34m()\u001b[0m\n",
      "File \u001b[0;32mpandas/_libs/hashtable_class_helper.pxi:5206\u001b[0m, in \u001b[0;36mpandas._libs.hashtable.PyObjectHashTable.get_item\u001b[0;34m()\u001b[0m\n",
      "\u001b[0;31mKeyError\u001b[0m: 'C(region)'",
      "\nThe above exception was the direct cause of the following exception:\n",
      "\u001b[0;31mKeyError\u001b[0m                                  Traceback (most recent call last)",
      "Input \u001b[0;32mIn [53]\u001b[0m, in \u001b[0;36m<cell line: 13>\u001b[0;34m()\u001b[0m\n\u001b[1;32m     11\u001b[0m \u001b[38;5;28mprint\u001b[39m(stats[\u001b[38;5;124m'\u001b[39m\u001b[38;5;124mPR(>F)\u001b[39m\u001b[38;5;124m'\u001b[39m][\u001b[38;5;124m'\u001b[39m\u001b[38;5;124mC(children)\u001b[39m\u001b[38;5;124m'\u001b[39m] \u001b[38;5;241m<\u001b[39m \u001b[38;5;241m0.001\u001b[39m)\n\u001b[1;32m     12\u001b[0m \u001b[38;5;28mprint\u001b[39m(stats[\u001b[38;5;124m'\u001b[39m\u001b[38;5;124mPR(>F)\u001b[39m\u001b[38;5;124m'\u001b[39m][\u001b[38;5;124m'\u001b[39m\u001b[38;5;124mC(smoker)\u001b[39m\u001b[38;5;124m'\u001b[39m] \u001b[38;5;241m<\u001b[39m \u001b[38;5;241m0.001\u001b[39m)\n\u001b[0;32m---> 13\u001b[0m \u001b[38;5;28mprint\u001b[39m(\u001b[43mstats\u001b[49m\u001b[43m[\u001b[49m\u001b[38;5;124;43m'\u001b[39;49m\u001b[38;5;124;43mPR(>F)\u001b[39;49m\u001b[38;5;124;43m'\u001b[39;49m\u001b[43m]\u001b[49m\u001b[43m[\u001b[49m\u001b[38;5;124;43m'\u001b[39;49m\u001b[38;5;124;43mC(region)\u001b[39;49m\u001b[38;5;124;43m'\u001b[39;49m\u001b[43m]\u001b[49m \u001b[38;5;241m<\u001b[39m \u001b[38;5;241m0.001\u001b[39m)\n\u001b[1;32m     15\u001b[0m \u001b[38;5;66;03m# print(stats['PR(>F)']['C(sex):C(age)'] < 0.001)\u001b[39;00m\n\u001b[1;32m     16\u001b[0m \u001b[38;5;66;03m# print(stats['PR(>F)']['C(sex):C(bmi)'] < 0.001)\u001b[39;00m\n\u001b[1;32m     17\u001b[0m \u001b[38;5;66;03m# print(stats['PR(>F)']['C(sex):C(children)'] < 0.001)\u001b[39;00m\n\u001b[0;32m   (...)\u001b[0m\n\u001b[1;32m     24\u001b[0m \u001b[38;5;66;03m# print(stats['PR(>F)']['C(sex):C(smoker)'] < 0.001)\u001b[39;00m\n\u001b[1;32m     25\u001b[0m \u001b[38;5;66;03m# print(stats['PR(>F)']['C(sex):C(region)'] < 0.001)\u001b[39;00m\n\u001b[1;32m     26\u001b[0m stats\n",
      "File \u001b[0;32m~/.pyenv/versions/3.9.6/lib/python3.9/site-packages/pandas/core/series.py:958\u001b[0m, in \u001b[0;36mSeries.__getitem__\u001b[0;34m(self, key)\u001b[0m\n\u001b[1;32m    955\u001b[0m     \u001b[38;5;28;01mreturn\u001b[39;00m \u001b[38;5;28mself\u001b[39m\u001b[38;5;241m.\u001b[39m_values[key]\n\u001b[1;32m    957\u001b[0m \u001b[38;5;28;01melif\u001b[39;00m key_is_scalar:\n\u001b[0;32m--> 958\u001b[0m     \u001b[38;5;28;01mreturn\u001b[39;00m \u001b[38;5;28;43mself\u001b[39;49m\u001b[38;5;241;43m.\u001b[39;49m\u001b[43m_get_value\u001b[49m\u001b[43m(\u001b[49m\u001b[43mkey\u001b[49m\u001b[43m)\u001b[49m\n\u001b[1;32m    960\u001b[0m \u001b[38;5;28;01mif\u001b[39;00m is_hashable(key):\n\u001b[1;32m    961\u001b[0m     \u001b[38;5;66;03m# Otherwise index.get_value will raise InvalidIndexError\u001b[39;00m\n\u001b[1;32m    962\u001b[0m     \u001b[38;5;28;01mtry\u001b[39;00m:\n\u001b[1;32m    963\u001b[0m         \u001b[38;5;66;03m# For labels that don't resolve as scalars like tuples and frozensets\u001b[39;00m\n",
      "File \u001b[0;32m~/.pyenv/versions/3.9.6/lib/python3.9/site-packages/pandas/core/series.py:1069\u001b[0m, in \u001b[0;36mSeries._get_value\u001b[0;34m(self, label, takeable)\u001b[0m\n\u001b[1;32m   1066\u001b[0m     \u001b[38;5;28;01mreturn\u001b[39;00m \u001b[38;5;28mself\u001b[39m\u001b[38;5;241m.\u001b[39m_values[label]\n\u001b[1;32m   1068\u001b[0m \u001b[38;5;66;03m# Similar to Index.get_value, but we do not fall back to positional\u001b[39;00m\n\u001b[0;32m-> 1069\u001b[0m loc \u001b[38;5;241m=\u001b[39m \u001b[38;5;28;43mself\u001b[39;49m\u001b[38;5;241;43m.\u001b[39;49m\u001b[43mindex\u001b[49m\u001b[38;5;241;43m.\u001b[39;49m\u001b[43mget_loc\u001b[49m\u001b[43m(\u001b[49m\u001b[43mlabel\u001b[49m\u001b[43m)\u001b[49m\n\u001b[1;32m   1070\u001b[0m \u001b[38;5;28;01mreturn\u001b[39;00m \u001b[38;5;28mself\u001b[39m\u001b[38;5;241m.\u001b[39mindex\u001b[38;5;241m.\u001b[39m_get_values_for_loc(\u001b[38;5;28mself\u001b[39m, loc, label)\n",
      "File \u001b[0;32m~/.pyenv/versions/3.9.6/lib/python3.9/site-packages/pandas/core/indexes/base.py:3623\u001b[0m, in \u001b[0;36mIndex.get_loc\u001b[0;34m(self, key, method, tolerance)\u001b[0m\n\u001b[1;32m   3621\u001b[0m     \u001b[38;5;28;01mreturn\u001b[39;00m \u001b[38;5;28mself\u001b[39m\u001b[38;5;241m.\u001b[39m_engine\u001b[38;5;241m.\u001b[39mget_loc(casted_key)\n\u001b[1;32m   3622\u001b[0m \u001b[38;5;28;01mexcept\u001b[39;00m \u001b[38;5;167;01mKeyError\u001b[39;00m \u001b[38;5;28;01mas\u001b[39;00m err:\n\u001b[0;32m-> 3623\u001b[0m     \u001b[38;5;28;01mraise\u001b[39;00m \u001b[38;5;167;01mKeyError\u001b[39;00m(key) \u001b[38;5;28;01mfrom\u001b[39;00m \u001b[38;5;21;01merr\u001b[39;00m\n\u001b[1;32m   3624\u001b[0m \u001b[38;5;28;01mexcept\u001b[39;00m \u001b[38;5;167;01mTypeError\u001b[39;00m:\n\u001b[1;32m   3625\u001b[0m     \u001b[38;5;66;03m# If we have a listlike key, _check_indexing_error will raise\u001b[39;00m\n\u001b[1;32m   3626\u001b[0m     \u001b[38;5;66;03m#  InvalidIndexError. Otherwise we fall through and re-raise\u001b[39;00m\n\u001b[1;32m   3627\u001b[0m     \u001b[38;5;66;03m#  the TypeError.\u001b[39;00m\n\u001b[1;32m   3628\u001b[0m     \u001b[38;5;28mself\u001b[39m\u001b[38;5;241m.\u001b[39m_check_indexing_error(key)\n",
      "\u001b[0;31mKeyError\u001b[0m: 'C(region)'"
     ]
    }
   ],
   "source": [
    "model = ols('charges ~ C(age) + C(sex) + C(bmi) + C(children) + C(smoker) + '\\\n",
    "            'C(sex):C(age) + '\\\n",
    "            'C(sex):C(bmi) + '\\\n",
    "            'C(sex):C(children) + '\\\n",
    "            'C(sex):C(smoker)',data=data).fit()\n",
    "\n",
    "stats = sm.stats.anova_lm(model, typ=2)\n",
    "print(stats['PR(>F)']['C(age)'] < 0.001)\n",
    "print(stats['PR(>F)']['C(sex)'] < 0.001)\n",
    "print(stats['PR(>F)']['C(bmi)'] < 0.001)\n",
    "print(stats['PR(>F)']['C(children)'] < 0.001)\n",
    "print(stats['PR(>F)']['C(smoker)'] < 0.001)\n",
    "\n",
    "# print(stats['PR(>F)']['C(sex):C(age)'] < 0.001)\n",
    "# print(stats['PR(>F)']['C(sex):C(bmi)'] < 0.001)\n",
    "# print(stats['PR(>F)']['C(sex):C(children)'] < 0.001)\n",
    "# print(stats['PR(>F)']['C(sex):C(smoker)'] < 0.001)\n",
    "# print(stats['PR(>F)']['C(sex):C(region)'] < 0.001)\n",
    "\n",
    "# print(stats['PR(>F)']['C(sex):C(age)'] < 0.001)\n",
    "# print(stats['PR(>F)']['C(sex):C(bmi)'] < 0.001)\n",
    "# print(stats['PR(>F)']['C(sex):C(children)'] < 0.001)\n",
    "# print(stats['PR(>F)']['C(sex):C(smoker)'] < 0.001)\n",
    "# print(stats['PR(>F)']['C(sex):C(region)'] < 0.001)\n",
    "stats"
   ]
  },
  {
   "cell_type": "code",
   "execution_count": null,
   "id": "16c9f2e5",
   "metadata": {},
   "outputs": [],
   "source": []
  }
 ],
 "metadata": {
  "kernelspec": {
   "display_name": "Python 3 (ipykernel)",
   "language": "python",
   "name": "python3"
  },
  "language_info": {
   "codemirror_mode": {
    "name": "ipython",
    "version": 3
   },
   "file_extension": ".py",
   "mimetype": "text/x-python",
   "name": "python",
   "nbconvert_exporter": "python",
   "pygments_lexer": "ipython3",
   "version": "3.9.6"
  }
 },
 "nbformat": 4,
 "nbformat_minor": 5
}
