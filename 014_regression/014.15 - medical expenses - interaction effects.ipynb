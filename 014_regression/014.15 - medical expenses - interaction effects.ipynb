{
 "cells": [
  {
   "cell_type": "markdown",
   "id": "22910c8c",
   "metadata": {},
   "source": [
    "# Medical Expense Dataset - Interaction Effects\n",
    "Our data exploration suggested interaction effects in our data, which might explain its observed structure. Let's have a quick look at whether we were correct in assuming this."
   ]
  },
  {
   "cell_type": "markdown",
   "id": "34e11152",
   "metadata": {},
   "source": [
    "### Import"
   ]
  },
  {
   "cell_type": "code",
   "execution_count": 24,
   "id": "1635489e",
   "metadata": {},
   "outputs": [],
   "source": [
    "import os\n",
    "import sys\n",
    "import numpy as np\n",
    "import pandas as pd\n",
    "import matplotlib.pyplot as plt\n",
    "import matplotlib as mpl\n",
    "from PIL import Image\n",
    "from mpl_toolkits import mplot3d\n",
    "from sklearn import preprocessing"
   ]
  },
  {
   "cell_type": "markdown",
   "id": "4614fd36-72e7-43d7-a2dc-26f6fb8d2092",
   "metadata": {},
   "source": [
    "### Fonts\n",
    "Define fonts to use plot fonts that are similar to the classic LaTEX fonts used for the equations"
   ]
  },
  {
   "cell_type": "code",
   "execution_count": 25,
   "id": "26b44b12",
   "metadata": {},
   "outputs": [],
   "source": [
    "csfont = {'fontname':'Georgia'}\n",
    "hfont = {'fontname':'Helvetica'}"
   ]
  },
  {
   "cell_type": "markdown",
   "id": "436ccccb",
   "metadata": {},
   "source": [
    "### Load Colormap"
   ]
  },
  {
   "cell_type": "code",
   "execution_count": 26,
   "id": "bedba9bd",
   "metadata": {},
   "outputs": [],
   "source": [
    "im = Image.open(\"../../assets/colormaps/watercolours.png\")\n",
    "im = np.array(im)\n",
    "colormap = im[:,0,:] / 255.0"
   ]
  },
  {
   "cell_type": "markdown",
   "id": "5b93ef30",
   "metadata": {},
   "source": [
    "### Load Data\n",
    "This data is a subset of a dataset hosted on [Kaggle](https://www.kaggle.com/datasets/mirichoi0218/insurance)"
   ]
  },
  {
   "cell_type": "code",
   "execution_count": 27,
   "id": "4f5d752a",
   "metadata": {},
   "outputs": [],
   "source": [
    "data = pd.read_csv('../../data/healthcare_cost/insurance.csv')\n",
    "columns = data.columns"
   ]
  },
  {
   "cell_type": "markdown",
   "id": "88ae0c09",
   "metadata": {},
   "source": [
    "### To Numpy"
   ]
  },
  {
   "cell_type": "code",
   "execution_count": 50,
   "id": "829b1355",
   "metadata": {},
   "outputs": [],
   "source": [
    "#Extract\n",
    "X = data.values\n",
    "y = data.iloc[:,-1] / 1000\n",
    "\n",
    "#Recode 'sex'\n",
    "encoder = preprocessing.LabelEncoder()\n",
    "encoder.fit(X[:,1])\n",
    "X[:,1] = encoder.transform(X[:,1])\n",
    "\n",
    "#Recode 'smoker'\n",
    "encoder = preprocessing.LabelEncoder()\n",
    "encoder.fit(X[:,4])\n",
    "X[:,4] = encoder.transform(X[:,4])\n",
    "\n",
    "#Recode 'region'\n",
    "encoder = preprocessing.LabelEncoder()\n",
    "encoder.fit(X[:,5])\n",
    "X[:,5] = encoder.transform(X[:,5])\n",
    "\n",
    "#To Float\n",
    "X = X.astype(float)\n",
    "y = y.astype(float)\n",
    "X[:,-1] = 1"
   ]
  },
  {
   "cell_type": "markdown",
   "id": "4b5841ec",
   "metadata": {},
   "source": [
    "### OLS"
   ]
  },
  {
   "cell_type": "code",
   "execution_count": 49,
   "id": "ed772468",
   "metadata": {},
   "outputs": [],
   "source": [
    "theta = np.dot(np.dot(np.linalg.inv(np.dot(X.T,X)),X.T),y)\n",
    "for"
   ]
  },
  {
   "cell_type": "code",
   "execution_count": null,
   "id": "6f4d3882",
   "metadata": {},
   "outputs": [],
   "source": []
  }
 ],
 "metadata": {
  "kernelspec": {
   "display_name": "Python 3 (ipykernel)",
   "language": "python",
   "name": "python3"
  },
  "language_info": {
   "codemirror_mode": {
    "name": "ipython",
    "version": 3
   },
   "file_extension": ".py",
   "mimetype": "text/x-python",
   "name": "python",
   "nbconvert_exporter": "python",
   "pygments_lexer": "ipython3",
   "version": "3.9.6"
  }
 },
 "nbformat": 4,
 "nbformat_minor": 5
}
