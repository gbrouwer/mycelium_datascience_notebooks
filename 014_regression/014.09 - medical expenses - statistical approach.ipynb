{
 "cells": [
  {
   "cell_type": "markdown",
   "id": "34e11152",
   "metadata": {},
   "source": [
    "### Import"
   ]
  },
  {
   "cell_type": "code",
   "execution_count": 2,
   "id": "c7566cd7",
   "metadata": {},
   "outputs": [],
   "source": [
    "import os\n",
    "import sys\n",
    "import numpy as np\n",
    "import pandas as pd\n",
    "import matplotlib.pyplot as plt\n",
    "from mpl_toolkits import mplot3d"
   ]
  },
  {
   "cell_type": "markdown",
   "id": "4614fd36-72e7-43d7-a2dc-26f6fb8d2092",
   "metadata": {},
   "source": [
    "### Fonts"
   ]
  },
  {
   "cell_type": "code",
   "execution_count": 3,
   "id": "d0952a7a-61fe-43db-b548-c933888f01d7",
   "metadata": {},
   "outputs": [],
   "source": [
    "csfont = {'fontname':'Georgia'}\n",
    "hfont = {'fontname':'Helvetica'}"
   ]
  },
  {
   "cell_type": "markdown",
   "id": "5b93ef30",
   "metadata": {},
   "source": [
    "### Load Data"
   ]
  },
  {
   "cell_type": "code",
   "execution_count": 4,
   "id": "4f5d752a",
   "metadata": {},
   "outputs": [],
   "source": [
    "data = pd.read_csv('../../data/healthcare_cost/insurance.csv')\n",
    "columns = data.columns\n",
    "x_orig = data.iloc[:,0].values\n",
    "y_orig = data.iloc[:,-1].values"
   ]
  },
  {
   "cell_type": "markdown",
   "id": "04add551",
   "metadata": {},
   "source": [
    "### Clean Dataset for the univariate example"
   ]
  },
  {
   "cell_type": "code",
   "execution_count": 5,
   "id": "8350ec53",
   "metadata": {},
   "outputs": [],
   "source": [
    "ind0 = np.where(y_orig > 17000)[0]\n",
    "ind1 = np.where(x_orig < 46)[0]\n",
    "ind2 = np.where(y_orig > 10000)[0]\n",
    "ind3 = np.intersect1d(ind1,ind2)\n",
    "ind4 = np.union1d(ind3,ind0)\n",
    "ind5 = range(x_orig.shape[0])\n",
    "ind5 = np.setdiff1d(ind5,ind4)\n",
    "x_orig = x_orig[ind5].astype('float')\n",
    "y_orig = y_orig[ind5].astype('float')"
   ]
  },
  {
   "cell_type": "markdown",
   "id": "733dff19",
   "metadata": {},
   "source": [
    "### Random Sample"
   ]
  },
  {
   "cell_type": "code",
   "execution_count": 6,
   "id": "d4661220",
   "metadata": {},
   "outputs": [],
   "source": [
    "np.random.seed(200)\n",
    "idx = np.random.randint(0,x_orig.shape[0],20)\n",
    "x = x_orig[idx]\n",
    "y = y_orig[idx] / 1000.0"
   ]
  },
  {
   "cell_type": "markdown",
   "id": "da663823",
   "metadata": {},
   "source": [
    "### Step 1: Compute the means of x and y\n",
    "The first we need to compute are the means of our input (x) and output (y) variables"
   ]
  },
  {
   "cell_type": "code",
   "execution_count": 7,
   "id": "ca5e4b9e",
   "metadata": {},
   "outputs": [],
   "source": [
    "x_mean = np.sum(x) / len(x)\n",
    "y_mean = np.sum(y) / len(y)"
   ]
  },
  {
   "cell_type": "markdown",
   "id": "fd59cdec",
   "metadata": {},
   "source": [
    "### Step 2: Compute the sum of squares for x and y: <br>\n",
    "\n",
    "$\\sum (x-\\bar{x})^2$<br><br>\n",
    "$\\sum (y-\\bar{y})^2$<br>\n",
    "\n",
    "With the means computed in step 1, we can compute the sum_of_squares for both x and y. The sum of squares is squared difference of each data point and the mean across data point, summed across all data points. It is the precursor of variance and the standard deviation, and reflects how much our data is spread around the mean. "
   ]
  },
  {
   "cell_type": "code",
   "execution_count": 8,
   "id": "2f917b2a",
   "metadata": {},
   "outputs": [],
   "source": [
    "x_sum_of_squares = np.sum((x - x_mean)**2)\n",
    "y_sum_of_squares = np.sum((y - y_mean)**2)"
   ]
  },
  {
   "cell_type": "markdown",
   "id": "51543819",
   "metadata": {},
   "source": [
    "### Step 3: Compute the coviarance<br>\n",
    "$\\sum {(x-\\bar{x})(y-\\bar{y})}$<br><br>\n",
    "Similar to Step 2, but now we look how much one variable (e.g. x) moves in accordance with another (e.g.y). Both x and y have a mean. For each data point xi and yi we compute the difference between that datapoint and its mean. If both xi and yi are larger than their respective means, the resulting product will be positive. If both are smaller, than their respective means, the resulting product will still be positive (multiplying two negatives numbers results in a positive number). Should they fall on opposing sides of their means, the resulting value will be negative. By summing all these values together, we thus tally how often and how much two linked data point xi and yi move in relationship to their respective means. The more they 'move' in unison, the more positive values we obtain across data points. And the further they move (how much they both differ from their mean) scales these positive values. If the points show no consistent pattern of moving in unision, the resulting sum will be close to zero. Should x and y move in unison and in the same direction, the resulting sum will be positive, should they move consistently in opposite direction, the resulting sum will be negative. Therefore, this sum of "
   ]
  },
  {
   "cell_type": "code",
   "execution_count": 9,
   "id": "e74dd9d4",
   "metadata": {},
   "outputs": [],
   "source": [
    "xy_sum_of_squares = np.sum(((x-x_mean)*(y-y_mean)))"
   ]
  },
  {
   "cell_type": "markdown",
   "id": "6b40f148",
   "metadata": {},
   "source": [
    "### Step 3: Compute the slope a"
   ]
  },
  {
   "cell_type": "code",
   "execution_count": 10,
   "id": "e1438c67",
   "metadata": {},
   "outputs": [],
   "source": [
    "a = xy_sum_of_squares / x_sum_of_squares"
   ]
  },
  {
   "cell_type": "markdown",
   "id": "69ce2a29",
   "metadata": {},
   "source": [
    "### Step 4: Compute the intercept/bias/offset b"
   ]
  },
  {
   "cell_type": "code",
   "execution_count": 13,
   "id": "79da1fbe",
   "metadata": {},
   "outputs": [],
   "source": [
    "b = y_mean - x_mean*a\n",
    "y_pred = x*a + b\n",
    "y_mean = np.mean(y)\n",
    "SST = np.sum((y - np.mean(y))**2)\n",
    "SSR = np.sum((y_pred - np.mean(y))**2)\n",
    "SSE = np.sum((y - y_pred)**2)\n",
    "rsquared = SSR/SST\n"
   ]
  },
  {
   "cell_type": "markdown",
   "id": "a5ddcb93",
   "metadata": {},
   "source": [
    "### Plot Result"
   ]
  },
  {
   "cell_type": "code",
   "execution_count": 12,
   "id": "9a399673",
   "metadata": {},
   "outputs": [
    {
     "ename": "NameError",
     "evalue": "name 'x0' is not defined",
     "output_type": "error",
     "traceback": [
      "\u001b[0;31m---------------------------------------------------------------------------\u001b[0m",
      "\u001b[0;31mNameError\u001b[0m                                 Traceback (most recent call last)",
      "Input \u001b[0;32mIn [12]\u001b[0m, in \u001b[0;36m<cell line: 3>\u001b[0;34m()\u001b[0m\n\u001b[1;32m      1\u001b[0m plt\u001b[38;5;241m.\u001b[39mfigure(figsize\u001b[38;5;241m=\u001b[39m(\u001b[38;5;241m6\u001b[39m,\u001b[38;5;241m6\u001b[39m));\n\u001b[1;32m      2\u001b[0m plt\u001b[38;5;241m.\u001b[39mscatter(x,y,c\u001b[38;5;241m=\u001b[39m\u001b[38;5;124m'\u001b[39m\u001b[38;5;124mk\u001b[39m\u001b[38;5;124m'\u001b[39m,s\u001b[38;5;241m=\u001b[39m\u001b[38;5;241m100\u001b[39m,zorder\u001b[38;5;241m=\u001b[39m\u001b[38;5;241m1010\u001b[39m);\n\u001b[0;32m----> 3\u001b[0m plt\u001b[38;5;241m.\u001b[39mplot([\u001b[43mx0\u001b[49m,x1],[y0,y1],\u001b[38;5;124m'\u001b[39m\u001b[38;5;124mk\u001b[39m\u001b[38;5;124m'\u001b[39m,zorder\u001b[38;5;241m=\u001b[39m\u001b[38;5;241m100\u001b[39m);\n\u001b[1;32m      4\u001b[0m plt\u001b[38;5;241m.\u001b[39mplot([x0,x1],[y_mean,y_mean],\u001b[38;5;124m'\u001b[39m\u001b[38;5;124mk:\u001b[39m\u001b[38;5;124m'\u001b[39m,zorder\u001b[38;5;241m=\u001b[39m\u001b[38;5;241m100\u001b[39m);\n\u001b[1;32m      5\u001b[0m \u001b[38;5;28;01mfor\u001b[39;00m idx \u001b[38;5;129;01min\u001b[39;00m \u001b[38;5;28mrange\u001b[39m(\u001b[38;5;28mlen\u001b[39m(x)):\n",
      "\u001b[0;31mNameError\u001b[0m: name 'x0' is not defined"
     ]
    },
    {
     "data": {
      "image/png": "[encoded data removed]",
      "text/plain": [
       "<Figure size 432x432 with 1 Axes>"
      ]
     },
     "metadata": {
      "needs_background": "light"
     },
     "output_type": "display_data"
    }
   ],
   "source": [
    "plt.figure(figsize=(6,6));\n",
    "plt.scatter(x,y,c='k',s=100,zorder=1010);\n",
    "plt.plot([x0,x1],[y0,y1],'k',zorder=100);\n",
    "plt.plot([x0,x1],[y_mean,y_mean],'k:',zorder=100);\n",
    "for idx in range(len(x)):\n",
    "    plt.plot([x[idx],x[idx]],[y[idx],y_pred[idx]],'r--') #SS Error\n",
    "    plt.plot([x[idx],x[idx]],[y_pred[idx],y_mean],'g--') #SS Regression\n",
    "    plt.scatter(x[idx],y_pred[idx],s=25,color='k',zorder=1000)\n",
    "    plt.scatter(x[idx],y_pred[idx],s=25,color='k',zorder=1000)\n",
    "    plt.scatter(x[idx],y_mean,s=25,color='k',zorder=1000)\n",
    "plt.grid();\n",
    "plt.xlabel('age',fontsize=22,**csfont);\n",
    "plt.ylabel('medical expenses (dollars x 1000)',fontsize=22,**csfont);\n",
    "plt.xticks(fontsize=14,**csfont);\n",
    "plt.yticks(fontsize=14,**csfont);\n",
    "plt.text(75,12,\"SST = \" + str(np.round(SST,2)),fontsize=22,**csfont);\n",
    "plt.text(75,10,\"SSR = \" + str(np.round(SSR,2)),fontsize=22,**csfont);\n",
    "plt.text(75,8,\"SSE = \" + str(np.round(SSE,2)),fontsize=22,**csfont);\n",
    "plt.text(75,6,\"r-squared = \" + str(np.round(rsquared,2)),fontsize=22,**csfont);\n",
    "plt.text(75,4,\"a = \" + str(np.round(a,2)),fontsize=22,**csfont);\n",
    "plt.text(75,2,\"b = \" + str(np.round(b,2)),fontsize=22,**csfont);\n",
    "plt.plot([45,50],[2.25,2.25],'r--')\n",
    "plt.plot([45,50],[3.25,3.25],'g--')\n",
    "plt.text(51.5,3.05,\"= SSE\",color='k',fontsize=18,**csfont);\n",
    "plt.text(51.5,2.05,\"= SSR\",color='k',fontsize=18,**csfont);\n",
    "plt.axis((10,70,0,15));\n",
    "plt.savefig('../../assets/figures/014/statistical_approach_medical_expenses.png', dpi=300,bbox_inches=\"tight\")"
   ]
  },
  {
   "cell_type": "code",
   "execution_count": null,
   "id": "5e7ec6ce",
   "metadata": {},
   "outputs": [],
   "source": []
  }
 ],
 "metadata": {
  "kernelspec": {
   "display_name": "Python 3 (ipykernel)",
   "language": "python",
   "name": "python3"
  },
  "language_info": {
   "codemirror_mode": {
    "name": "ipython",
    "version": 3
   },
   "file_extension": ".py",
   "mimetype": "text/x-python",
   "name": "python",
   "nbconvert_exporter": "python",
   "pygments_lexer": "ipython3",
   "version": "3.9.6"
  }
 },
 "nbformat": 4,
 "nbformat_minor": 5
}
