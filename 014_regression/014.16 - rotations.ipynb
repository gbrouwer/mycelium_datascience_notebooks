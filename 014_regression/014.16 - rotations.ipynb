{
 "cells": [
  {
   "cell_type": "markdown",
   "id": "22910c8c",
   "metadata": {},
   "source": [
    "# Rotations"
   ]
  },
  {
   "cell_type": "markdown",
   "id": "34e11152",
   "metadata": {},
   "source": [
    "### Import"
   ]
  },
  {
   "cell_type": "code",
   "execution_count": 2,
   "id": "1635489e",
   "metadata": {},
   "outputs": [],
   "source": [
    "import os\n",
    "import sys\n",
    "import numpy as np\n",
    "import pandas as pd\n",
    "import matplotlib.pyplot as plt\n",
    "import matplotlib as mpl\n",
    "from PIL import Image\n",
    "from mpl_toolkits import mplot3d\n",
    "from sklearn import preprocessing"
   ]
  },
  {
   "cell_type": "markdown",
   "id": "4614fd36-72e7-43d7-a2dc-26f6fb8d2092",
   "metadata": {},
   "source": [
    "### Fonts\n",
    "Define fonts to use plot fonts that are similar to the classic LaTEX fonts used for the equations"
   ]
  },
  {
   "cell_type": "code",
   "execution_count": 3,
   "id": "26b44b12",
   "metadata": {},
   "outputs": [],
   "source": [
    "csfont = {'fontname':'Georgia'}\n",
    "hfont = {'fontname':'Helvetica'}"
   ]
  },
  {
   "cell_type": "markdown",
   "id": "2891da44",
   "metadata": {},
   "source": [
    "### Create Transformation Matrix"
   ]
  },
  {
   "cell_type": "code",
   "execution_count": 5,
   "id": "d2a8cc30",
   "metadata": {},
   "outputs": [],
   "source": [
    "angle = 15\n",
    "X = np.random.random((10,2)) - 0.5\n",
    "alpha = angle / 180 * np.pi\n",
    "R = [[np.cos(alpha),-np.sin(alpha)],[np.sin(alpha),np.cos(alpha)]]\n",
    "R = np.array(R)"
   ]
  },
  {
   "cell_type": "markdown",
   "id": "3e55caeb",
   "metadata": {},
   "source": [
    "### Create Points"
   ]
  },
  {
   "cell_type": "code",
   "execution_count": 6,
   "id": "ba0a2723",
   "metadata": {},
   "outputs": [],
   "source": [
    "X = (np.random.random((20,2)) - 0.5) * 1.5\n",
    "X_orig = X.copy()\n",
    "X_rot = X.copy()"
   ]
  },
  {
   "cell_type": "markdown",
   "id": "768e9c1e",
   "metadata": {},
   "source": [
    "### Rotate Points using core Python"
   ]
  },
  {
   "cell_type": "code",
   "execution_count": 7,
   "id": "3ebd7912",
   "metadata": {},
   "outputs": [
    {
     "data": {
      "image/png": "[encoded data removed]",
      "text/plain": [
       "<Figure size 360x360 with 1 Axes>"
      ]
     },
     "metadata": {
      "needs_background": "light"
     },
     "output_type": "display_data"
    }
   ],
   "source": [
    "X_rot = []\n",
    "for i in range(X.shape[0]):\n",
    "    x_orig = X_orig[i,0]\n",
    "    y_orig = X_orig[i,1]\n",
    "    x_rot = x_orig*np.cos(alpha) + y_orig*np.sin(alpha)\n",
    "    y_rot = x_orig*-np.sin(alpha) + y_orig*np.cos(alpha)\n",
    "    X_rot.append((x_rot,y_rot))\n",
    "X_rot = np.array(X_rot)\n",
    "plt.figure(figsize=(5,5));\n",
    "plt.scatter(X[:,0],X[:,1],c='b');\n",
    "plt.scatter(X_rot[:,0],X_rot[:,1],c='r');\n",
    "plt.grid();\n",
    "plt.axis((-1,1,-1,1));"
   ]
  },
  {
   "cell_type": "markdown",
   "id": "2a1546f3",
   "metadata": {},
   "source": [
    "### Rotate Points using matrix notation and plot"
   ]
  },
  {
   "cell_type": "code",
   "execution_count": 8,
   "id": "5dcbab02",
   "metadata": {},
   "outputs": [
    {
     "data": {
      "image/png": "[encoded data removed]",
      "text/plain": [
       "<Figure size 360x360 with 1 Axes>"
      ]
     },
     "metadata": {
      "needs_background": "light"
     },
     "output_type": "display_data"
    }
   ],
   "source": [
    "X_rot = np.dot(X_orig,R);\n",
    "plt.figure(figsize=(5,5));\n",
    "plt.scatter(X[:,0],X[:,1],c='b');\n",
    "plt.scatter(X_rot[:,0],X_rot[:,1],c='r');\n",
    "plt.grid();\n",
    "plt.axis((-1,1,-1,1));"
   ]
  },
  {
   "cell_type": "markdown",
   "id": "90587475",
   "metadata": {},
   "source": [
    "### Plot"
   ]
  },
  {
   "cell_type": "code",
   "execution_count": 9,
   "id": "ab9e0a3c",
   "metadata": {},
   "outputs": [
    {
     "data": {
      "text/plain": [
       "<matplotlib.collections.PathCollection at 0x12779f310>"
      ]
     },
     "execution_count": 9,
     "metadata": {},
     "output_type": "execute_result"
    },
    {
     "data": {
      "image/png": "[encoded data removed]",
      "text/plain": [
       "<Figure size 360x360 with 1 Axes>"
      ]
     },
     "metadata": {
      "needs_background": "light"
     },
     "output_type": "display_data"
    }
   ],
   "source": [
    "plt.figure(figsize=(5,5))\n",
    "plt.scatter(X[:,0],X[:,1])"
   ]
  },
  {
   "cell_type": "code",
   "execution_count": 10,
   "id": "8d1fb150",
   "metadata": {},
   "outputs": [
    {
     "data": {
      "text/plain": [
       "array([[1.00000000e+00, 4.00085784e-17],\n",
       "       [4.09876891e-17, 1.00000000e+00]])"
      ]
     },
     "execution_count": 10,
     "metadata": {},
     "output_type": "execute_result"
    }
   ],
   "source": [
    "np.dot(np.linalg.inv(R),R)"
   ]
  },
  {
   "cell_type": "code",
   "execution_count": 14,
   "id": "267366b0",
   "metadata": {},
   "outputs": [],
   "source": [
    "X = np.zeros((10,3))\n",
    "C = np.ones((10,1))\n",
    "X = np.hstack((X,C))"
   ]
  },
  {
   "cell_type": "code",
   "execution_count": 18,
   "id": "c21ad51d",
   "metadata": {},
   "outputs": [
    {
     "data": {
      "text/plain": [
       "array([[0.54345843],\n",
       "       [0.80501743],\n",
       "       [0.88328709],\n",
       "       [0.6402388 ],\n",
       "       [0.74356207],\n",
       "       [0.14544761],\n",
       "       [0.57892875],\n",
       "       [0.97040778],\n",
       "       [0.35136824],\n",
       "       [0.08563447]])"
      ]
     },
     "execution_count": 18,
     "metadata": {},
     "output_type": "execute_result"
    }
   ],
   "source": [
    "theta = np.random.random((10,1))\n",
    "theta"
   ]
  },
  {
   "cell_type": "code",
   "execution_count": null,
   "id": "cdf77368",
   "metadata": {},
   "outputs": [],
   "source": []
  }
 ],
 "metadata": {
  "kernelspec": {
   "display_name": "Python 3 (ipykernel)",
   "language": "python",
   "name": "python3"
  },
  "language_info": {
   "codemirror_mode": {
    "name": "ipython",
    "version": 3
   },
   "file_extension": ".py",
   "mimetype": "text/x-python",
   "name": "python",
   "nbconvert_exporter": "python",
   "pygments_lexer": "ipython3",
   "version": "3.9.6"
  }
 },
 "nbformat": 4,
 "nbformat_minor": 5
}
