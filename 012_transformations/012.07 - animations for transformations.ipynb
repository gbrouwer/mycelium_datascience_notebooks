{
 "cells": [
  {
   "cell_type": "markdown",
   "id": "e85447bd",
   "metadata": {},
   "source": [
    "### Import"
   ]
  },
  {
   "cell_type": "code",
   "execution_count": 1,
   "id": "44dde120",
   "metadata": {},
   "outputs": [],
   "source": [
    "import os\n",
    "import numpy as np\n",
    "import sys\n",
    "import matplotlib.pyplot as plt\n",
    "from sklearn.datasets import make_blobs\n",
    "from scipy.spatial.distance import cdist\n",
    "from scipy.spatial.distance import pdist\n",
    "from scipy.spatial.distance import squareform\n",
    "from scipy.stats import multivariate_normal as mnorm\n",
    "from mpl_toolkits import mplot3d\n",
    "from matplotlib import font_manager as fm, rcParams"
   ]
  },
  {
   "cell_type": "markdown",
   "id": "fe7d5183",
   "metadata": {},
   "source": [
    "### Print Latex script for matrix multiplication"
   ]
  },
  {
   "cell_type": "code",
   "execution_count": 2,
   "id": "20279908",
   "metadata": {},
   "outputs": [],
   "source": [
    "def matrix_multiplication_to_latex(X,T):\n",
    "    \n",
    "    #Compute multiplication\n",
    "    XT = np.dot(X,T)\n",
    "    \n",
    "    #Left matrix\n",
    "    left_str = '\\\\begin{bmatrix}\\n'\n",
    "    for i in range(X.shape[0]):\n",
    "        for j in range(X.shape[1]):\n",
    "            if (X[i,j] < 0):\n",
    "                left_str = left_str + \"\\\\boldsymbol{\" + '{0:.2f}'.format(X[i,j]) + \"} & \"\n",
    "            else:\n",
    "                left_str = left_str + \"\\\\boldsymbol{\" + '+{0:.2f}'.format(X[i,j]) + \"} & \"\n",
    "        left_str = left_str[:-2] + ' \\\\\\\\ \\n'\n",
    "    left_str = left_str + '\\\\end{bmatrix}'\n",
    "\n",
    "    #Middle matrix\n",
    "    middle_str = '\\\\begin{bmatrix}\\n'\n",
    "    for i in range(T.shape[0]):\n",
    "        for j in range(T.shape[1]):\n",
    "            if (T[i,j] < 0):\n",
    "                middle_str = middle_str + \"\\\\boldsymbol{\" + '{0:.2f}'.format(T[i,j]) + \"} & \"\n",
    "            else:\n",
    "                middle_str = middle_str + \"\\\\boldsymbol{\" + '+{0:.2f}'.format(T[i,j]) + \"} & \"\n",
    "        middle_str = middle_str[:-2] + ' \\\\\\\\ \\n'\n",
    "    middle_str = middle_str + '\\\\end{bmatrix}'\n",
    "\n",
    "    #Right matrix\n",
    "    right_str = '\\\\begin{bmatrix}\\n'\n",
    "    for i in range(XT.shape[0]):\n",
    "        for j in range(XT.shape[1]):\n",
    "            if (XT[i,j] < 0):\n",
    "                right_str = right_str + \"\\\\boldsymbol{\" + '{0:.2f}'.format(XT[i,j]) + \"} & \"\n",
    "            else:\n",
    "                right_str = right_str + \"\\\\boldsymbol{\" + '+{0:.2f}'.format(XT[i,j]) + \"} & \"\n",
    "        right_str = right_str[:-2] + ' \\\\\\\\ \\n'\n",
    "    right_str = right_str + '\\\\end{bmatrix}'\n",
    "\n",
    "    #Draw Equation\n",
    "    equation = left_str + '\\n\\cdot\\n' + middle_str + '\\n=\\n' + right_str\n",
    "\n",
    "    #Create latex step by step computation\n",
    "    for i in range(X.shape[0]):\n",
    "        for j in range(X.shape[1]):\n",
    "            left = X[i,:]\n",
    "            right = T[:,j]\n",
    "            mystr = ''\n",
    "            for m in range(len(left)):\n",
    "                mystr = mystr + '({0:.2f}'.format(left[m]) + ' \\cdot ' + '{0:.2f})'.format(right[m]) + ' + '\n",
    "            mystr = mystr[:-2] + '= ' '{0:.2f}'.format(np.sum(left*right)) + ' \\\\\\\\'  + ' \\\\\\\\'\n",
    "\n",
    "    #Return\n",
    "    return equation"
   ]
  },
  {
   "cell_type": "markdown",
   "id": "2611d41e",
   "metadata": {},
   "source": [
    "### Fonts"
   ]
  },
  {
   "cell_type": "code",
   "execution_count": 3,
   "id": "50045fd8",
   "metadata": {},
   "outputs": [],
   "source": [
    "csfont = {'fontname':'Georgia'}\n",
    "hfont = {'fontname':'Helvetica'}"
   ]
  },
  {
   "cell_type": "markdown",
   "id": "890a18f7",
   "metadata": {},
   "source": [
    "### Original Data"
   ]
  },
  {
   "cell_type": "code",
   "execution_count": 4,
   "id": "1d49640a",
   "metadata": {},
   "outputs": [],
   "source": [
    "X = np.ones((5,3))\n",
    "X[0,0] = -5\n",
    "X[1,0] = -5\n",
    "X[2,0] = 5\n",
    "X[3,0] = 5\n",
    "X[4,0] = 0\n",
    "X[0,1] = -5\n",
    "X[1,1] = 5\n",
    "X[2,1] = 5\n",
    "X[3,1] = -5\n",
    "X[4,1] = 0"
   ]
  },
  {
   "cell_type": "markdown",
   "id": "e77ee12e",
   "metadata": {},
   "source": [
    "### Rotation Matrix"
   ]
  },
  {
   "cell_type": "code",
   "execution_count": 5,
   "id": "96998218",
   "metadata": {},
   "outputs": [],
   "source": [
    "I = np.eye(3)\n",
    "R = np.eye(3)\n",
    "degree_angle = 30\n",
    "rad_angle = degree_angle / 180 * np.pi\n",
    "R[:2,:2] = np.array([[np.cos(rad_angle),-np.sin(rad_angle)],\n",
    "                     [np.sin(rad_angle),np.cos(rad_angle)]])"
   ]
  },
  {
   "cell_type": "markdown",
   "id": "49d7676e",
   "metadata": {},
   "source": [
    "### Translation Matrix"
   ]
  },
  {
   "cell_type": "code",
   "execution_count": 6,
   "id": "0598a35d",
   "metadata": {},
   "outputs": [],
   "source": [
    "T = np.eye(3)\n",
    "T[2,0] = 5\n",
    "T[2,1] = -10"
   ]
  },
  {
   "cell_type": "markdown",
   "id": "367e98e6",
   "metadata": {},
   "source": [
    "### Scaling Matrix"
   ]
  },
  {
   "cell_type": "code",
   "execution_count": 7,
   "id": "9383ef17",
   "metadata": {},
   "outputs": [],
   "source": [
    "S = np.eye(3)\n",
    "S[0,0] = 1.50\n",
    "S[1,1] = 1.25"
   ]
  },
  {
   "cell_type": "markdown",
   "id": "c5e59780",
   "metadata": {},
   "source": [
    "### Shear Matrix"
   ]
  },
  {
   "cell_type": "code",
   "execution_count": 8,
   "id": "55d3eee9",
   "metadata": {},
   "outputs": [],
   "source": [
    "H = np.eye(3)\n",
    "H[0,1] = 0.15\n",
    "H[1,0] = 0.15"
   ]
  },
  {
   "cell_type": "markdown",
   "id": "cd5a105f",
   "metadata": {},
   "source": [
    "### Apply Transformations"
   ]
  },
  {
   "cell_type": "code",
   "execution_count": 9,
   "id": "3a91a679",
   "metadata": {},
   "outputs": [],
   "source": [
    "XI = np.dot(X,I)\n",
    "XR = np.dot(X,R)\n",
    "XS = np.dot(X,S)\n",
    "XT = np.dot(X,T)\n",
    "XH = np.dot(X,H)\n",
    "M = np.dot(np.dot(np.dot(R,S),H),T)\n",
    "XM = np.dot(X,M)"
   ]
  },
  {
   "cell_type": "markdown",
   "id": "ae2730b8",
   "metadata": {},
   "source": [
    "### Generate Latex Scripts"
   ]
  },
  {
   "cell_type": "code",
   "execution_count": 10,
   "id": "65d55475-8df1-44bb-9e27-2c273df79fc2",
   "metadata": {},
   "outputs": [],
   "source": [
    "latex_script = matrix_multiplication_to_latex(X,I)\n",
    "latex_script = matrix_multiplication_to_latex(X,T)\n",
    "latex_script = matrix_multiplication_to_latex(X,R)\n",
    "latex_script = matrix_multiplication_to_latex(X,S)\n",
    "latex_script = matrix_multiplication_to_latex(X,H)\n",
    "latex_script = matrix_multiplication_to_latex(X,M)"
   ]
  },
  {
   "cell_type": "markdown",
   "id": "a31a24e6",
   "metadata": {},
   "source": [
    "### Translate Animation"
   ]
  },
  {
   "cell_type": "code",
   "execution_count": 11,
   "id": "ffcadf98",
   "metadata": {},
   "outputs": [
    {
     "data": {
      "text/plain": [
       "<Figure size 432x432 with 0 Axes>"
      ]
     },
     "metadata": {},
     "output_type": "display_data"
    }
   ],
   "source": [
    "plt.figure(figsize=(6,6));\n",
    "x_increment = 5/100\n",
    "y_increment = -10/100\n",
    "XT = X.copy()\n",
    "for i in range(100):\n",
    "    XT[:,0] = x_increment + XT[:,0]\n",
    "    XT[:,1] = y_increment + XT[:,1]    \n",
    "    plt.scatter(XT[:,0],XT[:,1],s=100,zorder=100,color='k');\n",
    "    plt.axis((-20,20,-20,20))\n",
    "    plt.grid();\n",
    "    plt.xlabel('x',fontsize=22,**csfont);\n",
    "    plt.ylabel('y',fontsize=22,**csfont);\n",
    "    plt.xticks(fontsize=14,**csfont);\n",
    "    plt.yticks(fontsize=14,**csfont);\n",
    "    plt.savefig('../../assets/gifs/012_translation_' + str(i).zfill(3) + '.png',dpi=300,bbox_inches=\"tight\")\n",
    "    plt.clf();"
   ]
  },
  {
   "cell_type": "markdown",
   "id": "05d3710b",
   "metadata": {},
   "source": [
    "### Rotation Animation"
   ]
  },
  {
   "cell_type": "code",
   "execution_count": 12,
   "id": "375150fe",
   "metadata": {},
   "outputs": [
    {
     "data": {
      "text/plain": [
       "<Figure size 432x432 with 0 Axes>"
      ]
     },
     "metadata": {},
     "output_type": "display_data"
    }
   ],
   "source": [
    "degree_angle = 30/100\n",
    "rad_angle = degree_angle / 180 * np.pi\n",
    "R = np.eye(3)\n",
    "R[:2,:2] = np.array([[np.cos(rad_angle),-np.sin(rad_angle)],[np.sin(rad_angle),np.cos(rad_angle)]])\n",
    "XR = X.copy()\n",
    "plt.figure(figsize=(6,6));\n",
    "for i in range(100):\n",
    "    XR = np.dot(XR,R)\n",
    "    plt.scatter(XR[:,0],XR[:,1],s=100,zorder=100,color='k');\n",
    "    plt.axis((-20,20,-20,20));\n",
    "    plt.grid();\n",
    "    plt.xlabel('x',fontsize=22,**csfont);\n",
    "    plt.ylabel('y',fontsize=22,**csfont);\n",
    "    plt.xticks(fontsize=14,**csfont);\n",
    "    plt.yticks(fontsize=14,**csfont);\n",
    "    plt.savefig('../../assets/gifs/012_rotation_' + str(i).zfill(3) + '.png',dpi=300,bbox_inches=\"tight\");\n",
    "    plt.clf();"
   ]
  },
  {
   "cell_type": "markdown",
   "id": "5d8a1b36",
   "metadata": {},
   "source": [
    "### Scale Animation"
   ]
  },
  {
   "cell_type": "code",
   "execution_count": 13,
   "id": "0ba6de91",
   "metadata": {},
   "outputs": [
    {
     "data": {
      "text/plain": [
       "<Figure size 432x432 with 0 Axes>"
      ]
     },
     "metadata": {},
     "output_type": "display_data"
    }
   ],
   "source": [
    "plt.figure(figsize=(6,6));\n",
    "XS = X.copy()\n",
    "for i in range(100):\n",
    "    ratio_x = 1 + (i/100 * 0.5)\n",
    "    ratio_y = 1 + (i/100 * 0.25)\n",
    "    XS[:,0] = X[:,0] * ratio_x\n",
    "    XS[:,1] = X[:,1] * ratio_y\n",
    "    plt.scatter(XS[:,0],XS[:,1],s=100,zorder=100,color='k');\n",
    "    plt.axis((-20,20,-20,20));\n",
    "    plt.grid();\n",
    "    plt.xlabel('x',fontsize=22,**csfont);\n",
    "    plt.ylabel('y',fontsize=22,**csfont);\n",
    "    plt.xticks(fontsize=14,**csfont);\n",
    "    plt.yticks(fontsize=14,**csfont);\n",
    "    plt.savefig('../../assets/gifs/012_scaling_' + str(i).zfill(3) + '.png',dpi=300,bbox_inches=\"tight\");\n",
    "    plt.clf();"
   ]
  },
  {
   "cell_type": "markdown",
   "id": "8464e96e",
   "metadata": {},
   "source": [
    "### Shear Animation"
   ]
  },
  {
   "cell_type": "code",
   "execution_count": 14,
   "id": "e2058183",
   "metadata": {},
   "outputs": [
    {
     "data": {
      "text/plain": [
       "<Figure size 432x432 with 0 Axes>"
      ]
     },
     "metadata": {},
     "output_type": "display_data"
    }
   ],
   "source": [
    "plt.figure(figsize=(6,6));\n",
    "XH = X.copy()\n",
    "for i in range(100):\n",
    "    sx = i/100*0.15\n",
    "    sy = i/100*0.15\n",
    "    R = np.eye(3)\n",
    "    R[0,1] = sx\n",
    "    R[1,0] = sy\n",
    "    XH = np.dot(X,R)\n",
    "    plt.scatter(XH[:,0],XH[:,1],s=100,zorder=100,color='k');\n",
    "    plt.axis((-20,20,-20,20));\n",
    "    plt.grid();\n",
    "    plt.xlabel('x',fontsize=22,**csfont);\n",
    "    plt.ylabel('y',fontsize=22,**csfont);\n",
    "    plt.xticks(fontsize=14,**csfont);\n",
    "    plt.yticks(fontsize=14,**csfont);\n",
    "    plt.savefig('../../assets/gifs/012_shearing_' + str(i).zfill(3) + '.png',dpi=300,bbox_inches=\"tight\");\n",
    "    plt.clf();"
   ]
  },
  {
   "cell_type": "markdown",
   "id": "86a7c4f6",
   "metadata": {},
   "source": [
    "### Combined Animation"
   ]
  },
  {
   "cell_type": "code",
   "execution_count": 15,
   "id": "a07e7251",
   "metadata": {},
   "outputs": [
    {
     "data": {
      "text/plain": [
       "<Figure size 432x432 with 0 Axes>"
      ]
     },
     "metadata": {},
     "output_type": "display_data"
    }
   ],
   "source": [
    "plt.figure(figsize=(6,6));\n",
    "XM = X.copy()\n",
    "for i in range(100):\n",
    "    ratio = i/100\n",
    "    Mthis = np.eye(3)*(1-ratio) + M*ratio\n",
    "    XM = np.dot(X,Mthis)\n",
    "    plt.scatter(XM[:,0],XM[:,1],s=100,zorder=100,color='k');\n",
    "    plt.axis((-20,20,-20,20));\n",
    "    plt.grid();\n",
    "    plt.xlabel('x',fontsize=22,**csfont);\n",
    "    plt.ylabel('y',fontsize=22,**csfont);\n",
    "    plt.xticks(fontsize=14,**csfont);\n",
    "    plt.yticks(fontsize=14,**csfont);\n",
    "    plt.savefig('../../assets/gifs/012_combined_' + str(i).zfill(3) + '.png',dpi=300,bbox_inches=\"tight\");\n",
    "    plt.clf();"
   ]
  }
 ],
 "metadata": {
  "kernelspec": {
   "display_name": "Python 3 (ipykernel)",
   "language": "python",
   "name": "python3"
  },
  "language_info": {
   "codemirror_mode": {
    "name": "ipython",
    "version": 3
   },
   "file_extension": ".py",
   "mimetype": "text/x-python",
   "name": "python",
   "nbconvert_exporter": "python",
   "pygments_lexer": "ipython3",
   "version": "3.9.6"
  }
 },
 "nbformat": 4,
 "nbformat_minor": 5
}
