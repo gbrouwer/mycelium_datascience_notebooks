{
 "cells": [
  {
   "cell_type": "markdown",
   "id": "fca049ea",
   "metadata": {},
   "source": [
    "### Import"
   ]
  },
  {
   "cell_type": "code",
   "execution_count": 8,
   "id": "bda89eaf",
   "metadata": {},
   "outputs": [],
   "source": [
    "import os\n",
    "import numpy as np\n",
    "import sys\n",
    "import pandas as pd\n",
    "import pickle\n",
    "import matplotlib.pyplot as plt\n",
    "from scipy.signal import find_peaks\n",
    "from scipy.signal import resample\n",
    "from scipy.signal import resample_poly\n",
    "from tqdm import tqdm"
   ]
  },
  {
   "cell_type": "markdown",
   "id": "cd220248",
   "metadata": {},
   "source": [
    "# MITBIH"
   ]
  },
  {
   "cell_type": "markdown",
   "id": "9fbd5bb9",
   "metadata": {},
   "source": [
    "### Read Data MITBIH data"
   ]
  },
  {
   "cell_type": "code",
   "execution_count": 3,
   "id": "bda9b2ca",
   "metadata": {},
   "outputs": [],
   "source": [
    "mitbih_test = pd.read_csv('../../data/ecg/mitbih_test.csv',header=None)\n",
    "mitbih_test = mitbih_test.values\n",
    "mitbih_test = mitbih_test[:,5:180]\n",
    "mitbih_train = pd.read_csv('../../data/ecg/mitbih_train.csv',header=None)\n",
    "mitbih_train = mitbih_train.values\n",
    "mitbih_train = mitbih_train[:,5:180]"
   ]
  },
  {
   "cell_type": "markdown",
   "id": "d7b7ac1d",
   "metadata": {},
   "source": [
    "### Resample to that the heart beat is always at t=100 and only 20 samples remain after it"
   ]
  },
  {
   "cell_type": "code",
   "execution_count": 4,
   "id": "5197fb4b",
   "metadata": {},
   "outputs": [],
   "source": [
    "mitbih_test_resampled = []\n",
    "for i in range(mitbih_test.shape[0]):\n",
    "    signal = mitbih_test[i,:]\n",
    "    idx = np.argsort(signal)\n",
    "    top_peak = idx[-1]\n",
    "    ratio = top_peak / 100\n",
    "    if (ratio > 0.75 and ratio < 1.3333333333):\n",
    "        signal_resampled = resample_poly(signal,100,top_peak)\n",
    "        signal_resampled = signal_resampled[:120]\n",
    "        mitbih_test_resampled.append(signal_resampled)\n",
    "mitbih_test_resampled = np.array(mitbih_test_resampled)        \n",
    "\n",
    "mitbih_train_resampled = []\n",
    "for i in range(mitbih_train.shape[0]):\n",
    "    signal = mitbih_train[i,:]\n",
    "    idx = np.argsort(signal)\n",
    "    top_peak = idx[-1]\n",
    "    ratio = top_peak / 100\n",
    "    if (ratio > 0.75 and ratio < 1.3333333333):\n",
    "        signal_resampled = resample_poly(signal,100,top_peak)\n",
    "        signal_resampled = signal_resampled[:120]\n",
    "        mitbih_train_resampled.append(signal_resampled)\n",
    "mitbih_train_resampled = np.array(mitbih_train_resampled)        "
   ]
  },
  {
   "cell_type": "markdown",
   "id": "639fcf1c",
   "metadata": {},
   "source": [
    "# PTBDB"
   ]
  },
  {
   "cell_type": "markdown",
   "id": "38687b56",
   "metadata": {},
   "source": [
    "### Read PTBDB data"
   ]
  },
  {
   "cell_type": "code",
   "execution_count": 5,
   "id": "16d8abaa",
   "metadata": {},
   "outputs": [],
   "source": [
    "ptbdb_abnormal = pd.read_csv('../../data/ecg/ptbdb_abnormal.csv',header=None)\n",
    "ptbdb_abnormal = ptbdb_abnormal.values\n",
    "ptbdb_abnormal = ptbdb_abnormal[:,5:180]\n",
    "ptbdb_normal = pd.read_csv('../../data/ecg/ptbdb_normal.csv',header=None)\n",
    "ptbdb_normal = ptbdb_normal.values\n",
    "ptbdb_normal = ptbdb_normal[:,5:180]"
   ]
  },
  {
   "cell_type": "markdown",
   "id": "869e0f40",
   "metadata": {},
   "source": [
    "### Resample to that the heart beat is always at t=100 and only 20 samples remain after it"
   ]
  },
  {
   "cell_type": "code",
   "execution_count": 6,
   "id": "e63b9a23",
   "metadata": {},
   "outputs": [],
   "source": [
    "ptbdb_normal_resampled = []\n",
    "for i in range(ptbdb_normal.shape[0]):\n",
    "    signal = ptbdb_normal[i,:]\n",
    "    idx = np.argsort(signal)\n",
    "    top_peak = idx[-1]\n",
    "    ratio = top_peak / 100\n",
    "    if (ratio > 0.75 and ratio < 1.3333333333):\n",
    "        signal_resampled = resample_poly(signal,100,top_peak)\n",
    "        signal_resampled = signal_resampled[:120]\n",
    "        ptbdb_normal_resampled.append(signal_resampled)\n",
    "ptbdb_normal_resampled = np.array(ptbdb_normal_resampled)        \n",
    "\n",
    "ptbdb_abnormal_resampled = []\n",
    "for i in range(ptbdb_abnormal.shape[0]):\n",
    "    signal = ptbdb_abnormal[i,:]\n",
    "    idx = np.argsort(signal)\n",
    "    top_peak = idx[-1]\n",
    "    ratio = top_peak / 100\n",
    "    if (ratio > 0.75 and ratio < 1.3333333333):\n",
    "        signal_resampled = resample_poly(signal,100,top_peak)\n",
    "        signal_resampled = signal_resampled[:120]\n",
    "        ptbdb_abnormal_resampled.append(signal_resampled)\n",
    "ptbdb_abnormal_resampled = np.array(ptbdb_abnormal_resampled)        "
   ]
  },
  {
   "cell_type": "markdown",
   "id": "1f96f141",
   "metadata": {},
   "source": [
    "### Store as pickle to further analysis"
   ]
  },
  {
   "cell_type": "code",
   "execution_count": 9,
   "id": "5a44a4b9",
   "metadata": {},
   "outputs": [],
   "source": [
    "X = {}\n",
    "X['ptbdb_abnormal_resampled'] = ptbdb_abnormal_resampled\n",
    "X['ptbdb_normal_resampled'] = ptbdb_normal_resampled\n",
    "X['mitbih_train_resampled'] = mitbih_train_resampled\n",
    "X['mitbih_test_resampled'] = mitbih_test_resampled\n",
    "pickle.dump(X,open(\"../../data/ecg/preprocessed.p\",\"wb\"))"
   ]
  }
 ],
 "metadata": {
  "kernelspec": {
   "display_name": "Python 3 (ipykernel)",
   "language": "python",
   "name": "python3"
  },
  "language_info": {
   "codemirror_mode": {
    "name": "ipython",
    "version": 3
   },
   "file_extension": ".py",
   "mimetype": "text/x-python",
   "name": "python",
   "nbconvert_exporter": "python",
   "pygments_lexer": "ipython3",
   "version": "3.9.6"
  }
 },
 "nbformat": 4,
 "nbformat_minor": 5
}
