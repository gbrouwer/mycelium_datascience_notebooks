{
 "cells": [
  {
   "cell_type": "markdown",
   "id": "adf19850",
   "metadata": {},
   "source": [
    "### Import"
   ]
  },
  {
   "cell_type": "code",
   "execution_count": 26,
   "id": "d7bc77df",
   "metadata": {},
   "outputs": [],
   "source": [
    "import os\n",
    "import sys\n",
    "import numpy as np\n",
    "import pandas as pd\n",
    "import imageio\n",
    "import pickle\n",
    "import json\n",
    "import matplotlib.pyplot as plt\n",
    "from tqdm import tqdm\n",
    "from PIL import Image"
   ]
  },
  {
   "cell_type": "markdown",
   "id": "414bcf4f",
   "metadata": {},
   "source": [
    "### Parameters"
   ]
  },
  {
   "cell_type": "code",
   "execution_count": 33,
   "id": "0f971415",
   "metadata": {},
   "outputs": [],
   "source": [
    "image_size = 128\n",
    "vector_size = image_size * image_size * 3\n",
    "vector_size_bw = image_size * image_size"
   ]
  },
  {
   "cell_type": "markdown",
   "id": "832178d4",
   "metadata": {},
   "source": [
    "### Find all files"
   ]
  },
  {
   "cell_type": "code",
   "execution_count": 34,
   "id": "a4fd7237",
   "metadata": {},
   "outputs": [],
   "source": [
    "imagefiles = []\n",
    "for root, dirs, files in os.walk(\"../../data/lfw/images/\", topdown=False):\n",
    "    for name in files:\n",
    "        if '.jpg' in name:\n",
    "            imagefiles.append(os.path.join(root, name))"
   ]
  },
  {
   "cell_type": "markdown",
   "id": "b76c6763",
   "metadata": {},
   "source": [
    "### Extract all names and store in pandas dataframe"
   ]
  },
  {
   "cell_type": "code",
   "execution_count": 35,
   "id": "2d1c32f1",
   "metadata": {},
   "outputs": [],
   "source": [
    "#Init\n",
    "people = {}\n",
    "count = 0\n",
    "metadata = []\n",
    "\n",
    "#Loop over all found image files and extract name, and first letter\n",
    "#Also create an id for each individual (people dictionary)\n",
    "for imagefile in imagefiles:\n",
    "    elements = imagefile.split('/')\n",
    "    name = elements[-2].lower()\n",
    "    if name not in people:\n",
    "        people[name] = count\n",
    "        count = count + 1\n",
    "    metadata.append((name,people[name],ord(name[0])-97,imagefile))\n",
    "\n",
    "#Turn into a pandas dataframe and store\n",
    "metadata = pd.DataFrame(metadata)\n",
    "metadata.columns = ['name','id','first_letter_code','filename']\n",
    "metadata.to_csv('../../data/lfw/meta/metadata.csv',index=False)"
   ]
  },
  {
   "cell_type": "markdown",
   "id": "27fb1b5b",
   "metadata": {},
   "source": [
    "### Read all files and store as pickle objects"
   ]
  },
  {
   "cell_type": "code",
   "execution_count": 36,
   "id": "d79abd92",
   "metadata": {},
   "outputs": [
    {
     "name": "stderr",
     "output_type": "stream",
     "text": [
      "100%|███████████████████████████████████████████████████████████████████████████████████████████████████████████| 26/26 [00:47<00:00,  1.83s/it]\n"
     ]
    }
   ],
   "source": [
    "#Extract necessary info from the datarame\n",
    "first_letter_codes = metadata['first_letter_code'].values\n",
    "person_ids = metadata['id'].values\n",
    "filenames = metadata['filename'].values\n",
    "\n",
    "#Loop over the letters\n",
    "for i in tqdm(range(26)):\n",
    "\n",
    "    #Get All files matching the current first letter\n",
    "    indices = np.where(first_letter_codes == i)[0]\n",
    "    subset_filenames = filenames[indices]\n",
    "    subset_person_ids = person_ids[indices]\n",
    "\n",
    "    #Initialize the matrix. Speeds up processing quite a bit\n",
    "    X = np.zeros((vector_size,len(subset_filenames)))\n",
    "    Xbw = np.zeros((vector_size_bw,len(subset_filenames)))\n",
    "\n",
    "    #Load the image, resize it and flatten it into a vector\n",
    "    #Keep both the original color but also transform into black and white\n",
    "    for f,filename in enumerate(subset_filenames):\n",
    "        im = Image.open(filename)\n",
    "        im = im.crop((50,50,200,200))\n",
    "        im = im.resize((image_size,image_size))\n",
    "        im = np.array(im)\n",
    "        imbw = np.mean(im,axis=2)\n",
    "        im = im.flatten()\n",
    "        imbw = imbw.flatten()        \n",
    "        X[:,f] = im\n",
    "        Xbw[:,f] = imbw\n",
    "\n",
    "    #Store Data as a serialized pickle file\n",
    "    data = {}\n",
    "    data['X'] = X\n",
    "    data['Xbw'] = Xbw\n",
    "    data['y'] = subset_person_ids\n",
    "    pickle.dump( data, open('../../data/lfw/pickle/' + chr(i+97) + '_' + str(image_size) + 'x' + str(image_size) + '.p','wb'))"
   ]
  },
  {
   "cell_type": "code",
   "execution_count": null,
   "id": "764137b9",
   "metadata": {},
   "outputs": [],
   "source": []
  }
 ],
 "metadata": {
  "kernelspec": {
   "display_name": "Python 3 (ipykernel)",
   "language": "python",
   "name": "python3"
  },
  "language_info": {
   "codemirror_mode": {
    "name": "ipython",
    "version": 3
   },
   "file_extension": ".py",
   "mimetype": "text/x-python",
   "name": "python",
   "nbconvert_exporter": "python",
   "pygments_lexer": "ipython3",
   "version": "3.9.6"
  }
 },
 "nbformat": 4,
 "nbformat_minor": 5
}
